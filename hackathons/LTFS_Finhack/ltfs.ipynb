{
 "cells": [
  {
   "cell_type": "code",
   "execution_count": 1,
   "metadata": {},
   "outputs": [],
   "source": [
    "import pandas as pd\n",
    "import numpy as np\n",
    "import matplotlib.pyplot as plt\n",
    "import seaborn as sns\n",
    "%matplotlib inline\n",
    "\n",
    "import warnings\n",
    "warnings.filterwarnings('ignore')\n",
    "\n",
    "from sklearn.preprocessing import StandardScaler"
   ]
  },
  {
   "cell_type": "code",
   "execution_count": 2,
   "metadata": {},
   "outputs": [],
   "source": [
    "train = pd.read_csv(\"train.csv\", parse_dates=['DisbursalDate', 'Date.of.Birth'])\n",
    "test = pd.read_csv(\"test.csv\", parse_dates=['DisbursalDate', 'Date.of.Birth'])\n",
    "\n",
    "submission = pd.read_csv(\"sample_submission.csv\")"
   ]
  },
  {
   "cell_type": "code",
   "execution_count": 3,
   "metadata": {},
   "outputs": [
    {
     "data": {
      "text/html": [
       "<div>\n",
       "<style scoped>\n",
       "    .dataframe tbody tr th:only-of-type {\n",
       "        vertical-align: middle;\n",
       "    }\n",
       "\n",
       "    .dataframe tbody tr th {\n",
       "        vertical-align: top;\n",
       "    }\n",
       "\n",
       "    .dataframe thead th {\n",
       "        text-align: right;\n",
       "    }\n",
       "</style>\n",
       "<table border=\"1\" class=\"dataframe\">\n",
       "  <thead>\n",
       "    <tr style=\"text-align: right;\">\n",
       "      <th></th>\n",
       "      <th>UniqueID</th>\n",
       "      <th>disbursed_amount</th>\n",
       "      <th>asset_cost</th>\n",
       "      <th>ltv</th>\n",
       "      <th>branch_id</th>\n",
       "      <th>supplier_id</th>\n",
       "      <th>manufacturer_id</th>\n",
       "      <th>Current_pincode_ID</th>\n",
       "      <th>Date.of.Birth</th>\n",
       "      <th>Employment.Type</th>\n",
       "      <th>...</th>\n",
       "      <th>SEC.SANCTIONED.AMOUNT</th>\n",
       "      <th>SEC.DISBURSED.AMOUNT</th>\n",
       "      <th>PRIMARY.INSTAL.AMT</th>\n",
       "      <th>SEC.INSTAL.AMT</th>\n",
       "      <th>NEW.ACCTS.IN.LAST.SIX.MONTHS</th>\n",
       "      <th>DELINQUENT.ACCTS.IN.LAST.SIX.MONTHS</th>\n",
       "      <th>AVERAGE.ACCT.AGE</th>\n",
       "      <th>CREDIT.HISTORY.LENGTH</th>\n",
       "      <th>NO.OF_INQUIRIES</th>\n",
       "      <th>loan_default</th>\n",
       "    </tr>\n",
       "  </thead>\n",
       "  <tbody>\n",
       "    <tr>\n",
       "      <th>0</th>\n",
       "      <td>420825</td>\n",
       "      <td>50578</td>\n",
       "      <td>58400</td>\n",
       "      <td>89.55</td>\n",
       "      <td>67</td>\n",
       "      <td>22807</td>\n",
       "      <td>45</td>\n",
       "      <td>1441</td>\n",
       "      <td>1984-01-01</td>\n",
       "      <td>Salaried</td>\n",
       "      <td>...</td>\n",
       "      <td>0</td>\n",
       "      <td>0</td>\n",
       "      <td>0</td>\n",
       "      <td>0</td>\n",
       "      <td>0</td>\n",
       "      <td>0</td>\n",
       "      <td>0yrs 0mon</td>\n",
       "      <td>0yrs 0mon</td>\n",
       "      <td>0</td>\n",
       "      <td>0</td>\n",
       "    </tr>\n",
       "    <tr>\n",
       "      <th>1</th>\n",
       "      <td>537409</td>\n",
       "      <td>47145</td>\n",
       "      <td>65550</td>\n",
       "      <td>73.23</td>\n",
       "      <td>67</td>\n",
       "      <td>22807</td>\n",
       "      <td>45</td>\n",
       "      <td>1502</td>\n",
       "      <td>1985-07-31</td>\n",
       "      <td>Self employed</td>\n",
       "      <td>...</td>\n",
       "      <td>0</td>\n",
       "      <td>0</td>\n",
       "      <td>1991</td>\n",
       "      <td>0</td>\n",
       "      <td>0</td>\n",
       "      <td>1</td>\n",
       "      <td>1yrs 11mon</td>\n",
       "      <td>1yrs 11mon</td>\n",
       "      <td>0</td>\n",
       "      <td>1</td>\n",
       "    </tr>\n",
       "    <tr>\n",
       "      <th>2</th>\n",
       "      <td>417566</td>\n",
       "      <td>53278</td>\n",
       "      <td>61360</td>\n",
       "      <td>89.63</td>\n",
       "      <td>67</td>\n",
       "      <td>22807</td>\n",
       "      <td>45</td>\n",
       "      <td>1497</td>\n",
       "      <td>1985-08-24</td>\n",
       "      <td>Self employed</td>\n",
       "      <td>...</td>\n",
       "      <td>0</td>\n",
       "      <td>0</td>\n",
       "      <td>0</td>\n",
       "      <td>0</td>\n",
       "      <td>0</td>\n",
       "      <td>0</td>\n",
       "      <td>0yrs 0mon</td>\n",
       "      <td>0yrs 0mon</td>\n",
       "      <td>0</td>\n",
       "      <td>0</td>\n",
       "    </tr>\n",
       "    <tr>\n",
       "      <th>3</th>\n",
       "      <td>624493</td>\n",
       "      <td>57513</td>\n",
       "      <td>66113</td>\n",
       "      <td>88.48</td>\n",
       "      <td>67</td>\n",
       "      <td>22807</td>\n",
       "      <td>45</td>\n",
       "      <td>1501</td>\n",
       "      <td>1993-12-30</td>\n",
       "      <td>Self employed</td>\n",
       "      <td>...</td>\n",
       "      <td>0</td>\n",
       "      <td>0</td>\n",
       "      <td>31</td>\n",
       "      <td>0</td>\n",
       "      <td>0</td>\n",
       "      <td>0</td>\n",
       "      <td>0yrs 8mon</td>\n",
       "      <td>1yrs 3mon</td>\n",
       "      <td>1</td>\n",
       "      <td>1</td>\n",
       "    </tr>\n",
       "    <tr>\n",
       "      <th>4</th>\n",
       "      <td>539055</td>\n",
       "      <td>52378</td>\n",
       "      <td>60300</td>\n",
       "      <td>88.39</td>\n",
       "      <td>67</td>\n",
       "      <td>22807</td>\n",
       "      <td>45</td>\n",
       "      <td>1495</td>\n",
       "      <td>1977-09-12</td>\n",
       "      <td>Self employed</td>\n",
       "      <td>...</td>\n",
       "      <td>0</td>\n",
       "      <td>0</td>\n",
       "      <td>0</td>\n",
       "      <td>0</td>\n",
       "      <td>0</td>\n",
       "      <td>0</td>\n",
       "      <td>0yrs 0mon</td>\n",
       "      <td>0yrs 0mon</td>\n",
       "      <td>1</td>\n",
       "      <td>1</td>\n",
       "    </tr>\n",
       "  </tbody>\n",
       "</table>\n",
       "<p>5 rows × 41 columns</p>\n",
       "</div>"
      ],
      "text/plain": [
       "   UniqueID  disbursed_amount  asset_cost    ltv  branch_id  supplier_id  \\\n",
       "0    420825             50578       58400  89.55         67        22807   \n",
       "1    537409             47145       65550  73.23         67        22807   \n",
       "2    417566             53278       61360  89.63         67        22807   \n",
       "3    624493             57513       66113  88.48         67        22807   \n",
       "4    539055             52378       60300  88.39         67        22807   \n",
       "\n",
       "   manufacturer_id  Current_pincode_ID Date.of.Birth Employment.Type  ...  \\\n",
       "0               45                1441    1984-01-01        Salaried  ...   \n",
       "1               45                1502    1985-07-31   Self employed  ...   \n",
       "2               45                1497    1985-08-24   Self employed  ...   \n",
       "3               45                1501    1993-12-30   Self employed  ...   \n",
       "4               45                1495    1977-09-12   Self employed  ...   \n",
       "\n",
       "  SEC.SANCTIONED.AMOUNT  SEC.DISBURSED.AMOUNT  PRIMARY.INSTAL.AMT  \\\n",
       "0                     0                     0                   0   \n",
       "1                     0                     0                1991   \n",
       "2                     0                     0                   0   \n",
       "3                     0                     0                  31   \n",
       "4                     0                     0                   0   \n",
       "\n",
       "   SEC.INSTAL.AMT  NEW.ACCTS.IN.LAST.SIX.MONTHS  \\\n",
       "0               0                             0   \n",
       "1               0                             0   \n",
       "2               0                             0   \n",
       "3               0                             0   \n",
       "4               0                             0   \n",
       "\n",
       "   DELINQUENT.ACCTS.IN.LAST.SIX.MONTHS  AVERAGE.ACCT.AGE  \\\n",
       "0                                    0         0yrs 0mon   \n",
       "1                                    1        1yrs 11mon   \n",
       "2                                    0         0yrs 0mon   \n",
       "3                                    0         0yrs 8mon   \n",
       "4                                    0         0yrs 0mon   \n",
       "\n",
       "   CREDIT.HISTORY.LENGTH  NO.OF_INQUIRIES  loan_default  \n",
       "0              0yrs 0mon                0             0  \n",
       "1             1yrs 11mon                0             1  \n",
       "2              0yrs 0mon                0             0  \n",
       "3              1yrs 3mon                1             1  \n",
       "4              0yrs 0mon                1             1  \n",
       "\n",
       "[5 rows x 41 columns]"
      ]
     },
     "execution_count": 3,
     "metadata": {},
     "output_type": "execute_result"
    }
   ],
   "source": [
    "train.head(5)"
   ]
  },
  {
   "cell_type": "code",
   "execution_count": 4,
   "metadata": {},
   "outputs": [
    {
     "data": {
      "text/plain": [
       "(233154, 233154)"
      ]
     },
     "execution_count": 4,
     "metadata": {},
     "output_type": "execute_result"
    }
   ],
   "source": [
    "len(train), train.UniqueID.nunique()"
   ]
  },
  {
   "cell_type": "code",
   "execution_count": 5,
   "metadata": {},
   "outputs": [
    {
     "data": {
      "text/plain": [
       "UniqueID                                  0\n",
       "disbursed_amount                          0\n",
       "asset_cost                                0\n",
       "ltv                                       0\n",
       "branch_id                                 0\n",
       "supplier_id                               0\n",
       "manufacturer_id                           0\n",
       "Current_pincode_ID                        0\n",
       "Date.of.Birth                             0\n",
       "Employment.Type                        7661\n",
       "DisbursalDate                             0\n",
       "State_ID                                  0\n",
       "Employee_code_ID                          0\n",
       "MobileNo_Avl_Flag                         0\n",
       "Aadhar_flag                               0\n",
       "PAN_flag                                  0\n",
       "VoterID_flag                              0\n",
       "Driving_flag                              0\n",
       "Passport_flag                             0\n",
       "PERFORM_CNS.SCORE                         0\n",
       "PERFORM_CNS.SCORE.DESCRIPTION             0\n",
       "PRI.NO.OF.ACCTS                           0\n",
       "PRI.ACTIVE.ACCTS                          0\n",
       "PRI.OVERDUE.ACCTS                         0\n",
       "PRI.CURRENT.BALANCE                       0\n",
       "PRI.SANCTIONED.AMOUNT                     0\n",
       "PRI.DISBURSED.AMOUNT                      0\n",
       "SEC.NO.OF.ACCTS                           0\n",
       "SEC.ACTIVE.ACCTS                          0\n",
       "SEC.OVERDUE.ACCTS                         0\n",
       "SEC.CURRENT.BALANCE                       0\n",
       "SEC.SANCTIONED.AMOUNT                     0\n",
       "SEC.DISBURSED.AMOUNT                      0\n",
       "PRIMARY.INSTAL.AMT                        0\n",
       "SEC.INSTAL.AMT                            0\n",
       "NEW.ACCTS.IN.LAST.SIX.MONTHS              0\n",
       "DELINQUENT.ACCTS.IN.LAST.SIX.MONTHS       0\n",
       "AVERAGE.ACCT.AGE                          0\n",
       "CREDIT.HISTORY.LENGTH                     0\n",
       "NO.OF_INQUIRIES                           0\n",
       "loan_default                              0\n",
       "dtype: int64"
      ]
     },
     "execution_count": 5,
     "metadata": {},
     "output_type": "execute_result"
    }
   ],
   "source": [
    "train.isnull().sum()"
   ]
  },
  {
   "cell_type": "code",
   "execution_count": 6,
   "metadata": {},
   "outputs": [
    {
     "data": {
      "text/plain": [
       "UniqueID                                        int64\n",
       "disbursed_amount                                int64\n",
       "asset_cost                                      int64\n",
       "ltv                                           float64\n",
       "branch_id                                       int64\n",
       "supplier_id                                     int64\n",
       "manufacturer_id                                 int64\n",
       "Current_pincode_ID                              int64\n",
       "Date.of.Birth                          datetime64[ns]\n",
       "Employment.Type                                object\n",
       "DisbursalDate                          datetime64[ns]\n",
       "State_ID                                        int64\n",
       "Employee_code_ID                                int64\n",
       "MobileNo_Avl_Flag                               int64\n",
       "Aadhar_flag                                     int64\n",
       "PAN_flag                                        int64\n",
       "VoterID_flag                                    int64\n",
       "Driving_flag                                    int64\n",
       "Passport_flag                                   int64\n",
       "PERFORM_CNS.SCORE                               int64\n",
       "PERFORM_CNS.SCORE.DESCRIPTION                  object\n",
       "PRI.NO.OF.ACCTS                                 int64\n",
       "PRI.ACTIVE.ACCTS                                int64\n",
       "PRI.OVERDUE.ACCTS                               int64\n",
       "PRI.CURRENT.BALANCE                             int64\n",
       "PRI.SANCTIONED.AMOUNT                           int64\n",
       "PRI.DISBURSED.AMOUNT                            int64\n",
       "SEC.NO.OF.ACCTS                                 int64\n",
       "SEC.ACTIVE.ACCTS                                int64\n",
       "SEC.OVERDUE.ACCTS                               int64\n",
       "SEC.CURRENT.BALANCE                             int64\n",
       "SEC.SANCTIONED.AMOUNT                           int64\n",
       "SEC.DISBURSED.AMOUNT                            int64\n",
       "PRIMARY.INSTAL.AMT                              int64\n",
       "SEC.INSTAL.AMT                                  int64\n",
       "NEW.ACCTS.IN.LAST.SIX.MONTHS                    int64\n",
       "DELINQUENT.ACCTS.IN.LAST.SIX.MONTHS             int64\n",
       "AVERAGE.ACCT.AGE                               object\n",
       "CREDIT.HISTORY.LENGTH                          object\n",
       "NO.OF_INQUIRIES                                 int64\n",
       "loan_default                                    int64\n",
       "dtype: object"
      ]
     },
     "execution_count": 6,
     "metadata": {},
     "output_type": "execute_result"
    }
   ],
   "source": [
    "train.dtypes"
   ]
  },
  {
   "cell_type": "code",
   "execution_count": 7,
   "metadata": {},
   "outputs": [
    {
     "name": "stdout",
     "output_type": "stream",
     "text": [
      "0    No Bureau History Available\n",
      "1                  I-Medium Risk\n",
      "2    No Bureau History Available\n",
      "Name: PERFORM_CNS.SCORE.DESCRIPTION, dtype: object\n",
      "0     0yrs 0mon\n",
      "1    1yrs 11mon\n",
      "2     0yrs 0mon\n",
      "Name: AVERAGE.ACCT.AGE, dtype: object\n",
      "0     0yrs 0mon\n",
      "1    1yrs 11mon\n",
      "2     0yrs 0mon\n",
      "Name: CREDIT.HISTORY.LENGTH, dtype: object\n"
     ]
    }
   ],
   "source": [
    "\n",
    "print(train['PERFORM_CNS.SCORE.DESCRIPTION'].iloc[:3])\n",
    "print(train['AVERAGE.ACCT.AGE'].iloc[:3])\n",
    "print(train['CREDIT.HISTORY.LENGTH'].iloc[:3])"
   ]
  },
  {
   "cell_type": "code",
   "execution_count": 8,
   "metadata": {
    "scrolled": false
   },
   "outputs": [
    {
     "data": {
      "text/plain": [
       "'    \\nFeature Engineering:\\n\\nDate.of.Birth                       - derive Age from this and drop this \\nDisbursalDate                       - derive days elapsed since loan disbursal and drop this\\nEmployment.Type                     - vectorize categorical data    \\nPERFORM_CNS.SCORE.DESCRIPTION       - vectorize categorical data\\nAVERAGE.ACCT.AGE                    - extract the #yrs and #months as total # months\\nCREDIT.HISTORY.LENGTH               - extract the #yrs and #months as total # months\\n'"
      ]
     },
     "execution_count": 8,
     "metadata": {},
     "output_type": "execute_result"
    }
   ],
   "source": [
    "\n",
    "'''    \n",
    "Feature Engineering:\n",
    "\n",
    "Date.of.Birth                       - derive Age from this and drop this \n",
    "DisbursalDate                       - derive days elapsed since loan disbursal and drop this\n",
    "Employment.Type                     - vectorize categorical data    \n",
    "PERFORM_CNS.SCORE.DESCRIPTION       - vectorize categorical data\n",
    "AVERAGE.ACCT.AGE                    - extract the #yrs and #months as total # months\n",
    "CREDIT.HISTORY.LENGTH               - extract the #yrs and #months as total # months\n",
    "'''"
   ]
  },
  {
   "cell_type": "code",
   "execution_count": 9,
   "metadata": {
    "scrolled": true
   },
   "outputs": [],
   "source": [
    "import datetime\n",
    "\n",
    "train['Date.of.Birth'] = pd.to_datetime(train['Date.of.Birth'])\n",
    "train['DisbursalDate'] = pd.to_datetime(train['DisbursalDate'])\n",
    "\n",
    "now = datetime.datetime.now()\n",
    "train['Age'] = ((now - train['Date.of.Birth'])/365).dt.days\n",
    "\n"
   ]
  },
  {
   "cell_type": "code",
   "execution_count": 10,
   "metadata": {},
   "outputs": [
    {
     "data": {
      "text/plain": [
       "0    35\n",
       "1    33\n",
       "2    33\n",
       "Name: Age, dtype: int64"
      ]
     },
     "execution_count": 10,
     "metadata": {},
     "output_type": "execute_result"
    }
   ],
   "source": [
    "train['Age'][:3]"
   ]
  },
  {
   "cell_type": "code",
   "execution_count": 11,
   "metadata": {},
   "outputs": [
    {
     "name": "stdout",
     "output_type": "stream",
     "text": [
      "19866 233154\n"
     ]
    },
    {
     "data": {
      "image/png": "[encoded data removed]",
      "text/plain": [
       "<Figure size 432x288 with 1 Axes>"
      ]
     },
     "metadata": {
      "needs_background": "light"
     },
     "output_type": "display_data"
    }
   ],
   "source": [
    "sns.distplot(train['Age'],  color = 'orange')\n",
    "\n",
    "print(len(train[train['Age'] <= 0]), len(train))"
   ]
  },
  {
   "cell_type": "code",
   "execution_count": 12,
   "metadata": {},
   "outputs": [],
   "source": [
    "delta = (now - train['DisbursalDate'])\n",
    "train['Days_Since_Disbursal'] = delta.dt.days"
   ]
  },
  {
   "cell_type": "code",
   "execution_count": 13,
   "metadata": {},
   "outputs": [
    {
     "name": "stdout",
     "output_type": "stream",
     "text": [
      "0    404\n",
      "1    202\n",
      "2    463\n",
      "Name: Days_Since_Disbursal, dtype: int64\n"
     ]
    },
    {
     "data": {
      "text/plain": [
       "<matplotlib.axes._subplots.AxesSubplot at 0x11f442208>"
      ]
     },
     "execution_count": 13,
     "metadata": {},
     "output_type": "execute_result"
    },
    {
     "data": {
      "image/png": "[encoded data removed]",
      "text/plain": [
       "<Figure size 432x288 with 1 Axes>"
      ]
     },
     "metadata": {
      "needs_background": "light"
     },
     "output_type": "display_data"
    }
   ],
   "source": [
    "print(train['Days_Since_Disbursal'][:3])\n",
    "\n",
    "sns.distplot(train['Days_Since_Disbursal'], color='blue')"
   ]
  },
  {
   "cell_type": "code",
   "execution_count": 14,
   "metadata": {},
   "outputs": [],
   "source": [
    "train['CREDIT.HISTORY.LENGTH_yr'] = train['CREDIT.HISTORY.LENGTH'].apply(lambda x: x.split(' ')[0])\n",
    "train['CREDIT.HISTORY.LENGTH_yr'] = train['CREDIT.HISTORY.LENGTH_yr'].apply(lambda x: x.split('yrs')[0])\n",
    "\n",
    "train['CREDIT.HISTORY.LENGTH_mon'] = train['CREDIT.HISTORY.LENGTH'].apply(lambda x: x.split(' ')[1])\n",
    "train['CREDIT.HISTORY.LENGTH_mon'] = train['CREDIT.HISTORY.LENGTH_mon'].apply(lambda x: x.split('mon')[0])\n",
    "\n",
    "train['CREDIT.HISTORY.LENGTH_total_months'] = (train['CREDIT.HISTORY.LENGTH_yr'].astype(int))*12 + train['CREDIT.HISTORY.LENGTH_mon'].astype(int)\n",
    "train = train.drop(['CREDIT.HISTORY.LENGTH_yr', 'CREDIT.HISTORY.LENGTH_mon'], axis = 1)\n",
    "\n"
   ]
  },
  {
   "cell_type": "code",
   "execution_count": 15,
   "metadata": {},
   "outputs": [],
   "source": [
    "\n",
    "train['AVERAGE.ACCT.AGE_yr'] = train['AVERAGE.ACCT.AGE'].apply(lambda x: x.split(' ')[0])\n",
    "train['AVERAGE.ACCT.AGE_yr'] = train['AVERAGE.ACCT.AGE_yr'].apply(lambda x: x.split('yrs')[0])\n",
    "\n",
    "train['AVERAGE.ACCT.AGE_mon'] = train['AVERAGE.ACCT.AGE'].apply(lambda x: x.split(' ')[1])\n",
    "train['AVERAGE.ACCT.AGE_mon'] = train['AVERAGE.ACCT.AGE_mon'].apply(lambda x: x.split('mon')[0])\n",
    "\n",
    "train['AVERAGE.ACCT.AGE_total_months'] = (train['AVERAGE.ACCT.AGE_yr'].astype(int))*12 + train['AVERAGE.ACCT.AGE_mon'].astype(int)\n",
    "\n",
    "train = train.drop(['AVERAGE.ACCT.AGE_yr', 'AVERAGE.ACCT.AGE_mon'], axis = 1)\n"
   ]
  },
  {
   "cell_type": "code",
   "execution_count": 16,
   "metadata": {},
   "outputs": [
    {
     "name": "stdout",
     "output_type": "stream",
     "text": [
      "0     0yrs 0mon\n",
      "1    1yrs 11mon\n",
      "2     0yrs 0mon\n",
      "Name: AVERAGE.ACCT.AGE, dtype: object 0     0\n",
      "1    23\n",
      "2     0\n",
      "Name: AVERAGE.ACCT.AGE_total_months, dtype: int64\n"
     ]
    },
    {
     "data": {
      "text/plain": [
       "<matplotlib.axes._subplots.AxesSubplot at 0x11bd8fb00>"
      ]
     },
     "execution_count": 16,
     "metadata": {},
     "output_type": "execute_result"
    },
    {
     "data": {
      "image/png": "[encoded data removed]",
      "text/plain": [
       "<Figure size 432x288 with 1 Axes>"
      ]
     },
     "metadata": {
      "needs_background": "light"
     },
     "output_type": "display_data"
    }
   ],
   "source": [
    "print(train['AVERAGE.ACCT.AGE'][:3], train['AVERAGE.ACCT.AGE_total_months'][:3])\n",
    "sns.distplot(train['AVERAGE.ACCT.AGE_total_months'] ,color='green')\n"
   ]
  },
  {
   "cell_type": "code",
   "execution_count": 17,
   "metadata": {},
   "outputs": [
    {
     "name": "stdout",
     "output_type": "stream",
     "text": [
      "0     0yrs 0mon\n",
      "1    1yrs 11mon\n",
      "2     0yrs 0mon\n",
      "Name: CREDIT.HISTORY.LENGTH, dtype: object 0     0\n",
      "1    23\n",
      "2     0\n",
      "Name: CREDIT.HISTORY.LENGTH_total_months, dtype: int64\n"
     ]
    },
    {
     "data": {
      "text/plain": [
       "<matplotlib.axes._subplots.AxesSubplot at 0x11bc9acc0>"
      ]
     },
     "execution_count": 17,
     "metadata": {},
     "output_type": "execute_result"
    },
    {
     "data": {
      "image/png": "[encoded data removed]",
      "text/plain": [
       "<Figure size 432x288 with 1 Axes>"
      ]
     },
     "metadata": {
      "needs_background": "light"
     },
     "output_type": "display_data"
    }
   ],
   "source": [
    "print(train['CREDIT.HISTORY.LENGTH'][:3], train['CREDIT.HISTORY.LENGTH_total_months'][:3])\n",
    "sns.distplot(train['CREDIT.HISTORY.LENGTH_total_months'] ,color='green')\n"
   ]
  },
  {
   "cell_type": "code",
   "execution_count": 18,
   "metadata": {},
   "outputs": [
    {
     "data": {
      "text/plain": [
       "Self employed    127635\n",
       "Salaried          97858\n",
       "Name: Employment.Type, dtype: int64"
      ]
     },
     "execution_count": 18,
     "metadata": {},
     "output_type": "execute_result"
    }
   ],
   "source": [
    "train['Employment.Type'].value_counts()"
   ]
  },
  {
   "cell_type": "code",
   "execution_count": 19,
   "metadata": {},
   "outputs": [
    {
     "name": "stdout",
     "output_type": "stream",
     "text": [
      "0\n"
     ]
    }
   ],
   "source": [
    "train['Employment.Type'].fillna('Unemployed', inplace = True)\n",
    "\n",
    "print(train.isnull().sum().sum())"
   ]
  },
  {
   "cell_type": "code",
   "execution_count": 20,
   "metadata": {},
   "outputs": [],
   "source": [
    "## Label Encoding for Employment Type\n",
    "train['Employment.Type'] = train['Employment.Type'].replace(('Self employed', 'Salaried', 'Unemployed'), (2, 1, 0))\n"
   ]
  },
  {
   "cell_type": "code",
   "execution_count": 21,
   "metadata": {},
   "outputs": [
    {
     "data": {
      "text/plain": [
       "2    127635\n",
       "1     97858\n",
       "0      7661\n",
       "Name: Employment.Type, dtype: int64"
      ]
     },
     "execution_count": 21,
     "metadata": {},
     "output_type": "execute_result"
    }
   ],
   "source": [
    "train['Employment.Type'].value_counts()"
   ]
  },
  {
   "cell_type": "code",
   "execution_count": 22,
   "metadata": {},
   "outputs": [
    {
     "data": {
      "text/plain": [
       "No Bureau History Available                                116950\n",
       "C-Very Low Risk                                             16045\n",
       "A-Very Low Risk                                             14124\n",
       "D-Very Low Risk                                             11358\n",
       "B-Very Low Risk                                              9201\n",
       "M-Very High Risk                                             8776\n",
       "F-Low Risk                                                   8485\n",
       "K-High Risk                                                  8277\n",
       "H-Medium Risk                                                6855\n",
       "E-Low Risk                                                   5821\n",
       "I-Medium Risk                                                5557\n",
       "G-Low Risk                                                   3988\n",
       "Not Scored: Sufficient History Not Available                 3765\n",
       "J-High Risk                                                  3748\n",
       "Not Scored: Not Enough Info available on the customer        3672\n",
       "Not Scored: No Activity seen on the customer (Inactive)      2885\n",
       "Not Scored: No Updates available in last 36 months           1534\n",
       "L-Very High Risk                                             1134\n",
       "Not Scored: Only a Guarantor                                  976\n",
       "Not Scored: More than 50 active Accounts found                  3\n",
       "Name: PERFORM_CNS.SCORE.DESCRIPTION, dtype: int64"
      ]
     },
     "execution_count": 22,
     "metadata": {},
     "output_type": "execute_result"
    }
   ],
   "source": [
    "train['PERFORM_CNS.SCORE.DESCRIPTION'].value_counts()"
   ]
  },
  {
   "cell_type": "code",
   "execution_count": 23,
   "metadata": {},
   "outputs": [
    {
     "data": {
      "text/plain": [
       "0    129785\n",
       "5     50728\n",
       "4     18294\n",
       "3     12412\n",
       "2     12025\n",
       "1      9910\n",
       "Name: PERFORM_CNS.SCORE.DESCRIPTION, dtype: int64"
      ]
     },
     "execution_count": 23,
     "metadata": {},
     "output_type": "execute_result"
    }
   ],
   "source": [
    "## Label Encoding for PERFORM_CNS.SCORE.DESCRIPTION\n",
    "\n",
    "train['PERFORM_CNS.SCORE.DESCRIPTION'] = train['PERFORM_CNS.SCORE.DESCRIPTION'].replace('No Bureau History Available', 0)\n",
    "train['PERFORM_CNS.SCORE.DESCRIPTION'] = train['PERFORM_CNS.SCORE.DESCRIPTION'].replace('Not Scored: Sufficient History Not Available', 0)\n",
    "train['PERFORM_CNS.SCORE.DESCRIPTION'] = train['PERFORM_CNS.SCORE.DESCRIPTION'].replace('Not Scored: Not Enough Info available on the customer', 0)\n",
    "train['PERFORM_CNS.SCORE.DESCRIPTION'] = train['PERFORM_CNS.SCORE.DESCRIPTION'].replace('Not Scored: No Activity seen on the customer (Inactive)',0)\n",
    "train['PERFORM_CNS.SCORE.DESCRIPTION'] = train['PERFORM_CNS.SCORE.DESCRIPTION'].replace('Not Scored: No Updates available in last 36 months', 0)\n",
    "train['PERFORM_CNS.SCORE.DESCRIPTION'] = train['PERFORM_CNS.SCORE.DESCRIPTION'].replace('Not Scored: Only a Guarantor', 0)\n",
    "train['PERFORM_CNS.SCORE.DESCRIPTION'] = train['PERFORM_CNS.SCORE.DESCRIPTION'].replace('Not Scored: More than 50 active Accounts found',0)\n",
    "train['PERFORM_CNS.SCORE.DESCRIPTION'] = train['PERFORM_CNS.SCORE.DESCRIPTION'].replace('M-Very High Risk', 1)\n",
    "train['PERFORM_CNS.SCORE.DESCRIPTION'] = train['PERFORM_CNS.SCORE.DESCRIPTION'].replace('L-Very High Risk', 1)\n",
    "train['PERFORM_CNS.SCORE.DESCRIPTION'] = train['PERFORM_CNS.SCORE.DESCRIPTION'].replace('K-High Risk', 2)\n",
    "train['PERFORM_CNS.SCORE.DESCRIPTION'] = train['PERFORM_CNS.SCORE.DESCRIPTION'].replace('J-High Risk', 2)\n",
    "train['PERFORM_CNS.SCORE.DESCRIPTION'] = train['PERFORM_CNS.SCORE.DESCRIPTION'].replace('I-Medium Risk', 3)\n",
    "train['PERFORM_CNS.SCORE.DESCRIPTION'] = train['PERFORM_CNS.SCORE.DESCRIPTION'].replace('H-Medium Risk', 3)\n",
    "train['PERFORM_CNS.SCORE.DESCRIPTION'] = train['PERFORM_CNS.SCORE.DESCRIPTION'].replace('G-Low Risk', 4)\n",
    "train['PERFORM_CNS.SCORE.DESCRIPTION'] = train['PERFORM_CNS.SCORE.DESCRIPTION'].replace('F-Low Risk', 4)\n",
    "train['PERFORM_CNS.SCORE.DESCRIPTION'] = train['PERFORM_CNS.SCORE.DESCRIPTION'].replace('E-Low Risk', 4)\n",
    "train['PERFORM_CNS.SCORE.DESCRIPTION'] = train['PERFORM_CNS.SCORE.DESCRIPTION'].replace('D-Very Low Risk', 5)\n",
    "train['PERFORM_CNS.SCORE.DESCRIPTION'] = train['PERFORM_CNS.SCORE.DESCRIPTION'].replace('C-Very Low Risk', 5)\n",
    "train['PERFORM_CNS.SCORE.DESCRIPTION'] = train['PERFORM_CNS.SCORE.DESCRIPTION'].replace('B-Very Low Risk', 5)\n",
    "train['PERFORM_CNS.SCORE.DESCRIPTION'] = train['PERFORM_CNS.SCORE.DESCRIPTION'].replace('A-Very Low Risk', 5)\n",
    "\n",
    "# checing the values in bureau score\n",
    "train['PERFORM_CNS.SCORE.DESCRIPTION'].value_counts()\n",
    "\n",
    "\n"
   ]
  },
  {
   "cell_type": "code",
   "execution_count": 24,
   "metadata": {},
   "outputs": [
    {
     "data": {
      "text/plain": [
       "'\\nbranch_id                                       int64\\n>supplier_id                                     int64\\nmanufacturer_id                                 int64\\n>Current_pincode_ID                              int64\\nState_ID                                        int64\\n>Employee_code_ID                                int64\\n'"
      ]
     },
     "execution_count": 24,
     "metadata": {},
     "output_type": "execute_result"
    }
   ],
   "source": [
    "## categorical attributes that have integer datatype\n",
    "'''\n",
    "branch_id                                       int64\n",
    ">supplier_id                                     int64\n",
    "manufacturer_id                                 int64\n",
    ">Current_pincode_ID                              int64\n",
    "State_ID                                        int64\n",
    ">Employee_code_ID                                int64\n",
    "'''"
   ]
  },
  {
   "cell_type": "code",
   "execution_count": 25,
   "metadata": {},
   "outputs": [
    {
     "data": {
      "text/plain": [
       "(82, 2953, 11, 6698, 22, 3270)"
      ]
     },
     "execution_count": 25,
     "metadata": {},
     "output_type": "execute_result"
    }
   ],
   "source": [
    "train['branch_id'].nunique(), train['supplier_id'].nunique(), train['manufacturer_id'].nunique(), train['Current_pincode_ID'].nunique(), train['State_ID'].nunique(), train['Employee_code_ID'].nunique()\n",
    "\n"
   ]
  },
  {
   "cell_type": "code",
   "execution_count": 26,
   "metadata": {},
   "outputs": [],
   "source": [
    "train['branch_id'] = train['branch_id'].astype('category')\n",
    "train['manufacturer_id'] = train['manufacturer_id'].astype('category')\n",
    "train['State_ID'] = train['State_ID'].astype('category')\n"
   ]
  },
  {
   "cell_type": "code",
   "execution_count": 27,
   "metadata": {},
   "outputs": [],
   "source": [
    "from sklearn.preprocessing import LabelEncoder\n",
    "\n",
    "le = LabelEncoder()\n",
    "train['branch_id'] = le.fit_transform(train['branch_id'])\n",
    "train['manufacturer_id'] = le.fit_transform(train['manufacturer_id'])\n",
    "train['State_ID'] = le.fit_transform(train['State_ID'])\n",
    "\n"
   ]
  },
  {
   "cell_type": "code",
   "execution_count": 28,
   "metadata": {},
   "outputs": [
    {
     "data": {
      "text/plain": [
       "'\\nPERFORM_CNS.SCORE\\ndisbursed_amount\\nasset_cost\\nltv\\nPRIMARY.INSTAL.AMT\\nSEC.INSTAL.AMT\\nSEC.NO.OF.ACCTS\\nSEC.ACTIVE.ACCTS\\nSEC.OVERDUE.ACCTS\\nSEC.SANCTIONED.AMOUNT\\nSEC.DISBURSED.AMOUNT\\nSEC.CURRENT.BALANCE\\nPRI.NO.OF.ACCTS\\nPRI.ACTIVE.ACCTS\\nPRI.OVERDUE.ACCTS\\nPRI.CURRENT.BALANCE\\nPRI.SANCTIONED.AMOUNT\\nPRI.DISBURSED.AMOUNT\\n'"
      ]
     },
     "execution_count": 28,
     "metadata": {},
     "output_type": "execute_result"
    }
   ],
   "source": [
    "## Apply Log transform on all the features below:\n",
    "'''\n",
    "PERFORM_CNS.SCORE\n",
    "disbursed_amount\n",
    "asset_cost\n",
    "ltv\n",
    "PRIMARY.INSTAL.AMT\n",
    "SEC.INSTAL.AMT\n",
    "SEC.NO.OF.ACCTS\n",
    "SEC.ACTIVE.ACCTS\n",
    "SEC.OVERDUE.ACCTS\n",
    "SEC.SANCTIONED.AMOUNT\n",
    "SEC.DISBURSED.AMOUNT\n",
    "SEC.CURRENT.BALANCE\n",
    "PRI.NO.OF.ACCTS\n",
    "PRI.ACTIVE.ACCTS\n",
    "PRI.OVERDUE.ACCTS\n",
    "PRI.CURRENT.BALANCE\n",
    "PRI.SANCTIONED.AMOUNT\n",
    "PRI.DISBURSED.AMOUNT\n",
    "'''"
   ]
  },
  {
   "cell_type": "code",
   "execution_count": 29,
   "metadata": {},
   "outputs": [],
   "source": [
    "train['PRI.CURRENT.BALANCE'].fillna(train['PRI.CURRENT.BALANCE'].mean(), inplace = True)\n",
    "train['PRI.SANCTIONED.AMOUNT'].fillna(train['PRI.SANCTIONED.AMOUNT'].mean(), inplace = True)\n",
    "train['SEC.CURRENT.BALANCE'].fillna(train['SEC.CURRENT.BALANCE'].mean(), inplace = True)"
   ]
  },
  {
   "cell_type": "code",
   "execution_count": 30,
   "metadata": {},
   "outputs": [],
   "source": [
    "train['PERFORM_CNS.SCORE'] = np.log1p(train['PERFORM_CNS.SCORE'])\n",
    "train['disbursed_amount'] = np.log1p(train['disbursed_amount'])\n",
    "train['asset_cost'] = np.log1p(train['asset_cost'])\n",
    "train['ltv'] = np.log1p(train['ltv'])\n",
    "train['PRIMARY.INSTAL.AMT'] = np.log1p(train['PRIMARY.INSTAL.AMT'])\n",
    "train['SEC.INSTAL.AMT'] = np.log1p(train['SEC.INSTAL.AMT'])\n",
    "train['SEC.NO.OF.ACCTS'] = np.log1p(train['SEC.NO.OF.ACCTS'])\n",
    "train['SEC.ACTIVE.ACCTS'] = np.log1p(train['SEC.ACTIVE.ACCTS'])\n",
    "train['SEC.OVERDUE.ACCTS'] = np.log1p(train['SEC.OVERDUE.ACCTS'])\n",
    "train['SEC.SANCTIONED.AMOUNT'] = np.log1p(train['SEC.SANCTIONED.AMOUNT'])\n",
    "train['SEC.DISBURSED.AMOUNT'] = np.log1p(train['SEC.DISBURSED.AMOUNT'])\n",
    "#train['SEC.CURRENT.BALANCE'] = np.log1p(train['SEC.CURRENT.BALANCE'])\n",
    "train['PRI.NO.OF.ACCTS'] = np.log1p(train['PRI.NO.OF.ACCTS'])\n",
    "train['PRI.ACTIVE.ACCTS'] = np.log1p(train['PRI.ACTIVE.ACCTS'])\n",
    "train['PRI.OVERDUE.ACCTS'] = np.log1p(train['PRI.OVERDUE.ACCTS'])\n",
    "#train['PRI.CURRENT.BALANCE'] = np.log1p(train['PRI.CURRENT.BALANCE'])\n",
    "#train['PRI.SANCTIONED.AMOUNT'] = np.log1p(train['PRI.SANCTIONED.AMOUNT'])\n",
    "train['PRI.DISBURSED.AMOUNT'] = np.log1p(train['PRI.DISBURSED.AMOUNT'])\n",
    "\n"
   ]
  },
  {
   "cell_type": "code",
   "execution_count": 31,
   "metadata": {},
   "outputs": [
    {
     "data": {
      "text/plain": [
       "'\\nPERFORM_CNS.SCORE\\ndisbursed_amount\\nasset_cost\\nltv\\nPRIMARY.INSTAL.AMT\\nSEC.INSTAL.AMT\\nSEC.NO.OF.ACCTS\\nSEC.ACTIVE.ACCTS\\nSEC.OVERDUE.ACCTS\\nSEC.SANCTIONED.AMOUNT\\nSEC.DISBURSED.AMOUNT\\nSEC.CURRENT.BALANCE\\nPRI.NO.OF.ACCTS\\nPRI.ACTIVE.ACCTS\\nPRI.OVERDUE.ACCTS\\nPRI.CURRENT.BALANCE\\nPRI.SANCTIONED.AMOUNT\\nPRI.DISBURSED.AMOUNT\\n'"
      ]
     },
     "execution_count": 31,
     "metadata": {},
     "output_type": "execute_result"
    }
   ],
   "source": [
    "## Transformations to be done on test data:\n",
    "'''\n",
    "Date.of.Birth                       - derive Age from this and drop this \n",
    "DisbursalDate                       - derive days elapsed since loan disbursal\n",
    "Employment.Type                     - label encode categorical data    \n",
    "PERFORM_CNS.SCORE.DESCRIPTION       - label encode categorical data\n",
    "AVERAGE.ACCT.AGE                    - extract the #yrs and #months as total # months\n",
    "CREDIT.HISTORY.LENGTH               - extract the #yrs and #months as total # months\n",
    "branch_id                           - convert to category and label encode\n",
    "manufacturer_id                     - convert to category and label encode\n",
    "State_ID                            - convert to category and label encode\n",
    "'''\n",
    "\n",
    "## Log transform:\n",
    "'''\n",
    "PERFORM_CNS.SCORE\n",
    "disbursed_amount\n",
    "asset_cost\n",
    "ltv\n",
    "PRIMARY.INSTAL.AMT\n",
    "SEC.INSTAL.AMT\n",
    "SEC.NO.OF.ACCTS\n",
    "SEC.ACTIVE.ACCTS\n",
    "SEC.OVERDUE.ACCTS\n",
    "SEC.SANCTIONED.AMOUNT\n",
    "SEC.DISBURSED.AMOUNT\n",
    "SEC.CURRENT.BALANCE\n",
    "PRI.NO.OF.ACCTS\n",
    "PRI.ACTIVE.ACCTS\n",
    "PRI.OVERDUE.ACCTS\n",
    "PRI.CURRENT.BALANCE\n",
    "PRI.SANCTIONED.AMOUNT\n",
    "PRI.DISBURSED.AMOUNT\n",
    "'''"
   ]
  },
  {
   "cell_type": "code",
   "execution_count": 32,
   "metadata": {},
   "outputs": [
    {
     "name": "stdout",
     "output_type": "stream",
     "text": [
      "9839 112392\n"
     ]
    },
    {
     "data": {
      "image/png": "[encoded data removed]",
      "text/plain": [
       "<Figure size 432x288 with 1 Axes>"
      ]
     },
     "metadata": {
      "needs_background": "light"
     },
     "output_type": "display_data"
    }
   ],
   "source": [
    "##Date.of.Birth - derive Age from this and drop this \n",
    "\n",
    "test['Date.of.Birth'] = pd.to_datetime(test['Date.of.Birth'])\n",
    "\n",
    "now = datetime.datetime.now()\n",
    "test['Age'] = ((now - test['Date.of.Birth'])/365).dt.days\n",
    "\n",
    "sns.distplot(test['Age'],  color = 'orange')\n",
    "\n",
    "print(len(test[test['Age'] <= 0]), len(test))"
   ]
  },
  {
   "cell_type": "code",
   "execution_count": 33,
   "metadata": {},
   "outputs": [
    {
     "name": "stdout",
     "output_type": "stream",
     "text": [
      "0    401\n",
      "1    147\n",
      "2    138\n",
      "Name: Days_Since_Disbursal, dtype: int64\n"
     ]
    },
    {
     "data": {
      "text/plain": [
       "<matplotlib.axes._subplots.AxesSubplot at 0x11ce74a90>"
      ]
     },
     "execution_count": 33,
     "metadata": {},
     "output_type": "execute_result"
    },
    {
     "data": {
      "image/png": "[encoded data removed]",
      "text/plain": [
       "<Figure size 432x288 with 1 Axes>"
      ]
     },
     "metadata": {
      "needs_background": "light"
     },
     "output_type": "display_data"
    }
   ],
   "source": [
    "##DisbursalDate - derive days elapsed since loan disbursal\n",
    "\n",
    "test['DisbursalDate'] = pd.to_datetime(test['DisbursalDate'])\n",
    "delta = (now - test['DisbursalDate'])\n",
    "test['Days_Since_Disbursal'] = delta.dt.days\n",
    "\n",
    "print(test['Days_Since_Disbursal'][:3])\n",
    "\n",
    "sns.distplot(test['Days_Since_Disbursal'], color='blue')\n"
   ]
  },
  {
   "cell_type": "code",
   "execution_count": 34,
   "metadata": {},
   "outputs": [
    {
     "data": {
      "text/plain": [
       "2    59794\n",
       "1    49155\n",
       "0     3443\n",
       "Name: Employment.Type, dtype: int64"
      ]
     },
     "execution_count": 34,
     "metadata": {},
     "output_type": "execute_result"
    }
   ],
   "source": [
    "##Employment.Type - label encode categorical data\n",
    "\n",
    "test['Employment.Type'].fillna('Unemployed', inplace = True)\n",
    "## Label Encoding for Employment Type\n",
    "test['Employment.Type'] = test['Employment.Type'].replace(('Self employed', 'Salaried', 'Unemployed'), (2, 1, 0))\n",
    "\n",
    "test['Employment.Type'].value_counts()"
   ]
  },
  {
   "cell_type": "code",
   "execution_count": 35,
   "metadata": {},
   "outputs": [
    {
     "data": {
      "text/plain": [
       "0    63017\n",
       "5    24993\n",
       "4     8070\n",
       "3     5990\n",
       "2     5642\n",
       "1     4680\n",
       "Name: PERFORM_CNS.SCORE.DESCRIPTION, dtype: int64"
      ]
     },
     "execution_count": 35,
     "metadata": {},
     "output_type": "execute_result"
    }
   ],
   "source": [
    "##PERFORM_CNS.SCORE.DESCRIPTION - label encode categorical data\n",
    "\n",
    "test['PERFORM_CNS.SCORE.DESCRIPTION'].value_counts()\n",
    "\n",
    "## Label Encoding for PERFORM_CNS.SCORE.DESCRIPTION\n",
    "\n",
    "test['PERFORM_CNS.SCORE.DESCRIPTION'] = test['PERFORM_CNS.SCORE.DESCRIPTION'].replace('No Bureau History Available', 0)\n",
    "test['PERFORM_CNS.SCORE.DESCRIPTION'] = test['PERFORM_CNS.SCORE.DESCRIPTION'].replace('Not Scored: Sufficient History Not Available', 0)\n",
    "test['PERFORM_CNS.SCORE.DESCRIPTION'] = test['PERFORM_CNS.SCORE.DESCRIPTION'].replace('Not Scored: Not Enough Info available on the customer', 0)\n",
    "test['PERFORM_CNS.SCORE.DESCRIPTION'] = test['PERFORM_CNS.SCORE.DESCRIPTION'].replace('Not Scored: No Activity seen on the customer (Inactive)',0)\n",
    "test['PERFORM_CNS.SCORE.DESCRIPTION'] = test['PERFORM_CNS.SCORE.DESCRIPTION'].replace('Not Scored: No Updates available in last 36 months', 0)\n",
    "test['PERFORM_CNS.SCORE.DESCRIPTION'] = test['PERFORM_CNS.SCORE.DESCRIPTION'].replace('Not Scored: Only a Guarantor', 0)\n",
    "test['PERFORM_CNS.SCORE.DESCRIPTION'] = test['PERFORM_CNS.SCORE.DESCRIPTION'].replace('Not Scored: More than 50 active Accounts found',0)\n",
    "test['PERFORM_CNS.SCORE.DESCRIPTION'] = test['PERFORM_CNS.SCORE.DESCRIPTION'].replace('M-Very High Risk', 1)\n",
    "test['PERFORM_CNS.SCORE.DESCRIPTION'] = test['PERFORM_CNS.SCORE.DESCRIPTION'].replace('L-Very High Risk', 1)\n",
    "test['PERFORM_CNS.SCORE.DESCRIPTION'] = test['PERFORM_CNS.SCORE.DESCRIPTION'].replace('K-High Risk', 2)\n",
    "test['PERFORM_CNS.SCORE.DESCRIPTION'] = test['PERFORM_CNS.SCORE.DESCRIPTION'].replace('J-High Risk', 2)\n",
    "test['PERFORM_CNS.SCORE.DESCRIPTION'] = test['PERFORM_CNS.SCORE.DESCRIPTION'].replace('I-Medium Risk', 3)\n",
    "test['PERFORM_CNS.SCORE.DESCRIPTION'] = test['PERFORM_CNS.SCORE.DESCRIPTION'].replace('H-Medium Risk', 3)\n",
    "test['PERFORM_CNS.SCORE.DESCRIPTION'] = test['PERFORM_CNS.SCORE.DESCRIPTION'].replace('G-Low Risk', 4)\n",
    "test['PERFORM_CNS.SCORE.DESCRIPTION'] = test['PERFORM_CNS.SCORE.DESCRIPTION'].replace('F-Low Risk', 4)\n",
    "test['PERFORM_CNS.SCORE.DESCRIPTION'] = test['PERFORM_CNS.SCORE.DESCRIPTION'].replace('E-Low Risk', 4)\n",
    "test['PERFORM_CNS.SCORE.DESCRIPTION'] = test['PERFORM_CNS.SCORE.DESCRIPTION'].replace('D-Very Low Risk', 5)\n",
    "test['PERFORM_CNS.SCORE.DESCRIPTION'] = test['PERFORM_CNS.SCORE.DESCRIPTION'].replace('C-Very Low Risk', 5)\n",
    "test['PERFORM_CNS.SCORE.DESCRIPTION'] = test['PERFORM_CNS.SCORE.DESCRIPTION'].replace('B-Very Low Risk', 5)\n",
    "test['PERFORM_CNS.SCORE.DESCRIPTION'] = test['PERFORM_CNS.SCORE.DESCRIPTION'].replace('A-Very Low Risk', 5)\n",
    "\n",
    "# checing the values in bureau score\n",
    "test['PERFORM_CNS.SCORE.DESCRIPTION'].value_counts()\n",
    "\n",
    "\n"
   ]
  },
  {
   "cell_type": "code",
   "execution_count": 36,
   "metadata": {},
   "outputs": [],
   "source": [
    "##AVERAGE.ACCT.AGE - extract the #yrs and #months as total # months\n",
    "\n",
    "test['AVERAGE.ACCT.AGE_yr'] = test['AVERAGE.ACCT.AGE'].apply(lambda x: x.split(' ')[0])\n",
    "test['AVERAGE.ACCT.AGE_yr'] = test['AVERAGE.ACCT.AGE_yr'].apply(lambda x: x.split('yrs')[0])\n",
    "\n",
    "test['AVERAGE.ACCT.AGE_mon'] = test['AVERAGE.ACCT.AGE'].apply(lambda x: x.split(' ')[1])\n",
    "test['AVERAGE.ACCT.AGE_mon'] = test['AVERAGE.ACCT.AGE_mon'].apply(lambda x: x.split('mon')[0])\n",
    "\n",
    "test['AVERAGE.ACCT.AGE_total_months'] = (test['AVERAGE.ACCT.AGE_yr'].astype(int))*12 + test['AVERAGE.ACCT.AGE_mon'].astype(int)\n",
    "\n",
    "test = test.drop(['AVERAGE.ACCT.AGE_yr', 'AVERAGE.ACCT.AGE_mon'], axis = 1)\n",
    "\n"
   ]
  },
  {
   "cell_type": "code",
   "execution_count": 37,
   "metadata": {},
   "outputs": [],
   "source": [
    "##CREDIT.HISTORY.LENGTH  - extract the #yrs and #months as total # months\n",
    "\n",
    "test['CREDIT.HISTORY.LENGTH_yr'] = test['CREDIT.HISTORY.LENGTH'].apply(lambda x: x.split(' ')[0])\n",
    "test['CREDIT.HISTORY.LENGTH_yr'] = test['CREDIT.HISTORY.LENGTH_yr'].apply(lambda x: x.split('yrs')[0])\n",
    "\n",
    "test['CREDIT.HISTORY.LENGTH_mon'] = test['CREDIT.HISTORY.LENGTH'].apply(lambda x: x.split(' ')[1])\n",
    "test['CREDIT.HISTORY.LENGTH_mon'] = test['CREDIT.HISTORY.LENGTH_mon'].apply(lambda x: x.split('mon')[0])\n",
    "\n",
    "test['CREDIT.HISTORY.LENGTH_total_months'] = (test['CREDIT.HISTORY.LENGTH_yr'].astype(int))*12 + test['CREDIT.HISTORY.LENGTH_mon'].astype(int)\n",
    "test = test.drop(['CREDIT.HISTORY.LENGTH_yr', 'CREDIT.HISTORY.LENGTH_mon'], axis = 1)\n",
    "\n"
   ]
  },
  {
   "cell_type": "code",
   "execution_count": 38,
   "metadata": {},
   "outputs": [],
   "source": [
    "##branch_id  - convert to category and label encode\n",
    "test['branch_id'] = test['branch_id'].astype('category')\n",
    "le = LabelEncoder()\n",
    "test['branch_id'] = le.fit_transform(test['branch_id'])\n"
   ]
  },
  {
   "cell_type": "code",
   "execution_count": 39,
   "metadata": {},
   "outputs": [],
   "source": [
    "##manufacturer_id  - convert to category and label encode\n",
    "test['manufacturer_id'] = test['manufacturer_id'].astype('category')\n",
    "test['manufacturer_id'] = le.fit_transform(test['manufacturer_id'])\n"
   ]
  },
  {
   "cell_type": "code",
   "execution_count": 40,
   "metadata": {},
   "outputs": [],
   "source": [
    "##State_ID - convert to category and label encode\n",
    "test['State_ID'] = test['State_ID'].astype('category')\n",
    "test['State_ID'] = le.fit_transform(test['State_ID'])\n",
    "\n"
   ]
  },
  {
   "cell_type": "code",
   "execution_count": 41,
   "metadata": {},
   "outputs": [],
   "source": [
    "\n",
    "test['PRI.CURRENT.BALANCE'].fillna(test['PRI.CURRENT.BALANCE'].mean(), inplace = True)\n",
    "test['PRI.SANCTIONED.AMOUNT'].fillna(test['PRI.SANCTIONED.AMOUNT'].mean(), inplace = True)\n",
    "test['SEC.CURRENT.BALANCE'].fillna(test['SEC.CURRENT.BALANCE'].mean(), inplace = True)\n"
   ]
  },
  {
   "cell_type": "code",
   "execution_count": 42,
   "metadata": {},
   "outputs": [],
   "source": [
    "## Log transform:\n",
    "'''\n",
    "PERFORM_CNS.SCORE\n",
    "disbursed_amount\n",
    "asset_cost\n",
    "ltv\n",
    "PRIMARY.INSTAL.AMT\n",
    "SEC.INSTAL.AMT\n",
    "SEC.NO.OF.ACCTS\n",
    "SEC.ACTIVE.ACCTS\n",
    "SEC.OVERDUE.ACCTS\n",
    "SEC.SANCTIONED.AMOUNT\n",
    "SEC.DISBURSED.AMOUNT\n",
    "SEC.CURRENT.BALANCE\n",
    "PRI.NO.OF.ACCTS\n",
    "PRI.ACTIVE.ACCTS\n",
    "PRI.OVERDUE.ACCTS\n",
    "PRI.CURRENT.BALANCE\n",
    "PRI.SANCTIONED.AMOUNT\n",
    "PRI.DISBURSED.AMOUNT\n",
    "'''\n",
    "\n",
    "test['PERFORM_CNS.SCORE'] = np.log1p(test['PERFORM_CNS.SCORE'])\n",
    "test['disbursed_amount'] = np.log1p(test['disbursed_amount'])\n",
    "test['asset_cost'] = np.log1p(test['asset_cost'])\n",
    "test['ltv'] = np.log1p(test['ltv'])\n",
    "test['PRIMARY.INSTAL.AMT'] = np.log1p(test['PRIMARY.INSTAL.AMT'])\n",
    "test['SEC.INSTAL.AMT'] = np.log1p(test['SEC.INSTAL.AMT'])\n",
    "test['SEC.NO.OF.ACCTS'] = np.log1p(test['SEC.NO.OF.ACCTS'])\n",
    "test['SEC.ACTIVE.ACCTS'] = np.log1p(test['SEC.ACTIVE.ACCTS'])\n",
    "test['SEC.OVERDUE.ACCTS'] = np.log1p(test['SEC.OVERDUE.ACCTS'])\n",
    "test['SEC.SANCTIONED.AMOUNT'] = np.log1p(test['SEC.SANCTIONED.AMOUNT'])\n",
    "test['SEC.DISBURSED.AMOUNT'] = np.log1p(test['SEC.DISBURSED.AMOUNT'])\n",
    "#test['SEC.CURRENT.BALANCE'] = np.log1p(test['SEC.CURRENT.BALANCE'])\n",
    "test['PRI.NO.OF.ACCTS'] = np.log1p(test['PRI.NO.OF.ACCTS'])\n",
    "test['PRI.ACTIVE.ACCTS'] = np.log1p(test['PRI.ACTIVE.ACCTS'])\n",
    "test['PRI.OVERDUE.ACCTS'] = np.log1p(test['PRI.OVERDUE.ACCTS'])\n",
    "#test['PRI.CURRENT.BALANCE'] = np.log1p(test['PRI.CURRENT.BALANCE'])\n",
    "#test['PRI.SANCTIONED.AMOUNT'] = np.log1p(test['PRI.SANCTIONED.AMOUNT'])\n",
    "test['PRI.DISBURSED.AMOUNT'] = np.log1p(test['PRI.DISBURSED.AMOUNT'])\n",
    "\n",
    "\n"
   ]
  },
  {
   "cell_type": "code",
   "execution_count": 43,
   "metadata": {},
   "outputs": [
    {
     "data": {
      "text/plain": [
       "<matplotlib.axes._subplots.AxesSubplot at 0x11bc29320>"
      ]
     },
     "execution_count": 43,
     "metadata": {},
     "output_type": "execute_result"
    },
    {
     "data": {
      "image/png": "[encoded data removed]",
      "text/plain": [
       "<Figure size 432x288 with 1 Axes>"
      ]
     },
     "metadata": {
      "needs_background": "light"
     },
     "output_type": "display_data"
    }
   ],
   "source": [
    "train.loc[train['Age'] <= 0, 'Age'] = 0\n",
    "test.loc[test['Age'] <= 0, 'Age'] = 0\n",
    "\n",
    "sns.distplot(train['Age'], color='orange')\n",
    "sns.distplot(test['Age'], color='blue')"
   ]
  },
  {
   "cell_type": "code",
   "execution_count": 44,
   "metadata": {},
   "outputs": [
    {
     "data": {
      "text/plain": [
       "Index(['UniqueID', 'disbursed_amount', 'asset_cost', 'ltv', 'branch_id',\n",
       "       'supplier_id', 'manufacturer_id', 'Current_pincode_ID', 'Date.of.Birth',\n",
       "       'Employment.Type', 'DisbursalDate', 'State_ID', 'Employee_code_ID',\n",
       "       'MobileNo_Avl_Flag', 'Aadhar_flag', 'PAN_flag', 'VoterID_flag',\n",
       "       'Driving_flag', 'Passport_flag', 'PERFORM_CNS.SCORE',\n",
       "       'PERFORM_CNS.SCORE.DESCRIPTION', 'PRI.NO.OF.ACCTS', 'PRI.ACTIVE.ACCTS',\n",
       "       'PRI.OVERDUE.ACCTS', 'PRI.CURRENT.BALANCE', 'PRI.SANCTIONED.AMOUNT',\n",
       "       'PRI.DISBURSED.AMOUNT', 'SEC.NO.OF.ACCTS', 'SEC.ACTIVE.ACCTS',\n",
       "       'SEC.OVERDUE.ACCTS', 'SEC.CURRENT.BALANCE', 'SEC.SANCTIONED.AMOUNT',\n",
       "       'SEC.DISBURSED.AMOUNT', 'PRIMARY.INSTAL.AMT', 'SEC.INSTAL.AMT',\n",
       "       'NEW.ACCTS.IN.LAST.SIX.MONTHS', 'DELINQUENT.ACCTS.IN.LAST.SIX.MONTHS',\n",
       "       'AVERAGE.ACCT.AGE', 'CREDIT.HISTORY.LENGTH', 'NO.OF_INQUIRIES',\n",
       "       'loan_default', 'Age', 'Days_Since_Disbursal',\n",
       "       'CREDIT.HISTORY.LENGTH_total_months', 'AVERAGE.ACCT.AGE_total_months'],\n",
       "      dtype='object')"
      ]
     },
     "execution_count": 44,
     "metadata": {},
     "output_type": "execute_result"
    }
   ],
   "source": [
    "train.columns"
   ]
  },
  {
   "cell_type": "code",
   "execution_count": 45,
   "metadata": {},
   "outputs": [],
   "source": [
    "## remove attributes : UniqueID, supplier_id, Current_pincode_ID, Employee_code_ID, Date.of.Birth, DisbursalDate\n",
    "\n",
    "y_train = train['loan_default']\n",
    "unique_id = test['UniqueID']\n",
    "\n",
    "train = train.drop(['UniqueID', 'supplier_id', 'Current_pincode_ID', 'Employee_code_ID', 'Date.of.Birth', 'DisbursalDate', 'AVERAGE.ACCT.AGE', 'CREDIT.HISTORY.LENGTH'], axis = 1)\n",
    "\n",
    "test = test.drop(['UniqueID', 'supplier_id', 'Current_pincode_ID', 'Employee_code_ID', 'Date.of.Birth', 'DisbursalDate', 'AVERAGE.ACCT.AGE', 'CREDIT.HISTORY.LENGTH'], axis = 1)\n",
    "\n",
    "\n"
   ]
  },
  {
   "cell_type": "code",
   "execution_count": 46,
   "metadata": {},
   "outputs": [
    {
     "data": {
      "text/plain": [
       "0    182543\n",
       "1     50611\n",
       "Name: loan_default, dtype: int64"
      ]
     },
     "execution_count": 46,
     "metadata": {},
     "output_type": "execute_result"
    }
   ],
   "source": [
    "## Class Imbalance\n",
    "\n",
    "y_train.value_counts()"
   ]
  },
  {
   "cell_type": "code",
   "execution_count": 48,
   "metadata": {},
   "outputs": [],
   "source": [
    "import lightgbm\n",
    "param = {\n",
    "    'bagging_freq': 5,\n",
    "    'bagging_fraction': 0.335,\n",
    "    'boost_from_average':'false',\n",
    "    'boost': 'gbdt',\n",
    "    'feature_fraction': 0.041,\n",
    "    'learning_rate': 0.0083,\n",
    "    'max_depth': -1,\n",
    "    'metric':'auc',\n",
    "    'min_data_in_leaf': 80,\n",
    "    'min_sum_hessian_in_leaf': 10.0,\n",
    "    'num_leaves': 13,\n",
    "    'num_threads': 8,\n",
    "    'tree_learner': 'serial',\n",
    "    'objective': 'binary', \n",
    "    'verbosity': -1\n",
    "}"
   ]
  },
  {
   "cell_type": "code",
   "execution_count": 54,
   "metadata": {},
   "outputs": [],
   "source": [
    "from sklearn.preprocessing import StandardScaler\n",
    "\n",
    "sc = StandardScaler()\n",
    "train_std = sc.fit_transform(train[train.columns.difference(['loan_default'])])\n",
    "\n",
    "x_test = sc.transform(test)"
   ]
  },
  {
   "cell_type": "code",
   "execution_count": 55,
   "metadata": {},
   "outputs": [],
   "source": [
    "train_std = pd.DataFrame(train_std)\n",
    "test_std = pd.DataFrame(x_test)\n",
    "\n",
    "train_std['loan_default'] = y_train"
   ]
  },
  {
   "cell_type": "code",
   "execution_count": 57,
   "metadata": {},
   "outputs": [
    {
     "data": {
      "text/plain": [
       "0    182543\n",
       "1     50611\n",
       "Name: loan_default, dtype: int64"
      ]
     },
     "execution_count": 57,
     "metadata": {},
     "output_type": "execute_result"
    }
   ],
   "source": [
    "## Resampling: \n",
    "\n",
    "train_pos = train_std[train_std['loan_default'] == 1]\n",
    "train_neg = train_std[train_std['loan_default'] == 0]\n",
    "\n",
    "train_std['loan_default'].value_counts()\n"
   ]
  },
  {
   "cell_type": "code",
   "execution_count": 59,
   "metadata": {},
   "outputs": [
    {
     "data": {
      "text/plain": [
       "1    182543\n",
       "0    182543\n",
       "Name: loan_default, dtype: int64"
      ]
     },
     "execution_count": 59,
     "metadata": {},
     "output_type": "execute_result"
    }
   ],
   "source": [
    "## minority class - positive class\n",
    "from sklearn.utils import resample\n",
    "\n",
    "train_pos_upsampled = resample(train_pos, \n",
    "                                 replace=True,     # sample with replacement\n",
    "                                 n_samples=len(train_neg),    # to match majority class\n",
    "                                 random_state=42) \n",
    " \n",
    "# Combine majority class with upsampled minority class\n",
    "train_upsampled = pd.concat([train_neg, train_pos_upsampled])\n",
    "\n",
    "train_upsampled['loan_default'].value_counts()\n"
   ]
  },
  {
   "cell_type": "code",
   "execution_count": 64,
   "metadata": {},
   "outputs": [],
   "source": [
    "def augment(train,num_n=1,num_p=2):\n",
    "    newtrain=[train]\n",
    "    \n",
    "    n=train[train.loan_default==0]\n",
    "    for i in range(num_n):\n",
    "        newtrain.append(n.apply(lambda x:x.values.take(np.random.permutation(len(n)))))\n",
    "    \n",
    "    for i in range(num_p):\n",
    "        p=train[train.loan_default>0]\n",
    "        newtrain.append(p.apply(lambda x:x.values.take(np.random.permutation(len(p)))))\n",
    "    return pd.concat(newtrain)"
   ]
  },
  {
   "cell_type": "code",
   "execution_count": 65,
   "metadata": {},
   "outputs": [],
   "source": [
    "x = augment(train_upsampled)"
   ]
  },
  {
   "cell_type": "code",
   "execution_count": 66,
   "metadata": {},
   "outputs": [
    {
     "name": "stdout",
     "output_type": "stream",
     "text": [
      "Training until validation scores don't improve for 3000 rounds.\n",
      "[5000]\ttraining's auc: 0.683334\n",
      "[10000]\ttraining's auc: 0.687647\n",
      "[15000]\ttraining's auc: 0.690178\n",
      "Did not meet early stopping. Best iteration is:\n",
      "[14999]\ttraining's auc: 0.690178\n"
     ]
    }
   ],
   "source": [
    "train_data = lightgbm.Dataset(x.drop(['loan_default'], axis=1), label=x.loan_default)\n",
    "\n",
    "clf = lightgbm.train(param, train_data, 15000, early_stopping_rounds = 3000, valid_sets = [train_data], verbose_eval=5000)\n",
    "\n",
    "y_pred_lgbm = clf.predict(x_test, num_iteration=clf.best_iteration)\n",
    "\n"
   ]
  },
  {
   "cell_type": "code",
   "execution_count": 68,
   "metadata": {},
   "outputs": [],
   "source": [
    "#predictions = y_pred_rf*0.5 + y_pred_lgb*0.5\n",
    "\n",
    "submission = pd.DataFrame({'UniqueID': unique_id,'loan_default': y_pred_lgbm})\n",
    "\n",
    "submission.to_csv('submission.csv',index=False)\n"
   ]
  },
  {
   "cell_type": "code",
   "execution_count": null,
   "metadata": {},
   "outputs": [],
   "source": []
  }
 ],
 "metadata": {
  "kernelspec": {
   "display_name": "Python 3",
   "language": "python",
   "name": "python3"
  },
  "language_info": {
   "codemirror_mode": {
    "name": "ipython",
    "version": 3
   },
   "file_extension": ".py",
   "mimetype": "text/x-python",
   "name": "python",
   "nbconvert_exporter": "python",
   "pygments_lexer": "ipython3",
   "version": "3.7.2"
  }
 },
 "nbformat": 4,
 "nbformat_minor": 2
}
