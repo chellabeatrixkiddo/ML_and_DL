{
 "cells": [
  {
   "cell_type": "code",
   "execution_count": 1,
   "metadata": {},
   "outputs": [],
   "source": [
    "import pandas as pd\n",
    "import numpy as np\n",
    "import matplotlib.pyplot as plt\n",
    "import seaborn as sns\n",
    "%matplotlib inline\n",
    "\n",
    "import warnings\n",
    "warnings.filterwarnings('ignore')\n",
    "\n",
    "from sklearn.preprocessing import StandardScaler"
   ]
  },
  {
   "cell_type": "code",
   "execution_count": 2,
   "metadata": {},
   "outputs": [],
   "source": [
    "train = pd.read_csv(\"train.csv\", parse_dates=['DisbursalDate', 'Date.of.Birth'])\n",
    "test = pd.read_csv(\"test.csv\", parse_dates=['DisbursalDate', 'Date.of.Birth'])\n",
    "\n",
    "submission = pd.read_csv(\"sample_submission.csv\")"
   ]
  },
  {
   "cell_type": "code",
   "execution_count": 3,
   "metadata": {},
   "outputs": [
    {
     "data": {
      "text/plain": [
       "UniqueID                                  0\n",
       "disbursed_amount                          0\n",
       "asset_cost                                0\n",
       "ltv                                       0\n",
       "branch_id                                 0\n",
       "supplier_id                               0\n",
       "manufacturer_id                           0\n",
       "Current_pincode_ID                        0\n",
       "Date.of.Birth                             0\n",
       "Employment.Type                        7661\n",
       "DisbursalDate                             0\n",
       "State_ID                                  0\n",
       "Employee_code_ID                          0\n",
       "MobileNo_Avl_Flag                         0\n",
       "Aadhar_flag                               0\n",
       "PAN_flag                                  0\n",
       "VoterID_flag                              0\n",
       "Driving_flag                              0\n",
       "Passport_flag                             0\n",
       "PERFORM_CNS.SCORE                         0\n",
       "PERFORM_CNS.SCORE.DESCRIPTION             0\n",
       "PRI.NO.OF.ACCTS                           0\n",
       "PRI.ACTIVE.ACCTS                          0\n",
       "PRI.OVERDUE.ACCTS                         0\n",
       "PRI.CURRENT.BALANCE                       0\n",
       "PRI.SANCTIONED.AMOUNT                     0\n",
       "PRI.DISBURSED.AMOUNT                      0\n",
       "SEC.NO.OF.ACCTS                           0\n",
       "SEC.ACTIVE.ACCTS                          0\n",
       "SEC.OVERDUE.ACCTS                         0\n",
       "SEC.CURRENT.BALANCE                       0\n",
       "SEC.SANCTIONED.AMOUNT                     0\n",
       "SEC.DISBURSED.AMOUNT                      0\n",
       "PRIMARY.INSTAL.AMT                        0\n",
       "SEC.INSTAL.AMT                            0\n",
       "NEW.ACCTS.IN.LAST.SIX.MONTHS              0\n",
       "DELINQUENT.ACCTS.IN.LAST.SIX.MONTHS       0\n",
       "AVERAGE.ACCT.AGE                          0\n",
       "CREDIT.HISTORY.LENGTH                     0\n",
       "NO.OF_INQUIRIES                           0\n",
       "loan_default                              0\n",
       "dtype: int64"
      ]
     },
     "execution_count": 3,
     "metadata": {},
     "output_type": "execute_result"
    }
   ],
   "source": [
    "train.isnull().sum()"
   ]
  },
  {
   "cell_type": "code",
   "execution_count": 4,
   "metadata": {},
   "outputs": [
    {
     "data": {
      "text/plain": [
       "UniqueID                                        int64\n",
       "disbursed_amount                                int64\n",
       "asset_cost                                      int64\n",
       "ltv                                           float64\n",
       "branch_id                                       int64\n",
       "supplier_id                                     int64\n",
       "manufacturer_id                                 int64\n",
       "Current_pincode_ID                              int64\n",
       "Date.of.Birth                          datetime64[ns]\n",
       "Employment.Type                                object\n",
       "DisbursalDate                          datetime64[ns]\n",
       "State_ID                                        int64\n",
       "Employee_code_ID                                int64\n",
       "MobileNo_Avl_Flag                               int64\n",
       "Aadhar_flag                                     int64\n",
       "PAN_flag                                        int64\n",
       "VoterID_flag                                    int64\n",
       "Driving_flag                                    int64\n",
       "Passport_flag                                   int64\n",
       "PERFORM_CNS.SCORE                               int64\n",
       "PERFORM_CNS.SCORE.DESCRIPTION                  object\n",
       "PRI.NO.OF.ACCTS                                 int64\n",
       "PRI.ACTIVE.ACCTS                                int64\n",
       "PRI.OVERDUE.ACCTS                               int64\n",
       "PRI.CURRENT.BALANCE                             int64\n",
       "PRI.SANCTIONED.AMOUNT                           int64\n",
       "PRI.DISBURSED.AMOUNT                            int64\n",
       "SEC.NO.OF.ACCTS                                 int64\n",
       "SEC.ACTIVE.ACCTS                                int64\n",
       "SEC.OVERDUE.ACCTS                               int64\n",
       "SEC.CURRENT.BALANCE                             int64\n",
       "SEC.SANCTIONED.AMOUNT                           int64\n",
       "SEC.DISBURSED.AMOUNT                            int64\n",
       "PRIMARY.INSTAL.AMT                              int64\n",
       "SEC.INSTAL.AMT                                  int64\n",
       "NEW.ACCTS.IN.LAST.SIX.MONTHS                    int64\n",
       "DELINQUENT.ACCTS.IN.LAST.SIX.MONTHS             int64\n",
       "AVERAGE.ACCT.AGE                               object\n",
       "CREDIT.HISTORY.LENGTH                          object\n",
       "NO.OF_INQUIRIES                                 int64\n",
       "loan_default                                    int64\n",
       "dtype: object"
      ]
     },
     "execution_count": 4,
     "metadata": {},
     "output_type": "execute_result"
    }
   ],
   "source": [
    "train.dtypes"
   ]
  },
  {
   "cell_type": "code",
   "execution_count": 5,
   "metadata": {
    "scrolled": true
   },
   "outputs": [],
   "source": [
    "import datetime\n",
    "\n",
    "train['Date.of.Birth'] = pd.to_datetime(train['Date.of.Birth'])\n",
    "train['DisbursalDate'] = pd.to_datetime(train['DisbursalDate'])\n",
    "\n",
    "now = datetime.datetime.now()\n",
    "train['Age'] = ((now - train['Date.of.Birth'])/365).dt.days\n",
    "\n"
   ]
  },
  {
   "cell_type": "code",
   "execution_count": 6,
   "metadata": {},
   "outputs": [],
   "source": [
    "delta = (now - train['DisbursalDate'])\n",
    "train['Days_Since_Disbursal'] = delta.dt.days"
   ]
  },
  {
   "cell_type": "code",
   "execution_count": 7,
   "metadata": {},
   "outputs": [],
   "source": [
    "train['CREDIT.HISTORY.LENGTH_yr'] = train['CREDIT.HISTORY.LENGTH'].apply(lambda x: x.split(' ')[0])\n",
    "train['CREDIT.HISTORY.LENGTH_yr'] = train['CREDIT.HISTORY.LENGTH_yr'].apply(lambda x: x.split('yrs')[0])\n",
    "\n",
    "train['CREDIT.HISTORY.LENGTH_mon'] = train['CREDIT.HISTORY.LENGTH'].apply(lambda x: x.split(' ')[1])\n",
    "train['CREDIT.HISTORY.LENGTH_mon'] = train['CREDIT.HISTORY.LENGTH_mon'].apply(lambda x: x.split('mon')[0])\n",
    "\n",
    "train['CREDIT.HISTORY.LENGTH_total_months'] = (train['CREDIT.HISTORY.LENGTH_yr'].astype(int))*12 + train['CREDIT.HISTORY.LENGTH_mon'].astype(int)\n",
    "train = train.drop(['CREDIT.HISTORY.LENGTH_yr', 'CREDIT.HISTORY.LENGTH_mon'], axis = 1)\n",
    "\n"
   ]
  },
  {
   "cell_type": "code",
   "execution_count": 8,
   "metadata": {},
   "outputs": [],
   "source": [
    "\n",
    "train['AVERAGE.ACCT.AGE_yr'] = train['AVERAGE.ACCT.AGE'].apply(lambda x: x.split(' ')[0])\n",
    "train['AVERAGE.ACCT.AGE_yr'] = train['AVERAGE.ACCT.AGE_yr'].apply(lambda x: x.split('yrs')[0])\n",
    "\n",
    "train['AVERAGE.ACCT.AGE_mon'] = train['AVERAGE.ACCT.AGE'].apply(lambda x: x.split(' ')[1])\n",
    "train['AVERAGE.ACCT.AGE_mon'] = train['AVERAGE.ACCT.AGE_mon'].apply(lambda x: x.split('mon')[0])\n",
    "\n",
    "train['AVERAGE.ACCT.AGE_total_months'] = (train['AVERAGE.ACCT.AGE_yr'].astype(int))*12 + train['AVERAGE.ACCT.AGE_mon'].astype(int)\n",
    "\n",
    "train = train.drop(['AVERAGE.ACCT.AGE_yr', 'AVERAGE.ACCT.AGE_mon'], axis = 1)\n"
   ]
  },
  {
   "cell_type": "code",
   "execution_count": 9,
   "metadata": {},
   "outputs": [
    {
     "data": {
      "text/plain": [
       "0    129785\n",
       "5     50728\n",
       "4     18294\n",
       "3     12412\n",
       "2     12025\n",
       "1      9910\n",
       "Name: PERFORM_CNS.SCORE.DESCRIPTION, dtype: int64"
      ]
     },
     "execution_count": 9,
     "metadata": {},
     "output_type": "execute_result"
    }
   ],
   "source": [
    "## Label Encoding for PERFORM_CNS.SCORE.DESCRIPTION\n",
    "\n",
    "train['PERFORM_CNS.SCORE.DESCRIPTION'] = train['PERFORM_CNS.SCORE.DESCRIPTION'].replace('No Bureau History Available', 0)\n",
    "train['PERFORM_CNS.SCORE.DESCRIPTION'] = train['PERFORM_CNS.SCORE.DESCRIPTION'].replace('Not Scored: Sufficient History Not Available', 0)\n",
    "train['PERFORM_CNS.SCORE.DESCRIPTION'] = train['PERFORM_CNS.SCORE.DESCRIPTION'].replace('Not Scored: Not Enough Info available on the customer', 0)\n",
    "train['PERFORM_CNS.SCORE.DESCRIPTION'] = train['PERFORM_CNS.SCORE.DESCRIPTION'].replace('Not Scored: No Activity seen on the customer (Inactive)',0)\n",
    "train['PERFORM_CNS.SCORE.DESCRIPTION'] = train['PERFORM_CNS.SCORE.DESCRIPTION'].replace('Not Scored: No Updates available in last 36 months', 0)\n",
    "train['PERFORM_CNS.SCORE.DESCRIPTION'] = train['PERFORM_CNS.SCORE.DESCRIPTION'].replace('Not Scored: Only a Guarantor', 0)\n",
    "train['PERFORM_CNS.SCORE.DESCRIPTION'] = train['PERFORM_CNS.SCORE.DESCRIPTION'].replace('Not Scored: More than 50 active Accounts found',0)\n",
    "train['PERFORM_CNS.SCORE.DESCRIPTION'] = train['PERFORM_CNS.SCORE.DESCRIPTION'].replace('M-Very High Risk', 1)\n",
    "train['PERFORM_CNS.SCORE.DESCRIPTION'] = train['PERFORM_CNS.SCORE.DESCRIPTION'].replace('L-Very High Risk', 1)\n",
    "train['PERFORM_CNS.SCORE.DESCRIPTION'] = train['PERFORM_CNS.SCORE.DESCRIPTION'].replace('K-High Risk', 2)\n",
    "train['PERFORM_CNS.SCORE.DESCRIPTION'] = train['PERFORM_CNS.SCORE.DESCRIPTION'].replace('J-High Risk', 2)\n",
    "train['PERFORM_CNS.SCORE.DESCRIPTION'] = train['PERFORM_CNS.SCORE.DESCRIPTION'].replace('I-Medium Risk', 3)\n",
    "train['PERFORM_CNS.SCORE.DESCRIPTION'] = train['PERFORM_CNS.SCORE.DESCRIPTION'].replace('H-Medium Risk', 3)\n",
    "train['PERFORM_CNS.SCORE.DESCRIPTION'] = train['PERFORM_CNS.SCORE.DESCRIPTION'].replace('G-Low Risk', 4)\n",
    "train['PERFORM_CNS.SCORE.DESCRIPTION'] = train['PERFORM_CNS.SCORE.DESCRIPTION'].replace('F-Low Risk', 4)\n",
    "train['PERFORM_CNS.SCORE.DESCRIPTION'] = train['PERFORM_CNS.SCORE.DESCRIPTION'].replace('E-Low Risk', 4)\n",
    "train['PERFORM_CNS.SCORE.DESCRIPTION'] = train['PERFORM_CNS.SCORE.DESCRIPTION'].replace('D-Very Low Risk', 5)\n",
    "train['PERFORM_CNS.SCORE.DESCRIPTION'] = train['PERFORM_CNS.SCORE.DESCRIPTION'].replace('C-Very Low Risk', 5)\n",
    "train['PERFORM_CNS.SCORE.DESCRIPTION'] = train['PERFORM_CNS.SCORE.DESCRIPTION'].replace('B-Very Low Risk', 5)\n",
    "train['PERFORM_CNS.SCORE.DESCRIPTION'] = train['PERFORM_CNS.SCORE.DESCRIPTION'].replace('A-Very Low Risk', 5)\n",
    "\n",
    "# checing the values in bureau score\n",
    "train['PERFORM_CNS.SCORE.DESCRIPTION'].value_counts()\n",
    "\n",
    "\n"
   ]
  },
  {
   "cell_type": "code",
   "execution_count": 10,
   "metadata": {},
   "outputs": [],
   "source": [
    "train['branch_id'] = train['branch_id'].astype('category')\n",
    "train['manufacturer_id'] = train['manufacturer_id'].astype('category')\n",
    "train['State_ID'] = train['State_ID'].astype('category')\n",
    "\n",
    "from sklearn.preprocessing import LabelEncoder\n",
    "\n",
    "le = LabelEncoder()\n",
    "train['branch_id'] = le.fit_transform(train['branch_id'])\n",
    "train['manufacturer_id'] = le.fit_transform(train['manufacturer_id'])\n",
    "train['State_ID'] = le.fit_transform(train['State_ID'])\n"
   ]
  },
  {
   "cell_type": "code",
   "execution_count": 11,
   "metadata": {},
   "outputs": [],
   "source": [
    "train['PRI.CURRENT.BALANCE'].fillna(train['PRI.CURRENT.BALANCE'].mean(), inplace = True)\n",
    "train['PRI.SANCTIONED.AMOUNT'].fillna(train['PRI.SANCTIONED.AMOUNT'].mean(), inplace = True)\n",
    "train['SEC.CURRENT.BALANCE'].fillna(train['SEC.CURRENT.BALANCE'].mean(), inplace = True)"
   ]
  },
  {
   "cell_type": "code",
   "execution_count": 12,
   "metadata": {},
   "outputs": [],
   "source": [
    "train['PERFORM_CNS.SCORE'] = np.log1p(train['PERFORM_CNS.SCORE'])\n",
    "train['disbursed_amount'] = np.log1p(train['disbursed_amount'])\n",
    "train['asset_cost'] = np.log1p(train['asset_cost'])\n",
    "train['ltv'] = np.log1p(train['ltv'])\n",
    "train['PRIMARY.INSTAL.AMT'] = np.log1p(train['PRIMARY.INSTAL.AMT'])\n",
    "train['SEC.INSTAL.AMT'] = np.log1p(train['SEC.INSTAL.AMT'])\n",
    "train['SEC.NO.OF.ACCTS'] = np.log1p(train['SEC.NO.OF.ACCTS'])\n",
    "train['SEC.ACTIVE.ACCTS'] = np.log1p(train['SEC.ACTIVE.ACCTS'])\n",
    "train['SEC.OVERDUE.ACCTS'] = np.log1p(train['SEC.OVERDUE.ACCTS'])\n",
    "train['SEC.SANCTIONED.AMOUNT'] = np.log1p(train['SEC.SANCTIONED.AMOUNT'])\n",
    "train['SEC.DISBURSED.AMOUNT'] = np.log1p(train['SEC.DISBURSED.AMOUNT'])\n",
    "#train['SEC.CURRENT.BALANCE'] = np.log1p(train['SEC.CURRENT.BALANCE'])\n",
    "train['PRI.NO.OF.ACCTS'] = np.log1p(train['PRI.NO.OF.ACCTS'])\n",
    "train['PRI.ACTIVE.ACCTS'] = np.log1p(train['PRI.ACTIVE.ACCTS'])\n",
    "train['PRI.OVERDUE.ACCTS'] = np.log1p(train['PRI.OVERDUE.ACCTS'])\n",
    "#train['PRI.CURRENT.BALANCE'] = np.log1p(train['PRI.CURRENT.BALANCE'])\n",
    "#train['PRI.SANCTIONED.AMOUNT'] = np.log1p(train['PRI.SANCTIONED.AMOUNT'])\n",
    "train['PRI.DISBURSED.AMOUNT'] = np.log1p(train['PRI.DISBURSED.AMOUNT'])\n",
    "\n"
   ]
  },
  {
   "cell_type": "code",
   "execution_count": 13,
   "metadata": {},
   "outputs": [
    {
     "name": "stdout",
     "output_type": "stream",
     "text": [
      "9839 112392\n"
     ]
    },
    {
     "data": {
      "image/png": "[encoded data removed]",
      "text/plain": [
       "<Figure size 432x288 with 1 Axes>"
      ]
     },
     "metadata": {
      "needs_background": "light"
     },
     "output_type": "display_data"
    }
   ],
   "source": [
    "##Date.of.Birth - derive Age from this and drop this \n",
    "\n",
    "test['Date.of.Birth'] = pd.to_datetime(test['Date.of.Birth'])\n",
    "\n",
    "now = datetime.datetime.now()\n",
    "test['Age'] = ((now - test['Date.of.Birth'])/365).dt.days\n",
    "\n",
    "sns.distplot(test['Age'],  color = 'orange')\n",
    "\n",
    "print(len(test[test['Age'] <= 0]), len(test))"
   ]
  },
  {
   "cell_type": "code",
   "execution_count": 14,
   "metadata": {},
   "outputs": [
    {
     "name": "stdout",
     "output_type": "stream",
     "text": [
      "0    401\n",
      "1    147\n",
      "2    138\n",
      "Name: Days_Since_Disbursal, dtype: int64\n"
     ]
    },
    {
     "data": {
      "text/plain": [
       "<matplotlib.axes._subplots.AxesSubplot at 0x11fcb1080>"
      ]
     },
     "execution_count": 14,
     "metadata": {},
     "output_type": "execute_result"
    },
    {
     "data": {
      "image/png": "[encoded data removed]",
      "text/plain": [
       "<Figure size 432x288 with 1 Axes>"
      ]
     },
     "metadata": {
      "needs_background": "light"
     },
     "output_type": "display_data"
    }
   ],
   "source": [
    "##DisbursalDate - derive days elapsed since loan disbursal\n",
    "\n",
    "test['DisbursalDate'] = pd.to_datetime(test['DisbursalDate'])\n",
    "delta = (now - test['DisbursalDate'])\n",
    "test['Days_Since_Disbursal'] = delta.dt.days\n",
    "\n",
    "print(test['Days_Since_Disbursal'][:3])\n",
    "\n",
    "sns.distplot(test['Days_Since_Disbursal'], color='blue')\n"
   ]
  },
  {
   "cell_type": "code",
   "execution_count": 15,
   "metadata": {},
   "outputs": [
    {
     "data": {
      "text/plain": [
       "0    63017\n",
       "5    24993\n",
       "4     8070\n",
       "3     5990\n",
       "2     5642\n",
       "1     4680\n",
       "Name: PERFORM_CNS.SCORE.DESCRIPTION, dtype: int64"
      ]
     },
     "execution_count": 15,
     "metadata": {},
     "output_type": "execute_result"
    }
   ],
   "source": [
    "##PERFORM_CNS.SCORE.DESCRIPTION - label encode categorical data\n",
    "\n",
    "test['PERFORM_CNS.SCORE.DESCRIPTION'].value_counts()\n",
    "\n",
    "## Label Encoding for PERFORM_CNS.SCORE.DESCRIPTION\n",
    "\n",
    "test['PERFORM_CNS.SCORE.DESCRIPTION'] = test['PERFORM_CNS.SCORE.DESCRIPTION'].replace('No Bureau History Available', 0)\n",
    "test['PERFORM_CNS.SCORE.DESCRIPTION'] = test['PERFORM_CNS.SCORE.DESCRIPTION'].replace('Not Scored: Sufficient History Not Available', 0)\n",
    "test['PERFORM_CNS.SCORE.DESCRIPTION'] = test['PERFORM_CNS.SCORE.DESCRIPTION'].replace('Not Scored: Not Enough Info available on the customer', 0)\n",
    "test['PERFORM_CNS.SCORE.DESCRIPTION'] = test['PERFORM_CNS.SCORE.DESCRIPTION'].replace('Not Scored: No Activity seen on the customer (Inactive)',0)\n",
    "test['PERFORM_CNS.SCORE.DESCRIPTION'] = test['PERFORM_CNS.SCORE.DESCRIPTION'].replace('Not Scored: No Updates available in last 36 months', 0)\n",
    "test['PERFORM_CNS.SCORE.DESCRIPTION'] = test['PERFORM_CNS.SCORE.DESCRIPTION'].replace('Not Scored: Only a Guarantor', 0)\n",
    "test['PERFORM_CNS.SCORE.DESCRIPTION'] = test['PERFORM_CNS.SCORE.DESCRIPTION'].replace('Not Scored: More than 50 active Accounts found',0)\n",
    "test['PERFORM_CNS.SCORE.DESCRIPTION'] = test['PERFORM_CNS.SCORE.DESCRIPTION'].replace('M-Very High Risk', 1)\n",
    "test['PERFORM_CNS.SCORE.DESCRIPTION'] = test['PERFORM_CNS.SCORE.DESCRIPTION'].replace('L-Very High Risk', 1)\n",
    "test['PERFORM_CNS.SCORE.DESCRIPTION'] = test['PERFORM_CNS.SCORE.DESCRIPTION'].replace('K-High Risk', 2)\n",
    "test['PERFORM_CNS.SCORE.DESCRIPTION'] = test['PERFORM_CNS.SCORE.DESCRIPTION'].replace('J-High Risk', 2)\n",
    "test['PERFORM_CNS.SCORE.DESCRIPTION'] = test['PERFORM_CNS.SCORE.DESCRIPTION'].replace('I-Medium Risk', 3)\n",
    "test['PERFORM_CNS.SCORE.DESCRIPTION'] = test['PERFORM_CNS.SCORE.DESCRIPTION'].replace('H-Medium Risk', 3)\n",
    "test['PERFORM_CNS.SCORE.DESCRIPTION'] = test['PERFORM_CNS.SCORE.DESCRIPTION'].replace('G-Low Risk', 4)\n",
    "test['PERFORM_CNS.SCORE.DESCRIPTION'] = test['PERFORM_CNS.SCORE.DESCRIPTION'].replace('F-Low Risk', 4)\n",
    "test['PERFORM_CNS.SCORE.DESCRIPTION'] = test['PERFORM_CNS.SCORE.DESCRIPTION'].replace('E-Low Risk', 4)\n",
    "test['PERFORM_CNS.SCORE.DESCRIPTION'] = test['PERFORM_CNS.SCORE.DESCRIPTION'].replace('D-Very Low Risk', 5)\n",
    "test['PERFORM_CNS.SCORE.DESCRIPTION'] = test['PERFORM_CNS.SCORE.DESCRIPTION'].replace('C-Very Low Risk', 5)\n",
    "test['PERFORM_CNS.SCORE.DESCRIPTION'] = test['PERFORM_CNS.SCORE.DESCRIPTION'].replace('B-Very Low Risk', 5)\n",
    "test['PERFORM_CNS.SCORE.DESCRIPTION'] = test['PERFORM_CNS.SCORE.DESCRIPTION'].replace('A-Very Low Risk', 5)\n",
    "\n",
    "# checing the values in bureau score\n",
    "test['PERFORM_CNS.SCORE.DESCRIPTION'].value_counts()\n",
    "\n",
    "\n"
   ]
  },
  {
   "cell_type": "code",
   "execution_count": 16,
   "metadata": {},
   "outputs": [],
   "source": [
    "##AVERAGE.ACCT.AGE - extract the #yrs and #months as total # months\n",
    "\n",
    "test['AVERAGE.ACCT.AGE_yr'] = test['AVERAGE.ACCT.AGE'].apply(lambda x: x.split(' ')[0])\n",
    "test['AVERAGE.ACCT.AGE_yr'] = test['AVERAGE.ACCT.AGE_yr'].apply(lambda x: x.split('yrs')[0])\n",
    "\n",
    "test['AVERAGE.ACCT.AGE_mon'] = test['AVERAGE.ACCT.AGE'].apply(lambda x: x.split(' ')[1])\n",
    "test['AVERAGE.ACCT.AGE_mon'] = test['AVERAGE.ACCT.AGE_mon'].apply(lambda x: x.split('mon')[0])\n",
    "\n",
    "test['AVERAGE.ACCT.AGE_total_months'] = (test['AVERAGE.ACCT.AGE_yr'].astype(int))*12 + test['AVERAGE.ACCT.AGE_mon'].astype(int)\n",
    "\n",
    "test = test.drop(['AVERAGE.ACCT.AGE_yr', 'AVERAGE.ACCT.AGE_mon'], axis = 1)\n",
    "\n"
   ]
  },
  {
   "cell_type": "code",
   "execution_count": 17,
   "metadata": {},
   "outputs": [],
   "source": [
    "##CREDIT.HISTORY.LENGTH  - extract the #yrs and #months as total # months\n",
    "\n",
    "test['CREDIT.HISTORY.LENGTH_yr'] = test['CREDIT.HISTORY.LENGTH'].apply(lambda x: x.split(' ')[0])\n",
    "test['CREDIT.HISTORY.LENGTH_yr'] = test['CREDIT.HISTORY.LENGTH_yr'].apply(lambda x: x.split('yrs')[0])\n",
    "\n",
    "test['CREDIT.HISTORY.LENGTH_mon'] = test['CREDIT.HISTORY.LENGTH'].apply(lambda x: x.split(' ')[1])\n",
    "test['CREDIT.HISTORY.LENGTH_mon'] = test['CREDIT.HISTORY.LENGTH_mon'].apply(lambda x: x.split('mon')[0])\n",
    "\n",
    "test['CREDIT.HISTORY.LENGTH_total_months'] = (test['CREDIT.HISTORY.LENGTH_yr'].astype(int))*12 + test['CREDIT.HISTORY.LENGTH_mon'].astype(int)\n",
    "test = test.drop(['CREDIT.HISTORY.LENGTH_yr', 'CREDIT.HISTORY.LENGTH_mon'], axis = 1)\n",
    "\n"
   ]
  },
  {
   "cell_type": "code",
   "execution_count": 18,
   "metadata": {},
   "outputs": [],
   "source": [
    "##branch_id  - convert to category and label encode\n",
    "test['branch_id'] = test['branch_id'].astype('category')\n",
    "le = LabelEncoder()\n",
    "test['branch_id'] = le.fit_transform(test['branch_id'])\n",
    "\n",
    "##manufacturer_id  - convert to category and label encode\n",
    "test['manufacturer_id'] = test['manufacturer_id'].astype('category')\n",
    "test['manufacturer_id'] = le.fit_transform(test['manufacturer_id'])\n",
    "\n",
    "##State_ID - convert to category and label encode\n",
    "test['State_ID'] = test['State_ID'].astype('category')\n",
    "test['State_ID'] = le.fit_transform(test['State_ID'])\n"
   ]
  },
  {
   "cell_type": "code",
   "execution_count": 19,
   "metadata": {},
   "outputs": [],
   "source": [
    "\n",
    "test['PRI.CURRENT.BALANCE'].fillna(test['PRI.CURRENT.BALANCE'].mean(), inplace = True)\n",
    "test['PRI.SANCTIONED.AMOUNT'].fillna(test['PRI.SANCTIONED.AMOUNT'].mean(), inplace = True)\n",
    "test['SEC.CURRENT.BALANCE'].fillna(test['SEC.CURRENT.BALANCE'].mean(), inplace = True)\n"
   ]
  },
  {
   "cell_type": "code",
   "execution_count": 20,
   "metadata": {},
   "outputs": [],
   "source": [
    "## Log transform:\n",
    "'''\n",
    "PERFORM_CNS.SCORE\n",
    "disbursed_amount\n",
    "asset_cost\n",
    "ltv\n",
    "PRIMARY.INSTAL.AMT\n",
    "SEC.INSTAL.AMT\n",
    "SEC.NO.OF.ACCTS\n",
    "SEC.ACTIVE.ACCTS\n",
    "SEC.OVERDUE.ACCTS\n",
    "SEC.SANCTIONED.AMOUNT\n",
    "SEC.DISBURSED.AMOUNT\n",
    "SEC.CURRENT.BALANCE\n",
    "PRI.NO.OF.ACCTS\n",
    "PRI.ACTIVE.ACCTS\n",
    "PRI.OVERDUE.ACCTS\n",
    "PRI.CURRENT.BALANCE\n",
    "PRI.SANCTIONED.AMOUNT\n",
    "PRI.DISBURSED.AMOUNT\n",
    "'''\n",
    "\n",
    "test['PERFORM_CNS.SCORE'] = np.log1p(test['PERFORM_CNS.SCORE'])\n",
    "test['disbursed_amount'] = np.log1p(test['disbursed_amount'])\n",
    "test['asset_cost'] = np.log1p(test['asset_cost'])\n",
    "test['ltv'] = np.log1p(test['ltv'])\n",
    "test['PRIMARY.INSTAL.AMT'] = np.log1p(test['PRIMARY.INSTAL.AMT'])\n",
    "test['SEC.INSTAL.AMT'] = np.log1p(test['SEC.INSTAL.AMT'])\n",
    "test['SEC.NO.OF.ACCTS'] = np.log1p(test['SEC.NO.OF.ACCTS'])\n",
    "test['SEC.ACTIVE.ACCTS'] = np.log1p(test['SEC.ACTIVE.ACCTS'])\n",
    "test['SEC.OVERDUE.ACCTS'] = np.log1p(test['SEC.OVERDUE.ACCTS'])\n",
    "test['SEC.SANCTIONED.AMOUNT'] = np.log1p(test['SEC.SANCTIONED.AMOUNT'])\n",
    "test['SEC.DISBURSED.AMOUNT'] = np.log1p(test['SEC.DISBURSED.AMOUNT'])\n",
    "#test['SEC.CURRENT.BALANCE'] = np.log1p(test['SEC.CURRENT.BALANCE'])\n",
    "test['PRI.NO.OF.ACCTS'] = np.log1p(test['PRI.NO.OF.ACCTS'])\n",
    "test['PRI.ACTIVE.ACCTS'] = np.log1p(test['PRI.ACTIVE.ACCTS'])\n",
    "test['PRI.OVERDUE.ACCTS'] = np.log1p(test['PRI.OVERDUE.ACCTS'])\n",
    "#test['PRI.CURRENT.BALANCE'] = np.log1p(test['PRI.CURRENT.BALANCE'])\n",
    "#test['PRI.SANCTIONED.AMOUNT'] = np.log1p(test['PRI.SANCTIONED.AMOUNT'])\n",
    "test['PRI.DISBURSED.AMOUNT'] = np.log1p(test['PRI.DISBURSED.AMOUNT'])\n",
    "\n",
    "\n"
   ]
  },
  {
   "cell_type": "code",
   "execution_count": 21,
   "metadata": {},
   "outputs": [
    {
     "data": {
      "text/plain": [
       "<matplotlib.axes._subplots.AxesSubplot at 0x118ea5128>"
      ]
     },
     "execution_count": 21,
     "metadata": {},
     "output_type": "execute_result"
    },
    {
     "data": {
      "image/png": "[encoded data removed]",
      "text/plain": [
       "<Figure size 432x288 with 1 Axes>"
      ]
     },
     "metadata": {
      "needs_background": "light"
     },
     "output_type": "display_data"
    }
   ],
   "source": [
    "train.loc[train['Age'] <= 0, 'Age'] = 0\n",
    "test.loc[test['Age'] <= 0, 'Age'] = 0\n",
    "\n",
    "sns.distplot(train['Age'], color='orange')\n",
    "sns.distplot(test['Age'], color='blue')"
   ]
  },
  {
   "cell_type": "code",
   "execution_count": 22,
   "metadata": {},
   "outputs": [],
   "source": [
    "### Impute Employment.Type\n",
    "train['Employment.Type'] = train['Employment.Type'].replace(('Self employed', 'Salaried'), (0, 1))\n",
    "\n",
    "emp = train.drop(['UniqueID', 'supplier_id', 'Current_pincode_ID', 'Employee_code_ID', 'Date.of.Birth', 'DisbursalDate', 'AVERAGE.ACCT.AGE', 'CREDIT.HISTORY.LENGTH', 'Age'], axis=1)\n"
   ]
  },
  {
   "cell_type": "code",
   "execution_count": 56,
   "metadata": {},
   "outputs": [],
   "source": [
    "## split into train and test sets\n",
    "train_emp = emp[emp['Employment.Type'].notnull()]\n",
    "y_train_emp = train_emp['Employment.Type'].astype(int)\n",
    "\n",
    "train_emp_ld = train_emp['loan_default'].astype(int)\n",
    "train_emp = train_emp.drop(['Employment.Type', 'loan_default'], axis=1)\n",
    "\n",
    "test_emp = emp[emp['Employment.Type'].isnull()]\n",
    "test_emp_ld = test_emp['loan_default'].astype(int)\n",
    "test_emp = test_emp.drop(['Employment.Type', 'loan_default'], axis=1)\n",
    "\n"
   ]
  },
  {
   "cell_type": "code",
   "execution_count": 57,
   "metadata": {},
   "outputs": [],
   "source": [
    "from sklearn.preprocessing import StandardScaler\n",
    "\n",
    "sc = StandardScaler()\n",
    "train_emp = sc.fit_transform(train_emp)\n",
    "test_emp = sc.transform(test_emp)\n",
    "\n",
    "train_emp = pd.DataFrame(train_emp)\n",
    "test_emp = pd.DataFrame(test_emp)\n",
    "\n",
    "train_emp['loan_default'] = train_emp_ld.values\n",
    "test_emp['loan_default'] = test_emp_ld.values\n",
    "\n"
   ]
  },
  {
   "cell_type": "code",
   "execution_count": 59,
   "metadata": {},
   "outputs": [],
   "source": [
    "from lightgbm import LGBMClassifier\n",
    "\n",
    "model_emp = LGBMClassifier()\n",
    "\n",
    "model_emp.fit(train_emp, y_train_emp)\n",
    "\n",
    "y_test_emp_pred = model_emp.predict(test_emp)\n"
   ]
  },
  {
   "cell_type": "code",
   "execution_count": 61,
   "metadata": {},
   "outputs": [],
   "source": [
    "\n",
    "train_emp['Employment.Type'] = y_train_emp.values\n",
    "test_emp['Employment.Type'] = y_test_emp_pred\n",
    "\n",
    "train_emp_imputed = pd.concat([train_emp, test_emp], axis=0)\n",
    "\n"
   ]
  },
  {
   "cell_type": "code",
   "execution_count": 64,
   "metadata": {},
   "outputs": [],
   "source": [
    "## Model based Imputation for the Employment.Type column for the test data set\n",
    "test['Employment.Type'] = test['Employment.Type'].replace(('Self employed', 'Salaried'), (0, 1))\n",
    "\n",
    "emp = test.drop(['supplier_id', 'Current_pincode_ID', 'Employee_code_ID', 'Date.of.Birth', 'DisbursalDate', 'AVERAGE.ACCT.AGE', 'CREDIT.HISTORY.LENGTH', 'Age'], axis=1)\n",
    "\n",
    "## split into train and test sets\n",
    "test_train_emp = emp[emp['Employment.Type'].notnull()]\n",
    "test_y_train_emp = test_train_emp['Employment.Type']\n",
    "test_uniqueid_1 = test_train_emp['UniqueID']\n",
    "test_train_emp = test_train_emp.drop(['Employment.Type', 'UniqueID'], axis=1)\n",
    "\n",
    "test_test_emp = emp[emp['Employment.Type'].isnull()]\n",
    "test_uniqueid_2 = test_test_emp['UniqueID']\n",
    "test_test_emp = test_test_emp.drop(['Employment.Type', 'UniqueID'], axis=1)\n",
    "\n",
    "\n",
    "from sklearn.preprocessing import StandardScaler\n",
    "\n",
    "sc = StandardScaler()\n",
    "test_train_emp = sc.fit_transform(test_train_emp)\n",
    "test_test_emp = sc.transform(test_test_emp)\n",
    "\n",
    "test_train_emp = pd.DataFrame(test_train_emp)\n",
    "test_test_emp = pd.DataFrame(test_test_emp)\n",
    "\n",
    "\n",
    "from lightgbm import LGBMClassifier\n",
    "\n",
    "test_model_emp = LGBMClassifier()\n",
    "\n",
    "test_model_emp.fit(test_train_emp, test_y_train_emp)\n",
    "\n",
    "test_y_test_emp_pred = test_model_emp.predict(test_test_emp)\n",
    "\n",
    "test_train_emp = pd.DataFrame(test_train_emp)\n",
    "test_test_emp = pd.DataFrame(test_test_emp)\n",
    "test_train_emp['Employment.Type'] = test_y_train_emp.values\n",
    "test_test_emp['Employment.Type'] = test_y_test_emp_pred\n",
    "\n",
    "test_emp_imputed = pd.concat([test_train_emp, test_test_emp], axis=0)\n"
   ]
  },
  {
   "cell_type": "code",
   "execution_count": 76,
   "metadata": {},
   "outputs": [],
   "source": [
    "## remove attributes : UniqueID, supplier_id, Current_pincode_ID, Employee_code_ID, Date.of.Birth, DisbursalDate\n",
    "\n",
    "y_train = train_emp_imputed['loan_default']\n",
    "train_emp_imputed = train_emp_imputed.drop(['loan_default'], axis=1)\n",
    "unique_id = test_uniqueid_1\n",
    "unique_id = unique_id.append(test_uniqueid_2, ignore_index=True)\n",
    "\n",
    "#train = train.drop(['UniqueID', 'supplier_id', 'Current_pincode_ID', 'Employee_code_ID', 'Date.of.Birth', 'DisbursalDate', 'AVERAGE.ACCT.AGE', 'CREDIT.HISTORY.LENGTH', 'Age', 'loan_default'], axis = 1)\n",
    "\n",
    "#test = test.drop(['UniqueID', 'supplier_id', 'Current_pincode_ID', 'Employee_code_ID', 'Date.of.Birth', 'DisbursalDate', 'AVERAGE.ACCT.AGE', 'CREDIT.HISTORY.LENGTH', 'Age'], axis = 1)\n",
    "\n",
    "\n"
   ]
  },
  {
   "cell_type": "code",
   "execution_count": 77,
   "metadata": {},
   "outputs": [
    {
     "data": {
      "text/plain": [
       "0    182543\n",
       "1     50611\n",
       "Name: loan_default, dtype: int64"
      ]
     },
     "execution_count": 77,
     "metadata": {},
     "output_type": "execute_result"
    }
   ],
   "source": [
    "## Class Imbalance\n",
    "\n",
    "y_train.value_counts()"
   ]
  },
  {
   "cell_type": "code",
   "execution_count": 87,
   "metadata": {},
   "outputs": [],
   "source": [
    "\n",
    "\n",
    "sc = StandardScaler()\n",
    "\n",
    "train_emp_imputed[['Employment.Type']] = sc.fit_transform(train_emp_imputed[['Employment.Type']])\n",
    "test_emp_imputed[['Employment.Type']] = sc.transform(test_emp_imputed[['Employment.Type']])\n",
    "\n"
   ]
  },
  {
   "cell_type": "code",
   "execution_count": 90,
   "metadata": {},
   "outputs": [
    {
     "name": "stdout",
     "output_type": "stream",
     "text": [
      "Shape of x: (365086, 35)\n",
      "Shape of y: (365086,)\n"
     ]
    }
   ],
   "source": [
    "## Oversampling the minority class (1) SMOTE\n",
    "\n",
    "from imblearn.over_sampling import SMOTE\n",
    "\n",
    "x_resample, y_resample = SMOTE().fit_sample(train_emp_imputed, y_train.values.ravel()) \n",
    "\n",
    "# checking the shape of x_resample and y_resample\n",
    "print(\"Shape of x:\", x_resample.shape)\n",
    "print(\"Shape of y:\", y_resample.shape)"
   ]
  },
  {
   "cell_type": "code",
   "execution_count": 91,
   "metadata": {},
   "outputs": [
    {
     "name": "stdout",
     "output_type": "stream",
     "text": [
      "Training Accuracy:  0.5632042861134089\n"
     ]
    }
   ],
   "source": [
    "## Naive Bayes\n",
    "\n",
    "from sklearn.naive_bayes import GaussianNB\n",
    "\n",
    "gnb = GaussianNB()\n",
    "gnb.fit(x_resample,y_resample)\n",
    "\n",
    "print(\"Training Accuracy: \", gnb.score(x_resample, y_resample))\n"
   ]
  },
  {
   "cell_type": "code",
   "execution_count": 92,
   "metadata": {},
   "outputs": [
    {
     "name": "stdout",
     "output_type": "stream",
     "text": [
      "Training Accuracy:  0.9915828051472804\n"
     ]
    }
   ],
   "source": [
    "## Random Forest Classifier\n",
    "\n",
    "from sklearn.ensemble import RandomForestClassifier\n",
    "\n",
    "model_rf = RandomForestClassifier()\n",
    "model_rf.fit(x_resample, y_resample)\n",
    "\n",
    "print(\"Training Accuracy: \", model_rf.score(x_resample, y_resample))\n"
   ]
  },
  {
   "cell_type": "code",
   "execution_count": 93,
   "metadata": {},
   "outputs": [
    {
     "name": "stdout",
     "output_type": "stream",
     "text": [
      "Training Accuracy:  0.8324887834647179\n"
     ]
    }
   ],
   "source": [
    "## LightGBM Classifier\n",
    "\n",
    "from lightgbm import LGBMClassifier\n",
    "\n",
    "model_lgb = LGBMClassifier()\n",
    "model_lgb.fit(x_resample, y_resample)\n",
    "\n",
    "print(\"Training Accuracy: \", model_lgb.score(x_resample, y_resample))\n"
   ]
  },
  {
   "cell_type": "code",
   "execution_count": 94,
   "metadata": {},
   "outputs": [],
   "source": [
    "## predictions\n",
    "\n",
    "y_pred_gnb = gnb.predict(test_emp_imputed)\n",
    "y_pred_rf = model_rf.predict(test_emp_imputed)\n",
    "y_pred_lgb = model_lgb.predict(test_emp_imputed)\n"
   ]
  },
  {
   "cell_type": "code",
   "execution_count": 95,
   "metadata": {},
   "outputs": [],
   "source": [
    "predictions = y_pred_gnb*0.4 + y_pred_lgb*0.3 + y_pred_rf*0.3\n"
   ]
  },
  {
   "cell_type": "code",
   "execution_count": 96,
   "metadata": {},
   "outputs": [],
   "source": [
    "submission = pd.DataFrame({'UniqueID': unique_id,'loan_default': predictions})\n",
    "\n",
    "submission.to_csv('submission.csv',index=False)\n"
   ]
  },
  {
   "cell_type": "code",
   "execution_count": null,
   "metadata": {},
   "outputs": [],
   "source": []
  }
 ],
 "metadata": {
  "kernelspec": {
   "display_name": "Python 3",
   "language": "python",
   "name": "python3"
  },
  "language_info": {
   "codemirror_mode": {
    "name": "ipython",
    "version": 3
   },
   "file_extension": ".py",
   "mimetype": "text/x-python",
   "name": "python",
   "nbconvert_exporter": "python",
   "pygments_lexer": "ipython3",
   "version": "3.7.2"
  }
 },
 "nbformat": 4,
 "nbformat_minor": 2
}
