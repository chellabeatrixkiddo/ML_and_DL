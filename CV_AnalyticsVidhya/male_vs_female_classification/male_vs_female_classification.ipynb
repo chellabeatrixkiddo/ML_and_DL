{
  "nbformat": 4,
  "nbformat_minor": 0,
  "metadata": {
    "colab": {
      "name": "male_vs_female_classification.ipynb",
      "version": "0.3.2",
      "provenance": [],
      "collapsed_sections": [],
      "include_colab_link": true
    },
    "kernelspec": {
      "name": "python3",
      "display_name": "Python 3"
    },
    "accelerator": "TPU"
  },
  "cells": [
    {
      "cell_type": "markdown",
      "metadata": {
        "id": "view-in-github",
        "colab_type": "text"
      },
      "source": [
        "<a href=\"https://colab.research.google.com/github/chellabeatrixkiddo/ML_and_DL/blob/master/CV_AnalyticsVidhya/male_vs_female_classification/male_vs_female_classification.ipynb\" target=\"_parent\"><img src=\"https://colab.research.google.com/assets/colab-badge.svg\" alt=\"Open In Colab\"/></a>"
      ]
    },
    {
      "metadata": {
        "id": "Vld3yRcHbFQQ",
        "colab_type": "code",
        "outputId": "7e99a552-1c1a-4c4e-d8cb-663dabe1be98",
        "colab": {
          "base_uri": "https://localhost:8080/",
          "height": 54
        }
      },
      "cell_type": "code",
      "source": [
        "from google.colab import drive\n",
        "drive.mount('/content/drive')"
      ],
      "execution_count": 12,
      "outputs": [
        {
          "output_type": "stream",
          "text": [
            "Drive already mounted at /content/drive; to attempt to forcibly remount, call drive.mount(\"/content/drive\", force_remount=True).\n"
          ],
          "name": "stdout"
        }
      ]
    },
    {
      "metadata": {
        "id": "r1Tl5NMUbQQ6",
        "colab_type": "code",
        "colab": {}
      },
      "cell_type": "code",
      "source": [
        "import os\n",
        "os.chdir('/content/drive/My Drive/DLDatasets/CV101/datasets/male_vs_female_classification')"
      ],
      "execution_count": 0,
      "outputs": []
    },
    {
      "metadata": {
        "id": "TvBMF5IQbeyV",
        "colab_type": "code",
        "colab": {}
      },
      "cell_type": "code",
      "source": [
        "import numpy as np\n",
        "import matplotlib.pyplot as plt\n",
        "import pandas as pd\n",
        "from keras.utils import to_categorical\n",
        "from keras.applications.vgg16 import preprocess_input\n",
        "from sklearn.model_selection import train_test_split\n",
        "from keras.applications.vgg16 import VGG16\n",
        "from skimage.transform import resize\n",
        "from keras.models import Sequential\n",
        "from keras.layers import Dense, InputLayer, Conv2D, MaxPool2D, Flatten\n",
        "\n",
        "%matplotlib inline"
      ],
      "execution_count": 0,
      "outputs": []
    },
    {
      "metadata": {
        "id": "1956Mcpeg2XX",
        "colab_type": "text"
      },
      "cell_type": "markdown",
      "source": [
        "## **Load Data and Preprocess**"
      ]
    },
    {
      "metadata": {
        "id": "rwiLWqZ2bf-b",
        "colab_type": "code",
        "colab": {}
      },
      "cell_type": "code",
      "source": [
        "## Import and preprocess dataset. Since the actual training dataset contains around 12196 images, we are training \n",
        "## using only 2001 images. The actual test dataset contains 5227 images and we are going to use 1001 of them\n",
        "\n",
        "\n",
        "traindata = pd.read_csv(\"/content/drive/My Drive/DLDatasets/CV101/datasets/male_vs_female_classification/train.csv\")\n",
        "\n",
        "testdata = pd.read_csv(\"/content/drive/My Drive/DLDatasets/CV101/datasets/male_vs_female_classification/test.csv\")\n",
        "\n",
        "X_train = []\n",
        "X_test = []\n",
        "\n",
        "train_count = 0\n",
        "test_count =0\n",
        "\n",
        "for img_name in traindata.image_names:\n",
        "    img = plt.imread('/content/drive/My Drive/DLDatasets/CV101/datasets/male_vs_female_classification/images/' + img_name)\n",
        "    X_train.append(img)\n",
        "    train_count += 1\n",
        "    if train_count > 2000:\n",
        "      break\n",
        "\n",
        "for img_name in testdata.image_names:\n",
        "    img = plt.imread('/content/drive/My Drive/DLDatasets/CV101/datasets/male_vs_female_classification/images/' + img_name)\n",
        "    X_test.append(img)\n",
        "    test_count += 1\n",
        "    if test_count > 1000:\n",
        "      break\n",
        "    \n",
        "\n",
        "X_train = np.array(X_train)\n",
        "X_test = np.array(X_test)\n",
        "\n",
        "  "
      ],
      "execution_count": 0,
      "outputs": []
    },
    {
      "metadata": {
        "id": "w9zUhiIQUwP4",
        "colab_type": "code",
        "outputId": "b636d8d6-9134-4f23-98ee-4ccf4f724a67",
        "colab": {
          "base_uri": "https://localhost:8080/",
          "height": 34
        }
      },
      "cell_type": "code",
      "source": [
        "X_train.shape, X_test.shape"
      ],
      "execution_count": 16,
      "outputs": [
        {
          "output_type": "execute_result",
          "data": {
            "text/plain": [
              "((2001, 224, 224, 3), (1001, 224, 224, 3))"
            ]
          },
          "metadata": {
            "tags": []
          },
          "execution_count": 16
        }
      ]
    },
    {
      "metadata": {
        "id": "tK466zO43hRC",
        "colab_type": "code",
        "outputId": "4b8c1ca3-96f0-4ca4-ed05-3ad8e6b67588",
        "colab": {
          "base_uri": "https://localhost:8080/",
          "height": 34
        }
      },
      "cell_type": "code",
      "source": [
        "y_train = traindata.loc[:2000]['class']\n",
        "y_train = to_categorical(y_train)\n",
        "y_train.shape"
      ],
      "execution_count": 6,
      "outputs": [
        {
          "output_type": "execute_result",
          "data": {
            "text/plain": [
              "(2001, 2)"
            ]
          },
          "metadata": {
            "tags": []
          },
          "execution_count": 6
        }
      ]
    },
    {
      "metadata": {
        "id": "zYvui0NvnO4t",
        "colab_type": "code",
        "colab": {}
      },
      "cell_type": "code",
      "source": [
        "X_train_vgg = preprocess_input(X_train, mode='tf')\n",
        "X_test_vgg = preprocess_input(X_test, mode='tf')"
      ],
      "execution_count": 0,
      "outputs": []
    },
    {
      "metadata": {
        "id": "Dgn9qPuvhLYF",
        "colab_type": "text"
      },
      "cell_type": "markdown",
      "source": [
        "## **Using Pretrained VGG-16 Model**"
      ]
    },
    {
      "metadata": {
        "id": "_ctxUts0w63y",
        "colab_type": "code",
        "outputId": "a520f8a9-e209-4e9d-e2cf-b680f8a853ec",
        "colab": {
          "base_uri": "https://localhost:8080/",
          "height": 836
        }
      },
      "cell_type": "code",
      "source": [
        "## Using Pretrained VGG-16 architecture\n",
        "\n",
        "base_model = VGG16(weights='imagenet', input_shape=(224, 224, 3), include_top=False)\n",
        "base_model.summary()"
      ],
      "execution_count": 0,
      "outputs": [
        {
          "output_type": "stream",
          "text": [
            "Downloading data from https://github.com/fchollet/deep-learning-models/releases/download/v0.1/vgg16_weights_tf_dim_ordering_tf_kernels_notop.h5\n",
            "58892288/58889256 [==============================] - 1s 0us/step\n",
            "_________________________________________________________________\n",
            "Layer (type)                 Output Shape              Param #   \n",
            "=================================================================\n",
            "input_1 (InputLayer)         (None, 224, 224, 3)       0         \n",
            "_________________________________________________________________\n",
            "block1_conv1 (Conv2D)        (None, 224, 224, 64)      1792      \n",
            "_________________________________________________________________\n",
            "block1_conv2 (Conv2D)        (None, 224, 224, 64)      36928     \n",
            "_________________________________________________________________\n",
            "block1_pool (MaxPooling2D)   (None, 112, 112, 64)      0         \n",
            "_________________________________________________________________\n",
            "block2_conv1 (Conv2D)        (None, 112, 112, 128)     73856     \n",
            "_________________________________________________________________\n",
            "block2_conv2 (Conv2D)        (None, 112, 112, 128)     147584    \n",
            "_________________________________________________________________\n",
            "block2_pool (MaxPooling2D)   (None, 56, 56, 128)       0         \n",
            "_________________________________________________________________\n",
            "block3_conv1 (Conv2D)        (None, 56, 56, 256)       295168    \n",
            "_________________________________________________________________\n",
            "block3_conv2 (Conv2D)        (None, 56, 56, 256)       590080    \n",
            "_________________________________________________________________\n",
            "block3_conv3 (Conv2D)        (None, 56, 56, 256)       590080    \n",
            "_________________________________________________________________\n",
            "block3_pool (MaxPooling2D)   (None, 28, 28, 256)       0         \n",
            "_________________________________________________________________\n",
            "block4_conv1 (Conv2D)        (None, 28, 28, 512)       1180160   \n",
            "_________________________________________________________________\n",
            "block4_conv2 (Conv2D)        (None, 28, 28, 512)       2359808   \n",
            "_________________________________________________________________\n",
            "block4_conv3 (Conv2D)        (None, 28, 28, 512)       2359808   \n",
            "_________________________________________________________________\n",
            "block4_pool (MaxPooling2D)   (None, 14, 14, 512)       0         \n",
            "_________________________________________________________________\n",
            "block5_conv1 (Conv2D)        (None, 14, 14, 512)       2359808   \n",
            "_________________________________________________________________\n",
            "block5_conv2 (Conv2D)        (None, 14, 14, 512)       2359808   \n",
            "_________________________________________________________________\n",
            "block5_conv3 (Conv2D)        (None, 14, 14, 512)       2359808   \n",
            "_________________________________________________________________\n",
            "block5_pool (MaxPooling2D)   (None, 7, 7, 512)         0         \n",
            "=================================================================\n",
            "Total params: 14,714,688\n",
            "Trainable params: 14,714,688\n",
            "Non-trainable params: 0\n",
            "_________________________________________________________________\n"
          ],
          "name": "stdout"
        }
      ]
    },
    {
      "metadata": {
        "id": "8cQUqWG506GV",
        "colab_type": "code",
        "colab": {}
      },
      "cell_type": "code",
      "source": [
        "base_model_pred = base_model.predict(X_train_vgg)\n",
        "base_model_pred_test = base_model.predict(X_test_vgg)"
      ],
      "execution_count": 0,
      "outputs": []
    },
    {
      "metadata": {
        "id": "tpzghlefl0kw",
        "colab_type": "code",
        "colab": {}
      },
      "cell_type": "code",
      "source": [
        "base_model_pred = base_model_pred.reshape(2001, 7*7*512)\n",
        "\n",
        "base_model_pred_test = base_model_pred_test.reshape(1001, 7*7*512)\n"
      ],
      "execution_count": 0,
      "outputs": []
    },
    {
      "metadata": {
        "id": "iaXhs7dwl_8K",
        "colab_type": "code",
        "colab": {}
      },
      "cell_type": "code",
      "source": [
        "max_val = base_model_pred.max()\n",
        "\n",
        "base_model_pred = base_model_pred / max_val\n",
        "base_model_pred_test = base_model_pred_test / max_val"
      ],
      "execution_count": 0,
      "outputs": []
    },
    {
      "metadata": {
        "id": "uqg8hEYtmYfW",
        "colab_type": "code",
        "colab": {}
      },
      "cell_type": "code",
      "source": [
        "model = Sequential()\n",
        "model.add(InputLayer((7*7*512, )))\n",
        "model.add(Dense(units=1024, activation='relu'))\n",
        "model.add(Dense(units=2, activation='softmax'))"
      ],
      "execution_count": 0,
      "outputs": []
    },
    {
      "metadata": {
        "id": "5_bi8r6Cmc4B",
        "colab_type": "code",
        "outputId": "560df7f4-4e54-4cc8-ab22-2ca895443061",
        "colab": {
          "base_uri": "https://localhost:8080/",
          "height": 204
        }
      },
      "cell_type": "code",
      "source": [
        "model.compile(optimizer='sgd', metrics=['accuracy'], loss='categorical_crossentropy')\n",
        "model.summary()"
      ],
      "execution_count": 0,
      "outputs": [
        {
          "output_type": "stream",
          "text": [
            "_________________________________________________________________\n",
            "Layer (type)                 Output Shape              Param #   \n",
            "=================================================================\n",
            "dense_1 (Dense)              (None, 1024)              25691136  \n",
            "_________________________________________________________________\n",
            "dense_2 (Dense)              (None, 2)                 2050      \n",
            "=================================================================\n",
            "Total params: 25,693,186\n",
            "Trainable params: 25,693,186\n",
            "Non-trainable params: 0\n",
            "_________________________________________________________________\n"
          ],
          "name": "stdout"
        }
      ]
    },
    {
      "metadata": {
        "id": "4m-iZBTOmi8F",
        "colab_type": "code",
        "outputId": "f0d05bb1-1959-47bf-db87-6cb032402498",
        "colab": {
          "base_uri": "https://localhost:8080/",
          "height": 544
        }
      },
      "cell_type": "code",
      "source": [
        "model.fit(base_model_pred, y_train, epochs=15)\n"
      ],
      "execution_count": 0,
      "outputs": [
        {
          "output_type": "stream",
          "text": [
            "Epoch 1/15\n",
            "2001/2001 [==============================] - 16s 8ms/step - loss: 0.6889 - acc: 0.5257\n",
            "Epoch 2/15\n",
            "2001/2001 [==============================] - 15s 8ms/step - loss: 0.6758 - acc: 0.6037\n",
            "Epoch 3/15\n",
            "2001/2001 [==============================] - 15s 8ms/step - loss: 0.6656 - acc: 0.6277\n",
            "Epoch 4/15\n",
            "2001/2001 [==============================] - 15s 8ms/step - loss: 0.6558 - acc: 0.6507\n",
            "Epoch 5/15\n",
            "2001/2001 [==============================] - 15s 8ms/step - loss: 0.6467 - acc: 0.6427\n",
            "Epoch 6/15\n",
            "2001/2001 [==============================] - 15s 8ms/step - loss: 0.6400 - acc: 0.6707\n",
            "Epoch 7/15\n",
            "2001/2001 [==============================] - 15s 8ms/step - loss: 0.6269 - acc: 0.6852\n",
            "Epoch 8/15\n",
            "2001/2001 [==============================] - 15s 8ms/step - loss: 0.6179 - acc: 0.6947\n",
            "Epoch 9/15\n",
            "2001/2001 [==============================] - 15s 8ms/step - loss: 0.6107 - acc: 0.6972\n",
            "Epoch 10/15\n",
            "2001/2001 [==============================] - 15s 8ms/step - loss: 0.5994 - acc: 0.7091\n",
            "Epoch 11/15\n",
            "2001/2001 [==============================] - 15s 8ms/step - loss: 0.5929 - acc: 0.7096\n",
            "Epoch 12/15\n",
            "2001/2001 [==============================] - 15s 8ms/step - loss: 0.5832 - acc: 0.7186\n",
            "Epoch 13/15\n",
            "2001/2001 [==============================] - 16s 8ms/step - loss: 0.5726 - acc: 0.7266\n",
            "Epoch 14/15\n",
            "2001/2001 [==============================] - 16s 8ms/step - loss: 0.5676 - acc: 0.7406\n",
            "Epoch 15/15\n",
            "2001/2001 [==============================] - 15s 8ms/step - loss: 0.5560 - acc: 0.7456\n"
          ],
          "name": "stdout"
        },
        {
          "output_type": "execute_result",
          "data": {
            "text/plain": [
              "<keras.callbacks.History at 0x7facb009e470>"
            ]
          },
          "metadata": {
            "tags": []
          },
          "execution_count": 27
        }
      ]
    },
    {
      "metadata": {
        "id": "Rt-4yUAjmolZ",
        "colab_type": "code",
        "colab": {}
      },
      "cell_type": "code",
      "source": [
        "predictions = model.predict_classes(base_model_pred_test)\n",
        "predictions"
      ],
      "execution_count": 0,
      "outputs": []
    },
    {
      "metadata": {
        "id": "Y-H_HDZ7mtA6",
        "colab_type": "code",
        "colab": {}
      },
      "cell_type": "code",
      "source": [
        "prediction_probabilities = model.predict(base_model_pred_test)\n",
        "prediction_probabilities"
      ],
      "execution_count": 0,
      "outputs": []
    },
    {
      "metadata": {
        "id": "9GX7lU3ArFc1",
        "colab_type": "text"
      },
      "cell_type": "markdown",
      "source": [
        "## **Using CNN Model**"
      ]
    },
    {
      "metadata": {
        "id": "1e6cyUp1sR20",
        "colab_type": "text"
      },
      "cell_type": "markdown",
      "source": [
        "**Data Prep and Validation Split**"
      ]
    },
    {
      "metadata": {
        "id": "e1726dXSmzPl",
        "colab_type": "code",
        "colab": {}
      },
      "cell_type": "code",
      "source": [
        "y_train = traindata.loc[:2000]['class']\n",
        "\n",
        "X_train = X_train / X_train.max()\n",
        "\n",
        "X_train, X_valid, y_train, y_valid = train_test_split(X_train,y_train,test_size=0.3, random_state=42)"
      ],
      "execution_count": 0,
      "outputs": []
    },
    {
      "metadata": {
        "id": "t_eGS4AAsM4J",
        "colab_type": "text"
      },
      "cell_type": "markdown",
      "source": [
        "**Model Building**"
      ]
    },
    {
      "metadata": {
        "id": "Kguv3xXdsLSg",
        "colab_type": "code",
        "colab": {
          "base_uri": "https://localhost:8080/",
          "height": 408
        },
        "outputId": "34c85a1e-bf74-464e-f9dc-83f47cdcc575"
      },
      "cell_type": "code",
      "source": [
        "model = Sequential()\n",
        "    \n",
        "model.add(InputLayer(input_shape=(224, 224, 3)))\n",
        "\n",
        "model.add(Conv2D(125, (5, 5), activation='relu', strides=(2, 2), padding='same'))\n",
        "model.add(Conv2D(150, (5, 5), activation='relu', strides=(2, 2), padding='same'))\n",
        "model.add(MaxPool2D(pool_size=(8, 8), padding='valid'))\n",
        "\n",
        "model.add(Conv2D(200, (3, 3), activation='relu', strides=(2, 2), padding='same'))\n",
        "model.add(Conv2D(225, (3, 3), activation='relu', strides=(2, 2), padding='same'))\n",
        "\n",
        "model.add(Flatten())\n",
        "\n",
        "model.add(Dense(units=100, activation='sigmoid'))\n",
        "model.add(Dense(units=1, activation='sigmoid'))\n",
        "\n",
        "model.compile(loss='binary_crossentropy', optimizer=\"adam\", metrics=['accuracy'])\n",
        "\n",
        "model.summary()"
      ],
      "execution_count": 18,
      "outputs": [
        {
          "output_type": "stream",
          "text": [
            "_________________________________________________________________\n",
            "Layer (type)                 Output Shape              Param #   \n",
            "=================================================================\n",
            "conv2d_5 (Conv2D)            (None, 112, 112, 125)     9500      \n",
            "_________________________________________________________________\n",
            "conv2d_6 (Conv2D)            (None, 56, 56, 150)       468900    \n",
            "_________________________________________________________________\n",
            "max_pooling2d_2 (MaxPooling2 (None, 7, 7, 150)         0         \n",
            "_________________________________________________________________\n",
            "conv2d_7 (Conv2D)            (None, 4, 4, 200)         270200    \n",
            "_________________________________________________________________\n",
            "conv2d_8 (Conv2D)            (None, 2, 2, 225)         405225    \n",
            "_________________________________________________________________\n",
            "flatten_2 (Flatten)          (None, 900)               0         \n",
            "_________________________________________________________________\n",
            "dense_3 (Dense)              (None, 100)               90100     \n",
            "_________________________________________________________________\n",
            "dense_4 (Dense)              (None, 1)                 101       \n",
            "=================================================================\n",
            "Total params: 1,244,026\n",
            "Trainable params: 1,244,026\n",
            "Non-trainable params: 0\n",
            "_________________________________________________________________\n"
          ],
          "name": "stdout"
        }
      ]
    },
    {
      "metadata": {
        "id": "y6pawy94tqwD",
        "colab_type": "text"
      },
      "cell_type": "markdown",
      "source": [
        "**Model Training**"
      ]
    },
    {
      "metadata": {
        "id": "H4A5xYuCtnIx",
        "colab_type": "code",
        "colab": {
          "base_uri": "https://localhost:8080/",
          "height": 751
        },
        "outputId": "965c7669-afce-40ac-af14-7907b73a94a8"
      },
      "cell_type": "code",
      "source": [
        "model.fit(X_train, y_train, epochs=20,validation_data=(X_valid,y_valid))"
      ],
      "execution_count": 20,
      "outputs": [
        {
          "output_type": "stream",
          "text": [
            "Train on 1400 samples, validate on 601 samples\n",
            "Epoch 1/20\n",
            "1400/1400 [==============================] - 412s 294ms/step - loss: 0.7156 - acc: 0.4971 - val_loss: 0.6891 - val_acc: 0.5324\n",
            "Epoch 2/20\n",
            "1400/1400 [==============================] - 408s 292ms/step - loss: 0.6597 - acc: 0.6036 - val_loss: 0.6667 - val_acc: 0.6489\n",
            "Epoch 3/20\n",
            "1400/1400 [==============================] - 410s 293ms/step - loss: 0.6412 - acc: 0.6314 - val_loss: 0.6370 - val_acc: 0.6323\n",
            "Epoch 4/20\n",
            "1400/1400 [==============================] - 413s 295ms/step - loss: 0.6091 - acc: 0.6521 - val_loss: 0.6016 - val_acc: 0.6988\n",
            "Epoch 5/20\n",
            "1400/1400 [==============================] - 413s 295ms/step - loss: 0.5348 - acc: 0.7350 - val_loss: 0.4929 - val_acc: 0.7787\n",
            "Epoch 6/20\n",
            "1400/1400 [==============================] - 412s 294ms/step - loss: 0.4667 - acc: 0.7736 - val_loss: 0.5966 - val_acc: 0.6456\n",
            "Epoch 7/20\n",
            "1400/1400 [==============================] - 412s 294ms/step - loss: 0.4386 - acc: 0.8121 - val_loss: 0.4739 - val_acc: 0.7820\n",
            "Epoch 8/20\n",
            "1400/1400 [==============================] - 411s 294ms/step - loss: 0.4377 - acc: 0.7957 - val_loss: 0.4894 - val_acc: 0.7554\n",
            "Epoch 9/20\n",
            "1400/1400 [==============================] - 410s 293ms/step - loss: 0.3809 - acc: 0.8300 - val_loss: 0.4551 - val_acc: 0.7903\n",
            "Epoch 10/20\n",
            "1400/1400 [==============================] - 412s 294ms/step - loss: 0.3579 - acc: 0.8414 - val_loss: 0.4521 - val_acc: 0.7804\n",
            "Epoch 11/20\n",
            "1400/1400 [==============================] - 411s 293ms/step - loss: 0.3344 - acc: 0.8571 - val_loss: 0.4640 - val_acc: 0.7970\n",
            "Epoch 12/20\n",
            "1400/1400 [==============================] - 410s 293ms/step - loss: 0.3117 - acc: 0.8671 - val_loss: 0.4955 - val_acc: 0.7937\n",
            "Epoch 13/20\n",
            "1400/1400 [==============================] - 410s 293ms/step - loss: 0.3210 - acc: 0.8650 - val_loss: 0.4489 - val_acc: 0.7937\n",
            "Epoch 14/20\n",
            "1400/1400 [==============================] - 411s 293ms/step - loss: 0.2682 - acc: 0.8857 - val_loss: 0.4478 - val_acc: 0.8120\n",
            "Epoch 15/20\n",
            "1400/1400 [==============================] - 411s 293ms/step - loss: 0.2495 - acc: 0.9000 - val_loss: 0.4546 - val_acc: 0.8186\n",
            "Epoch 16/20\n",
            "1400/1400 [==============================] - 411s 294ms/step - loss: 0.2096 - acc: 0.9179 - val_loss: 0.5326 - val_acc: 0.7770\n",
            "Epoch 17/20\n",
            "1400/1400 [==============================] - 411s 294ms/step - loss: 0.2232 - acc: 0.9071 - val_loss: 0.4769 - val_acc: 0.8103\n",
            "Epoch 18/20\n",
            "1400/1400 [==============================] - 411s 294ms/step - loss: 0.1904 - acc: 0.9243 - val_loss: 0.5093 - val_acc: 0.8153\n",
            "Epoch 19/20\n",
            "1400/1400 [==============================] - 411s 294ms/step - loss: 0.1645 - acc: 0.9393 - val_loss: 0.5062 - val_acc: 0.8203\n",
            "Epoch 20/20\n",
            "1400/1400 [==============================] - 410s 293ms/step - loss: 0.1448 - acc: 0.9443 - val_loss: 0.5454 - val_acc: 0.8153\n"
          ],
          "name": "stdout"
        },
        {
          "output_type": "execute_result",
          "data": {
            "text/plain": [
              "<keras.callbacks.History at 0x7f0382574710>"
            ]
          },
          "metadata": {
            "tags": []
          },
          "execution_count": 20
        }
      ]
    },
    {
      "metadata": {
        "id": "t-ZpKoOVRzSX",
        "colab_type": "text"
      },
      "cell_type": "markdown",
      "source": [
        "**Predict Classes on Test Data**"
      ]
    },
    {
      "metadata": {
        "id": "M9ryvBDst8Bb",
        "colab_type": "code",
        "colab": {
          "base_uri": "https://localhost:8080/",
          "height": 136
        },
        "outputId": "11526899-6a04-4168-c46c-db6e7fd0b2de"
      },
      "cell_type": "code",
      "source": [
        "X_test = X_test / X_test.max()\n",
        "\n",
        "\n",
        "predictions = model.predict_classes(X_test)\n",
        "predictions\n",
        "\n",
        "prediction_probabilities = model.predict(X_test)\n",
        "prediction_probabilities\n"
      ],
      "execution_count": 24,
      "outputs": [
        {
          "output_type": "execute_result",
          "data": {
            "text/plain": [
              "array([[0.9927583 ],\n",
              "       [0.9985985 ],\n",
              "       [0.01131603],\n",
              "       ...,\n",
              "       [0.00511933],\n",
              "       [0.9735877 ],\n",
              "       [0.58453184]], dtype=float32)"
            ]
          },
          "metadata": {
            "tags": []
          },
          "execution_count": 24
        }
      ]
    },
    {
      "metadata": {
        "id": "4o9W7uqzZA-W",
        "colab_type": "code",
        "colab": {}
      },
      "cell_type": "code",
      "source": [
        "rng = np.random.RandomState(42)\n",
        "\n",
        "cl_enum = {1:\"male\", 0:\"female\"}"
      ],
      "execution_count": 0,
      "outputs": []
    },
    {
      "metadata": {
        "id": "OotGSty-SqCP",
        "colab_type": "code",
        "colab": {
          "base_uri": "https://localhost:8080/",
          "height": 320
        },
        "outputId": "e1592ea7-6efb-4c6c-e3a0-bf152f61f79a"
      },
      "cell_type": "code",
      "source": [
        "test_images = testdata.loc[:1000]['image_names']\n",
        "\n",
        "imgname = rng.choice(test_images)\n",
        "\n",
        "prob = (prediction_probabilities[:, 0] * 100).astype(int)[np.where(test_images == imgname)[0][0]]\n",
        "\n",
        "cl = (predictions).astype(int)[np.where(test_images == imgname)[0][0]]\n",
        "\n",
        "img = plt.imread('/content/drive/My Drive/DLDatasets/CV101/datasets/male_vs_female_classification/images/' + imgname)\n",
        "\n",
        "print('There is', prob, '% chance that it is a male')\n",
        "print('Predicted Class:', cl_enum[cl[0]])\n",
        "\n",
        "plt.imshow(img)\n"
      ],
      "execution_count": 60,
      "outputs": [
        {
          "output_type": "stream",
          "text": [
            "There is 2 % chance that it is a male\n",
            "Predicted Class: female\n"
          ],
          "name": "stdout"
        },
        {
          "output_type": "execute_result",
          "data": {
            "text/plain": [
              "<matplotlib.image.AxesImage at 0x7f037ad49400>"
            ]
          },
          "metadata": {
            "tags": []
          },
          "execution_count": 60
        },
        {
          "output_type": "display_data",
          "data": {
            "image/png": "[encoded data removed]",
            "text/plain": [
              "<matplotlib.figure.Figure at 0x7f037b49d7b8>"
            ]
          },
          "metadata": {
            "tags": []
          }
        }
      ]
    },
    {
      "metadata": {
        "id": "OLY1id0pd5Ot",
        "colab_type": "code",
        "colab": {}
      },
      "cell_type": "code",
      "source": [
        ""
      ],
      "execution_count": 0,
      "outputs": []
    }
  ]
}