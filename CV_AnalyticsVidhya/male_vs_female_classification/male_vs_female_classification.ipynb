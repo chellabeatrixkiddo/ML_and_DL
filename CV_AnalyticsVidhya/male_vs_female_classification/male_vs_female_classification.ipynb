{
  "nbformat": 4,
  "nbformat_minor": 0,
  "metadata": {
    "colab": {
      "name": "male_vs_female_classification.ipynb",
      "version": "0.3.2",
      "provenance": [],
      "collapsed_sections": [],
      "include_colab_link": true
    },
    "kernelspec": {
      "name": "python3",
      "display_name": "Python 3"
    },
    "accelerator": "TPU"
  },
  "cells": [
    {
      "cell_type": "markdown",
      "metadata": {
        "id": "view-in-github",
        "colab_type": "text"
      },
      "source": [
        "<a href=\"https://colab.research.google.com/github/chellabeatrixkiddo/ML_and_DL/blob/master/CV_AnalyticsVidhya/male_vs_female_classification/male_vs_female_classification.ipynb\" target=\"_parent\"><img src=\"https://colab.research.google.com/assets/colab-badge.svg\" alt=\"Open In Colab\"/></a>"
      ]
    },
    {
      "metadata": {
        "id": "Vld3yRcHbFQQ",
        "colab_type": "code",
        "colab": {
          "base_uri": "https://localhost:8080/",
          "height": 54
        },
        "outputId": "d0a3a537-9cd9-4291-cd81-ad79a5953cd5"
      },
      "cell_type": "code",
      "source": [
        "from google.colab import drive\n",
        "drive.mount('/content/drive')"
      ],
      "execution_count": 29,
      "outputs": [
        {
          "output_type": "stream",
          "text": [
            "Drive already mounted at /content/drive; to attempt to forcibly remount, call drive.mount(\"/content/drive\", force_remount=True).\n"
          ],
          "name": "stdout"
        }
      ]
    },
    {
      "metadata": {
        "id": "r1Tl5NMUbQQ6",
        "colab_type": "code",
        "colab": {}
      },
      "cell_type": "code",
      "source": [
        "import os\n",
        "os.chdir('/content/drive/My Drive/DLDatasets/CV101/datasets/male_vs_female_classification')"
      ],
      "execution_count": 0,
      "outputs": []
    },
    {
      "metadata": {
        "id": "TvBMF5IQbeyV",
        "colab_type": "code",
        "colab": {}
      },
      "cell_type": "code",
      "source": [
        "import numpy as np\n",
        "import matplotlib.pyplot as plt\n",
        "import pandas as pd\n",
        "from keras.utils import to_categorical\n",
        "from keras.applications.vgg16 import preprocess_input\n",
        "from sklearn.model_selection import train_test_split\n",
        "from keras.applications.vgg16 import VGG16\n",
        "from skimage.transform import resize\n",
        "from keras.models import Sequential\n",
        "from keras.layers import Dense, InputLayer\n",
        "\n",
        "%matplotlib inline"
      ],
      "execution_count": 0,
      "outputs": []
    },
    {
      "metadata": {
        "id": "rwiLWqZ2bf-b",
        "colab_type": "code",
        "colab": {}
      },
      "cell_type": "code",
      "source": [
        "\n",
        "traindata = pd.read_csv(\"/content/drive/My Drive/DLDatasets/CV101/datasets/male_vs_female_classification/train.csv\")\n",
        "\n",
        "testdata = pd.read_csv(\"/content/drive/My Drive/DLDatasets/CV101/datasets/male_vs_female_classification/test.csv\")\n",
        "\n",
        "X_train = []\n",
        "X_test = []\n",
        "\n",
        "for img_name in traindata.image_names:\n",
        "    # read the image from location\n",
        "    img = plt.imread('/content/drive/My Drive/DLDatasets/CV101/datasets/male_vs_female_classification/images/' + img_name)\n",
        "    # pile it one over the other\n",
        "    X_train.append(img)\n",
        "\n",
        "for img_name in testdata.image_names:\n",
        "    # read the image from location\n",
        "    img = plt.imread('/content/drive/My Drive/DLDatasets/CV101/datasets/male_vs_female_classification/images/' + img_name)\n",
        "    # pile it one over the other\n",
        "    X_test.append(img)\n",
        "\n",
        "X_train = np.array(X_train)\n",
        "X_test = np.array(X_test)\n",
        "\n",
        "y_train = traindata['class']\n",
        "y_test = testdata['class']\n",
        "\n",
        "y_train = to_categorical(y_train)\n",
        "y_test = to_categorical(y_test)\n",
        "  "
      ],
      "execution_count": 0,
      "outputs": []
    },
    {
      "metadata": {
        "id": "zYvui0NvnO4t",
        "colab_type": "code",
        "colab": {}
      },
      "cell_type": "code",
      "source": [
        "X_train = preprocess_input(X_train, mode='tf')\n",
        "X_test = preprocess_input(X_test, mode='tf')"
      ],
      "execution_count": 0,
      "outputs": []
    },
    {
      "metadata": {
        "id": "_ctxUts0w63y",
        "colab_type": "code",
        "colab": {}
      },
      "cell_type": "code",
      "source": [
        "base_model = VGG16(weights='imagenet', input_shape=(224, 224, 3), include_top=False)\n",
        "base_model.summary()"
      ],
      "execution_count": 0,
      "outputs": []
    },
    {
      "metadata": {
        "id": "8cQUqWG506GV",
        "colab_type": "code",
        "colab": {}
      },
      "cell_type": "code",
      "source": [
        "base_model_pred = base_model.predict(X_train)\n",
        "base_model_pred_test = base_model.predict(X_test)"
      ],
      "execution_count": 0,
      "outputs": []
    },
    {
      "metadata": {
        "id": "tpzghlefl0kw",
        "colab_type": "code",
        "colab": {}
      },
      "cell_type": "code",
      "source": [
        "base_model_pred = base_model_pred.reshape(12196, 7*7*512)\n",
        "\n",
        "base_model_pred_test = base_model_pred_test.reshape(5227, 7*7*512)\n"
      ],
      "execution_count": 0,
      "outputs": []
    },
    {
      "metadata": {
        "id": "iaXhs7dwl_8K",
        "colab_type": "code",
        "colab": {}
      },
      "cell_type": "code",
      "source": [
        "max_val = base_model_pred.max()\n",
        "\n",
        "base_model_pred = base_model_pred / max_val\n",
        "base_model_pred_test = base_model_pred_test / max_val"
      ],
      "execution_count": 0,
      "outputs": []
    },
    {
      "metadata": {
        "id": "uqg8hEYtmYfW",
        "colab_type": "code",
        "colab": {}
      },
      "cell_type": "code",
      "source": [
        "model = Sequential()\n",
        "model.add(InputLayer((7*7*512, )))\n",
        "model.add(Dense(units=1024, activation='relu'))\n",
        "model.add(Dense(units=2, activation='softmax'))"
      ],
      "execution_count": 0,
      "outputs": []
    },
    {
      "metadata": {
        "id": "5_bi8r6Cmc4B",
        "colab_type": "code",
        "colab": {}
      },
      "cell_type": "code",
      "source": [
        "model.compile(optimizer='sgd', metrics=['accuracy'], loss='categorical_crossentropy')\n",
        "model.summary()"
      ],
      "execution_count": 0,
      "outputs": []
    },
    {
      "metadata": {
        "id": "4m-iZBTOmi8F",
        "colab_type": "code",
        "colab": {}
      },
      "cell_type": "code",
      "source": [
        "model.fit(base_model_pred, y_train, epochs=15)\n"
      ],
      "execution_count": 0,
      "outputs": []
    },
    {
      "metadata": {
        "id": "Rt-4yUAjmolZ",
        "colab_type": "code",
        "colab": {}
      },
      "cell_type": "code",
      "source": [
        "predictions = model.predict_classes(base_model_pred_test)\n",
        "predictions"
      ],
      "execution_count": 0,
      "outputs": []
    },
    {
      "metadata": {
        "id": "Y-H_HDZ7mtA6",
        "colab_type": "code",
        "colab": {}
      },
      "cell_type": "code",
      "source": [
        "prediction_probabilities = model.predict(base_model_pred_test)\n",
        "prediction_probabilities"
      ],
      "execution_count": 0,
      "outputs": []
    },
    {
      "metadata": {
        "id": "e1726dXSmzPl",
        "colab_type": "code",
        "colab": {}
      },
      "cell_type": "code",
      "source": [
        ""
      ],
      "execution_count": 0,
      "outputs": []
    }
  ]
}