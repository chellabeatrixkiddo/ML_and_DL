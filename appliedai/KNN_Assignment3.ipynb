{
  "nbformat": 4,
  "nbformat_minor": 0,
  "metadata": {
    "colab": {
      "name": "KNN_Assignment3.ipynb",
      "version": "0.3.2",
      "provenance": [],
      "collapsed_sections": [
        "DjGwV8QL9mft"
      ],
      "toc_visible": true
    },
    "kernelspec": {
      "name": "python3",
      "display_name": "Python 3"
    },
    "accelerator": "GPU"
  },
  "cells": [
    {
      "metadata": {
        "id": "lfzdz9Up7OG7",
        "colab_type": "code",
        "colab": {}
      },
      "cell_type": "code",
      "source": [
        "%matplotlib inline\n",
        "import warnings\n",
        "warnings.filterwarnings(\"ignore\")\n",
        "import matplotlib.pyplot as plt\n",
        "import matplotlib\n",
        "import itertools\n",
        "import seaborn as sns\n",
        "import sklearn.metrics\n",
        "from sklearn.metrics import confusion_matrix\n",
        "from sklearn import metrics\n",
        "from sklearn.metrics import roc_curve, auc\n",
        "from sklearn.metrics import roc_auc_score\n",
        "import pickle\n",
        "matplotlib.rc(\"lines\", markeredgewidth=0.5)\n",
        "from google.colab import drive\n",
        "from sklearn.neighbors import KNeighborsClassifier\n",
        "from scipy import sparse\n",
        "import numpy as np\n",
        "from sklearn.feature_selection import SelectKBest, chi2"
      ],
      "execution_count": 0,
      "outputs": []
    },
    {
      "metadata": {
        "id": "CG6wWNg_8ElB",
        "colab_type": "code",
        "outputId": "02c45d17-2ac5-49ba-b57e-1dc581a0cdea",
        "colab": {
          "base_uri": "https://localhost:8080/",
          "height": 34
        }
      },
      "cell_type": "code",
      "source": [
        "drive.mount('/content/drive', force_remount=True)"
      ],
      "execution_count": 0,
      "outputs": [
        {
          "output_type": "stream",
          "text": [
            "Mounted at /content/drive\n"
          ],
          "name": "stdout"
        }
      ]
    },
    {
      "metadata": {
        "id": "DjGwV8QL9mft",
        "colab_type": "text"
      },
      "cell_type": "markdown",
      "source": [
        "### 2.4.1 Applying KNN brute force on BOW,<font color='red'> SET 1</font>"
      ]
    },
    {
      "metadata": {
        "id": "7XfM5X3_8daT",
        "colab_type": "code",
        "colab": {}
      },
      "cell_type": "code",
      "source": [
        "with open('/content/drive/My Drive/Assignment2/X_train_sm_bow', 'rb') as f1:\n",
        "    X_train_sm = pickle.load(f1)\n",
        "\n",
        "with open('/content/drive/My Drive/Assignment2/Y_train_sm_bow', 'rb') as f2:\n",
        "  Y_train_sm = pickle.load(f2)\n",
        "  \n",
        "with open('/content/drive/My Drive/Assignment2/X_cv_std_bow', 'rb') as f3:\n",
        "  X_cv_std = pickle.load(f3)\n",
        "  \n",
        "with open('/content/drive/My Drive/Assignment2/Y_cv_bow', 'rb') as f4:\n",
        "  Y_cv = pickle.load(f4)\n",
        "  \n",
        "with open('/content/drive/My Drive/Assignment2/X_test_std_bow', 'rb') as f5:\n",
        "  X_test_std = pickle.load(f5)\n",
        "  \n",
        "with open('/content/drive/My Drive/Assignment2/Y_test_bow', 'rb') as f6:\n",
        "  Y_test = pickle.load(f6)\n"
      ],
      "execution_count": 0,
      "outputs": []
    },
    {
      "metadata": {
        "id": "KruNy1g6_c8g",
        "colab_type": "code",
        "outputId": "b6657f40-71e2-412b-c835-5a54a7129711",
        "colab": {
          "base_uri": "https://localhost:8080/",
          "height": 68
        }
      },
      "cell_type": "code",
      "source": [
        "print(X_train_sm.shape, Y_train_sm.shape)\n",
        "print(X_cv_std.shape, Y_cv.shape)\n",
        "print(X_test_std.shape, Y_test.shape)"
      ],
      "execution_count": 0,
      "outputs": [
        {
          "output_type": "stream",
          "text": [
            "(110392, 26612) (110392,)\n",
            "(21850, 26612) (21850,)\n",
            "(21850, 26612) (21850,)\n"
          ],
          "name": "stdout"
        }
      ]
    },
    {
      "metadata": {
        "id": "n1fiHYED9O-0",
        "colab_type": "code",
        "outputId": "d02c53b6-0fb0-4157-d9bb-842dc0a0c34a",
        "colab": {
          "base_uri": "https://localhost:8080/",
          "height": 527
        }
      },
      "cell_type": "code",
      "source": [
        "\n",
        "auc_scores_cv = dict()\n",
        "auc_scores_train = dict()\n",
        "\n",
        "for i in range(1,20,2):\n",
        "    # instantiate learning model (k = 20)\n",
        "    print(\"k:\", i)\n",
        "    knn = KNeighborsClassifier(n_neighbors=i)\n",
        "\n",
        "    # fitting the model on the train data\n",
        "    knn.fit(X_train_sm, Y_train_sm)\n",
        "\n",
        "    # predict the response on the crossvalidation data\n",
        "    pred_cv = knn.predict(X_cv_std)\n",
        "\n",
        "    # predict the response on the train data\n",
        "    pred_train = knn.predict(X_train_sm)\n",
        "    \n",
        "    # evaluate CV AUC-ROC\n",
        "    auc = roc_auc_score(Y_cv, pred_cv)\n",
        "    auc_scores_cv[i] = auc\n",
        "    print(\"Validation-AUC:\", auc)\n",
        "    \n",
        "    # evaluate CV AUC-ROC\n",
        "    auc = roc_auc_score(Y_train_sm, pred_train)\n",
        "    auc_scores_train[i] = auc\n",
        "    print(\"Train-AUC:\", auc)"
      ],
      "execution_count": 0,
      "outputs": [
        {
          "output_type": "stream",
          "text": [
            "k: 1\n",
            "Validation-AUC: 0.525268754008913\n",
            "Train-AUC: 0.9999909413725632\n",
            "k: 3\n",
            "Validation-AUC: 0.5153858615954825\n",
            "Train-AUC: 0.7045075730125372\n",
            "k: 5\n",
            "Validation-AUC: 0.5139978366727552\n",
            "Train-AUC: 0.5997807812160302\n",
            "k: 7\n",
            "Validation-AUC: 0.5075087354132796\n",
            "Train-AUC: 0.5532194361910283\n",
            "k: 9\n",
            "Validation-AUC: 0.5064491276913371\n",
            "Train-AUC: 0.5295130081889992\n",
            "k: 11\n",
            "Validation-AUC: 0.5045293838743633\n",
            "Train-AUC: 0.5168037538952098\n",
            "k: 13\n",
            "Validation-AUC: 0.5033201394144224\n",
            "Train-AUC: 0.5093847380244946\n",
            "k: 15\n",
            "Validation-AUC: 0.5022245642859061\n",
            "Train-AUC: 0.5054804695992463\n",
            "k: 17\n",
            "Validation-AUC: 0.5022039611692884\n",
            "Train-AUC: 0.5033879266613522\n",
            "k: 19\n",
            "Validation-AUC: 0.5013741574403886\n",
            "Train-AUC: 0.5019476048989058\n"
          ],
          "name": "stdout"
        }
      ]
    },
    {
      "metadata": {
        "id": "xoK6x0jl9SUv",
        "colab_type": "code",
        "outputId": "5c061587-8f7a-443e-f0e6-46f666231eef",
        "colab": {
          "base_uri": "https://localhost:8080/",
          "height": 294
        }
      },
      "cell_type": "code",
      "source": [
        "## plot the AUC-ROC against the 'k' values for train and cross-validation\n",
        "\n",
        "plt.plot(auc_scores_cv.keys(), auc_scores_cv.values(), label='Validation AUC')\n",
        "plt.plot(auc_scores_train.keys(), auc_scores_train.values(), label='Train AUC')\n",
        "plt.title('Hyperparameter Search - \"k\" in KNN')\n",
        "plt.xlabel('Hyperparameter k')\n",
        "plt.ylim([0.4,1.1])\n",
        "plt.xlim([0,20])\n",
        "plt.ylabel('Area under the ROC curve')\n",
        "plt.legend()\n",
        "plt.show()"
      ],
      "execution_count": 0,
      "outputs": [
        {
          "output_type": "display_data",
          "data": {
            "image/png": "[encoded data removed]",
            "text/plain": [
              "<Figure size 432x288 with 1 Axes>"
            ]
          },
          "metadata": {
            "tags": []
          }
        }
      ]
    },
    {
      "metadata": {
        "id": "yPHE6HpAPLGr",
        "colab_type": "code",
        "outputId": "09c2569b-0abe-4760-dc48-8abab207948b",
        "colab": {
          "base_uri": "https://localhost:8080/",
          "height": 68
        }
      },
      "cell_type": "code",
      "source": [
        "## Choose k as 3 and train the model and predict y labels for test data\n",
        "\n",
        "knn = KNeighborsClassifier(n_neighbors=3)\n",
        "\n",
        "# fitting the model on the train data\n",
        "knn.fit(X_train_sm, Y_train_sm)\n"
      ],
      "execution_count": 0,
      "outputs": [
        {
          "output_type": "execute_result",
          "data": {
            "text/plain": [
              "KNeighborsClassifier(algorithm='auto', leaf_size=30, metric='minkowski',\n",
              "           metric_params=None, n_jobs=None, n_neighbors=3, p=2,\n",
              "           weights='uniform')"
            ]
          },
          "metadata": {
            "tags": []
          },
          "execution_count": 48
        }
      ]
    },
    {
      "metadata": {
        "id": "PM8XM-kK_cXA",
        "colab_type": "code",
        "colab": {}
      },
      "cell_type": "code",
      "source": [
        "## roc curve for knn python: https://stackoverflow.com/questions/52910061/implementing-roc-curves-for-k-nn-machine-learning-algorithm-using-python-and-sci\n",
        "\n",
        "# predict positive class probabilities for test data\n",
        "pred_test_scores = knn.predict_proba(X_test_std)\n",
        "fpr_test, tpr_test, threshold = roc_curve(Y_test, pred_test_scores[:, 1])\n",
        "roc_auc_test = sklearn.metrics.auc(fpr_test, tpr_test)\n",
        "\n",
        "# predict positive class probabilities for train data\n",
        "pred_train_scores = knn.predict_proba(X_train_sm)\n",
        "fpr_train, tpr_train, threshold = roc_curve(Y_train_sm, pred_train_scores[:, 1])\n",
        "roc_auc_train = sklearn.metrics.auc(fpr_train, tpr_train)\n",
        "\n"
      ],
      "execution_count": 0,
      "outputs": []
    },
    {
      "metadata": {
        "id": "B5KwYWBaRhSy",
        "colab_type": "code",
        "outputId": "944cfab4-8380-458b-cb9c-d4bdfc1da8a8",
        "colab": {
          "base_uri": "https://localhost:8080/",
          "height": 294
        }
      },
      "cell_type": "code",
      "source": [
        "plt.title('Receiver Operating Characteristic')\n",
        "plt.plot(fpr_test, tpr_test, 'b', label = 'AUC = %0.2f' % roc_auc_test)\n",
        "plt.plot(fpr_train, tpr_train, 'g', label = 'AUC = %0.2f' % roc_auc_train)\n",
        "plt.legend(loc = 'lower right')\n",
        "plt.plot([0, 1], [0, 1],'r--')\n",
        "plt.xlim([0, 1])\n",
        "plt.ylim([0, 1])\n",
        "plt.ylabel('True Positive Rate')\n",
        "plt.xlabel('False Positive Rate')\n",
        "plt.title('ROC Curve of kNN : k = 3')\n",
        "plt.show()\n"
      ],
      "execution_count": 0,
      "outputs": [
        {
          "output_type": "display_data",
          "data": {
            "image/png": "[encoded data removed]",
            "text/plain": [
              "<Figure size 432x288 with 1 Axes>"
            ]
          },
          "metadata": {
            "tags": []
          }
        }
      ]
    },
    {
      "metadata": {
        "id": "rXg_mgVU5tkX",
        "colab_type": "code",
        "colab": {}
      },
      "cell_type": "code",
      "source": [
        "## Confusion Matrix:\n",
        "\n",
        "# predict the response on the test data\n",
        "pred_test = knn.predict(X_test_std)\n",
        "\n",
        "c_mat = confusion_matrix(Y_test, pred_test)\n"
      ],
      "execution_count": 0,
      "outputs": []
    },
    {
      "metadata": {
        "id": "pepSkbNL5umA",
        "colab_type": "code",
        "outputId": "2e1eae98-66d5-4499-f814-edbb8089feed",
        "colab": {
          "base_uri": "https://localhost:8080/",
          "height": 297
        }
      },
      "cell_type": "code",
      "source": [
        "# sklearn confusion matrix: https://scikit-learn.org/stable/auto_examples/model_selection/plot_confusion_matrix.html#sphx-glr-auto-examples-model-selection-plot-confusion-matrix-py\n",
        "\n",
        "classes = ['Rejected', 'Approved']\n",
        "\n",
        "plt.figure()\n",
        "plt.title(\"Confusion Matrix\")\n",
        "plt.imshow(c_mat, cmap=plt.cm.Blues)\n",
        "plt.colorbar()\n",
        "#plt.matshow(c_mat)\n",
        "tick_marks = np.arange(len(classes))\n",
        "plt.xticks(tick_marks, classes)\n",
        "plt.yticks(tick_marks, classes)\n",
        "for i, j in itertools.product(range(c_mat.shape[0]), range(c_mat.shape[1])):\n",
        "        plt.text(j, i, c_mat[i, j],\n",
        "                 horizontalalignment=\"center\",\n",
        "                 color=\"black\")\n",
        "plt.ylabel('True label')\n",
        "plt.xlabel('Predicted label')\n",
        "plt.grid()\n",
        "plt.tight_layout()\n",
        "plt.show()"
      ],
      "execution_count": 0,
      "outputs": [
        {
          "output_type": "display_data",
          "data": {
            "image/png": "[encoded data removed]",
            "text/plain": [
              "<Figure size 432x288 with 2 Axes>"
            ]
          },
          "metadata": {
            "tags": []
          }
        }
      ]
    },
    {
      "metadata": {
        "id": "2kYtdNPDh9Ac",
        "colab_type": "text"
      },
      "cell_type": "markdown",
      "source": [
        "### 2.4.2 Applying KNN brute force on TFIDF,<font color='red'> SET 2</font>"
      ]
    },
    {
      "metadata": {
        "id": "lqGkAz4Ch8JF",
        "colab_type": "code",
        "colab": {}
      },
      "cell_type": "code",
      "source": [
        "with open('/content/drive/My Drive/Assignment2/X_train_sm_tfidf', 'rb') as f1:\n",
        "    X_train_sm = pickle.load(f1)\n",
        "\n",
        "with open('/content/drive/My Drive/Assignment2/Y_train_sm_tfidf', 'rb') as f2:\n",
        "  Y_train_sm = pickle.load(f2)\n",
        "  \n",
        "with open('/content/drive/My Drive/Assignment2/X_cv_std_tfidf', 'rb') as f3:\n",
        "  X_cv_std = pickle.load(f3)\n",
        "  \n",
        "with open('/content/drive/My Drive/Assignment2/Y_cv_tfidf', 'rb') as f4:\n",
        "  Y_cv = pickle.load(f4)\n",
        "  \n",
        "with open('/content/drive/My Drive/Assignment2/X_test_std_tfidf', 'rb') as f5:\n",
        "  X_test_std = pickle.load(f5)\n",
        "  \n",
        "with open('/content/drive/My Drive/Assignment2/Y_test_tfidf', 'rb') as f6:\n",
        "  Y_test = pickle.load(f6)\n"
      ],
      "execution_count": 0,
      "outputs": []
    },
    {
      "metadata": {
        "id": "BIwt31z7iV1k",
        "colab_type": "code",
        "outputId": "4ee214b0-a7f6-4247-bde1-0996664d795e",
        "colab": {
          "base_uri": "https://localhost:8080/",
          "height": 68
        }
      },
      "cell_type": "code",
      "source": [
        "print(X_train_sm.shape, Y_train_sm.shape)\n",
        "print(X_cv_std.shape, Y_cv.shape)\n",
        "print(X_test_std.shape, Y_test.shape)"
      ],
      "execution_count": 0,
      "outputs": [
        {
          "output_type": "stream",
          "text": [
            "(110392, 4097) (110392,)\n",
            "(21850, 4097) (21850,)\n",
            "(21850, 4097) (21850,)\n"
          ],
          "name": "stdout"
        }
      ]
    },
    {
      "metadata": {
        "id": "LVgnI5utiZUa",
        "colab_type": "code",
        "outputId": "70d13ea3-61ed-4039-b63b-be14958186d0",
        "colab": {
          "base_uri": "https://localhost:8080/",
          "height": 527
        }
      },
      "cell_type": "code",
      "source": [
        "\n",
        "auc_scores_cv = dict()\n",
        "auc_scores_train = dict()\n",
        "\n",
        "for i in range(1,20,2):\n",
        "    # instantiate learning model (k = 20)\n",
        "    print(\"k:\", i)\n",
        "    knn = KNeighborsClassifier(n_neighbors=i)\n",
        "\n",
        "    # fitting the model on the train data\n",
        "    knn.fit(X_train_sm, Y_train_sm)\n",
        "\n",
        "    # predict the response on the crossvalidation data\n",
        "    pred_cv = knn.predict(X_cv_std)\n",
        "\n",
        "    # predict the response on the train data\n",
        "    pred_train = knn.predict(X_train_sm)\n",
        "    \n",
        "    # evaluate CV AUC-ROC\n",
        "    auc_val = roc_auc_score(Y_cv, pred_cv)\n",
        "    auc_scores_cv[i] = auc_val\n",
        "    print(\"Validation-AUC:\", auc_val)\n",
        "    \n",
        "    # evaluate CV AUC-ROC\n",
        "    auc_val = roc_auc_score(Y_train_sm, pred_train)\n",
        "    auc_scores_train[i] = auc_val\n",
        "    print(\"Train-AUC:\", auc_val)"
      ],
      "execution_count": 0,
      "outputs": [
        {
          "output_type": "stream",
          "text": [
            "k: 1\n",
            "Validation-AUC: 0.5272666399882721\n",
            "Train-AUC: 0.9999909413725632\n",
            "k: 3\n",
            "Validation-AUC: 0.514943378849492\n",
            "Train-AUC: 0.6534169142691499\n",
            "k: 5\n",
            "Validation-AUC: 0.5126841678696157\n",
            "Train-AUC: 0.5973893035727226\n",
            "k: 7\n",
            "Validation-AUC: 0.5106332332673417\n",
            "Train-AUC: 0.5823700992825567\n",
            "k: 9\n",
            "Validation-AUC: 0.5115355000944309\n",
            "Train-AUC: 0.575920356547576\n",
            "k: 11\n",
            "Validation-AUC: 0.5117075889466921\n",
            "Train-AUC: 0.5721972606710631\n",
            "k: 13\n",
            "Validation-AUC: 0.5104736471610622\n",
            "Train-AUC: 0.5694524965577215\n",
            "k: 15\n",
            "Validation-AUC: 0.5105526697985164\n",
            "Train-AUC: 0.566435973621277\n",
            "k: 17\n",
            "Validation-AUC: 0.5110629931485833\n",
            "Train-AUC: 0.5641441408797739\n",
            "k: 19\n",
            "Validation-AUC: 0.5112809987756994\n",
            "Train-AUC: 0.5606022175519966\n"
          ],
          "name": "stdout"
        }
      ]
    },
    {
      "metadata": {
        "id": "0SNqWv7biqkF",
        "colab_type": "code",
        "outputId": "e17f875c-c4f8-492a-edf1-70a05aacbe35",
        "colab": {
          "base_uri": "https://localhost:8080/",
          "height": 294
        }
      },
      "cell_type": "code",
      "source": [
        "## plot the AUC-ROC against the 'k' values for train and cross-validation\n",
        "\n",
        "plt.plot(auc_scores_cv.keys(), auc_scores_cv.values(), label='Validation AUC')\n",
        "plt.plot(auc_scores_train.keys(), auc_scores_train.values(), label='Train AUC')\n",
        "plt.title('Hyperparameter Search - \"k\" in KNN')\n",
        "plt.xlabel('Hyperparameter k')\n",
        "plt.ylim([0.4,1.1])\n",
        "plt.xlim([0,20])\n",
        "plt.ylabel('Area under the ROC curve')\n",
        "plt.legend()\n",
        "plt.show()"
      ],
      "execution_count": 0,
      "outputs": [
        {
          "output_type": "display_data",
          "data": {
            "image/png": "[encoded data removed]",
            "text/plain": [
              "<Figure size 432x288 with 1 Axes>"
            ]
          },
          "metadata": {
            "tags": []
          }
        }
      ]
    },
    {
      "metadata": {
        "id": "CYJ6yI5Xisao",
        "colab_type": "code",
        "outputId": "2ee839ee-3648-4c04-a1c0-b792accdafd0",
        "colab": {
          "base_uri": "https://localhost:8080/",
          "height": 68
        }
      },
      "cell_type": "code",
      "source": [
        "## Choose k as 3 and train the model and predict y labels for test data\n",
        "\n",
        "knn = KNeighborsClassifier(n_neighbors=3)\n",
        "\n",
        "# fitting the model on the train data\n",
        "knn.fit(X_train_sm, Y_train_sm)\n"
      ],
      "execution_count": 0,
      "outputs": [
        {
          "output_type": "execute_result",
          "data": {
            "text/plain": [
              "KNeighborsClassifier(algorithm='auto', leaf_size=30, metric='minkowski',\n",
              "           metric_params=None, n_jobs=None, n_neighbors=3, p=2,\n",
              "           weights='uniform')"
            ]
          },
          "metadata": {
            "tags": []
          },
          "execution_count": 41
        }
      ]
    },
    {
      "metadata": {
        "id": "S8qHBMioizIj",
        "colab_type": "code",
        "colab": {}
      },
      "cell_type": "code",
      "source": [
        "## roc curve for knn python: https://stackoverflow.com/questions/52910061/implementing-roc-curves-for-k-nn-machine-learning-algorithm-using-python-and-sci\n",
        "\n",
        "# predict positive class probabilities for test data\n",
        "pred_test_scores = knn.predict_proba(X_test_std)\n",
        "fpr_test, tpr_test, threshold = roc_curve(Y_test, pred_test_scores[:, 1])\n",
        "roc_auc_test = sklearn.metrics.auc(fpr_test, tpr_test)\n",
        "\n",
        "# predict positive class probabilities for train data\n",
        "pred_train_scores = knn.predict_proba(X_train_sm)\n",
        "fpr_train, tpr_train, threshold = roc_curve(Y_train_sm, pred_train_scores[:, 1])\n",
        "roc_auc_train = sklearn.metrics.auc(fpr_train, tpr_train)\n",
        "\n"
      ],
      "execution_count": 0,
      "outputs": []
    },
    {
      "metadata": {
        "id": "T3QpKmpDi48C",
        "colab_type": "code",
        "outputId": "7572fabe-a743-4600-fb55-b99cdef41a98",
        "colab": {
          "base_uri": "https://localhost:8080/",
          "height": 294
        }
      },
      "cell_type": "code",
      "source": [
        "plt.title('Receiver Operating Characteristic')\n",
        "plt.plot(fpr_test, tpr_test, 'b', label = 'AUC = %0.2f' % roc_auc_test)\n",
        "plt.plot(fpr_train, tpr_train, 'g', label = 'AUC = %0.2f' % roc_auc_train)\n",
        "plt.legend(loc = 'lower right')\n",
        "plt.plot([0, 1], [0, 1],'r--')\n",
        "plt.xlim([0, 1])\n",
        "plt.ylim([0, 1])\n",
        "plt.ylabel('True Positive Rate')\n",
        "plt.xlabel('False Positive Rate')\n",
        "plt.title('ROC Curve of kNN : k = 3')\n",
        "plt.show()\n"
      ],
      "execution_count": 0,
      "outputs": [
        {
          "output_type": "display_data",
          "data": {
            "image/png": "[encoded data removed]",
            "text/plain": [
              "<Figure size 432x288 with 1 Axes>"
            ]
          },
          "metadata": {
            "tags": []
          }
        }
      ]
    },
    {
      "metadata": {
        "id": "HgGxfJUJ2UX7",
        "colab_type": "code",
        "colab": {}
      },
      "cell_type": "code",
      "source": [
        "## Confusion Matrix:\n",
        "\n",
        "# predict the response on the test data\n",
        "pred_test = knn.predict(X_test_std)\n",
        "\n",
        "c_mat = confusion_matrix(Y_test, pred_test)\n"
      ],
      "execution_count": 0,
      "outputs": []
    },
    {
      "metadata": {
        "id": "0ePZ8xCU2VKQ",
        "colab_type": "code",
        "outputId": "416aa868-2cf3-4662-a3c2-a9c6e45a1a77",
        "colab": {
          "base_uri": "https://localhost:8080/",
          "height": 297
        }
      },
      "cell_type": "code",
      "source": [
        "# sklearn confusion matrix: https://scikit-learn.org/stable/auto_examples/model_selection/plot_confusion_matrix.html#sphx-glr-auto-examples-model-selection-plot-confusion-matrix-py\n",
        "\n",
        "classes = ['Rejected', 'Approved']\n",
        "\n",
        "plt.figure()\n",
        "plt.title(\"Confusion Matrix\")\n",
        "plt.imshow(c_mat, cmap=plt.cm.Blues)\n",
        "plt.colorbar()\n",
        "#plt.matshow(c_mat)\n",
        "tick_marks = np.arange(len(classes))\n",
        "plt.xticks(tick_marks, classes)\n",
        "plt.yticks(tick_marks, classes)\n",
        "for i, j in itertools.product(range(c_mat.shape[0]), range(c_mat.shape[1])):\n",
        "        plt.text(j, i, c_mat[i, j],\n",
        "                 horizontalalignment=\"center\",\n",
        "                 color=\"black\")\n",
        "plt.ylabel('True label')\n",
        "plt.xlabel('Predicted label')\n",
        "plt.grid()\n",
        "plt.tight_layout()\n",
        "plt.show()"
      ],
      "execution_count": 0,
      "outputs": [
        {
          "output_type": "display_data",
          "data": {
            "image/png": "[encoded data removed]",
            "text/plain": [
              "<Figure size 432x288 with 2 Axes>"
            ]
          },
          "metadata": {
            "tags": []
          }
        }
      ]
    },
    {
      "metadata": {
        "id": "xpEuG0PhNyQQ",
        "colab_type": "text"
      },
      "cell_type": "markdown",
      "source": [
        "### 2.4.3 Applying KNN brute force on AVG W2V,<font color='red'> SET 3</font>"
      ]
    },
    {
      "metadata": {
        "id": "Qbgu27jpN4ZW",
        "colab_type": "code",
        "colab": {}
      },
      "cell_type": "code",
      "source": [
        "## Using the original imbalanced data for training & taking only the top 200 features:\n",
        "\n",
        "\n",
        "with open('/content/drive/My Drive/Assignment2/X_train_std_avgw2v', 'rb') as f1:\n",
        "    X_train_std = pickle.load(f1)\n",
        "\n",
        "with open('/content/drive/My Drive/Assignment2/Y_train_avgw2v', 'rb') as f2:\n",
        "  Y_train_std = pickle.load(f2)\n",
        "  \n",
        "with open('/content/drive/My Drive/Assignment2/X_cv_std_avgw2v', 'rb') as f3:\n",
        "  X_cv_std = pickle.load(f3)\n",
        "  \n",
        "with open('/content/drive/My Drive/Assignment2/Y_cv_avgw2v', 'rb') as f4:\n",
        "  Y_cv = pickle.load(f4)\n",
        "  \n",
        "with open('/content/drive/My Drive/Assignment2/X_test_std_avgw2v', 'rb') as f5:\n",
        "  X_test_std = pickle.load(f5)\n",
        "  \n",
        "with open('/content/drive/My Drive/Assignment2/Y_test_avgw2v', 'rb') as f6:\n",
        "  Y_test = pickle.load(f6)\n"
      ],
      "execution_count": 0,
      "outputs": []
    },
    {
      "metadata": {
        "id": "10rIMo9YP-__",
        "colab_type": "code",
        "outputId": "dcc38645-a609-400e-ef69-4f7a756c47f6",
        "colab": {
          "base_uri": "https://localhost:8080/",
          "height": 68
        }
      },
      "cell_type": "code",
      "source": [
        "print(X_train_std.shape, Y_train_std.shape)\n",
        "print(X_cv_std.shape, Y_cv.shape)\n",
        "print(X_test_std.shape, Y_test.shape)"
      ],
      "execution_count": 0,
      "outputs": [
        {
          "output_type": "stream",
          "text": [
            "(65548, 697) (65548,)\n",
            "(21850, 697) (21850,)\n",
            "(21850, 697) (21850,)\n"
          ],
          "name": "stdout"
        }
      ]
    },
    {
      "metadata": {
        "id": "vzv74qaCPnW9",
        "colab_type": "code",
        "colab": {}
      },
      "cell_type": "code",
      "source": [
        "## Truncated SVD to convert sparse matrix to dense matrix (dimensionality reduction) on avg-w2v \n",
        "## and tfidf-w2v vectorized data matrix\n",
        "\n",
        "## original number of features 697\n",
        "## reduce it to, say, 200 features\n",
        "\n",
        "# truncated svd sklearn: https://scikit-learn.org/stable/modules/generated/sklearn.decomposition.TruncatedSVD.html\n",
        "from sklearn.decomposition import TruncatedSVD\n",
        "svd = TruncatedSVD(n_components=200, n_iter=7, random_state=42)\n",
        "X_train_sm_red = svd.fit_transform(X_train_std)\n",
        "X_cv_std_red = svd.transform(X_cv_std)\n",
        "X_test_std_red = svd.transform(X_test_std)\n"
      ],
      "execution_count": 0,
      "outputs": []
    },
    {
      "metadata": {
        "id": "xyghFOqcUR6j",
        "colab_type": "code",
        "outputId": "aa89e501-6305-4e34-dcaa-a558c0330f33",
        "colab": {
          "base_uri": "https://localhost:8080/",
          "height": 68
        }
      },
      "cell_type": "code",
      "source": [
        "print(X_train_sm_red.shape, Y_train_std.shape)\n",
        "print(X_cv_std_red.shape, Y_cv.shape)\n",
        "print(X_test_std_red.shape, Y_test.shape)"
      ],
      "execution_count": 0,
      "outputs": [
        {
          "output_type": "stream",
          "text": [
            "(65548, 200) (65548,)\n",
            "(21850, 200) (21850,)\n",
            "(21850, 200) (21850,)\n"
          ],
          "name": "stdout"
        }
      ]
    },
    {
      "metadata": {
        "id": "9HH7VOFBUY2h",
        "colab_type": "code",
        "outputId": "7b429739-79df-4549-efcb-7a871e568f4f",
        "colab": {
          "base_uri": "https://localhost:8080/",
          "height": 527
        }
      },
      "cell_type": "code",
      "source": [
        "auc_scores_cv = dict()\n",
        "auc_scores_train = dict()\n",
        "\n",
        "for i in range(1,20,2):\n",
        "    # instantiate learning model (k = 20)\n",
        "    print(\"k:\", i)\n",
        "    knn = KNeighborsClassifier(n_neighbors=i)\n",
        "\n",
        "    # fitting the model on the train data\n",
        "    knn.fit(X_train_sm_red, Y_train_std)\n",
        "\n",
        "    # predict the response on the crossvalidation data\n",
        "    pred_cv = knn.predict(X_cv_std_red)\n",
        "\n",
        "    # predict the response on the train data\n",
        "    pred_train = knn.predict(X_train_sm_red)\n",
        "    \n",
        "    # evaluate CV AUC-ROC\n",
        "    auc_val = roc_auc_score(Y_cv, pred_cv)\n",
        "    auc_scores_cv[i] = auc_val\n",
        "    print(\"Validation-AUC:\", auc_val)\n",
        "    \n",
        "    # evaluate CV AUC-ROC\n",
        "    auc_val = roc_auc_score(Y_train_std, pred_train)\n",
        "    auc_scores_train[i] = auc_val\n",
        "    print(\"Train-AUC:\", auc_val)\n",
        "\n",
        "'''auc_scores_cv = dict()\n",
        "auc_scores_train = dict()\n",
        "\n",
        "auc_scores_cv[1] = 0.521721980311697\n",
        "auc_scores_cv[3] = 0.5219781545330598\n",
        "auc_scores_cv[5] = 0.5151784216691958\n",
        "auc_scores_cv[7] = 0.5094427869501268\n",
        "auc_scores_cv[9] = 0.5061341377353564\n",
        "auc_scores_cv[11] = 0.5063271378705093\n",
        "auc_scores_cv[13] = 0.5040057213269992\n",
        "auc_scores_cv[15] = 0.5028717134617153\n",
        "auc_scores_cv[17] = 0.5018635695075635\n",
        "auc_scores_cv[19] = 0.5014922291471586\n",
        "\n",
        "auc_scores_train[1] = 0.9999909413725632\n",
        "auc_scores_train[3] = 0.6512574256943333\n",
        "auc_scores_train[5] = 0.5767981823493022\n",
        "auc_scores_train[7] = 0.5414764238230197\n",
        "auc_scores_train[9] = 0.5264555184150275\n",
        "auc_scores_train[11] = 0.5184772933112439\n",
        "auc_scores_train[13] = 0.5133998731288124\n",
        "auc_scores_train[15] = 0.509680862035228\n",
        "auc_scores_train[17] = 0.5078424997028995\n",
        "auc_scores_train[19] = 0.5058411205793758\n",
        "\n",
        "for i in range(1, 20, 2):\n",
        "  print(\"k:\", i)\n",
        "  print(\"Validation-AUC:\", auc_scores_cv[i])\n",
        "  print(\"Train-AUC:\", auc_scores_train[i])'''"
      ],
      "execution_count": 0,
      "outputs": [
        {
          "output_type": "stream",
          "text": [
            "k: 1\n",
            "Validation-AUC: 0.521721980311697\n",
            "Train-AUC: 0.9999909413725632\n",
            "k: 3\n",
            "Validation-AUC: 0.5219781545330598\n",
            "Train-AUC: 0.6512574256943333\n",
            "k: 5\n",
            "Validation-AUC: 0.5151784216691958\n",
            "Train-AUC: 0.5767981823493022\n",
            "k: 7\n",
            "Validation-AUC: 0.5094427869501268\n",
            "Train-AUC: 0.5414764238230197\n",
            "k: 9\n",
            "Validation-AUC: 0.5061341377353564\n",
            "Train-AUC: 0.5264555184150275\n",
            "k: 11\n",
            "Validation-AUC: 0.5063271378705093\n",
            "Train-AUC: 0.5184772933112439\n",
            "k: 13\n",
            "Validation-AUC: 0.5040057213269992\n",
            "Train-AUC: 0.5133998731288124\n",
            "k: 15\n",
            "Validation-AUC: 0.5028717134617153\n",
            "Train-AUC: 0.509680862035228\n",
            "k: 17\n",
            "Validation-AUC: 0.5018635695075635\n",
            "Train-AUC: 0.5078424997028995\n",
            "k: 19\n",
            "Validation-AUC: 0.5014922291471586\n",
            "Train-AUC: 0.5058411205793758\n"
          ],
          "name": "stdout"
        }
      ]
    },
    {
      "metadata": {
        "id": "VszlOYN6zmqb",
        "colab_type": "code",
        "outputId": "df1228c2-0d0d-4ee0-a910-6c2a57d3293c",
        "colab": {
          "base_uri": "https://localhost:8080/",
          "height": 294
        }
      },
      "cell_type": "code",
      "source": [
        "## plot the AUC-ROC against the 'k' values for train and cross-validation\n",
        "\n",
        "plt.plot(auc_scores_cv.keys(), auc_scores_cv.values(), label='Validation AUC')\n",
        "plt.plot(auc_scores_train.keys(), auc_scores_train.values(), label='Train AUC')\n",
        "plt.title('Hyperparameter Search - \"k\" in KNN')\n",
        "plt.xlabel('Hyperparameter k')\n",
        "plt.ylim([0.4,1.1])\n",
        "plt.xlim([0,20])\n",
        "plt.ylabel('Area under the ROC curve')\n",
        "plt.legend()\n",
        "plt.show()"
      ],
      "execution_count": 0,
      "outputs": [
        {
          "output_type": "display_data",
          "data": {
            "image/png": "[encoded data removed]",
            "text/plain": [
              "<Figure size 432x288 with 1 Axes>"
            ]
          },
          "metadata": {
            "tags": []
          }
        }
      ]
    },
    {
      "metadata": {
        "id": "jmo7N4BJU7Ys",
        "colab_type": "code",
        "outputId": "28a21d5a-6aac-4e3a-80eb-8203dbfd8105",
        "colab": {
          "base_uri": "https://localhost:8080/",
          "height": 68
        }
      },
      "cell_type": "code",
      "source": [
        "## Choose k as 3 and train the model and predict y labels for test data\n",
        "\n",
        "knn = KNeighborsClassifier(n_neighbors=3)\n",
        "\n",
        "# fitting the model on the train data\n",
        "knn.fit(X_train_sm_red, Y_train_std)"
      ],
      "execution_count": 0,
      "outputs": [
        {
          "output_type": "execute_result",
          "data": {
            "text/plain": [
              "KNeighborsClassifier(algorithm='auto', leaf_size=30, metric='minkowski',\n",
              "           metric_params=None, n_jobs=None, n_neighbors=3, p=2,\n",
              "           weights='uniform')"
            ]
          },
          "metadata": {
            "tags": []
          },
          "execution_count": 36
        }
      ]
    },
    {
      "metadata": {
        "id": "U09mEU04U8B3",
        "colab_type": "code",
        "colab": {}
      },
      "cell_type": "code",
      "source": [
        "## roc curve for knn python: https://stackoverflow.com/questions/52910061/implementing-roc-curves-for-k-nn-machine-learning-algorithm-using-python-and-sci\n",
        "\n",
        "# predict positive class probabilities for test data\n",
        "pred_test_scores = knn.predict_proba(X_test_std_red)\n",
        "fpr_test, tpr_test, threshold = roc_curve(Y_test, pred_test_scores[:, 1])\n",
        "roc_auc_test = sklearn.metrics.auc(fpr_test, tpr_test)\n",
        "\n",
        "# predict positive class probabilities for train data\n",
        "pred_train_scores = knn.predict_proba(X_train_sm_red)\n",
        "fpr_train, tpr_train, threshold = roc_curve(Y_train_std, pred_train_scores[:, 1])\n",
        "roc_auc_train = sklearn.metrics.auc(fpr_train, tpr_train)\n"
      ],
      "execution_count": 0,
      "outputs": []
    },
    {
      "metadata": {
        "id": "Nj_ogzVLU_-7",
        "colab_type": "code",
        "outputId": "ad5b70bd-246b-4e89-e672-5a2df5949716",
        "colab": {
          "base_uri": "https://localhost:8080/",
          "height": 294
        }
      },
      "cell_type": "code",
      "source": [
        "plt.title('Receiver Operating Characteristic')\n",
        "plt.plot(fpr_test, tpr_test, 'b', label = 'AUC = %0.2f' % roc_auc_test)\n",
        "plt.plot(fpr_train, tpr_train, 'g', label = 'AUC = %0.2f' % roc_auc_train)\n",
        "plt.legend(loc = 'lower right')\n",
        "plt.plot([0, 1], [0, 1],'r--')\n",
        "plt.xlim([0, 1])\n",
        "plt.ylim([0, 1])\n",
        "plt.ylabel('True Positive Rate')\n",
        "plt.xlabel('False Positive Rate')\n",
        "plt.title('ROC Curve of kNN : k = 3')\n",
        "plt.show()\n"
      ],
      "execution_count": 0,
      "outputs": [
        {
          "output_type": "display_data",
          "data": {
            "image/png": "[encoded data removed]",
            "text/plain": [
              "<Figure size 432x288 with 1 Axes>"
            ]
          },
          "metadata": {
            "tags": []
          }
        }
      ]
    },
    {
      "metadata": {
        "id": "S49axuv-kj2H",
        "colab_type": "code",
        "colab": {}
      },
      "cell_type": "code",
      "source": [
        "## Confusion Matrix:\n",
        "\n",
        "# predict the response on the test data\n",
        "pred_test = knn.predict(X_test_std_red)\n",
        "\n",
        "c_mat = confusion_matrix(Y_test, pred_test)\n"
      ],
      "execution_count": 0,
      "outputs": []
    },
    {
      "metadata": {
        "id": "_IHsxKjOkkxY",
        "colab_type": "code",
        "outputId": "4a20938e-da14-4cd7-e16e-28b54f1ec693",
        "colab": {
          "base_uri": "https://localhost:8080/",
          "height": 297
        }
      },
      "cell_type": "code",
      "source": [
        "# sklearn confusion matrix: https://scikit-learn.org/stable/auto_examples/model_selection/plot_confusion_matrix.html#sphx-glr-auto-examples-model-selection-plot-confusion-matrix-py\n",
        "\n",
        "classes = ['Rejected', 'Approved']\n",
        "\n",
        "plt.figure()\n",
        "plt.title(\"Confusion Matrix\")\n",
        "plt.imshow(c_mat, cmap=plt.cm.Blues)\n",
        "plt.colorbar()\n",
        "#plt.matshow(c_mat)\n",
        "tick_marks = np.arange(len(classes))\n",
        "plt.xticks(tick_marks, classes)\n",
        "plt.yticks(tick_marks, classes)\n",
        "for i, j in itertools.product(range(c_mat.shape[0]), range(c_mat.shape[1])):\n",
        "        plt.text(j, i, c_mat[i, j],\n",
        "                 horizontalalignment=\"center\",\n",
        "                 color=\"black\")\n",
        "plt.ylabel('True label')\n",
        "plt.xlabel('Predicted label')\n",
        "plt.grid()\n",
        "plt.tight_layout()\n",
        "plt.show()"
      ],
      "execution_count": 0,
      "outputs": [
        {
          "output_type": "display_data",
          "data": {
            "image/png": "[encoded data removed]",
            "text/plain": [
              "<Figure size 432x288 with 2 Axes>"
            ]
          },
          "metadata": {
            "tags": []
          }
        }
      ]
    },
    {
      "metadata": {
        "id": "fkgdH_T-29i5",
        "colab_type": "text"
      },
      "cell_type": "markdown",
      "source": [
        "### 2.4.4 Applying KNN brute force on TFIDF W2V,<font color='red'> SET 4</font>"
      ]
    },
    {
      "metadata": {
        "id": "Gc_ydlpz2_RE",
        "colab_type": "code",
        "colab": {}
      },
      "cell_type": "code",
      "source": [
        "## Using the original imbalanced data for training & taking only the top 200 features:\n",
        "\n",
        "\n",
        "with open('/content/drive/My Drive/Assignment2/X_train_std_tfidfw2v', 'rb') as f1:\n",
        "    X_train_std = pickle.load(f1)\n",
        "\n",
        "with open('/content/drive/My Drive/Assignment2/Y_train_avgw2v', 'rb') as f2:\n",
        "  Y_train_std = pickle.load(f2)\n",
        "  \n",
        "with open('/content/drive/My Drive/Assignment2/X_cv_std_tfidfw2v', 'rb') as f3:\n",
        "  X_cv_std = pickle.load(f3)\n",
        "  \n",
        "with open('/content/drive/My Drive/Assignment2/Y_cv_avgw2v', 'rb') as f4:\n",
        "  Y_cv = pickle.load(f4)\n",
        "  \n",
        "with open('/content/drive/My Drive/Assignment2/X_test_std_tfidfw2v', 'rb') as f5:\n",
        "  X_test_std = pickle.load(f5)\n",
        "  \n",
        "with open('/content/drive/My Drive/Assignment2/Y_test_avgw2v', 'rb') as f6:\n",
        "  Y_test = pickle.load(f6)\n"
      ],
      "execution_count": 0,
      "outputs": []
    },
    {
      "metadata": {
        "id": "pY1XAacm3P6K",
        "colab_type": "code",
        "outputId": "b010c39f-eef0-48bd-a285-b344971f16ea",
        "colab": {
          "base_uri": "https://localhost:8080/",
          "height": 68
        }
      },
      "cell_type": "code",
      "source": [
        "print(X_train_std.shape, Y_train_std.shape)\n",
        "print(X_cv_std.shape, Y_cv.shape)\n",
        "print(X_test_std.shape, Y_test.shape)"
      ],
      "execution_count": 0,
      "outputs": [
        {
          "output_type": "stream",
          "text": [
            "(65548, 697) (65548,)\n",
            "(21850, 697) (21850,)\n",
            "(21850, 697) (21850,)\n"
          ],
          "name": "stdout"
        }
      ]
    },
    {
      "metadata": {
        "id": "hEO9bziR3Qwo",
        "colab_type": "code",
        "colab": {}
      },
      "cell_type": "code",
      "source": [
        "## Truncated SVD to convert sparse matrix to dense matrix (dimensionality reduction) on avg-w2v \n",
        "## and tfidf-w2v vectorized data matrix\n",
        "\n",
        "## original number of features 697\n",
        "## reduce it to, say, 200 features\n",
        "\n",
        "# truncated svd sklearn: https://scikit-learn.org/stable/modules/generated/sklearn.decomposition.TruncatedSVD.html\n",
        "from sklearn.decomposition import TruncatedSVD\n",
        "svd = TruncatedSVD(n_components=200, n_iter=7, random_state=42)\n",
        "X_train_sm_red = svd.fit_transform(X_train_std)\n",
        "X_cv_std_red = svd.transform(X_cv_std)\n",
        "X_test_std_red = svd.transform(X_test_std)\n"
      ],
      "execution_count": 0,
      "outputs": []
    },
    {
      "metadata": {
        "id": "ICNTXJkP_lOi",
        "colab_type": "code",
        "outputId": "06cc77b9-b335-42e7-84b4-9ab8b234bcc6",
        "colab": {
          "base_uri": "https://localhost:8080/",
          "height": 68
        }
      },
      "cell_type": "code",
      "source": [
        "print(X_train_sm_red.shape, Y_train_std.shape)\n",
        "print(X_cv_std_red.shape, Y_cv.shape)\n",
        "print(X_test_std_red.shape, Y_test.shape)"
      ],
      "execution_count": 0,
      "outputs": [
        {
          "output_type": "stream",
          "text": [
            "(65548, 200) (65548,)\n",
            "(21850, 200) (21850,)\n",
            "(21850, 200) (21850,)\n"
          ],
          "name": "stdout"
        }
      ]
    },
    {
      "metadata": {
        "id": "qR2dJ0eY_pey",
        "colab_type": "code",
        "outputId": "c8529d75-49af-4c33-89d5-b238d8ef421d",
        "colab": {
          "base_uri": "https://localhost:8080/",
          "height": 527
        }
      },
      "cell_type": "code",
      "source": [
        "auc_scores_cv = dict()\n",
        "auc_scores_train = dict()\n",
        "\n",
        "for i in range(15,20,2):\n",
        "    # instantiate learning model (k = 20)\n",
        "    print(\"k:\", i)\n",
        "    knn = KNeighborsClassifier(n_neighbors=i)\n",
        "\n",
        "    # fitting the model on the train data\n",
        "    knn.fit(X_train_sm_red, Y_train_std)\n",
        "\n",
        "    # predict the response on the crossvalidation data\n",
        "    pred_cv = knn.predict(X_cv_std_red)\n",
        "\n",
        "    # predict the response on the train data\n",
        "    pred_train = knn.predict(X_train_sm_red)\n",
        "    \n",
        "    # evaluate CV AUC-ROC\n",
        "    auc_val = roc_auc_score(Y_cv, pred_cv)\n",
        "    auc_scores_cv[i] = auc_val\n",
        "    print(\"Validation-AUC:\", auc_val)\n",
        "    \n",
        "    # evaluate CV AUC-ROC\n",
        "    auc_val = roc_auc_score(Y_train_std, pred_train)\n",
        "    auc_scores_train[i] = auc_val\n",
        "    print(\"Train-AUC:\", auc_val)\n",
        "'''\n",
        "auc_scores_cv = dict()\n",
        "auc_scores_train = dict()\n",
        "\n",
        "auc_scores_cv[1] = 0.5267414806332905\n",
        "auc_scores_cv[3] = 0.5222942450828769\n",
        "auc_scores_cv[5] = 0.5175445223224643\n",
        "auc_scores_cv[7] = 0.512605585469696\n",
        "auc_scores_cv[9] = 0.5082691136829788\n",
        "auc_scores_cv[11] = 0.5046878253630529\n",
        "auc_scores_cv[13] = 0.5028442426395586\n",
        "auc_scores_cv[15] = 0.5025462898761656\n",
        "auc_scores_cv[17] = 0.5025266112583705\n",
        "auc_scores_cv[19] = 0.5013726166090176\n",
        "\n",
        "auc_scores_train[1] = 0.9999909413725632\n",
        "auc_scores_train[3] = 0.6644517260843554\n",
        "auc_scores_train[5] = 0.5864243845985748\n",
        "auc_scores_train[7] = 0.5505625001610112\n",
        "auc_scores_train[9] = 0.5312641094772789\n",
        "auc_scores_train[11] = 0.5227183515639028\n",
        "auc_scores_train[13] = 0.5149211449981872\n",
        "auc_scores_train[15] = 0.5117606850920923\n",
        "auc_scores_train[17] = 0.5080959872604617\n",
        "auc_scores_train[19] = 0.5063995177561978\n",
        "\n",
        "for i in range(1, 20, 2):\n",
        "  print(\"k:\", i)\n",
        "  print(\"Validation-AUC:\", auc_scores_cv[i])\n",
        "  print(\"Train-AUC:\", auc_scores_train[i])'''"
      ],
      "execution_count": 0,
      "outputs": [
        {
          "output_type": "stream",
          "text": [
            "k: 1\n",
            "Validation-AUC: 0.5267414806332905\n",
            "Train-AUC: 0.9999909413725632\n",
            "k: 3\n",
            "Validation-AUC: 0.5222942450828769\n",
            "Train-AUC: 0.6644517260843554\n",
            "k: 5\n",
            "Validation-AUC: 0.5175445223224643\n",
            "Train-AUC: 0.5864243845985748\n",
            "k: 7\n",
            "Validation-AUC: 0.512605585469696\n",
            "Train-AUC: 0.5505625001610112\n",
            "k: 9\n",
            "Validation-AUC: 0.5082691136829788\n",
            "Train-AUC: 0.5312641094772789\n",
            "k: 11\n",
            "Validation-AUC: 0.5046878253630529\n",
            "Train-AUC: 0.5227183515639028\n",
            "k: 13\n",
            "Validation-AUC: 0.5028442426395586\n",
            "Train-AUC: 0.5149211449981872\n",
            "k: 15\n",
            "Validation-AUC: 0.5025462898761656\n",
            "Train-AUC: 0.5117606850920923\n",
            "k: 17\n",
            "Validation-AUC: 0.5025266112583705\n",
            "Train-AUC: 0.5080959872604617\n",
            "k: 19\n",
            "Validation-AUC: 0.5013726166090176\n",
            "Train-AUC: 0.5063995177561978\n"
          ],
          "name": "stdout"
        }
      ]
    },
    {
      "metadata": {
        "id": "aIygBgIx_ttr",
        "colab_type": "code",
        "outputId": "af4adf6a-f961-4f87-c6d0-bf377f94e98d",
        "colab": {
          "base_uri": "https://localhost:8080/",
          "height": 294
        }
      },
      "cell_type": "code",
      "source": [
        "## plot the AUC-ROC against the 'k' values for train and cross-validation\n",
        "\n",
        "plt.plot(auc_scores_cv.keys(), auc_scores_cv.values(), label='Validation AUC')\n",
        "plt.plot(auc_scores_train.keys(), auc_scores_train.values(), label='Train AUC')\n",
        "plt.title('Hyperparameter Search - \"k\" in KNN')\n",
        "plt.xlabel('Hyperparameter k')\n",
        "plt.ylim([0.4,1.1])\n",
        "plt.xlim([0,20])\n",
        "plt.ylabel('Area under the ROC curve')\n",
        "plt.legend()\n",
        "plt.show()"
      ],
      "execution_count": 0,
      "outputs": [
        {
          "output_type": "display_data",
          "data": {
            "image/png": "[encoded data removed]",
            "text/plain": [
              "<Figure size 432x288 with 1 Axes>"
            ]
          },
          "metadata": {
            "tags": []
          }
        }
      ]
    },
    {
      "metadata": {
        "id": "O0kEdmii_w4i",
        "colab_type": "code",
        "outputId": "9e9d7b9d-94e0-405f-f3b5-a8777ce940a6",
        "colab": {
          "base_uri": "https://localhost:8080/",
          "height": 68
        }
      },
      "cell_type": "code",
      "source": [
        "## Choose k as 5 and train the model and predict y labels for test data\n",
        "\n",
        "knn = KNeighborsClassifier(n_neighbors=5)\n",
        "\n",
        "# fitting the model on the train data\n",
        "knn.fit(X_train_sm_red, Y_train_std)"
      ],
      "execution_count": 0,
      "outputs": [
        {
          "output_type": "execute_result",
          "data": {
            "text/plain": [
              "KNeighborsClassifier(algorithm='auto', leaf_size=30, metric='minkowski',\n",
              "           metric_params=None, n_jobs=None, n_neighbors=5, p=2,\n",
              "           weights='uniform')"
            ]
          },
          "metadata": {
            "tags": []
          },
          "execution_count": 10
        }
      ]
    },
    {
      "metadata": {
        "id": "zObOZ5yr_5e-",
        "colab_type": "code",
        "colab": {}
      },
      "cell_type": "code",
      "source": [
        "## roc curve for knn python: https://stackoverflow.com/questions/52910061/implementing-roc-curves-for-k-nn-machine-learning-algorithm-using-python-and-sci\n",
        "\n",
        "# predict positive class probabilities for test data\n",
        "pred_test_scores = knn.predict_proba(X_test_std_red)\n",
        "fpr_test, tpr_test, threshold = roc_curve(Y_test, pred_test_scores[:, 1])\n",
        "roc_auc_test = sklearn.metrics.auc(fpr_test, tpr_test)\n",
        "\n",
        "# predict positive class probabilities for train data\n",
        "pred_train_scores = knn.predict_proba(X_train_sm_red)\n",
        "fpr_train, tpr_train, threshold = roc_curve(Y_train_std, pred_train_scores[:, 1])\n",
        "roc_auc_train = sklearn.metrics.auc(fpr_train, tpr_train)\n"
      ],
      "execution_count": 0,
      "outputs": []
    },
    {
      "metadata": {
        "id": "haMi6bmd_6hj",
        "colab_type": "code",
        "outputId": "b960ecdb-ed8a-4451-a31e-52136f4f6eeb",
        "colab": {
          "base_uri": "https://localhost:8080/",
          "height": 294
        }
      },
      "cell_type": "code",
      "source": [
        "plt.title('Receiver Operating Characteristic')\n",
        "plt.plot(fpr_test, tpr_test, 'b', label = 'AUC = %0.2f' % roc_auc_test)\n",
        "plt.plot(fpr_train, tpr_train, 'g', label = 'AUC = %0.2f' % roc_auc_train)\n",
        "plt.legend(loc = 'lower right')\n",
        "plt.plot([0, 1], [0, 1],'r--')\n",
        "plt.xlim([0, 1])\n",
        "plt.ylim([0, 1])\n",
        "plt.ylabel('True Positive Rate')\n",
        "plt.xlabel('False Positive Rate')\n",
        "plt.title('ROC Curve of kNN : k = 3')\n",
        "plt.show()\n"
      ],
      "execution_count": 0,
      "outputs": [
        {
          "output_type": "display_data",
          "data": {
            "image/png": "[encoded data removed]",
            "text/plain": [
              "<Figure size 432x288 with 1 Axes>"
            ]
          },
          "metadata": {
            "tags": []
          }
        }
      ]
    },
    {
      "metadata": {
        "id": "n-_BUbHRaY8K",
        "colab_type": "code",
        "colab": {}
      },
      "cell_type": "code",
      "source": [
        "## Confusion Matrix:\n",
        "\n",
        "# predict the response on the test data\n",
        "pred_test = knn.predict(X_test_std_red)\n",
        "\n",
        "c_mat = confusion_matrix(Y_test, pred_test)\n",
        "\n"
      ],
      "execution_count": 0,
      "outputs": []
    },
    {
      "metadata": {
        "id": "p8yhB42QdRiu",
        "colab_type": "code",
        "outputId": "29a9a436-1dab-4bc2-9f46-c989a84bc064",
        "colab": {
          "base_uri": "https://localhost:8080/",
          "height": 297
        }
      },
      "cell_type": "code",
      "source": [
        "# sklearn confusion matrix: https://scikit-learn.org/stable/auto_examples/model_selection/plot_confusion_matrix.html#sphx-glr-auto-examples-model-selection-plot-confusion-matrix-py\n",
        "\n",
        "classes = ['Rejected', 'Approved']\n",
        "\n",
        "plt.figure()\n",
        "plt.title(\"Confusion Matrix\")\n",
        "plt.imshow(c_mat, cmap=plt.cm.Blues)\n",
        "plt.colorbar()\n",
        "#plt.matshow(c_mat)\n",
        "tick_marks = np.arange(len(classes))\n",
        "plt.xticks(tick_marks, classes)\n",
        "plt.yticks(tick_marks, classes)\n",
        "for i, j in itertools.product(range(c_mat.shape[0]), range(c_mat.shape[1])):\n",
        "        plt.text(j, i, c_mat[i, j],\n",
        "                 horizontalalignment=\"center\",\n",
        "                 color=\"black\")\n",
        "plt.ylabel('True label')\n",
        "plt.xlabel('Predicted label')\n",
        "plt.grid()\n",
        "plt.tight_layout()\n",
        "plt.show()"
      ],
      "execution_count": 0,
      "outputs": [
        {
          "output_type": "display_data",
          "data": {
            "image/png": "[encoded data removed]",
            "text/plain": [
              "<Figure size 432x288 with 2 Axes>"
            ]
          },
          "metadata": {
            "tags": []
          }
        }
      ]
    },
    {
      "metadata": {
        "id": "hoRmPP0K9W5L",
        "colab_type": "text"
      },
      "cell_type": "markdown",
      "source": [
        "### 2.4.5 Applying KNN - Select KBest on TFIDF,<font color='red'> SET 2</font>"
      ]
    },
    {
      "metadata": {
        "id": "Oou_nMHX9bor",
        "colab_type": "code",
        "colab": {}
      },
      "cell_type": "code",
      "source": [
        "### Without Standardization\n",
        "### Without SMOTE Oversampling\n",
        "\n",
        "\n",
        "with open('/content/drive/My Drive/Assignment2/X_train_wostd_tfidf', 'rb') as f1:\n",
        "    X_train = pickle.load(f1)\n",
        "\n",
        "with open('/content/drive/My Drive/Assignment2/Y_train_tfidf', 'rb') as f2:\n",
        "  Y_train = pickle.load(f2)\n",
        "  \n",
        "with open('/content/drive/My Drive/Assignment2/X_cv_wostd_tfidf', 'rb') as f3:\n",
        "  X_cv = pickle.load(f3)\n",
        "  \n",
        "with open('/content/drive/My Drive/Assignment2/Y_cv_tfidf', 'rb') as f4:\n",
        "  Y_cv = pickle.load(f4)\n",
        "  \n",
        "with open('/content/drive/My Drive/Assignment2/X_test_wostd_tfidf', 'rb') as f5:\n",
        "  X_test = pickle.load(f5)\n",
        "  \n",
        "with open('/content/drive/My Drive/Assignment2/Y_test_tfidf', 'rb') as f6:\n",
        "  Y_test = pickle.load(f6)\n"
      ],
      "execution_count": 0,
      "outputs": []
    },
    {
      "metadata": {
        "id": "DZIfDLVd9rbz",
        "colab_type": "code",
        "outputId": "b0baa697-f5d0-456f-8445-33135e34162c",
        "colab": {
          "base_uri": "https://localhost:8080/",
          "height": 68
        }
      },
      "cell_type": "code",
      "source": [
        "print(X_train.shape, Y_train.shape)\n",
        "print(X_cv.shape, Y_cv.shape)\n",
        "print(X_test.shape, Y_test.shape)"
      ],
      "execution_count": 0,
      "outputs": [
        {
          "output_type": "stream",
          "text": [
            "(65548, 26612) (65548,)\n",
            "(21850, 26612) (21850,)\n",
            "(21850, 26612) (21850,)\n"
          ],
          "name": "stdout"
        }
      ]
    },
    {
      "metadata": {
        "id": "uMsEuPQ69uTf",
        "colab_type": "code",
        "colab": {}
      },
      "cell_type": "code",
      "source": [
        "selectkbest = SelectKBest(chi2, k=2000)\n",
        "X_train_kbest = selectkbest.fit_transform(X_train, Y_train)\n",
        "\n",
        "X_cv_kbest = selectkbest.transform(X_cv)\n",
        "X_test_kbest = selectkbest.transform(X_test)\n"
      ],
      "execution_count": 0,
      "outputs": []
    },
    {
      "metadata": {
        "id": "LD5Dvwwn-ihN",
        "colab_type": "code",
        "outputId": "f3f63ee4-b065-47fb-9257-97e95d57bfe6",
        "colab": {
          "base_uri": "https://localhost:8080/",
          "height": 68
        }
      },
      "cell_type": "code",
      "source": [
        "print(X_train_kbest.shape, Y_train.shape)\n",
        "print(X_cv_kbest.shape, Y_cv.shape)\n",
        "print(X_test_kbest.shape, Y_test.shape)"
      ],
      "execution_count": 0,
      "outputs": [
        {
          "output_type": "stream",
          "text": [
            "(65548, 2000) (65548,)\n",
            "(21850, 2000) (21850,)\n",
            "(21850, 2000) (21850,)\n"
          ],
          "name": "stdout"
        }
      ]
    },
    {
      "metadata": {
        "id": "fqKF5i9_9x6M",
        "colab_type": "code",
        "outputId": "f1b4cb03-1281-4691-bea4-4da7693ab500",
        "colab": {
          "base_uri": "https://localhost:8080/",
          "height": 527
        }
      },
      "cell_type": "code",
      "source": [
        "\n",
        "auc_scores_cv = dict()\n",
        "auc_scores_train = dict()\n",
        "\n",
        "for i in range(1,20,2):\n",
        "    # instantiate learning model (k = 20)\n",
        "    print(\"k:\", i)\n",
        "    knn = KNeighborsClassifier(n_neighbors=i)\n",
        "\n",
        "    # fitting the model on the train data\n",
        "    knn.fit(X_train_kbest, Y_train)\n",
        "\n",
        "    # predict the response on the crossvalidation data\n",
        "    pred_cv = knn.predict(X_cv_kbest)\n",
        "\n",
        "    # predict the response on the train data\n",
        "    pred_train = knn.predict(X_train_kbest)\n",
        "    \n",
        "    # evaluate CV AUC-ROC\n",
        "    auc_val = roc_auc_score(Y_cv, pred_cv)\n",
        "    auc_scores_cv[i] = auc_val\n",
        "    print(\"Validation-AUC:\", auc_val)\n",
        "    \n",
        "    # evaluate CV AUC-ROC\n",
        "    auc_val = roc_auc_score(Y_train, pred_train)\n",
        "    auc_scores_train[i] = auc_val\n",
        "    print(\"Train-AUC:\", auc_val)"
      ],
      "execution_count": 0,
      "outputs": [
        {
          "output_type": "stream",
          "text": [
            "k: 1\n",
            "Validation-AUC: 0.5169698802685978\n",
            "Train-AUC: 0.9999909413725632\n",
            "k: 3\n",
            "Validation-AUC: 0.5122181324155262\n",
            "Train-AUC: 0.6443411041422373\n",
            "k: 5\n",
            "Validation-AUC: 0.5113366888238218\n",
            "Train-AUC: 0.5685446141741561\n",
            "k: 7\n",
            "Validation-AUC: 0.5073993363859404\n",
            "Train-AUC: 0.5382281148321457\n",
            "k: 9\n",
            "Validation-AUC: 0.5040310349852367\n",
            "Train-AUC: 0.520505540295743\n",
            "k: 11\n",
            "Validation-AUC: 0.5018826317928101\n",
            "Train-AUC: 0.5107008641846569\n",
            "k: 13\n",
            "Validation-AUC: 0.4999925159619124\n",
            "Train-AUC: 0.50666202543853\n",
            "k: 15\n",
            "Validation-AUC: 0.5006296277219336\n",
            "Train-AUC: 0.5033777514565769\n",
            "k: 17\n",
            "Validation-AUC: 0.5002251814989296\n",
            "Train-AUC: 0.502387662379047\n",
            "k: 19\n",
            "Validation-AUC: 0.5002917013904022\n",
            "Train-AUC: 0.5014458731469577\n"
          ],
          "name": "stdout"
        }
      ]
    },
    {
      "metadata": {
        "id": "VOflp1579y1l",
        "colab_type": "code",
        "outputId": "04904634-703e-4b15-c915-f3cfdc8e6e96",
        "colab": {
          "base_uri": "https://localhost:8080/",
          "height": 294
        }
      },
      "cell_type": "code",
      "source": [
        "## plot the AUC-ROC against the 'k' values for train and cross-validation\n",
        "\n",
        "plt.plot(auc_scores_cv.keys(), auc_scores_cv.values(), label='Validation AUC')\n",
        "plt.plot(auc_scores_train.keys(), auc_scores_train.values(), label='Train AUC')\n",
        "plt.title('Hyperparameter Search - \"k\" in KNN')\n",
        "plt.xlabel('Hyperparameter k')\n",
        "plt.ylim([0.4,1.1])\n",
        "plt.xlim([0,20])\n",
        "plt.ylabel('Area under the ROC curve')\n",
        "plt.legend()\n",
        "plt.show()"
      ],
      "execution_count": 0,
      "outputs": [
        {
          "output_type": "display_data",
          "data": {
            "image/png": "[encoded data removed]",
            "text/plain": [
              "<Figure size 432x288 with 1 Axes>"
            ]
          },
          "metadata": {
            "tags": []
          }
        }
      ]
    },
    {
      "metadata": {
        "id": "BazNuTeC_CHE",
        "colab_type": "code",
        "outputId": "9cd392a5-9d01-4ba0-e1e7-475e79a56ac3",
        "colab": {
          "base_uri": "https://localhost:8080/",
          "height": 68
        }
      },
      "cell_type": "code",
      "source": [
        "## Choose k as 5 and train the model and predict y labels for test data\n",
        "\n",
        "knn = KNeighborsClassifier(n_neighbors=5)\n",
        "\n",
        "# fitting the model on the train data\n",
        "knn.fit(X_train_kbest, Y_train)"
      ],
      "execution_count": 0,
      "outputs": [
        {
          "output_type": "execute_result",
          "data": {
            "text/plain": [
              "KNeighborsClassifier(algorithm='auto', leaf_size=30, metric='minkowski',\n",
              "           metric_params=None, n_jobs=None, n_neighbors=5, p=2,\n",
              "           weights='uniform')"
            ]
          },
          "metadata": {
            "tags": []
          },
          "execution_count": 15
        }
      ]
    },
    {
      "metadata": {
        "id": "dUnE6-vx_FbN",
        "colab_type": "code",
        "colab": {}
      },
      "cell_type": "code",
      "source": [
        "## roc curve for knn python: https://stackoverflow.com/questions/52910061/implementing-roc-curves-for-k-nn-machine-learning-algorithm-using-python-and-sci\n",
        "\n",
        "# predict positive class probabilities for test data\n",
        "pred_test_scores = knn.predict_proba(X_test_kbest)\n",
        "fpr_test, tpr_test, threshold = roc_curve(Y_test, pred_test_scores[:, 1])\n",
        "roc_auc_test = sklearn.metrics.auc(fpr_test, tpr_test)\n",
        "\n",
        "# predict positive class probabilities for train data\n",
        "pred_train_scores = knn.predict_proba(X_train_kbest)\n",
        "fpr_train, tpr_train, threshold = roc_curve(Y_train, pred_train_scores[:, 1])\n",
        "roc_auc_train = sklearn.metrics.auc(fpr_train, tpr_train)\n"
      ],
      "execution_count": 0,
      "outputs": []
    },
    {
      "metadata": {
        "id": "1YamwbLr_Sco",
        "colab_type": "code",
        "outputId": "9dc03955-5744-4bb3-9847-814f504a86fc",
        "colab": {
          "base_uri": "https://localhost:8080/",
          "height": 294
        }
      },
      "cell_type": "code",
      "source": [
        "plt.title('Receiver Operating Characteristic')\n",
        "plt.plot(fpr_test, tpr_test, 'b', label = 'AUC = %0.2f' % roc_auc_test)\n",
        "plt.plot(fpr_train, tpr_train, 'g', label = 'AUC = %0.2f' % roc_auc_train)\n",
        "plt.legend(loc = 'lower right')\n",
        "plt.plot([0, 1], [0, 1],'r--')\n",
        "plt.xlim([0, 1])\n",
        "plt.ylim([0, 1])\n",
        "plt.ylabel('True Positive Rate')\n",
        "plt.xlabel('False Positive Rate')\n",
        "plt.title('ROC Curve of kNN : k = 3')\n",
        "plt.show()\n"
      ],
      "execution_count": 0,
      "outputs": [
        {
          "output_type": "display_data",
          "data": {
            "image/png": "[encoded data removed]",
            "text/plain": [
              "<Figure size 432x288 with 1 Axes>"
            ]
          },
          "metadata": {
            "tags": []
          }
        }
      ]
    },
    {
      "metadata": {
        "id": "q5gVRZzf_a5l",
        "colab_type": "code",
        "colab": {}
      },
      "cell_type": "code",
      "source": [
        "## Confusion Matrix:\n",
        "\n",
        "# predict the response on the test data\n",
        "pred_test = knn.predict(X_test_kbest)\n",
        "\n",
        "c_mat = confusion_matrix(Y_test, pred_test)\n",
        "\n"
      ],
      "execution_count": 0,
      "outputs": []
    },
    {
      "metadata": {
        "id": "jbnlvA6K_ifU",
        "colab_type": "code",
        "outputId": "ebdd52c8-aa6c-4812-e156-90d9b11f773e",
        "colab": {
          "base_uri": "https://localhost:8080/",
          "height": 297
        }
      },
      "cell_type": "code",
      "source": [
        "# sklearn confusion matrix: https://scikit-learn.org/stable/auto_examples/model_selection/plot_confusion_matrix.html#sphx-glr-auto-examples-model-selection-plot-confusion-matrix-py\n",
        "\n",
        "classes = ['Rejected', 'Approved']\n",
        "\n",
        "plt.figure()\n",
        "plt.title(\"Confusion Matrix\")\n",
        "plt.imshow(c_mat, cmap=plt.cm.Blues)\n",
        "plt.colorbar()\n",
        "#plt.matshow(c_mat)\n",
        "tick_marks = np.arange(len(classes))\n",
        "plt.xticks(tick_marks, classes)\n",
        "plt.yticks(tick_marks, classes)\n",
        "for i, j in itertools.product(range(c_mat.shape[0]), range(c_mat.shape[1])):\n",
        "        plt.text(j, i, c_mat[i, j],\n",
        "                 horizontalalignment=\"center\",\n",
        "                 color=\"black\")\n",
        "plt.ylabel('True label')\n",
        "plt.xlabel('Predicted label')\n",
        "plt.grid()\n",
        "plt.tight_layout()\n",
        "plt.show()"
      ],
      "execution_count": 0,
      "outputs": [
        {
          "output_type": "display_data",
          "data": {
            "image/png": "[encoded data removed]",
            "text/plain": [
              "<Figure size 432x288 with 2 Axes>"
            ]
          },
          "metadata": {
            "tags": []
          }
        }
      ]
    }
  ]
}