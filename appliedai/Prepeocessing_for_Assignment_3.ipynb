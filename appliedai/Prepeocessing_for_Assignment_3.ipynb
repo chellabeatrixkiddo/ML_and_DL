{
  "nbformat": 4,
  "nbformat_minor": 0,
  "metadata": {
    "colab": {
      "name": "Prepeocessing_for_Assignment_3.ipynb",
      "version": "0.3.2",
      "provenance": [],
      "collapsed_sections": [
        "GLFEFguNDPyC",
        "Of1itFUZD8Yk",
        "ZNZ7jbBTEyM1",
        "B1dIm8PiCypw"
      ],
      "toc_visible": true
    },
    "kernelspec": {
      "name": "python3",
      "display_name": "Python 3"
    },
    "accelerator": "GPU"
  },
  "cells": [
    {
      "metadata": {
        "id": "-Ab-X-IrCyl0",
        "colab_type": "text"
      },
      "cell_type": "markdown",
      "source": [
        "# DonorsChoose"
      ]
    },
    {
      "metadata": {
        "id": "etNpzy7rCyl2",
        "colab_type": "text"
      },
      "cell_type": "markdown",
      "source": [
        "<p>\n",
        "DonorsChoose.org receives hundreds of thousands of project proposals each year for classroom projects in need of funding. Right now, a large number of volunteers is needed to manually screen each submission before it's approved to be posted on the DonorsChoose.org website.\n",
        "</p>\n",
        "<p>\n",
        "    Next year, DonorsChoose.org expects to receive close to 500,000 project proposals. As a result, there are three main problems they need to solve:\n",
        "<ul>\n",
        "<li>\n",
        "    How to scale current manual processes and resources to screen 500,000 projects so that they can be posted as quickly and as efficiently as possible</li>\n",
        "    <li>How to increase the consistency of project vetting across different volunteers to improve the experience for teachers</li>\n",
        "    <li>How to focus volunteer time on the applications that need the most assistance</li>\n",
        "    </ul>\n",
        "</p>    \n",
        "<p>\n",
        "The goal of the competition is to predict whether or not a DonorsChoose.org project proposal submitted by a teacher will be approved, using the text of project descriptions as well as additional metadata about the project, teacher, and school. DonorsChoose.org can then use this information to identify projects most likely to need further review before approval.\n",
        "</p>"
      ]
    },
    {
      "metadata": {
        "id": "kO2Kg7TgCyl4",
        "colab_type": "text"
      },
      "cell_type": "markdown",
      "source": [
        "## About the DonorsChoose Data Set\n",
        "\n",
        "The `train.csv` data set provided by DonorsChoose contains the following features:\n",
        "\n",
        "Feature | Description \n",
        "----------|---------------\n",
        "**`project_id`** | A unique identifier for the proposed project. **Example:** `p036502`   \n",
        "**`project_title`**    | Title of the project. **Examples:**<br><ul><li><code>Art Will Make You Happy!</code></li><li><code>First Grade Fun</code></li></ul> \n",
        "**`project_grade_category`** | Grade level of students for which the project is targeted. One of the following enumerated values: <br/><ul><li><code>Grades PreK-2</code></li><li><code>Grades 3-5</code></li><li><code>Grades 6-8</code></li><li><code>Grades 9-12</code></li></ul>  \n",
        " **`project_subject_categories`** | One or more (comma-separated) subject categories for the project from the following enumerated list of values:  <br/><ul><li><code>Applied Learning</code></li><li><code>Care &amp; Hunger</code></li><li><code>Health &amp; Sports</code></li><li><code>History &amp; Civics</code></li><li><code>Literacy &amp; Language</code></li><li><code>Math &amp; Science</code></li><li><code>Music &amp; The Arts</code></li><li><code>Special Needs</code></li><li><code>Warmth</code></li></ul><br/> **Examples:** <br/><ul><li><code>Music &amp; The Arts</code></li><li><code>Literacy &amp; Language, Math &amp; Science</code></li>  \n",
        "  **`school_state`** | State where school is located ([Two-letter U.S. postal code](https://en.wikipedia.org/wiki/List_of_U.S._state_abbreviations#Postal_codes)). **Example:** `WY`\n",
        "**`project_subject_subcategories`** | One or more (comma-separated) subject subcategories for the project. **Examples:** <br/><ul><li><code>Literacy</code></li><li><code>Literature &amp; Writing, Social Sciences</code></li></ul> \n",
        "**`project_resource_summary`** | An explanation of the resources needed for the project. **Example:** <br/><ul><li><code>My students need hands on literacy materials to manage sensory needs!</code</li></ul> \n",
        "**`project_essay_1`**    | First application essay<sup>*</sup>  \n",
        "**`project_essay_2`**    | Second application essay<sup>*</sup> \n",
        "**`project_essay_3`**    | Third application essay<sup>*</sup> \n",
        "**`project_essay_4`**    | Fourth application essay<sup>*</sup> \n",
        "**`project_submitted_datetime`** | Datetime when project application was submitted. **Example:** `2016-04-28 12:43:56.245`   \n",
        "**`teacher_id`** | A unique identifier for the teacher of the proposed project. **Example:** `bdf8baa8fedef6bfeec7ae4ff1c15c56`  \n",
        "**`teacher_prefix`** | Teacher's title. One of the following enumerated values: <br/><ul><li><code>nan</code></li><li><code>Dr.</code></li><li><code>Mr.</code></li><li><code>Mrs.</code></li><li><code>Ms.</code></li><li><code>Teacher.</code></li></ul>  \n",
        "**`teacher_number_of_previously_posted_projects`** | Number of project applications previously submitted by the same teacher. **Example:** `2` \n",
        "\n",
        "<sup>*</sup> See the section <b>Notes on the Essay Data</b> for more details about these features.\n",
        "\n",
        "Additionally, the `resources.csv` data set provides more data about the resources required for each project. Each line in this file represents a resource required by a project:\n",
        "\n",
        "Feature | Description \n",
        "----------|---------------\n",
        "**`id`** | A `project_id` value from the `train.csv` file.  **Example:** `p036502`   \n",
        "**`description`** | Desciption of the resource. **Example:** `Tenor Saxophone Reeds, Box of 25`   \n",
        "**`quantity`** | Quantity of the resource required. **Example:** `3`   \n",
        "**`price`** | Price of the resource required. **Example:** `9.95`   \n",
        "\n",
        "**Note:** Many projects require multiple resources. The `id` value corresponds to a `project_id` in train.csv, so you use it as a key to retrieve all resources needed for a project:\n",
        "\n",
        "The data set contains the following label (the value you will attempt to predict):\n",
        "\n",
        "Label | Description\n",
        "----------|---------------\n",
        "`project_is_approved` | A binary flag indicating whether DonorsChoose approved the project. A value of `0` indicates the project was not approved, and a value of `1` indicates the project was approved."
      ]
    },
    {
      "metadata": {
        "id": "dBGA_YStCyl6",
        "colab_type": "text"
      },
      "cell_type": "markdown",
      "source": [
        "### Notes on the Essay Data\n",
        "\n",
        "<ul>\n",
        "Prior to May 17, 2016, the prompts for the essays were as follows:\n",
        "<li>__project_essay_1:__ \"Introduce us to your classroom\"</li>\n",
        "<li>__project_essay_2:__ \"Tell us more about your students\"</li>\n",
        "<li>__project_essay_3:__ \"Describe how your students will use the materials you're requesting\"</li>\n",
        "<li>__project_essay_3:__ \"Close by sharing why your project will make a difference\"</li>\n",
        "</ul>\n",
        "\n",
        "\n",
        "<ul>\n",
        "Starting on May 17, 2016, the number of essays was reduced from 4 to 2, and the prompts for the first 2 essays were changed to the following:<br>\n",
        "<li>__project_essay_1:__ \"Describe your students: What makes your students special? Specific details about their background, your neighborhood, and your school are all helpful.\"</li>\n",
        "<li>__project_essay_2:__ \"About your project: How will these materials make a difference in your students' learning and improve their school lives?\"</li>\n",
        "<br>For all projects with project_submitted_datetime of 2016-05-17 and later, the values of project_essay_3 and project_essay_4 will be NaN.\n",
        "</ul>\n"
      ]
    },
    {
      "metadata": {
        "id": "XTrCJ5p9Cyl7",
        "colab_type": "code",
        "outputId": "e8b4eba6-b641-4a37-899d-1f4d9073b02e",
        "colab": {
          "base_uri": "https://localhost:8080/",
          "height": 17
        }
      },
      "cell_type": "code",
      "source": [
        "%matplotlib inline\n",
        "import warnings\n",
        "warnings.filterwarnings(\"ignore\")\n",
        "\n",
        "import sqlite3\n",
        "import pandas as pd\n",
        "import numpy as np\n",
        "import nltk\n",
        "import string\n",
        "import matplotlib.pyplot as plt\n",
        "import matplotlib\n",
        "import seaborn as sns\n",
        "from sklearn.feature_extraction.text import TfidfTransformer\n",
        "from sklearn.feature_extraction.text import TfidfVectorizer\n",
        "\n",
        "from sklearn.feature_extraction.text import CountVectorizer\n",
        "from sklearn.metrics import confusion_matrix\n",
        "from sklearn import metrics\n",
        "from sklearn.metrics import roc_curve, auc\n",
        "from nltk.stem.porter import PorterStemmer\n",
        "\n",
        "import re\n",
        "# Tutorial about Python regular expressions: https://pymotw.com/2/re/\n",
        "import string\n",
        "from nltk.corpus import stopwords\n",
        "from nltk.stem import PorterStemmer\n",
        "from nltk.stem.wordnet import WordNetLemmatizer\n",
        "\n",
        "from gensim.models import Word2Vec\n",
        "from gensim.models import KeyedVectors\n",
        "import pickle\n",
        "\n",
        "from tqdm import tqdm\n",
        "import os\n",
        "\n",
        "from plotly import plotly\n",
        "import plotly.offline as offline\n",
        "import plotly.graph_objs as go\n",
        "offline.init_notebook_mode()\n",
        "from collections import Counter\n",
        "\n",
        "matplotlib.rc(\"lines\", markeredgewidth=0.5)"
      ],
      "execution_count": 0,
      "outputs": []
    },
    {
      "metadata": {
        "id": "qZLioxjgc01u",
        "colab_type": "code",
        "outputId": "73a7884e-bb32-4370-fcb0-d43d622bb70d",
        "colab": {
          "base_uri": "https://localhost:8080/",
          "height": 122
        }
      },
      "cell_type": "code",
      "source": [
        "from google.colab import drive\n",
        "drive.mount('/content/drive', force_remount=True)"
      ],
      "execution_count": 0,
      "outputs": [
        {
          "output_type": "stream",
          "text": [
            "Go to this URL in a browser: https://accounts.google.com/o/oauth2/auth?client_id=947318989803-6bn6qk8qdgf4n4g3pfee6491hc0brc4i.apps.googleusercontent.com&redirect_uri=urn%3Aietf%3Awg%3Aoauth%3A2.0%3Aoob&scope=email%20https%3A%2F%2Fwww.googleapis.com%2Fauth%2Fdocs.test%20https%3A%2F%2Fwww.googleapis.com%2Fauth%2Fdrive%20https%3A%2F%2Fwww.googleapis.com%2Fauth%2Fdrive.photos.readonly%20https%3A%2F%2Fwww.googleapis.com%2Fauth%2Fpeopleapi.readonly&response_type=code\n",
            "\n",
            "Enter your authorization code:\n",
            "··········\n",
            "Mounted at /content/drive\n"
          ],
          "name": "stdout"
        }
      ]
    },
    {
      "metadata": {
        "id": "MjknLZQqCymQ",
        "colab_type": "text"
      },
      "cell_type": "markdown",
      "source": [
        "## 1.1 Reading Data"
      ]
    },
    {
      "metadata": {
        "id": "abtcqBS8CymT",
        "colab_type": "code",
        "colab": {}
      },
      "cell_type": "code",
      "source": [
        "project_data = pd.read_csv('/content/drive/My Drive/Assignment2/train_data.csv')\n",
        "resource_data = pd.read_csv('/content/drive/My Drive/Assignment2/resources.csv')\n",
        "#test_data = pd.read_csv('/content/drive/My Drive/Assignment2/test_data.csv')"
      ],
      "execution_count": 0,
      "outputs": []
    },
    {
      "metadata": {
        "id": "Prf2ghjDCymX",
        "colab_type": "code",
        "outputId": "9be09f6b-ab24-4f8b-a22b-28f26a1df4cb",
        "colab": {
          "base_uri": "https://localhost:8080/",
          "height": 153
        }
      },
      "cell_type": "code",
      "source": [
        "print(\"Number of data points in train data\", project_data.shape)\n",
        "print('-'*50)\n",
        "print(\"The attributes of data :\", project_data.columns.values)"
      ],
      "execution_count": 0,
      "outputs": [
        {
          "output_type": "stream",
          "text": [
            "Number of data points in train data (109248, 17)\n",
            "--------------------------------------------------\n",
            "The attributes of data : ['Unnamed: 0' 'id' 'teacher_id' 'teacher_prefix' 'school_state'\n",
            " 'project_submitted_datetime' 'project_grade_category'\n",
            " 'project_subject_categories' 'project_subject_subcategories'\n",
            " 'project_title' 'project_essay_1' 'project_essay_2' 'project_essay_3'\n",
            " 'project_essay_4' 'project_resource_summary'\n",
            " 'teacher_number_of_previously_posted_projects' 'project_is_approved']\n"
          ],
          "name": "stdout"
        }
      ]
    },
    {
      "metadata": {
        "id": "BTGMDQoPCymc",
        "colab_type": "code",
        "outputId": "2fc23153-d7a8-4477-b221-f812c605d6d6",
        "colab": {
          "base_uri": "https://localhost:8080/",
          "height": 233
        }
      },
      "cell_type": "code",
      "source": [
        "# how to replace elements in list python: https://stackoverflow.com/a/2582163/4084039\n",
        "cols = ['Date' if x=='project_submitted_datetime' else x for x in list(project_data.columns)]\n",
        "\n",
        "\n",
        "#sort dataframe based on time pandas python: https://stackoverflow.com/a/49702492/4084039\n",
        "project_data['Date'] = pd.to_datetime(project_data['project_submitted_datetime'])\n",
        "project_data.drop('project_submitted_datetime', axis=1, inplace=True)\n",
        "project_data.sort_values(by=['Date'], inplace=True)\n",
        "\n",
        "\n",
        "# how to reorder columns pandas python: https://stackoverflow.com/a/13148611/4084039\n",
        "project_data = project_data[cols]\n",
        "\n",
        "project_data.head(2)"
      ],
      "execution_count": 0,
      "outputs": [
        {
          "output_type": "execute_result",
          "data": {
            "text/html": [
              "<div>\n",
              "<style scoped>\n",
              "    .dataframe tbody tr th:only-of-type {\n",
              "        vertical-align: middle;\n",
              "    }\n",
              "\n",
              "    .dataframe tbody tr th {\n",
              "        vertical-align: top;\n",
              "    }\n",
              "\n",
              "    .dataframe thead th {\n",
              "        text-align: right;\n",
              "    }\n",
              "</style>\n",
              "<table border=\"1\" class=\"dataframe\">\n",
              "  <thead>\n",
              "    <tr style=\"text-align: right;\">\n",
              "      <th></th>\n",
              "      <th>Unnamed: 0</th>\n",
              "      <th>id</th>\n",
              "      <th>teacher_id</th>\n",
              "      <th>teacher_prefix</th>\n",
              "      <th>school_state</th>\n",
              "      <th>Date</th>\n",
              "      <th>project_grade_category</th>\n",
              "      <th>project_subject_categories</th>\n",
              "      <th>project_subject_subcategories</th>\n",
              "      <th>project_title</th>\n",
              "      <th>project_essay_1</th>\n",
              "      <th>project_essay_2</th>\n",
              "      <th>project_essay_3</th>\n",
              "      <th>project_essay_4</th>\n",
              "      <th>project_resource_summary</th>\n",
              "      <th>teacher_number_of_previously_posted_projects</th>\n",
              "      <th>project_is_approved</th>\n",
              "    </tr>\n",
              "  </thead>\n",
              "  <tbody>\n",
              "    <tr>\n",
              "      <th>55660</th>\n",
              "      <td>8393</td>\n",
              "      <td>p205479</td>\n",
              "      <td>2bf07ba08945e5d8b2a3f269b2b3cfe5</td>\n",
              "      <td>Mrs.</td>\n",
              "      <td>CA</td>\n",
              "      <td>2016-04-27 00:27:36</td>\n",
              "      <td>Grades PreK-2</td>\n",
              "      <td>Math &amp; Science</td>\n",
              "      <td>Applied Sciences, Health &amp; Life Science</td>\n",
              "      <td>Engineering STEAM into the Primary Classroom</td>\n",
              "      <td>I have been fortunate enough to use the Fairy ...</td>\n",
              "      <td>My students come from a variety of backgrounds...</td>\n",
              "      <td>Each month I try to do several science or STEM...</td>\n",
              "      <td>It is challenging to develop high quality scie...</td>\n",
              "      <td>My students need STEM kits to learn critical s...</td>\n",
              "      <td>53</td>\n",
              "      <td>1</td>\n",
              "    </tr>\n",
              "    <tr>\n",
              "      <th>76127</th>\n",
              "      <td>37728</td>\n",
              "      <td>p043609</td>\n",
              "      <td>3f60494c61921b3b43ab61bdde2904df</td>\n",
              "      <td>Ms.</td>\n",
              "      <td>UT</td>\n",
              "      <td>2016-04-27 00:31:25</td>\n",
              "      <td>Grades 3-5</td>\n",
              "      <td>Special Needs</td>\n",
              "      <td>Special Needs</td>\n",
              "      <td>Sensory Tools for Focus</td>\n",
              "      <td>Imagine being 8-9 years old. You're in your th...</td>\n",
              "      <td>Most of my students have autism, anxiety, anot...</td>\n",
              "      <td>It is tough to do more than one thing at a tim...</td>\n",
              "      <td>When my students are able to calm themselves d...</td>\n",
              "      <td>My students need Boogie Boards for quiet senso...</td>\n",
              "      <td>4</td>\n",
              "      <td>1</td>\n",
              "    </tr>\n",
              "  </tbody>\n",
              "</table>\n",
              "</div>"
            ],
            "text/plain": [
              "       Unnamed: 0       id                        teacher_id teacher_prefix  \\\n",
              "55660        8393  p205479  2bf07ba08945e5d8b2a3f269b2b3cfe5           Mrs.   \n",
              "76127       37728  p043609  3f60494c61921b3b43ab61bdde2904df            Ms.   \n",
              "\n",
              "      school_state                Date project_grade_category  \\\n",
              "55660           CA 2016-04-27 00:27:36          Grades PreK-2   \n",
              "76127           UT 2016-04-27 00:31:25             Grades 3-5   \n",
              "\n",
              "      project_subject_categories            project_subject_subcategories  \\\n",
              "55660             Math & Science  Applied Sciences, Health & Life Science   \n",
              "76127              Special Needs                            Special Needs   \n",
              "\n",
              "                                      project_title  \\\n",
              "55660  Engineering STEAM into the Primary Classroom   \n",
              "76127                       Sensory Tools for Focus   \n",
              "\n",
              "                                         project_essay_1  \\\n",
              "55660  I have been fortunate enough to use the Fairy ...   \n",
              "76127  Imagine being 8-9 years old. You're in your th...   \n",
              "\n",
              "                                         project_essay_2  \\\n",
              "55660  My students come from a variety of backgrounds...   \n",
              "76127  Most of my students have autism, anxiety, anot...   \n",
              "\n",
              "                                         project_essay_3  \\\n",
              "55660  Each month I try to do several science or STEM...   \n",
              "76127  It is tough to do more than one thing at a tim...   \n",
              "\n",
              "                                         project_essay_4  \\\n",
              "55660  It is challenging to develop high quality scie...   \n",
              "76127  When my students are able to calm themselves d...   \n",
              "\n",
              "                                project_resource_summary  \\\n",
              "55660  My students need STEM kits to learn critical s...   \n",
              "76127  My students need Boogie Boards for quiet senso...   \n",
              "\n",
              "       teacher_number_of_previously_posted_projects  project_is_approved  \n",
              "55660                                            53                    1  \n",
              "76127                                             4                    1  "
            ]
          },
          "metadata": {
            "tags": []
          },
          "execution_count": 5
        }
      ]
    },
    {
      "metadata": {
        "id": "Qt8nKPai8w8q",
        "colab_type": "code",
        "colab": {}
      },
      "cell_type": "code",
      "source": [
        "## Test Data: Convert the 'project_submitted_datetime' into datetime type\n",
        "'''\n",
        "cols = ['Date' if x=='project_submitted_datetime' else x for x in list(test_data.columns)]\n",
        "\n",
        "test_data['Date'] = pd.to_datetime(test_data['project_submitted_datetime'])\n",
        "test_data.drop('project_submitted_datetime', axis=1, inplace=True)\n",
        "\n",
        "test_data = test_data[cols]\n",
        "\n",
        "test_data.head(2)'''"
      ],
      "execution_count": 0,
      "outputs": []
    },
    {
      "metadata": {
        "id": "ntdWuRoUCymj",
        "colab_type": "code",
        "outputId": "58d707d7-dae3-42a8-abe1-7e4106e60468",
        "colab": {
          "base_uri": "https://localhost:8080/",
          "height": 162
        }
      },
      "cell_type": "code",
      "source": [
        "print(\"Number of data points in the resources data\", resource_data.shape)\n",
        "print('-'*50)\n",
        "print(resource_data.columns.values)\n",
        "resource_data.head(2)"
      ],
      "execution_count": 0,
      "outputs": [
        {
          "output_type": "stream",
          "text": [
            "Number of data points in the resources data (1541272, 4)\n",
            "--------------------------------------------------\n",
            "['id' 'description' 'quantity' 'price']\n"
          ],
          "name": "stdout"
        },
        {
          "output_type": "execute_result",
          "data": {
            "text/html": [
              "<div>\n",
              "<style scoped>\n",
              "    .dataframe tbody tr th:only-of-type {\n",
              "        vertical-align: middle;\n",
              "    }\n",
              "\n",
              "    .dataframe tbody tr th {\n",
              "        vertical-align: top;\n",
              "    }\n",
              "\n",
              "    .dataframe thead th {\n",
              "        text-align: right;\n",
              "    }\n",
              "</style>\n",
              "<table border=\"1\" class=\"dataframe\">\n",
              "  <thead>\n",
              "    <tr style=\"text-align: right;\">\n",
              "      <th></th>\n",
              "      <th>id</th>\n",
              "      <th>description</th>\n",
              "      <th>quantity</th>\n",
              "      <th>price</th>\n",
              "    </tr>\n",
              "  </thead>\n",
              "  <tbody>\n",
              "    <tr>\n",
              "      <th>0</th>\n",
              "      <td>p233245</td>\n",
              "      <td>LC652 - Lakeshore Double-Space Mobile Drying Rack</td>\n",
              "      <td>1</td>\n",
              "      <td>149.00</td>\n",
              "    </tr>\n",
              "    <tr>\n",
              "      <th>1</th>\n",
              "      <td>p069063</td>\n",
              "      <td>Bouncy Bands for Desks (Blue support pipes)</td>\n",
              "      <td>3</td>\n",
              "      <td>14.95</td>\n",
              "    </tr>\n",
              "  </tbody>\n",
              "</table>\n",
              "</div>"
            ],
            "text/plain": [
              "        id                                        description  quantity  \\\n",
              "0  p233245  LC652 - Lakeshore Double-Space Mobile Drying Rack         1   \n",
              "1  p069063        Bouncy Bands for Desks (Blue support pipes)         3   \n",
              "\n",
              "    price  \n",
              "0  149.00  \n",
              "1   14.95  "
            ]
          },
          "metadata": {
            "tags": []
          },
          "execution_count": 37
        }
      ]
    },
    {
      "metadata": {
        "id": "sUnrTPdl4IGW",
        "colab_type": "code",
        "colab": {}
      },
      "cell_type": "code",
      "source": [
        "'''\n",
        "print(\"Number of data points in test data\", test_data.shape)\n",
        "print('-'*50)\n",
        "print(test_data.columns.values)\n",
        "test_data.head(2)'''"
      ],
      "execution_count": 0,
      "outputs": []
    },
    {
      "metadata": {
        "id": "6WZaYhwJCymp",
        "colab_type": "text"
      },
      "cell_type": "markdown",
      "source": [
        "## 1.2 preprocessing of `project_subject_categories`"
      ]
    },
    {
      "metadata": {
        "id": "Mdkhq7PRCymr",
        "colab_type": "code",
        "colab": {}
      },
      "cell_type": "code",
      "source": [
        "catogories = list(project_data['project_subject_categories'].values)\n",
        "# remove special characters from list of strings python: https://stackoverflow.com/a/47301924/4084039\n",
        "\n",
        "# https://www.geeksforgeeks.org/removing-stop-words-nltk-python/\n",
        "# https://stackoverflow.com/questions/23669024/how-to-strip-a-specific-word-from-a-string\n",
        "# https://stackoverflow.com/questions/8270092/remove-all-whitespace-in-a-string-in-python\n",
        "cat_list = []\n",
        "for i in catogories:\n",
        "    temp = \"\"\n",
        "    # consider we have text like this \"Math & Science, Warmth, Care & Hunger\"\n",
        "    for j in i.split(','): # it will split it in three parts [\"Math & Science\", \"Warmth\", \"Care & Hunger\"]\n",
        "        if 'The' in j.split(): # this will split each of the catogory based on space \"Math & Science\"=> \"Math\",\"&\", \"Science\"\n",
        "            j=j.replace('The','') # if we have the words \"The\" we are going to replace it with ''(i.e removing 'The')\n",
        "        j = j.replace(' ','') # we are placeing all the ' '(space) with ''(empty) ex:\"Math & Science\"=>\"Math&Science\"\n",
        "        temp+=j.strip()+\" \" #\" abc \".strip() will return \"abc\", remove the trailing spaces\n",
        "        temp = temp.replace('&','_') # we are replacing the & value into \n",
        "    cat_list.append(temp.strip())\n",
        "    \n",
        "project_data['clean_categories'] = cat_list\n",
        "project_data.drop(['project_subject_categories'], axis=1, inplace=True)\n",
        "\n",
        "from collections import Counter\n",
        "my_counter = Counter()\n",
        "for word in project_data['clean_categories'].values:\n",
        "    my_counter.update(word.split())\n",
        "\n",
        "cat_dict = dict(my_counter)\n",
        "sorted_cat_dict = dict(sorted(cat_dict.items(), key=lambda kv: kv[1]))\n"
      ],
      "execution_count": 0,
      "outputs": []
    },
    {
      "metadata": {
        "id": "y58RR0aOFi8V",
        "colab_type": "code",
        "colab": {}
      },
      "cell_type": "code",
      "source": [
        "'''\n",
        "## preprocessing project_subject_categories for test data\n",
        "catogories = list(test_data['project_subject_categories'].values)\n",
        "\n",
        "cat_list = []\n",
        "for i in catogories:\n",
        "    temp = \"\"\n",
        "    for j in i.split(','): \n",
        "        if 'The' in j.split(): \n",
        "            j=j.replace('The','') \n",
        "        j = j.replace(' ','') \n",
        "        temp+=j.strip()+\" \" \n",
        "        temp = temp.replace('&','_')\n",
        "    cat_list.append(temp.strip())\n",
        "    \n",
        "test_data['clean_categories'] = cat_list\n",
        "test_data.drop(['project_subject_categories'], axis=1, inplace=True)'''"
      ],
      "execution_count": 0,
      "outputs": []
    },
    {
      "metadata": {
        "id": "386yx3T2Cymv",
        "colab_type": "text"
      },
      "cell_type": "markdown",
      "source": [
        "## 1.3 preprocessing of `project_subject_subcategories`"
      ]
    },
    {
      "metadata": {
        "id": "4QSP0r8XCymw",
        "colab_type": "code",
        "colab": {}
      },
      "cell_type": "code",
      "source": [
        "sub_catogories = list(project_data['project_subject_subcategories'].values)\n",
        "# remove special characters from list of strings python: https://stackoverflow.com/a/47301924/4084039\n",
        "\n",
        "# https://www.geeksforgeeks.org/removing-stop-words-nltk-python/\n",
        "# https://stackoverflow.com/questions/23669024/how-to-strip-a-specific-word-from-a-string\n",
        "# https://stackoverflow.com/questions/8270092/remove-all-whitespace-in-a-string-in-python\n",
        "\n",
        "sub_cat_list = []\n",
        "for i in sub_catogories:\n",
        "    temp = \"\"\n",
        "    # consider we have text like this \"Math & Science, Warmth, Care & Hunger\"\n",
        "    for j in i.split(','): # it will split it in three parts [\"Math & Science\", \"Warmth\", \"Care & Hunger\"]\n",
        "        if 'The' in j.split(): # this will split each of the catogory based on space \"Math & Science\"=> \"Math\",\"&\", \"Science\"\n",
        "            j=j.replace('The','') # if we have the words \"The\" we are going to replace it with ''(i.e removing 'The')\n",
        "        j = j.replace(' ','') # we are placeing all the ' '(space) with ''(empty) ex:\"Math & Science\"=>\"Math&Science\"\n",
        "        temp +=j.strip()+\" \"#\" abc \".strip() will return \"abc\", remove the trailing spaces\n",
        "        temp = temp.replace('&','_')\n",
        "    sub_cat_list.append(temp.strip())\n",
        "\n",
        "project_data['clean_subcategories'] = sub_cat_list\n",
        "project_data.drop(['project_subject_subcategories'], axis=1, inplace=True)\n",
        "\n",
        "# count of all the words in corpus python: https://stackoverflow.com/a/22898595/4084039\n",
        "my_counter = Counter()\n",
        "for word in project_data['clean_subcategories'].values:\n",
        "    my_counter.update(word.split())\n",
        "    \n",
        "sub_cat_dict = dict(my_counter)\n",
        "sorted_sub_cat_dict = dict(sorted(sub_cat_dict.items(), key=lambda kv: kv[1]))"
      ],
      "execution_count": 0,
      "outputs": []
    },
    {
      "metadata": {
        "id": "Ux9zt7YNGA3y",
        "colab_type": "code",
        "colab": {}
      },
      "cell_type": "code",
      "source": [
        "'''\n",
        "## preprocessing project_subject_subcategories for test data\n",
        "sub_catogories = list(test_data['project_subject_subcategories'].values)\n",
        "\n",
        "sub_cat_list = []\n",
        "for i in sub_catogories:\n",
        "    temp = \"\"\n",
        "    for j in i.split(','): \n",
        "        if 'The' in j.split(): \n",
        "            j=j.replace('The','') \n",
        "        j = j.replace(' ','') \n",
        "        temp +=j.strip()+\" \"\n",
        "        temp = temp.replace('&','_')\n",
        "    sub_cat_list.append(temp.strip())\n",
        "\n",
        "test_data['clean_subcategories'] = sub_cat_list\n",
        "test_data.drop(['project_subject_subcategories'], axis=1, inplace=True)'''\n"
      ],
      "execution_count": 0,
      "outputs": []
    },
    {
      "metadata": {
        "id": "Y9l9jRxzeZM-",
        "colab_type": "text"
      },
      "cell_type": "markdown",
      "source": [
        "## 1.4 preprocessing of price attribute of resources data "
      ]
    },
    {
      "metadata": {
        "id": "5_9CGyK0eYJD",
        "colab_type": "code",
        "colab": {}
      },
      "cell_type": "code",
      "source": [
        "price_data = resource_data.groupby('id').agg({'price':'sum', 'quantity':'sum'}).reset_index()\n",
        "project_data = pd.merge(project_data, price_data, on='id', how='left')"
      ],
      "execution_count": 0,
      "outputs": []
    },
    {
      "metadata": {
        "id": "NANzhWlLCynN",
        "colab_type": "text"
      },
      "cell_type": "markdown",
      "source": [
        "## 1.4 Text preprocessing requisites"
      ]
    },
    {
      "metadata": {
        "id": "yqsmu-BTCynQ",
        "colab_type": "code",
        "colab": {}
      },
      "cell_type": "code",
      "source": [
        "# merge two column text dataframe: \n",
        "project_data[\"essay\"] = project_data[\"project_essay_1\"].map(str) +\\\n",
        "                        project_data[\"project_essay_2\"].map(str) + \\\n",
        "                        project_data[\"project_essay_3\"].map(str) + \\\n",
        "                        project_data[\"project_essay_4\"].map(str)"
      ],
      "execution_count": 0,
      "outputs": []
    },
    {
      "metadata": {
        "id": "xxtnd3maCynV",
        "colab_type": "code",
        "outputId": "6027a384-3020-417e-de12-4a6b3473bd03",
        "colab": {
          "base_uri": "https://localhost:8080/",
          "height": 335
        }
      },
      "cell_type": "code",
      "source": [
        "project_data.head(2)"
      ],
      "execution_count": 0,
      "outputs": [
        {
          "output_type": "execute_result",
          "data": {
            "text/html": [
              "<div>\n",
              "<style scoped>\n",
              "    .dataframe tbody tr th:only-of-type {\n",
              "        vertical-align: middle;\n",
              "    }\n",
              "\n",
              "    .dataframe tbody tr th {\n",
              "        vertical-align: top;\n",
              "    }\n",
              "\n",
              "    .dataframe thead th {\n",
              "        text-align: right;\n",
              "    }\n",
              "</style>\n",
              "<table border=\"1\" class=\"dataframe\">\n",
              "  <thead>\n",
              "    <tr style=\"text-align: right;\">\n",
              "      <th></th>\n",
              "      <th>Unnamed: 0</th>\n",
              "      <th>id</th>\n",
              "      <th>teacher_id</th>\n",
              "      <th>teacher_prefix</th>\n",
              "      <th>school_state</th>\n",
              "      <th>Date</th>\n",
              "      <th>project_grade_category</th>\n",
              "      <th>project_title</th>\n",
              "      <th>project_essay_1</th>\n",
              "      <th>project_essay_2</th>\n",
              "      <th>project_essay_3</th>\n",
              "      <th>project_essay_4</th>\n",
              "      <th>project_resource_summary</th>\n",
              "      <th>teacher_number_of_previously_posted_projects</th>\n",
              "      <th>project_is_approved</th>\n",
              "      <th>clean_categories</th>\n",
              "      <th>clean_subcategories</th>\n",
              "      <th>price</th>\n",
              "      <th>quantity</th>\n",
              "      <th>essay</th>\n",
              "    </tr>\n",
              "  </thead>\n",
              "  <tbody>\n",
              "    <tr>\n",
              "      <th>0</th>\n",
              "      <td>8393</td>\n",
              "      <td>p205479</td>\n",
              "      <td>2bf07ba08945e5d8b2a3f269b2b3cfe5</td>\n",
              "      <td>Mrs.</td>\n",
              "      <td>CA</td>\n",
              "      <td>2016-04-27 00:27:36</td>\n",
              "      <td>Grades PreK-2</td>\n",
              "      <td>Engineering STEAM into the Primary Classroom</td>\n",
              "      <td>I have been fortunate enough to use the Fairy ...</td>\n",
              "      <td>My students come from a variety of backgrounds...</td>\n",
              "      <td>Each month I try to do several science or STEM...</td>\n",
              "      <td>It is challenging to develop high quality scie...</td>\n",
              "      <td>My students need STEM kits to learn critical s...</td>\n",
              "      <td>53</td>\n",
              "      <td>1</td>\n",
              "      <td>Math_Science</td>\n",
              "      <td>AppliedSciences Health_LifeScience</td>\n",
              "      <td>725.05</td>\n",
              "      <td>4</td>\n",
              "      <td>I have been fortunate enough to use the Fairy ...</td>\n",
              "    </tr>\n",
              "    <tr>\n",
              "      <th>1</th>\n",
              "      <td>37728</td>\n",
              "      <td>p043609</td>\n",
              "      <td>3f60494c61921b3b43ab61bdde2904df</td>\n",
              "      <td>Ms.</td>\n",
              "      <td>UT</td>\n",
              "      <td>2016-04-27 00:31:25</td>\n",
              "      <td>Grades 3-5</td>\n",
              "      <td>Sensory Tools for Focus</td>\n",
              "      <td>Imagine being 8-9 years old. You're in your th...</td>\n",
              "      <td>Most of my students have autism, anxiety, anot...</td>\n",
              "      <td>It is tough to do more than one thing at a tim...</td>\n",
              "      <td>When my students are able to calm themselves d...</td>\n",
              "      <td>My students need Boogie Boards for quiet senso...</td>\n",
              "      <td>4</td>\n",
              "      <td>1</td>\n",
              "      <td>SpecialNeeds</td>\n",
              "      <td>SpecialNeeds</td>\n",
              "      <td>213.03</td>\n",
              "      <td>8</td>\n",
              "      <td>Imagine being 8-9 years old. You're in your th...</td>\n",
              "    </tr>\n",
              "  </tbody>\n",
              "</table>\n",
              "</div>"
            ],
            "text/plain": [
              "   Unnamed: 0       id                        teacher_id teacher_prefix  \\\n",
              "0        8393  p205479  2bf07ba08945e5d8b2a3f269b2b3cfe5           Mrs.   \n",
              "1       37728  p043609  3f60494c61921b3b43ab61bdde2904df            Ms.   \n",
              "\n",
              "  school_state                Date project_grade_category  \\\n",
              "0           CA 2016-04-27 00:27:36          Grades PreK-2   \n",
              "1           UT 2016-04-27 00:31:25             Grades 3-5   \n",
              "\n",
              "                                  project_title  \\\n",
              "0  Engineering STEAM into the Primary Classroom   \n",
              "1                       Sensory Tools for Focus   \n",
              "\n",
              "                                     project_essay_1  \\\n",
              "0  I have been fortunate enough to use the Fairy ...   \n",
              "1  Imagine being 8-9 years old. You're in your th...   \n",
              "\n",
              "                                     project_essay_2  \\\n",
              "0  My students come from a variety of backgrounds...   \n",
              "1  Most of my students have autism, anxiety, anot...   \n",
              "\n",
              "                                     project_essay_3  \\\n",
              "0  Each month I try to do several science or STEM...   \n",
              "1  It is tough to do more than one thing at a tim...   \n",
              "\n",
              "                                     project_essay_4  \\\n",
              "0  It is challenging to develop high quality scie...   \n",
              "1  When my students are able to calm themselves d...   \n",
              "\n",
              "                            project_resource_summary  \\\n",
              "0  My students need STEM kits to learn critical s...   \n",
              "1  My students need Boogie Boards for quiet senso...   \n",
              "\n",
              "   teacher_number_of_previously_posted_projects  project_is_approved  \\\n",
              "0                                            53                    1   \n",
              "1                                             4                    1   \n",
              "\n",
              "  clean_categories                 clean_subcategories   price  quantity  \\\n",
              "0     Math_Science  AppliedSciences Health_LifeScience  725.05         4   \n",
              "1     SpecialNeeds                        SpecialNeeds  213.03         8   \n",
              "\n",
              "                                               essay  \n",
              "0  I have been fortunate enough to use the Fairy ...  \n",
              "1  Imagine being 8-9 years old. You're in your th...  "
            ]
          },
          "metadata": {
            "tags": []
          },
          "execution_count": 42
        }
      ]
    },
    {
      "metadata": {
        "id": "K4TZowGr-M-w",
        "colab_type": "code",
        "colab": {}
      },
      "cell_type": "code",
      "source": [
        "'''\n",
        "test_data[\"essay\"] = test_data[\"project_essay_1\"].map(str) +\\\n",
        "                        project_data[\"project_essay_2\"].map(str) + \\\n",
        "                        project_data[\"project_essay_3\"].map(str) + \\\n",
        "                        project_data[\"project_essay_4\"].map(str)\n",
        "\n",
        "test_data.head(2)'''"
      ],
      "execution_count": 0,
      "outputs": []
    },
    {
      "metadata": {
        "id": "Yqj4vGVoCynh",
        "colab_type": "code",
        "colab": {}
      },
      "cell_type": "code",
      "source": [
        "# https://stackoverflow.com/a/47091490/4084039\n",
        "import re\n",
        "\n",
        "def decontracted(phrase):\n",
        "    # specific\n",
        "    phrase = re.sub(r\"won't\", \"will not\", phrase)\n",
        "    phrase = re.sub(r\"can\\'t\", \"can not\", phrase)\n",
        "\n",
        "    # general\n",
        "    phrase = re.sub(r\"n\\'t\", \" not\", phrase)\n",
        "    phrase = re.sub(r\"\\'re\", \" are\", phrase)\n",
        "    phrase = re.sub(r\"\\'s\", \" is\", phrase)\n",
        "    phrase = re.sub(r\"\\'d\", \" would\", phrase)\n",
        "    phrase = re.sub(r\"\\'ll\", \" will\", phrase)\n",
        "    phrase = re.sub(r\"\\'t\", \" not\", phrase)\n",
        "    phrase = re.sub(r\"\\'ve\", \" have\", phrase)\n",
        "    phrase = re.sub(r\"\\'m\", \" am\", phrase)\n",
        "    return phrase"
      ],
      "execution_count": 0,
      "outputs": []
    },
    {
      "metadata": {
        "id": "hhyPw-8wCyny",
        "colab_type": "code",
        "colab": {}
      },
      "cell_type": "code",
      "source": [
        "# https://gist.github.com/sebleier/554280\n",
        "# we are removing the words from the stop words list: 'no', 'nor', 'not'\n",
        "stopwords= ['i', 'me', 'my', 'myself', 'we', 'our', 'ours', 'ourselves', 'you', \"you're\", \"you've\",\\\n",
        "            \"you'll\", \"you'd\", 'your', 'yours', 'yourself', 'yourselves', 'he', 'him', 'his', 'himself', \\\n",
        "            'she', \"she's\", 'her', 'hers', 'herself', 'it', \"it's\", 'its', 'itself', 'they', 'them', 'their',\\\n",
        "            'theirs', 'themselves', 'what', 'which', 'who', 'whom', 'this', 'that', \"that'll\", 'these', 'those', \\\n",
        "            'am', 'is', 'are', 'was', 'were', 'be', 'been', 'being', 'have', 'has', 'had', 'having', 'do', 'does', \\\n",
        "            'did', 'doing', 'a', 'an', 'the', 'and', 'but', 'if', 'or', 'because', 'as', 'until', 'while', 'of', \\\n",
        "            'at', 'by', 'for', 'with', 'about', 'against', 'between', 'into', 'through', 'during', 'before', 'after',\\\n",
        "            'above', 'below', 'to', 'from', 'up', 'down', 'in', 'out', 'on', 'off', 'over', 'under', 'again', 'further',\\\n",
        "            'then', 'once', 'here', 'there', 'when', 'where', 'why', 'how', 'all', 'any', 'both', 'each', 'few', 'more',\\\n",
        "            'most', 'other', 'some', 'such', 'only', 'own', 'same', 'so', 'than', 'too', 'very', \\\n",
        "            's', 't', 'can', 'will', 'just', 'don', \"don't\", 'should', \"should've\", 'now', 'd', 'll', 'm', 'o', 're', \\\n",
        "            've', 'y', 'ain', 'aren', \"aren't\", 'couldn', \"couldn't\", 'didn', \"didn't\", 'doesn', \"doesn't\", 'hadn',\\\n",
        "            \"hadn't\", 'hasn', \"hasn't\", 'haven', \"haven't\", 'isn', \"isn't\", 'ma', 'mightn', \"mightn't\", 'mustn',\\\n",
        "            \"mustn't\", 'needn', \"needn't\", 'shan', \"shan't\", 'shouldn', \"shouldn't\", 'wasn', \"wasn't\", 'weren', \"weren't\", \\\n",
        "            'won', \"won't\", 'wouldn', \"wouldn't\"]"
      ],
      "execution_count": 0,
      "outputs": []
    },
    {
      "metadata": {
        "id": "V3vrK7BSCypi",
        "colab_type": "text"
      },
      "cell_type": "markdown",
      "source": [
        "# Assignment 3: Apply KNN"
      ]
    },
    {
      "metadata": {
        "id": "WFI1ug-gCypi",
        "colab_type": "text"
      },
      "cell_type": "markdown",
      "source": [
        "<ol>\n",
        "    <li><strong>[Task-1] Apply KNN(brute force version) on these feature sets</strong>\n",
        "        <ul>\n",
        "            <li><font color='red'>Set 1</font>: categorical, numerical features + project_title(BOW) + preprocessed_essay (BOW)</li>\n",
        "            <li><font color='red'>Set 2</font>: categorical, numerical features + project_title(TFIDF)+  preprocessed_essay (TFIDF)</li>\n",
        "            <li><font color='red'>Set 3</font>: categorical, numerical features + project_title(AVG W2V)+  preprocessed_essay (AVG W2V)</li>\n",
        "            <li><font color='red'>Set 4</font>: categorical, numerical features + project_title(TFIDF W2V)+  preprocessed_essay (TFIDF W2V)</li>\n",
        "        </ul>\n",
        "    </li>\n",
        "    <br>\n",
        "    <li><strong>Hyper paramter tuning to find best K</strong>\n",
        "        <ul>\n",
        "    <li>Find the best hyper parameter which results in the maximum <a href='https://www.appliedaicourse.com/course/applied-ai-course-online/lessons/receiver-operating-characteristic-curve-roc-curve-and-auc-1/'>AUC</a> value</li>\n",
        "    <li>Find the best hyper paramter using k-fold cross validation (or) simple cross validation data</li>\n",
        "    <li>Use gridsearch-cv or randomsearch-cv or  write your own for loops to do this task</li>\n",
        "        </ul>\n",
        "    </li>\n",
        "    <br>\n",
        "    <li>\n",
        "    <strong>Representation of results</strong>\n",
        "        <ul>\n",
        "    <li>You need to plot the performance of model both on train data and cross validation data for each hyper parameter, as shown in the figure\n",
        "    <img src='train_cv_auc.JPG' width=300px></li>\n",
        "    <li>Once you find the best hyper parameter, you need to train your model-M using the best hyper-param. Now, find the AUC on test data and plot the ROC curve on both train and test using model-M.\n",
        "    <img src='train_test_auc.JPG' width=300px></li>\n",
        "    <li>Along with plotting ROC curve, you need to print the <a href='https://www.appliedaicourse.com/course/applied-ai-course-online/lessons/confusion-matrix-tpr-fpr-fnr-tnr-1/'>confusion matrix</a> with predicted and original labels of test data points\n",
        "    <img src='confusion_matrix.png' width=300px></li>\n",
        "        </ul>\n",
        "    </li>\n",
        "    <li><strong> [Task-2] </strong>\n",
        "        <ul>\n",
        "            <li>Select top 2000 features from feature <font color='red'>Set 2</font> using <a href='https://scikit-learn.org/stable/modules/generated/sklearn.feature_selection.SelectKBest.html'>`SelectKBest`</a>\n",
        "and then apply KNN on top of these features</li>\n",
        "            <li>\n",
        "                <pre>\n",
        "                from sklearn.datasets import load_digits\n",
        "                from sklearn.feature_selection import SelectKBest, chi2\n",
        "                X, y = load_digits(return_X_y=True)\n",
        "                X.shape\n",
        "                X_new = SelectKBest(chi2, k=20).fit_transform(X, y)\n",
        "                X_new.shape\n",
        "                ========\n",
        "                output:\n",
        "                (1797, 64)\n",
        "                (1797, 20)\n",
        "                </pre>\n",
        "            </li>\n",
        "            <li>Repeat the steps 2 and 3 on the data matrix after feature selection</li>\n",
        "        </ul>\n",
        "    </li>\n",
        "    <br>\n",
        "    <li><strong>Conclusion</strong>\n",
        "        <ul>\n",
        "    <li>You need to summarize the results at the end of the notebook, summarize it in the table format. To print out a table please refer to this prettytable library<a href='http://zetcode.com/python/prettytable/'> link</a> \n",
        "        <img src='summary.JPG' width=400px>\n",
        "    </li>\n",
        "        </ul>\n",
        "</ol>"
      ]
    },
    {
      "metadata": {
        "id": "vNcsOaPrCypk",
        "colab_type": "text"
      },
      "cell_type": "markdown",
      "source": [
        "<h4><font color='red'>Note: Data Leakage</font></h4>\n",
        "\n",
        "1. There will be an issue of data-leakage if you vectorize the entire data and then split it into train/cv/test.\n",
        "2. To avoid the issue of data-leakag, make sure to split your data first and then vectorize it. \n",
        "3. While vectorizing your data, apply the method fit_transform() on you train data, and apply the method transform() on cv/test data.\n",
        "4. For more details please go through this <a href='https://soundcloud.com/applied-ai-course/leakage-bow-and-tfidf'>link.</a>"
      ]
    },
    {
      "metadata": {
        "id": "u7svGNyWCypl",
        "colab_type": "text"
      },
      "cell_type": "markdown",
      "source": [
        "<h1>2. K Nearest Neighbor</h1>"
      ]
    },
    {
      "metadata": {
        "id": "W6fBRNBMCypl",
        "colab_type": "text"
      },
      "cell_type": "markdown",
      "source": [
        "##2.1 Splitting data into Train and cross validation(or test): Stratified Sampling"
      ]
    },
    {
      "metadata": {
        "id": "WACKQWT_Cypl",
        "colab_type": "code",
        "outputId": "07c8f572-93cc-45b3-9856-06707e28a842",
        "colab": {
          "base_uri": "https://localhost:8080/",
          "height": 204
        }
      },
      "cell_type": "code",
      "source": [
        "# please write all the code with proper documentation, and proper titles for each subsection\n",
        "# go through documentations and blogs before you start coding\n",
        "# first figure out what to do, and then think about how to do.\n",
        "# reading and understanding error messages will be very much helpfull in debugging your code\n",
        "# when you plot any graph make sure you use \n",
        "    # a. Title, that describes your plot, this will be very helpful to the reader\n",
        "    # b. Legends if needed\n",
        "    # c. X-axis label\n",
        "    # d. Y-axis label\n",
        "\n",
        "## Split into train and cross-validation datasets\n",
        "from sklearn.model_selection import train_test_split\n",
        "\n",
        "#train, cv = train_test_split(project_data, test_size=0.3, random_state = 42)\n",
        "\n",
        "#train.columns\n",
        "\n",
        "### split into train, cv and test in 60:20:20 ratio (time based splitting)\n",
        "\n",
        "train_len = int((len(project_data)*0.6))\n",
        "cv_len = int((len(project_data) - train_len)/2)\n",
        "test_len = (len(project_data) - (train_len+cv_len))\n",
        "\n",
        "#print(train_len, cv_len, test_len)\n",
        "\n",
        "train = project_data.iloc[:train_len, :]\n",
        "cv = project_data.iloc[train_len:train_len+cv_len, :]\n",
        "test = project_data.iloc[train_len+cv_len:, :]\n",
        "\n",
        "print(\"Train Data Shape:\", train.shape)\n",
        "print(\"Cross-validation Data Shape:\", cv.shape)\n",
        "print(\"Test Data Shape:\", test.shape)\n",
        "\n",
        "train.columns"
      ],
      "execution_count": 0,
      "outputs": [
        {
          "output_type": "stream",
          "text": [
            "Train Data Shape: (65548, 20)\n",
            "Cross-validation Data Shape: (21850, 20)\n",
            "Test Data Shape: (21850, 20)\n"
          ],
          "name": "stdout"
        },
        {
          "output_type": "execute_result",
          "data": {
            "text/plain": [
              "Index(['Unnamed: 0', 'id', 'teacher_id', 'teacher_prefix', 'school_state',\n",
              "       'Date', 'project_grade_category', 'project_title', 'project_essay_1',\n",
              "       'project_essay_2', 'project_essay_3', 'project_essay_4',\n",
              "       'project_resource_summary',\n",
              "       'teacher_number_of_previously_posted_projects', 'project_is_approved',\n",
              "       'clean_categories', 'clean_subcategories', 'price', 'quantity',\n",
              "       'essay'],\n",
              "      dtype='object')"
            ]
          },
          "metadata": {
            "tags": []
          },
          "execution_count": 12
        }
      ]
    },
    {
      "metadata": {
        "id": "1Tfv6TBL_9T5",
        "colab_type": "text"
      },
      "cell_type": "markdown",
      "source": [
        "we are going to consider\n",
        "\n",
        "       - school_state : categorical data\n",
        "       - clean_categories : categorical data\n",
        "       - clean_subcategories : categorical data\n",
        "       - project_grade_category : categorical data\n",
        "       - teacher_prefix : categorical data\n",
        "       \n",
        "       - project_title : text data\n",
        "       - text : text data\n",
        "       - project_resource_summary: text data (optinal)\n",
        "       \n",
        "       - quantity : numerical (optinal)\n",
        "       - teacher_number_of_previously_posted_projects : numerical\n",
        "       - price : numerical\n",
        "\n"
      ]
    },
    {
      "metadata": {
        "id": "VG7SrQdCCypn",
        "colab_type": "text"
      },
      "cell_type": "markdown",
      "source": [
        "##2.2 Make Data Model Ready: encoding numerical, categorical features"
      ]
    },
    {
      "metadata": {
        "id": "cTlBv2kmCypo",
        "colab_type": "code",
        "colab": {}
      },
      "cell_type": "code",
      "source": [
        "# please write all the code with proper documentation, and proper titles for each subsection\n",
        "# go through documentations and blogs before you start coding \n",
        "# first figure out what to do, and then think about how to do.\n",
        "# reading and understanding error messages will be very much helpfull in debugging your code\n",
        "# make sure you featurize train and test data separatly\n",
        "\n",
        "# when you plot any graph make sure you use \n",
        "    # a. Title, that describes your plot, this will be very helpful to the reader\n",
        "    # b. Legends if needed\n",
        "    # c. X-axis label\n",
        "    # d. Y-axis label\n"
      ],
      "execution_count": 0,
      "outputs": []
    },
    {
      "metadata": {
        "id": "GGHpXUJxASIi",
        "colab_type": "text"
      },
      "cell_type": "markdown",
      "source": [
        "### 2.2.1 Encoding Categorical Features"
      ]
    },
    {
      "metadata": {
        "id": "jyc7-snSAbd4",
        "colab_type": "text"
      },
      "cell_type": "markdown",
      "source": [
        "#### 2.2.1.1 clean_categories"
      ]
    },
    {
      "metadata": {
        "id": "w3S2XL0yAjxe",
        "colab_type": "code",
        "outputId": "0525e2a6-a28a-4267-d58e-53305af388ca",
        "colab": {
          "base_uri": "https://localhost:8080/",
          "height": 105
        }
      },
      "cell_type": "code",
      "source": [
        "# we use count vectorizer to convert the values into one \n",
        "from sklearn.feature_extraction.text import CountVectorizer\n",
        "vectorizer = CountVectorizer(vocabulary=list(sorted_cat_dict.keys()), lowercase=False, binary=True)\n",
        "categories_one_hot = vectorizer.fit_transform(train['clean_categories'].values)\n",
        "print(vectorizer.get_feature_names())\n",
        "print(\"Shape of matrix after one hot encodig \",categories_one_hot.shape)\n",
        "\n",
        "# cross-validation data\n",
        "cv_categories_one_hot = vectorizer.transform(cv['clean_categories'].values)\n",
        "print(\"CV : Shape of matrix after one hot encoding \",cv_categories_one_hot.shape)\n",
        "\n",
        "# test data\n",
        "test_categories_one_hot = vectorizer.transform(test['clean_categories'].values)\n",
        "print(\"test : Shape of matrix after one hot encoding \",test_categories_one_hot.shape)"
      ],
      "execution_count": 0,
      "outputs": [
        {
          "output_type": "stream",
          "text": [
            "['Warmth', 'Care_Hunger', 'History_Civics', 'Music_Arts', 'AppliedLearning', 'SpecialNeeds', 'Health_Sports', 'Math_Science', 'Literacy_Language']\n",
            "Shape of matrix after one hot encodig  (65548, 9)\n",
            "CV : Shape of matrix after one hot encoding  (21850, 9)\n",
            "test : Shape of matrix after one hot encoding  (21850, 9)\n"
          ],
          "name": "stdout"
        }
      ]
    },
    {
      "metadata": {
        "id": "GH5HVZi8AnIW",
        "colab_type": "text"
      },
      "cell_type": "markdown",
      "source": [
        "#### 2.2.1.2 clean_subcategories"
      ]
    },
    {
      "metadata": {
        "id": "vPZB9_5lAlpM",
        "colab_type": "code",
        "outputId": "59c8aed2-5fd5-4e33-c785-f125b3da2748",
        "colab": {
          "base_uri": "https://localhost:8080/",
          "height": 105
        }
      },
      "cell_type": "code",
      "source": [
        "# we use count vectorizer to convert the values into one \n",
        "vectorizer = CountVectorizer(vocabulary=list(sorted_sub_cat_dict.keys()), lowercase=False, binary=True)\n",
        "sub_categories_one_hot = vectorizer.fit_transform(train['clean_subcategories'].values)\n",
        "print(vectorizer.get_feature_names())\n",
        "print(\"Shape of matrix after one hot encodig \",sub_categories_one_hot.shape)\n",
        "\n",
        "# cross-validation data\n",
        "cv_sub_categories_one_hot = vectorizer.transform(cv['clean_subcategories'].values)\n",
        "print(\"CV : Shape of matrix after one hot encoding \",cv_sub_categories_one_hot.shape)\n",
        "\n",
        "# test data\n",
        "test_sub_categories_one_hot = vectorizer.transform(test['clean_subcategories'].values)\n",
        "print(\"test : Shape of matrix after one hot encoding \",test_sub_categories_one_hot.shape)"
      ],
      "execution_count": 0,
      "outputs": [
        {
          "output_type": "stream",
          "text": [
            "['Economics', 'CommunityService', 'FinancialLiteracy', 'ParentInvolvement', 'Extracurricular', 'Civics_Government', 'ForeignLanguages', 'NutritionEducation', 'Warmth', 'Care_Hunger', 'SocialSciences', 'PerformingArts', 'CharacterEducation', 'TeamSports', 'Other', 'College_CareerPrep', 'Music', 'History_Geography', 'Health_LifeScience', 'EarlyDevelopment', 'ESL', 'Gym_Fitness', 'EnvironmentalScience', 'VisualArts', 'Health_Wellness', 'AppliedSciences', 'SpecialNeeds', 'Literature_Writing', 'Mathematics', 'Literacy']\n",
            "Shape of matrix after one hot encodig  (65548, 30)\n",
            "CV : Shape of matrix after one hot encoding  (21850, 30)\n",
            "test : Shape of matrix after one hot encoding  (21850, 30)\n"
          ],
          "name": "stdout"
        }
      ]
    },
    {
      "metadata": {
        "id": "QFAVY1ZWA7aD",
        "colab_type": "text"
      },
      "cell_type": "markdown",
      "source": [
        "#### 2.2.1.3 school_state, teacher_prefix and project_grade_category"
      ]
    },
    {
      "metadata": {
        "id": "R-FOWuctA8r8",
        "colab_type": "code",
        "outputId": "e3f70e2a-d75c-47f7-f3ec-263ba00b640a",
        "colab": {
          "base_uri": "https://localhost:8080/",
          "height": 275
        }
      },
      "cell_type": "code",
      "source": [
        "# you can do the similar thing with state, teacher_prefix and project_grade_category also\n",
        "## school_state\n",
        "vectorizer = CountVectorizer(vocabulary=list(train['school_state'].unique()), lowercase=False, binary=True)\n",
        "vectorizer.fit(train['school_state'].values)\n",
        "print(vectorizer.get_feature_names())\n",
        "\n",
        "school_state_one_hot = vectorizer.transform(train['school_state'].values)\n",
        "print(\"Shape of matrix after one hot encodig \",school_state_one_hot.shape)\n",
        "\n",
        "# cross-validation data\n",
        "cv_school_state_one_hot = vectorizer.transform(cv['school_state'].values)\n",
        "print(\"CV: Shape of matrix after one hot encoding \",cv_school_state_one_hot.shape)\n",
        "\n",
        "# test data\n",
        "test_school_state_one_hot = vectorizer.transform(test['school_state'].values)\n",
        "print(\"test: Shape of matrix after one hot encoding \",test_school_state_one_hot.shape)\n",
        "\n",
        "## teacher_prefix\n",
        "tl = list(train['teacher_prefix'].unique())\n",
        "del tl[4]\n",
        "vectorizer = CountVectorizer(vocabulary=tl, lowercase=False, binary=True)\n",
        "vectorizer.fit(train['teacher_prefix'].values.astype(str))\n",
        "print(\"\\n\" + str(vectorizer.get_feature_names()))\n",
        "\n",
        "teacher_prefix_one_hot = vectorizer.transform(train['teacher_prefix'].values.astype(str))\n",
        "print(\"Shape of matrix after one hot encodig \",teacher_prefix_one_hot.shape)\n",
        "\n",
        "# cross-validation data\n",
        "cv_teacher_prefix_one_hot = vectorizer.transform(cv['teacher_prefix'].values.astype(str))\n",
        "print(\"CV: Shape of matrix after one hot encoding \",cv_teacher_prefix_one_hot.shape)\n",
        "\n",
        "# test data\n",
        "test_teacher_prefix_one_hot = vectorizer.transform(test['teacher_prefix'].values.astype(str))\n",
        "print(\"test: Shape of matrix after one hot encoding \",test_teacher_prefix_one_hot.shape)\n",
        "\n",
        "\n",
        "## project_grade_category\n",
        "vectorizer = CountVectorizer(vocabulary=list(train['project_grade_category'].unique()), lowercase=False, binary=True)\n",
        "vectorizer.fit(train['project_grade_category'].values)\n",
        "print(\"\\n\" + str(vectorizer.get_feature_names()))\n",
        "\n",
        "project_grade_category_one_hot = vectorizer.transform(train['project_grade_category'].values)\n",
        "print(\"Shape of matrix after one hot encodig \",project_grade_category_one_hot.shape)\n",
        "\n",
        "# cross-validation data\n",
        "cv_project_grade_category_one_hot = vectorizer.transform(cv['project_grade_category'].values)\n",
        "print(\"CV: Shape of matrix after one hot encoding \",cv_project_grade_category_one_hot.shape)\n",
        "\n",
        "# test data\n",
        "test_project_grade_category_one_hot = vectorizer.transform(test['project_grade_category'].values)\n",
        "print(\"test: Shape of matrix after one hot encoding \",test_project_grade_category_one_hot.shape)\n",
        "\n"
      ],
      "execution_count": 0,
      "outputs": [
        {
          "output_type": "stream",
          "text": [
            "['CA', 'UT', 'GA', 'WA', 'HI', 'IL', 'OH', 'KY', 'SC', 'FL', 'MO', 'MI', 'NY', 'VA', 'MD', 'TX', 'MS', 'NJ', 'AZ', 'OK', 'PA', 'WV', 'NC', 'CO', 'DC', 'MA', 'ID', 'AL', 'ME', 'TN', 'IN', 'LA', 'CT', 'AR', 'KS', 'OR', 'WI', 'IA', 'SD', 'AK', 'MN', 'NM', 'NV', 'MT', 'RI', 'NH', 'WY', 'NE', 'DE', 'ND', 'VT']\n",
            "Shape of matrix after one hot encodig  (65548, 51)\n",
            "CV: Shape of matrix after one hot encoding  (21850, 51)\n",
            "test: Shape of matrix after one hot encoding  (21850, 51)\n",
            "\n",
            "['Mrs.', 'Ms.', 'Mr.', 'Teacher', 'Dr.']\n",
            "Shape of matrix after one hot encodig  (65548, 5)\n",
            "CV: Shape of matrix after one hot encoding  (21850, 5)\n",
            "test: Shape of matrix after one hot encoding  (21850, 5)\n",
            "\n",
            "['Grades PreK-2', 'Grades 3-5', 'Grades 9-12', 'Grades 6-8']\n",
            "Shape of matrix after one hot encodig  (65548, 4)\n",
            "CV: Shape of matrix after one hot encoding  (21850, 4)\n",
            "test: Shape of matrix after one hot encoding  (21850, 4)\n"
          ],
          "name": "stdout"
        }
      ]
    },
    {
      "metadata": {
        "id": "kabkB88FBEyA",
        "colab_type": "text"
      },
      "cell_type": "markdown",
      "source": [
        "### 2.2.2 Encoding Numerical Features"
      ]
    },
    {
      "metadata": {
        "id": "mqrKci8mBYwU",
        "colab_type": "text"
      },
      "cell_type": "markdown",
      "source": [
        "#### 2.2.2.1 teacher_number_of_previously_posted_projects"
      ]
    },
    {
      "metadata": {
        "id": "zeBh7s6oBbWn",
        "colab_type": "code",
        "outputId": "8ed35684-0a3e-4e3d-a6c1-b7079d906ed9",
        "colab": {
          "base_uri": "https://localhost:8080/",
          "height": 34
        }
      },
      "cell_type": "code",
      "source": [
        "from sklearn.preprocessing import StandardScaler\n",
        "\n",
        "# standardizing the attribute 'teacher_number_of_previously_posted_projects'\n",
        "teacher_prev_proj_scalar = StandardScaler()\n",
        "teacher_prev_proj_scalar.fit(train['teacher_number_of_previously_posted_projects'].values.reshape(-1,1)) # finding the mean and standard deviation of this data\n",
        "print(f\"Mean : {teacher_prev_proj_scalar.mean_[0]}, Standard deviation : {np.sqrt(teacher_prev_proj_scalar.var_[0])}\")\n",
        "\n",
        "# Now standardize the data with above mean and variance.\n",
        "teacher_prev_proj_standardized = teacher_prev_proj_scalar.transform(train['teacher_number_of_previously_posted_projects'].values.reshape(-1, 1))\n",
        "\n",
        "teacher_prev_proj_wo_std = train['teacher_number_of_previously_posted_projects'].values.reshape(-1,1)"
      ],
      "execution_count": 0,
      "outputs": [
        {
          "output_type": "stream",
          "text": [
            "Mean : 9.268688594617684, Standard deviation : 24.219374651461074\n"
          ],
          "name": "stdout"
        }
      ]
    },
    {
      "metadata": {
        "id": "TQL8BQLfBmPg",
        "colab_type": "code",
        "outputId": "6b1d08ab-7313-41d5-b22e-687f7d7ff6ac",
        "colab": {
          "base_uri": "https://localhost:8080/",
          "height": 34
        }
      },
      "cell_type": "code",
      "source": [
        "## Cross Validation\n",
        "# standardizing the attribute 'teacher_number_of_previously_posted_projects'\n",
        "teacher_prev_proj_scalar = StandardScaler()\n",
        "teacher_prev_proj_scalar.fit(cv['teacher_number_of_previously_posted_projects'].values.reshape(-1,1)) # finding the mean and standard deviation of this data\n",
        "print(f\"Mean : {teacher_prev_proj_scalar.mean_[0]}, Standard deviation : {np.sqrt(teacher_prev_proj_scalar.var_[0])}\")\n",
        "\n",
        "# Now standardize the data with above mean and variance.\n",
        "cv_teacher_prev_proj_standardized = teacher_prev_proj_scalar.transform(cv['teacher_number_of_previously_posted_projects'].values.reshape(-1, 1))\n",
        "\n",
        "cv_teacher_prev_proj_wo_std = cv['teacher_number_of_previously_posted_projects'].values.reshape(-1,1)"
      ],
      "execution_count": 0,
      "outputs": [
        {
          "output_type": "stream",
          "text": [
            "Mean : 13.671762013729976, Standard deviation : 31.88837788699401\n"
          ],
          "name": "stdout"
        }
      ]
    },
    {
      "metadata": {
        "id": "mO5e6ZtuBnfK",
        "colab_type": "code",
        "outputId": "4faa92f8-36d0-4e87-a52c-5c823ae8dd32",
        "colab": {
          "base_uri": "https://localhost:8080/",
          "height": 34
        }
      },
      "cell_type": "code",
      "source": [
        "## Test Data\n",
        "# standardizing the attribute 'teacher_number_of_previously_posted_projects'\n",
        "teacher_prev_proj_scalar = StandardScaler()\n",
        "teacher_prev_proj_scalar.fit(test['teacher_number_of_previously_posted_projects'].values.reshape(-1,1)) # finding the mean and standard deviation of this data\n",
        "print(f\"Mean : {teacher_prev_proj_scalar.mean_[0]}, Standard deviation : {np.sqrt(teacher_prev_proj_scalar.var_[0])}\")\n",
        "\n",
        "# Now standardize the data with above mean and variance.\n",
        "test_teacher_prev_proj_standardized = teacher_prev_proj_scalar.transform(test['teacher_number_of_previously_posted_projects'].values.reshape(-1, 1))\n",
        "\n",
        "test_teacher_prev_proj_wo_std = test['teacher_number_of_previously_posted_projects'].values.reshape(-1,1)"
      ],
      "execution_count": 0,
      "outputs": [
        {
          "output_type": "stream",
          "text": [
            "Mean : 14.287826086956521, Standard deviation : 32.4711136276059\n"
          ],
          "name": "stdout"
        }
      ]
    },
    {
      "metadata": {
        "id": "wuNDR6KsaJwx",
        "colab_type": "text"
      },
      "cell_type": "markdown",
      "source": [
        "#### 2.2.2.1 price"
      ]
    },
    {
      "metadata": {
        "id": "VxiYv3b3aKW8",
        "colab_type": "code",
        "outputId": "6d997729-54af-471e-f66c-3afa3ae54e4e",
        "colab": {
          "base_uri": "https://localhost:8080/",
          "height": 34
        }
      },
      "cell_type": "code",
      "source": [
        "price_scalar = StandardScaler()\n",
        "price_scalar.fit(train['price'].values.reshape(-1,1)) # finding the mean and standard deviation of this data\n",
        "print(f\"Mean : {price_scalar.mean_[0]}, Standard deviation : {np.sqrt(price_scalar.var_[0])}\")\n",
        "\n",
        "# Now standardize the data with above maen and variance.\n",
        "price_standardized = price_scalar.transform(train['price'].values.reshape(-1, 1))\n",
        "\n",
        "price_wo_std = train['price'].values.reshape(-1,1)"
      ],
      "execution_count": 0,
      "outputs": [
        {
          "output_type": "stream",
          "text": [
            "Mean : 310.06769970098253, Standard deviation : 366.65402205504745\n"
          ],
          "name": "stdout"
        }
      ]
    },
    {
      "metadata": {
        "id": "w5If9MC6e57_",
        "colab_type": "code",
        "outputId": "03e703e9-d191-4b01-babe-ad503b3c7be5",
        "colab": {
          "base_uri": "https://localhost:8080/",
          "height": 34
        }
      },
      "cell_type": "code",
      "source": [
        "price_scalar = StandardScaler()\n",
        "price_scalar.fit(cv['price'].values.reshape(-1,1)) # finding the mean and standard deviation of this data\n",
        "print(f\"Mean : {price_scalar.mean_[0]}, Standard deviation : {np.sqrt(price_scalar.var_[0])}\")\n",
        "\n",
        "# Now standardize the data with above maen and variance.\n",
        "cv_price_standardized = price_scalar.transform(cv['price'].values.reshape(-1, 1))\n",
        "\n",
        "cv_price_wo_std = cv['price'].values.reshape(-1,1)"
      ],
      "execution_count": 0,
      "outputs": [
        {
          "output_type": "stream",
          "text": [
            "Mean : 289.61196292906175, Standard deviation : 383.7327163345801\n"
          ],
          "name": "stdout"
        }
      ]
    },
    {
      "metadata": {
        "id": "Bla20UKxfDBt",
        "colab_type": "code",
        "outputId": "348f97aa-ffab-45e5-fa96-62366b19b62e",
        "colab": {
          "base_uri": "https://localhost:8080/",
          "height": 34
        }
      },
      "cell_type": "code",
      "source": [
        "price_scalar = StandardScaler()\n",
        "price_scalar.fit(test['price'].values.reshape(-1,1)) # finding the mean and standard deviation of this data\n",
        "print(f\"Mean : {price_scalar.mean_[0]}, Standard deviation : {np.sqrt(price_scalar.var_[0])}\")\n",
        "\n",
        "# Now standardize the data with above maen and variance.\n",
        "test_price_standardized = price_scalar.transform(test['price'].values.reshape(-1, 1))\n",
        "\n",
        "test_price_wo_std = test['price'].values.reshape(-1,1)"
      ],
      "execution_count": 0,
      "outputs": [
        {
          "output_type": "stream",
          "text": [
            "Mean : 270.78274462242564, Standard deviation : 351.373759381503\n"
          ],
          "name": "stdout"
        }
      ]
    },
    {
      "metadata": {
        "id": "V8pUeQFiCypq",
        "colab_type": "text"
      },
      "cell_type": "markdown",
      "source": [
        "##2.3 Make Data Model Ready: encoding essay, and project_title"
      ]
    },
    {
      "metadata": {
        "id": "7L7e-_EfCypq",
        "colab_type": "code",
        "colab": {}
      },
      "cell_type": "code",
      "source": [
        "# please write all the code with proper documentation, and proper titles for each subsection\n",
        "# go through documentations and blogs before you start coding\n",
        "# first figure out what to do, and then think about how to do.\n",
        "# reading and understanding error messages will be very much helpfull in debugging your code\n",
        "# make sure you featurize train and test data separatly\n",
        "\n",
        "# when you plot any graph make sure you use \n",
        "    # a. Title, that describes your plot, this will be very helpful to the reader\n",
        "    # b. Legends if needed\n",
        "    # c. X-axis label\n",
        "    # d. Y-axis label"
      ],
      "execution_count": 0,
      "outputs": []
    },
    {
      "metadata": {
        "id": "M8We4CIVCK4m",
        "colab_type": "text"
      },
      "cell_type": "markdown",
      "source": [
        "### 2.3.1 Encoding Text Features"
      ]
    },
    {
      "metadata": {
        "id": "NZ3dfWPnCv1u",
        "colab_type": "text"
      },
      "cell_type": "markdown",
      "source": [
        "#### 2.3.1.1 Preprocessing essays and project_title"
      ]
    },
    {
      "metadata": {
        "id": "zMlPs0smCz_a",
        "colab_type": "code",
        "outputId": "493d0ded-0131-4a97-8c59-6506ae910ebf",
        "colab": {
          "base_uri": "https://localhost:8080/",
          "height": 119
        }
      },
      "cell_type": "code",
      "source": [
        "## Preprocess essays and project_titles for train, cv and test_data\n",
        "\n",
        "# Combining all the above stundents \n",
        "from tqdm import tqdm\n",
        "preprocessed_essays = []\n",
        "# tqdm is for printing the status bar\n",
        "for sentance in tqdm(train['essay'].values):\n",
        "    sent = decontracted(sentance)\n",
        "    sent = sent.replace('\\\\r', ' ')\n",
        "    sent = sent.replace('\\\\\"', ' ')\n",
        "    sent = sent.replace('\\\\n', ' ')\n",
        "    sent = re.sub('[^A-Za-z0-9]+', ' ', sent)\n",
        "    # https://gist.github.com/sebleier/554280\n",
        "    sent = ' '.join(e for e in sent.split() if e.lower() not in stopwords)\n",
        "    preprocessed_essays.append(sent.lower().strip())\n",
        "\n",
        "cv_preprocessed_essays = []\n",
        "# tqdm is for printing the status bar\n",
        "for sentance in tqdm(cv['essay'].values):\n",
        "    sent = decontracted(sentance)\n",
        "    sent = sent.replace('\\\\r', ' ')\n",
        "    sent = sent.replace('\\\\\"', ' ')\n",
        "    sent = sent.replace('\\\\n', ' ')\n",
        "    sent = re.sub('[^A-Za-z0-9]+', ' ', sent)\n",
        "    # https://gist.github.com/sebleier/554280\n",
        "    sent = ' '.join(e for e in sent.split() if e.lower() not in stopwords)\n",
        "    cv_preprocessed_essays.append(sent.lower().strip())\n",
        "    \n",
        "test_preprocessed_essays = []\n",
        "# tqdm is for printing the status bar\n",
        "for sentance in tqdm(test['essay'].values):\n",
        "    sent = decontracted(sentance)\n",
        "    sent = sent.replace('\\\\r', ' ')\n",
        "    sent = sent.replace('\\\\\"', ' ')\n",
        "    sent = sent.replace('\\\\n', ' ')\n",
        "    sent = re.sub('[^A-Za-z0-9]+', ' ', sent)\n",
        "    # https://gist.github.com/sebleier/554280\n",
        "    sent = ' '.join(e for e in sent.split() if e.lower() not in stopwords)\n",
        "    test_preprocessed_essays.append(sent.lower().strip())\n",
        "    \n",
        "# similarly you can preprocess the titles also\n",
        "preprocessed_titles = []\n",
        "# tqdm is for printing the status bar\n",
        "for sentance in tqdm(train['project_title'].values):\n",
        "    sent = decontracted(sentance)\n",
        "    sent = sent.replace('\\\\r', ' ')\n",
        "    sent = sent.replace('\\\\\"', ' ')\n",
        "    sent = sent.replace('\\\\n', ' ')\n",
        "    sent = re.sub('[^A-Za-z0-9]+', ' ', sent)\n",
        "    # https://gist.github.com/sebleier/554280\n",
        "    sent = ' '.join(e for e in sent.split() if e.lower() not in stopwords)\n",
        "    preprocessed_titles.append(sent.lower().strip())\n",
        "    \n",
        "cv_preprocessed_titles = []\n",
        "# tqdm is for printing the status bar\n",
        "for sentance in tqdm(cv['project_title'].values):\n",
        "    sent = decontracted(sentance)\n",
        "    sent = sent.replace('\\\\r', ' ')\n",
        "    sent = sent.replace('\\\\\"', ' ')\n",
        "    sent = sent.replace('\\\\n', ' ')\n",
        "    sent = re.sub('[^A-Za-z0-9]+', ' ', sent)\n",
        "    # https://gist.github.com/sebleier/554280\n",
        "    sent = ' '.join(e for e in sent.split() if e.lower() not in stopwords)\n",
        "    cv_preprocessed_titles.append(sent.lower().strip())\n",
        "    \n",
        "test_preprocessed_titles = []\n",
        "# tqdm is for printing the status bar\n",
        "for sentance in tqdm(test['project_title'].values):\n",
        "    sent = decontracted(sentance)\n",
        "    sent = sent.replace('\\\\r', ' ')\n",
        "    sent = sent.replace('\\\\\"', ' ')\n",
        "    sent = sent.replace('\\\\n', ' ')\n",
        "    sent = re.sub('[^A-Za-z0-9]+', ' ', sent)\n",
        "    # https://gist.github.com/sebleier/554280\n",
        "    sent = ' '.join(e for e in sent.split() if e.lower() not in stopwords)\n",
        "    test_preprocessed_titles.append(sent.lower().strip())"
      ],
      "execution_count": 0,
      "outputs": [
        {
          "output_type": "stream",
          "text": [
            "100%|██████████| 65548/65548 [00:41<00:00, 1572.00it/s]\n",
            "100%|██████████| 21850/21850 [00:13<00:00, 1607.30it/s]\n",
            "100%|██████████| 21850/21850 [00:13<00:00, 1600.23it/s]\n",
            "100%|██████████| 65548/65548 [00:01<00:00, 33971.59it/s]\n",
            "100%|██████████| 21850/21850 [00:00<00:00, 34338.94it/s]\n",
            "100%|██████████| 21850/21850 [00:00<00:00, 33787.07it/s]\n"
          ],
          "name": "stderr"
        }
      ]
    },
    {
      "metadata": {
        "id": "GLFEFguNDPyC",
        "colab_type": "text"
      },
      "cell_type": "markdown",
      "source": [
        "#### 2.3.1.2 Bag of Words:"
      ]
    },
    {
      "metadata": {
        "id": "QH3cQlnZCQNr",
        "colab_type": "text"
      },
      "cell_type": "markdown",
      "source": [
        "##### 2.3.1.2.1 essays"
      ]
    },
    {
      "metadata": {
        "id": "x-gZmZ_GDWBC",
        "colab_type": "code",
        "outputId": "e7bb7604-5ec8-48ed-d138-a3886d719c60",
        "colab": {
          "base_uri": "https://localhost:8080/",
          "height": 68
        }
      },
      "cell_type": "code",
      "source": [
        "# We are considering only the words which appeared in at least 10 documents(rows or projects).\n",
        "vectorizer = CountVectorizer(min_df=10)\n",
        "text_bow = vectorizer.fit_transform(preprocessed_essays)\n",
        "print(\"Shape of matrix after one hot encoding \",text_bow.shape)\n",
        "\n",
        "cv_text_bow = vectorizer.transform(cv_preprocessed_essays)\n",
        "print(\"CV: Shape of matrix after one hot encoding \",cv_text_bow.shape)\n",
        "\n",
        "test_text_bow = vectorizer.transform(test_preprocessed_essays)\n",
        "print(\"test: Shape of matrix after one hot encoding \",test_text_bow.shape)\n"
      ],
      "execution_count": 0,
      "outputs": [
        {
          "output_type": "stream",
          "text": [
            "Shape of matrix after one hot encoding  (65548, 13495)\n",
            "CV: Shape of matrix after one hot encoding  (21850, 13495)\n",
            "test: Shape of matrix after one hot encoding  (21850, 13495)\n"
          ],
          "name": "stdout"
        }
      ]
    },
    {
      "metadata": {
        "id": "FoK4vC-3CWEm",
        "colab_type": "text"
      },
      "cell_type": "markdown",
      "source": [
        "##### 2.3.1.2.2 project_title"
      ]
    },
    {
      "metadata": {
        "id": "BeSTgvGBDgGB",
        "colab_type": "code",
        "outputId": "dc99d245-bb6c-4f66-d141-b9135acebe13",
        "colab": {
          "base_uri": "https://localhost:8080/",
          "height": 68
        }
      },
      "cell_type": "code",
      "source": [
        "# project_title\n",
        "# before you vectorize the title make sure you preprocess it\n",
        "vectorizer = CountVectorizer()\n",
        "title_bow = vectorizer.fit_transform(preprocessed_titles)\n",
        "print(\"Shape of matrix after one hot encoding \",title_bow.shape)\n",
        "\n",
        "cv_title_bow = vectorizer.transform(cv_preprocessed_titles)\n",
        "print(\"Shape of matrix after one hot encoding \",cv_title_bow.shape)\n",
        "\n",
        "test_title_bow = vectorizer.transform(test_preprocessed_titles)\n",
        "print(\"Shape of matrix after one hot encoding \",test_title_bow.shape)"
      ],
      "execution_count": 0,
      "outputs": [
        {
          "output_type": "stream",
          "text": [
            "Shape of matrix after one hot encoding  (65548, 13020)\n",
            "Shape of matrix after one hot encoding  (21850, 13020)\n",
            "Shape of matrix after one hot encoding  (21850, 13020)\n"
          ],
          "name": "stdout"
        }
      ]
    },
    {
      "metadata": {
        "id": "QyIP98sQgOsv",
        "colab_type": "code",
        "colab": {}
      },
      "cell_type": "code",
      "source": [
        "## Save the BOW matrices \n",
        "from scipy import sparse\n",
        "\n",
        "sparse.save_npz(\"/content/drive/My Drive/Assignment2/title_bow.npz\", text_bow)\n",
        "sparse.save_npz(\"/content/drive/My Drive/Assignment2/cv_title_bow.npz\", cv_text_bow)\n",
        "sparse.save_npz(\"/content/drive/My Drive/Assignment2/test_title_bow.npz\", test_text_bow)\n",
        "sparse.save_npz(\"/content/drive/My Drive/Assignment2/title_bow.npz\", title_bow)\n",
        "sparse.save_npz(\"/content/drive/My Drive/Assignment2/cv_title_bow.npz\", cv_title_bow)\n",
        "sparse.save_npz(\"/content/drive/My Drive/Assignment2/test_title_bow.npz\", test_title_bow)\n",
        "#your_matrix_back = sparse.load_npz(\"yourmatrix.npz\")\n"
      ],
      "execution_count": 0,
      "outputs": []
    },
    {
      "metadata": {
        "id": "Ij72XVC3Dh7Z",
        "colab_type": "text"
      },
      "cell_type": "markdown",
      "source": [
        "#### 2.3.1.3 TF_IDF Vectorizer"
      ]
    },
    {
      "metadata": {
        "id": "OT_DQJkKDk-u",
        "colab_type": "text"
      },
      "cell_type": "markdown",
      "source": [
        "##### 2.3.1.3.1 essays"
      ]
    },
    {
      "metadata": {
        "id": "gxa-hPokDpTB",
        "colab_type": "code",
        "outputId": "82cfede5-1f3d-4a98-8eba-e943dfd8c509",
        "colab": {
          "base_uri": "https://localhost:8080/",
          "height": 68
        }
      },
      "cell_type": "code",
      "source": [
        "## Essays\n",
        "from sklearn.feature_extraction.text import TfidfVectorizer\n",
        "vectorizer = TfidfVectorizer(min_df=10)\n",
        "text_tfidf = vectorizer.fit_transform(preprocessed_essays)\n",
        "print(\"Shape of matrix after one hot encoding \",text_tfidf.shape)\n",
        "\n",
        "cv_text_tfidf = vectorizer.transform(cv_preprocessed_essays)\n",
        "print(\"CV: Shape of matrix after one hot encoding \",cv_text_tfidf.shape)\n",
        "\n",
        "test_text_tfidf = vectorizer.transform(test_preprocessed_essays)\n",
        "print(\"test: Shape of matrix after one hot encoding \",test_text_tfidf.shape)"
      ],
      "execution_count": 0,
      "outputs": [
        {
          "output_type": "stream",
          "text": [
            "Shape of matrix after one hot encoding  (65548, 13495)\n",
            "CV: Shape of matrix after one hot encoding  (21850, 13495)\n",
            "test: Shape of matrix after one hot encoding  (21850, 13495)\n"
          ],
          "name": "stdout"
        }
      ]
    },
    {
      "metadata": {
        "id": "wISHArHUDm_F",
        "colab_type": "text"
      },
      "cell_type": "markdown",
      "source": [
        "##### 2.3.1.3.2 project_title"
      ]
    },
    {
      "metadata": {
        "id": "cW7_EwdrD2Zp",
        "colab_type": "code",
        "outputId": "5b11433a-68ea-4edd-e6fa-d0ba651b265e",
        "colab": {
          "base_uri": "https://localhost:8080/",
          "height": 68
        }
      },
      "cell_type": "code",
      "source": [
        "## project_title\n",
        "vectorizer = TfidfVectorizer()\n",
        "title_tfidf = vectorizer.fit_transform(preprocessed_titles)\n",
        "print(\"Shape of matrix after one hot encoding \",title_tfidf.shape)\n",
        "\n",
        "cv_title_tfidf = vectorizer.transform(cv_preprocessed_titles)\n",
        "print(\"CV: Shape of matrix after one hot encoding \",cv_title_tfidf.shape)\n",
        "\n",
        "test_title_tfidf = vectorizer.transform(test_preprocessed_titles)\n",
        "print(\"test: Shape of matrix after one hot encoding \",test_title_tfidf.shape)"
      ],
      "execution_count": 0,
      "outputs": [
        {
          "output_type": "stream",
          "text": [
            "Shape of matrix after one hot encoding  (65548, 13020)\n",
            "CV: Shape of matrix after one hot encoding  (21850, 13020)\n",
            "test: Shape of matrix after one hot encoding  (21850, 13020)\n"
          ],
          "name": "stdout"
        }
      ]
    },
    {
      "metadata": {
        "id": "ZnEeIphJWv1O",
        "colab_type": "code",
        "colab": {}
      },
      "cell_type": "code",
      "source": [
        "## run this for getting only max 2000 features ## \n",
        "'''\n",
        "## Essays\n",
        "from sklearn.feature_extraction.text import TfidfVectorizer\n",
        "vectorizer = TfidfVectorizer(min_df=10, max_features=2000)\n",
        "text_tfidf = vectorizer.fit_transform(preprocessed_essays)\n",
        "print(\"Shape of matrix after one hot encoding \",text_tfidf.shape)\n",
        "\n",
        "cv_text_tfidf = vectorizer.transform(cv_preprocessed_essays)\n",
        "print(\"CV: Shape of matrix after one hot encoding \",cv_text_tfidf.shape)\n",
        "\n",
        "test_text_tfidf = vectorizer.transform(test_preprocessed_essays)\n",
        "print(\"test: Shape of matrix after one hot encoding \",test_text_tfidf.shape)\n",
        "\n",
        "\n",
        "## project_title\n",
        "vectorizer = TfidfVectorizer(max_features=2000)\n",
        "title_tfidf = vectorizer.fit_transform(preprocessed_titles)\n",
        "print(\"Shape of matrix after one hot encoding \",title_tfidf.shape)\n",
        "\n",
        "cv_title_tfidf = vectorizer.transform(cv_preprocessed_titles)\n",
        "print(\"CV: Shape of matrix after one hot encoding \",cv_title_tfidf.shape)\n",
        "\n",
        "test_title_tfidf = vectorizer.transform(test_preprocessed_titles)\n",
        "print(\"test: Shape of matrix after one hot encoding \",test_title_tfidf.shape)'''"
      ],
      "execution_count": 0,
      "outputs": []
    },
    {
      "metadata": {
        "id": "0_iK-XXhgcBc",
        "colab_type": "code",
        "colab": {}
      },
      "cell_type": "code",
      "source": [
        "'''\n",
        "sparse.save_npz(\"/content/drive/My Drive/Assignment2/title_bow.npz\", text_tfidf)\n",
        "sparse.save_npz(\"/content/drive/My Drive/Assignment2/cv_title_bow.npz\", cv_text_tfidf)\n",
        "sparse.save_npz(\"/content/drive/My Drive/Assignment2/test_title_bow.npz\", test_text_tfidf)\n",
        "sparse.save_npz(\"/content/drive/My Drive/Assignment2/title_bow.npz\", title_tfidf)\n",
        "sparse.save_npz(\"/content/drive/My Drive/Assignment2/cv_title_bow.npz\", cv_title_tfidf)\n",
        "sparse.save_npz(\"/content/drive/My Drive/Assignment2/test_title_bow.npz\", test_title_tfidf)\n",
        "#your_matrix_back = sparse.load_npz(\"yourmatrix.npz\")\n",
        "'''"
      ],
      "execution_count": 0,
      "outputs": []
    },
    {
      "metadata": {
        "id": "Of1itFUZD8Yk",
        "colab_type": "text"
      },
      "cell_type": "markdown",
      "source": [
        "#### 2.3.1.4 Avg-Word2Vec"
      ]
    },
    {
      "metadata": {
        "id": "He3h4e1IEBFF",
        "colab_type": "text"
      },
      "cell_type": "markdown",
      "source": [
        "##### 2.3.1.4.1 essays"
      ]
    },
    {
      "metadata": {
        "id": "Vl7FTLvgEQhJ",
        "colab_type": "code",
        "colab": {}
      },
      "cell_type": "code",
      "source": [
        "# stronging variables into pickle files python: http://www.jessicayung.com/how-to-use-pickle-to-save-and-load-variables-in-python/\n",
        "# make sure you have the glove_vectors file\n",
        "with open('/content/drive/My Drive/Assignment2/glove_vectors', 'rb') as f:\n",
        "    model = pickle.load(f)\n",
        "    glove_words =  set(model.keys())"
      ],
      "execution_count": 0,
      "outputs": []
    },
    {
      "metadata": {
        "id": "l_37imicESdP",
        "colab_type": "code",
        "outputId": "46e2d634-e84a-464a-93af-4a60bbdb2322",
        "colab": {
          "base_uri": "https://localhost:8080/",
          "height": 119
        }
      },
      "cell_type": "code",
      "source": [
        "## Essays\n",
        "# average Word2Vec\n",
        "# compute average word2vec for each review.\n",
        "avg_w2v_vectors = []; # the avg-w2v for each sentence/review is stored in this list\n",
        "for sentence in tqdm(preprocessed_essays): # for each review/sentence\n",
        "    vector = np.zeros(300) # as word vectors are of zero length\n",
        "    cnt_words =0; # num of words with a valid vector in the sentence/review\n",
        "    for word in sentence.split(): # for each word in a review/sentence\n",
        "        if word in glove_words:\n",
        "            vector += model[word] # adding two vectors of dimension 1 x 300\n",
        "            cnt_words += 1\n",
        "    if cnt_words != 0:\n",
        "        vector /= cnt_words\n",
        "    avg_w2v_vectors.append(vector)\n",
        "\n",
        "#print(len(avg_w2v_vectors))\n",
        "print(len(avg_w2v_vectors[0]))\n",
        "\n",
        "cv_avg_w2v_vectors = []; # the avg-w2v for each sentence/review is stored in this list\n",
        "for sentence in tqdm(cv_preprocessed_essays): # for each review/sentence\n",
        "    vector = np.zeros(300) # as word vectors are of zero length\n",
        "    cnt_words =0; # num of words with a valid vector in the sentence/review\n",
        "    for word in sentence.split(): # for each word in a review/sentence\n",
        "        if word in glove_words:\n",
        "            vector += model[word]\n",
        "            cnt_words += 1\n",
        "    if cnt_words != 0:\n",
        "        vector /= cnt_words\n",
        "    cv_avg_w2v_vectors.append(vector)\n",
        "\n",
        "#print(len(cv_avg_w2v_vectors))\n",
        "print(len(cv_avg_w2v_vectors[0]))\n",
        "\n",
        "test_avg_w2v_vectors = []; # the avg-w2v for each sentence/review is stored in this list\n",
        "for sentence in tqdm(test_preprocessed_essays): # for each review/sentence\n",
        "    vector = np.zeros(300) # as word vectors are of zero length\n",
        "    cnt_words =0; # num of words with a valid vector in the sentence/review\n",
        "    for word in sentence.split(): # for each word in a review/sentence\n",
        "        if word in glove_words:\n",
        "            vector += model[word]\n",
        "            cnt_words += 1\n",
        "    if cnt_words != 0:\n",
        "        vector /= cnt_words\n",
        "    test_avg_w2v_vectors.append(vector)\n",
        "\n",
        "#print(len(test_avg_w2v_vectors))\n",
        "print(len(test_avg_w2v_vectors[0]))\n"
      ],
      "execution_count": 0,
      "outputs": [
        {
          "output_type": "stream",
          "text": [
            "100%|██████████| 65548/65548 [00:18<00:00, 3509.42it/s]\n",
            "  2%|▏         | 366/21850 [00:00<00:05, 3657.00it/s]"
          ],
          "name": "stderr"
        },
        {
          "output_type": "stream",
          "text": [
            "300\n"
          ],
          "name": "stdout"
        },
        {
          "output_type": "stream",
          "text": [
            "100%|██████████| 21850/21850 [00:06<00:00, 3519.19it/s]\n",
            "  2%|▏         | 340/21850 [00:00<00:06, 3394.87it/s]"
          ],
          "name": "stderr"
        },
        {
          "output_type": "stream",
          "text": [
            "300\n"
          ],
          "name": "stdout"
        },
        {
          "output_type": "stream",
          "text": [
            "100%|██████████| 21850/21850 [00:06<00:00, 3507.20it/s]"
          ],
          "name": "stderr"
        },
        {
          "output_type": "stream",
          "text": [
            "300\n"
          ],
          "name": "stdout"
        },
        {
          "output_type": "stream",
          "text": [
            "\n"
          ],
          "name": "stderr"
        }
      ]
    },
    {
      "metadata": {
        "id": "0RgqoBlqlu4U",
        "colab_type": "code",
        "colab": {}
      },
      "cell_type": "code",
      "source": [
        "avg_w2v_vectors"
      ],
      "execution_count": 0,
      "outputs": []
    },
    {
      "metadata": {
        "id": "Lbs1YDA1ECsv",
        "colab_type": "text"
      },
      "cell_type": "markdown",
      "source": [
        "##### 2.3.1.4.2 project_title"
      ]
    },
    {
      "metadata": {
        "id": "kOJFaBCbEkK9",
        "colab_type": "code",
        "outputId": "f413ff5d-d188-4ed7-bb96-11457677ec19",
        "colab": {
          "base_uri": "https://localhost:8080/",
          "height": 170
        }
      },
      "cell_type": "code",
      "source": [
        "## project_title\n",
        "# average Word2Vec\n",
        "# compute average word2vec for each title.\n",
        "title_avg_w2v_vectors = []; # the avg-w2v for each sentence/review is stored in this list\n",
        "for sentence in tqdm(preprocessed_titles): # for each title\n",
        "    vector = np.zeros(300) # as word vectors are of zero length\n",
        "    cnt_words =0; # num of words with a valid vector in the sentence/review\n",
        "    for word in sentence.split(): # for each word in a review/sentence\n",
        "        if word in glove_words:\n",
        "            vector += model[word]\n",
        "            cnt_words += 1\n",
        "    if cnt_words != 0:\n",
        "        vector /= cnt_words\n",
        "    title_avg_w2v_vectors.append(vector)\n",
        "\n",
        "print(len(title_avg_w2v_vectors))\n",
        "print(len(title_avg_w2v_vectors[0]))\n",
        "\n",
        "cv_title_avg_w2v_vectors = []; # the avg-w2v for each sentence/review is stored in this list\n",
        "for sentence in tqdm(cv_preprocessed_titles): # for each title\n",
        "    vector = np.zeros(300) # as word vectors are of zero length\n",
        "    cnt_words =0; # num of words with a valid vector in the sentence/review\n",
        "    for word in sentence.split(): # for each word in a review/sentence\n",
        "        if word in glove_words:\n",
        "            vector += model[word]\n",
        "            cnt_words += 1\n",
        "    if cnt_words != 0:\n",
        "        vector /= cnt_words\n",
        "    cv_title_avg_w2v_vectors.append(vector)\n",
        "\n",
        "print(len(cv_title_avg_w2v_vectors))\n",
        "print(len(cv_title_avg_w2v_vectors[0]))\n",
        "\n",
        "test_title_avg_w2v_vectors = []; # the avg-w2v for each sentence/review is stored in this list\n",
        "for sentence in tqdm(test_preprocessed_titles): # for each title\n",
        "    vector = np.zeros(300) # as word vectors are of zero length\n",
        "    cnt_words =0; # num of words with a valid vector in the sentence/review\n",
        "    for word in sentence.split(): # for each word in a review/sentence\n",
        "        if word in glove_words:\n",
        "            vector += model[word]\n",
        "            cnt_words += 1\n",
        "    if cnt_words != 0:\n",
        "        vector /= cnt_words\n",
        "    test_title_avg_w2v_vectors.append(vector)\n",
        "\n",
        "print(len(test_title_avg_w2v_vectors))\n",
        "print(len(test_title_avg_w2v_vectors[0]))"
      ],
      "execution_count": 0,
      "outputs": [
        {
          "output_type": "stream",
          "text": [
            "100%|██████████| 65548/65548 [00:01<00:00, 64314.90it/s]\n",
            " 32%|███▏      | 6896/21850 [00:00<00:00, 68959.57it/s]"
          ],
          "name": "stderr"
        },
        {
          "output_type": "stream",
          "text": [
            "65548\n",
            "300\n"
          ],
          "name": "stdout"
        },
        {
          "output_type": "stream",
          "text": [
            "100%|██████████| 21850/21850 [00:00<00:00, 65033.74it/s]\n",
            " 29%|██▉       | 6439/21850 [00:00<00:00, 64385.61it/s]"
          ],
          "name": "stderr"
        },
        {
          "output_type": "stream",
          "text": [
            "21850\n",
            "300\n"
          ],
          "name": "stdout"
        },
        {
          "output_type": "stream",
          "text": [
            "100%|██████████| 21850/21850 [00:00<00:00, 62282.43it/s]"
          ],
          "name": "stderr"
        },
        {
          "output_type": "stream",
          "text": [
            "21850\n",
            "300\n"
          ],
          "name": "stdout"
        },
        {
          "output_type": "stream",
          "text": [
            "\n"
          ],
          "name": "stderr"
        }
      ]
    },
    {
      "metadata": {
        "id": "ZNZ7jbBTEyM1",
        "colab_type": "text"
      },
      "cell_type": "markdown",
      "source": [
        "#### 2.3.1.5 TFIDF weighted Word2Vec"
      ]
    },
    {
      "metadata": {
        "id": "B99JPZzsE27o",
        "colab_type": "text"
      },
      "cell_type": "markdown",
      "source": [
        "##### 2.3.1.5.1 essays"
      ]
    },
    {
      "metadata": {
        "id": "55qaZHSTE76g",
        "colab_type": "code",
        "outputId": "d9d8d32c-1a71-480d-88aa-948ada2e4cf8",
        "colab": {
          "base_uri": "https://localhost:8080/",
          "height": 170
        }
      },
      "cell_type": "code",
      "source": [
        "## Essays - train\n",
        "# S = [\"abc def pqr\", \"def def def abc\", \"pqr pqr def\"]\n",
        "tfidf_model = TfidfVectorizer()\n",
        "tfidf_model.fit(preprocessed_essays)\n",
        "# we are converting a dictionary with word as a key, and the idf as a value\n",
        "dictionary = dict(zip(tfidf_model.get_feature_names(), list(tfidf_model.idf_)))\n",
        "tfidf_words = set(tfidf_model.get_feature_names())\n",
        "\n",
        "\n",
        "# tfidf Word2Vec\n",
        "# compute tfidf word2vec for each review.\n",
        "tfidf_w2v_vectors = []; # the tfidf-w2v for each sentence/review is stored in this list\n",
        "for sentence in tqdm(preprocessed_essays): # for each review/sentence\n",
        "    vector = np.zeros(300) # as word vectors are of zero length\n",
        "    tf_idf_weight =0; # num of words with a valid vector in the sentence/review\n",
        "    for word in sentence.split(): # for each word in a review/sentence\n",
        "        if (word in glove_words) and (word in tfidf_words):\n",
        "            vec = model[word] # getting the vector for each word\n",
        "            # here we are multiplying idf value(dictionary[word]) and the tf value((sentence.count(word)/len(sentence.split())))\n",
        "            tf_idf = dictionary[word]*(sentence.count(word)/len(sentence.split())) # getting the tfidf value for each word\n",
        "            vector += (vec * tf_idf) # calculating tfidf weighted w2v\n",
        "            tf_idf_weight += tf_idf\n",
        "    if tf_idf_weight != 0:\n",
        "        vector /= tf_idf_weight\n",
        "    tfidf_w2v_vectors.append(vector)\n",
        "\n",
        "print(len(tfidf_w2v_vectors))\n",
        "print(len(tfidf_w2v_vectors[0]))\n",
        "\n",
        "\n",
        "## Essays - cross-validation\n",
        "tfidf_model = TfidfVectorizer()\n",
        "tfidf_model.fit(cv_preprocessed_essays)\n",
        "# we are converting a dictionary with word as a key, and the idf as a value\n",
        "dictionary = dict(zip(tfidf_model.get_feature_names(), list(tfidf_model.idf_)))\n",
        "tfidf_words = set(tfidf_model.get_feature_names())\n",
        "\n",
        "# tfidf Word2Vec\n",
        "# compute tfidf word2vec for each review.\n",
        "cv_tfidf_w2v_vectors = []; # the tfidf-w2v for each sentence/review is stored in this list\n",
        "for sentence in tqdm(cv_preprocessed_essays): # for each review/sentence\n",
        "    vector = np.zeros(300) # as word vectors are of zero length\n",
        "    tf_idf_weight =0; # num of words with a valid vector in the sentence/review\n",
        "    for word in sentence.split(): # for each word in a review/sentence\n",
        "        if (word in glove_words) and (word in tfidf_words):\n",
        "            vec = model[word] # getting the vector for each word\n",
        "            # here we are multiplying idf value(dictionary[word]) and the tf value((sentence.count(word)/len(sentence.split())))\n",
        "            tf_idf = dictionary[word]*(sentence.count(word)/len(sentence.split())) # getting the tfidf value for each word\n",
        "            vector += (vec * tf_idf) # calculating tfidf weighted w2v\n",
        "            tf_idf_weight += tf_idf\n",
        "    if tf_idf_weight != 0:\n",
        "        vector /= tf_idf_weight\n",
        "    cv_tfidf_w2v_vectors.append(vector)\n",
        "\n",
        "print(len(cv_tfidf_w2v_vectors))\n",
        "print(len(cv_tfidf_w2v_vectors[0]))\n",
        "\n",
        "\n",
        "\n",
        "## Essays - test\n",
        "tfidf_model = TfidfVectorizer()\n",
        "tfidf_model.fit(test_preprocessed_essays)\n",
        "# we are converting a dictionary with word as a key, and the idf as a value\n",
        "dictionary = dict(zip(tfidf_model.get_feature_names(), list(tfidf_model.idf_)))\n",
        "tfidf_words = set(tfidf_model.get_feature_names())\n",
        "\n",
        "# tfidf Word2Vec\n",
        "# compute tfidf word2vec for each review.\n",
        "test_tfidf_w2v_vectors = []; # the tfidf-w2v for each sentence/review is stored in this list\n",
        "for sentence in tqdm(test_preprocessed_essays): # for each review/sentence\n",
        "    vector = np.zeros(300) # as word vectors are of zero length\n",
        "    tf_idf_weight =0; # num of words with a valid vector in the sentence/review\n",
        "    for word in sentence.split(): # for each word in a review/sentence\n",
        "        if (word in glove_words) and (word in tfidf_words):\n",
        "            vec = model[word] # getting the vector for each word\n",
        "            # here we are multiplying idf value(dictionary[word]) and the tf value((sentence.count(word)/len(sentence.split())))\n",
        "            tf_idf = dictionary[word]*(sentence.count(word)/len(sentence.split())) # getting the tfidf value for each word\n",
        "            vector += (vec * tf_idf) # calculating tfidf weighted w2v\n",
        "            tf_idf_weight += tf_idf\n",
        "    if tf_idf_weight != 0:\n",
        "        vector /= tf_idf_weight\n",
        "    test_tfidf_w2v_vectors.append(vector)\n",
        "\n",
        "print(len(test_tfidf_w2v_vectors))\n",
        "print(len(test_tfidf_w2v_vectors[0]))\n"
      ],
      "execution_count": 0,
      "outputs": [
        {
          "output_type": "stream",
          "text": [
            "100%|██████████| 65548/65548 [02:08<00:00, 510.41it/s]\n"
          ],
          "name": "stderr"
        },
        {
          "output_type": "stream",
          "text": [
            "65548\n",
            "300\n"
          ],
          "name": "stdout"
        },
        {
          "output_type": "stream",
          "text": [
            "100%|██████████| 21850/21850 [00:41<00:00, 523.99it/s]\n"
          ],
          "name": "stderr"
        },
        {
          "output_type": "stream",
          "text": [
            "21850\n",
            "300\n"
          ],
          "name": "stdout"
        },
        {
          "output_type": "stream",
          "text": [
            "100%|██████████| 21850/21850 [00:42<00:00, 510.78it/s]"
          ],
          "name": "stderr"
        },
        {
          "output_type": "stream",
          "text": [
            "21850\n",
            "300\n"
          ],
          "name": "stdout"
        },
        {
          "output_type": "stream",
          "text": [
            "\n"
          ],
          "name": "stderr"
        }
      ]
    },
    {
      "metadata": {
        "id": "6V0oO8m1E5eL",
        "colab_type": "text"
      },
      "cell_type": "markdown",
      "source": [
        "##### 2.3.1.5.2 project_title"
      ]
    },
    {
      "metadata": {
        "id": "quA6xRVbE8r2",
        "colab_type": "code",
        "outputId": "6ee09847-3a81-46e2-fed4-9c56c340c231",
        "colab": {
          "base_uri": "https://localhost:8080/",
          "height": 170
        }
      },
      "cell_type": "code",
      "source": [
        "## project_title - train\n",
        "# Similarly you can vectorize for title also\n",
        "tfidf_model = TfidfVectorizer()\n",
        "tfidf_model.fit(preprocessed_titles)\n",
        "# we are converting a dictionary with word as a key, and the idf as a value\n",
        "dictionary = dict(zip(tfidf_model.get_feature_names(), list(tfidf_model.idf_)))\n",
        "title_tfidf_words = set(tfidf_model.get_feature_names())\n",
        "\n",
        "# tfidf Word2Vec\n",
        "# compute average word2vec for each review.\n",
        "title_tfidf_w2v_vectors = []; # the tfidf-w2v for each title is stored in this list\n",
        "for sentence in tqdm(preprocessed_titles): # for each title\n",
        "    vector = np.zeros(300) # as word vectors are of zero length\n",
        "    tf_idf_weight =0; # num of words with a valid vector in the title\n",
        "    for word in sentence.split(): # for each word in a title\n",
        "        if (word in glove_words) and (word in title_tfidf_words):\n",
        "            vec = model[word] # getting the vector for each word\n",
        "            # here we are multiplying idf value(dictionary[word]) and the tf value((sentence.count(word)/len(sentence.split())))\n",
        "            tf_idf = dictionary[word]*(sentence.count(word)/len(sentence.split())) # getting the tfidf value for each word\n",
        "            vector += (vec * tf_idf) # calculating tfidf weighted w2v\n",
        "            tf_idf_weight += tf_idf\n",
        "    if tf_idf_weight != 0:\n",
        "        vector /= tf_idf_weight\n",
        "    title_tfidf_w2v_vectors.append(vector)\n",
        "\n",
        "print(len(title_tfidf_w2v_vectors))\n",
        "print(len(title_tfidf_w2v_vectors[0]))\n",
        "\n",
        "\n",
        "\n",
        "## project_title - cross-validation\n",
        "tfidf_model = TfidfVectorizer()\n",
        "tfidf_model.fit(cv_preprocessed_titles)\n",
        "# we are converting a dictionary with word as a key, and the idf as a value\n",
        "dictionary = dict(zip(tfidf_model.get_feature_names(), list(tfidf_model.idf_)))\n",
        "title_tfidf_words = set(tfidf_model.get_feature_names())\n",
        "\n",
        "# tfidf Word2Vec\n",
        "# compute average word2vec for each review.\n",
        "cv_title_tfidf_w2v_vectors = []; # the tfidf-w2v for each title is stored in this list\n",
        "for sentence in tqdm(cv_preprocessed_titles): # for each title\n",
        "    vector = np.zeros(300) # as word vectors are of zero length\n",
        "    tf_idf_weight =0; # num of words with a valid vector in the title\n",
        "    for word in sentence.split(): # for each word in a title\n",
        "        if (word in glove_words) and (word in title_tfidf_words):\n",
        "            vec = model[word] # getting the vector for each word\n",
        "            # here we are multiplying idf value(dictionary[word]) and the tf value((sentence.count(word)/len(sentence.split())))\n",
        "            tf_idf = dictionary[word]*(sentence.count(word)/len(sentence.split())) # getting the tfidf value for each word\n",
        "            vector += (vec * tf_idf) # calculating tfidf weighted w2v\n",
        "            tf_idf_weight += tf_idf\n",
        "    if tf_idf_weight != 0:\n",
        "        vector /= tf_idf_weight\n",
        "    cv_title_tfidf_w2v_vectors.append(vector)\n",
        "\n",
        "print(len(cv_title_tfidf_w2v_vectors))\n",
        "print(len(cv_title_tfidf_w2v_vectors[0]))\n",
        "\n",
        "\n",
        "## project_title - test\n",
        "tfidf_model = TfidfVectorizer()\n",
        "tfidf_model.fit(test_preprocessed_titles)\n",
        "# we are converting a dictionary with word as a key, and the idf as a value\n",
        "dictionary = dict(zip(tfidf_model.get_feature_names(), list(tfidf_model.idf_)))\n",
        "title_tfidf_words = set(tfidf_model.get_feature_names())\n",
        "\n",
        "# tfidf Word2Vec\n",
        "# compute average word2vec for each review.\n",
        "test_title_tfidf_w2v_vectors = []; # the tfidf-w2v for each title is stored in this list\n",
        "for sentence in tqdm(test_preprocessed_titles): # for each title\n",
        "    vector = np.zeros(300) # as word vectors are of zero length\n",
        "    tf_idf_weight =0; # num of words with a valid vector in the title\n",
        "    for word in sentence.split(): # for each word in a title\n",
        "        if (word in glove_words) and (word in title_tfidf_words):\n",
        "            vec = model[word] # getting the vector for each word\n",
        "            # here we are multiplying idf value(dictionary[word]) and the tf value((sentence.count(word)/len(sentence.split())))\n",
        "            tf_idf = dictionary[word]*(sentence.count(word)/len(sentence.split())) # getting the tfidf value for each word\n",
        "            vector += (vec * tf_idf) # calculating tfidf weighted w2v\n",
        "            tf_idf_weight += tf_idf\n",
        "    if tf_idf_weight != 0:\n",
        "        vector /= tf_idf_weight\n",
        "    test_title_tfidf_w2v_vectors.append(vector)\n",
        "\n",
        "print(len(test_title_tfidf_w2v_vectors))\n",
        "print(len(test_title_tfidf_w2v_vectors[0]))"
      ],
      "execution_count": 0,
      "outputs": [
        {
          "output_type": "stream",
          "text": [
            "100%|██████████| 65548/65548 [00:02<00:00, 32618.27it/s]\n",
            "  8%|▊         | 1784/21850 [00:00<00:01, 17839.12it/s]"
          ],
          "name": "stderr"
        },
        {
          "output_type": "stream",
          "text": [
            "65548\n",
            "300\n"
          ],
          "name": "stdout"
        },
        {
          "output_type": "stream",
          "text": [
            "100%|██████████| 21850/21850 [00:00<00:00, 28295.24it/s]\n",
            "  0%|          | 0/21850 [00:00<?, ?it/s]"
          ],
          "name": "stderr"
        },
        {
          "output_type": "stream",
          "text": [
            "21850\n",
            "300\n"
          ],
          "name": "stdout"
        },
        {
          "output_type": "stream",
          "text": [
            "100%|██████████| 21850/21850 [00:00<00:00, 27357.70it/s]\n"
          ],
          "name": "stderr"
        },
        {
          "output_type": "stream",
          "text": [
            "21850\n",
            "300\n"
          ],
          "name": "stdout"
        }
      ]
    },
    {
      "metadata": {
        "id": "UL8bHrflCyps",
        "colab_type": "text"
      },
      "cell_type": "markdown",
      "source": [
        "##2.4 Appling KNN on different kind of featurization as mentioned in the instructions\n",
        "\n",
        "<br>Apply KNN on different kind of featurization as mentioned in the instructions\n",
        "<br> For Every model that you work on make sure you do the step 2 and step 3 of instructions"
      ]
    },
    {
      "metadata": {
        "id": "Tsay467cCypt",
        "colab_type": "code",
        "colab": {}
      },
      "cell_type": "code",
      "source": [
        "# please write all the code with proper documentation, and proper titles for each subsection\n",
        "# go through documentations and blogs before you start coding\n",
        "# first figure out what to do, and then think about how to do.\n",
        "# reading and understanding error messages will be very much helpfull in debugging your code\n",
        "\n",
        "# when you plot any graph make sure you use \n",
        "    # a. Title, that describes your plot, this will be very helpful to the reader\n",
        "    # b. Legends if needed\n",
        "    # c. X-axis label\n",
        "    # d. Y-axis label"
      ],
      "execution_count": 0,
      "outputs": []
    },
    {
      "metadata": {
        "id": "B1dIm8PiCypw",
        "colab_type": "text"
      },
      "cell_type": "markdown",
      "source": [
        "### 2.4.1 Applying KNN brute force on BOW,<font color='red'> SET 1</font>"
      ]
    },
    {
      "metadata": {
        "id": "ZCI-i7r1HHUn",
        "colab_type": "text"
      },
      "cell_type": "markdown",
      "source": [
        "#### 2.4.1.1 Form the Data Matrix, Standardize"
      ]
    },
    {
      "metadata": {
        "id": "5VCLzbIoCypy",
        "colab_type": "code",
        "outputId": "5d60dd1c-8eee-4304-b621-870d89f25323",
        "colab": {
          "base_uri": "https://localhost:8080/",
          "height": 119
        }
      },
      "cell_type": "code",
      "source": [
        "# Please write all the code with proper documentation\n",
        "# merge two sparse matrices: https://stackoverflow.com/a/19710648/4084039\n",
        "from scipy.sparse import hstack\n",
        "# with the same hstack function we are concatinating a sparse matrix and a dense matirx :)\n",
        "\n",
        "# train data\n",
        "X_train = hstack((categories_one_hot, sub_categories_one_hot, school_state_one_hot, teacher_prefix_one_hot, price_standardized, teacher_prev_proj_standardized, title_bow, text_bow))\n",
        "Y_train = train['project_is_approved']\n",
        "print(\"Data Matrix Dimensions:\", X_train.shape)\n",
        "print(\"Target Variable Dimensions:\", Y_train.shape)\n",
        "\n",
        "# cross-validation data\n",
        "X_cv = hstack((cv_categories_one_hot, cv_sub_categories_one_hot, cv_school_state_one_hot, cv_teacher_prefix_one_hot, cv_price_standardized, cv_teacher_prev_proj_standardized, cv_title_bow, cv_text_bow))\n",
        "Y_cv = cv['project_is_approved']\n",
        "print(\"CV Data Matrix Dimensions:\", X_cv.shape)\n",
        "print(\"CV Target Variable Dimensions:\", Y_cv.shape)\n",
        "\n",
        "# test_data\n",
        "X_test = hstack((test_categories_one_hot, test_sub_categories_one_hot, test_school_state_one_hot, test_teacher_prefix_one_hot, test_price_standardized, test_teacher_prev_proj_standardized, test_title_bow, test_text_bow))\n",
        "Y_test = test['project_is_approved']\n",
        "print(\"Test Data Matrix Dimensions:\", X_test.shape)\n",
        "print(\"Test Target Variable Dimensions:\", Y_test.shape)\n"
      ],
      "execution_count": 0,
      "outputs": [
        {
          "output_type": "stream",
          "text": [
            "Data Matrix Dimensions: (65548, 26612)\n",
            "Target Variable Dimensions: (65548,)\n",
            "CV Data Matrix Dimensions: (21850, 26612)\n",
            "CV Target Variable Dimensions: (21850,)\n",
            "Test Data Matrix Dimensions: (21850, 26612)\n",
            "Test Target Variable Dimensions: (21850,)\n"
          ],
          "name": "stdout"
        }
      ]
    },
    {
      "metadata": {
        "id": "94BLHnnhHM4Z",
        "colab_type": "code",
        "outputId": "bcab671a-f594-40bd-e6f5-d7874ad9351e",
        "colab": {
          "base_uri": "https://localhost:8080/",
          "height": 68
        }
      },
      "cell_type": "code",
      "source": [
        "## Standardize the Data Matrices\n",
        "\n",
        "scaler = StandardScaler(with_mean=False)\n",
        "scaler.fit(X_train) # finding the mean and standard deviation of this data\n",
        "print(f\"Mean : {scaler.mean_[0]}, Standard deviation : {np.sqrt(scaler.var_[0])}\")\n",
        "# Now standardize the train data with above mean and variance.\n",
        "X_train_std = scaler.transform(X_train)\n",
        "\n",
        "scaler.fit(X_cv) # finding the mean and standard deviation of this data\n",
        "print(f\"Mean : {scaler.mean_[0]}, Standard deviation : {np.sqrt(scaler.var_[0])}\")\n",
        "# Now standardize the data with above mean and variance.\n",
        "X_cv_std = scaler.transform(X_cv)\n",
        "\n",
        "scaler.fit(X_test) # finding the mean and standard deviation of this data\n",
        "print(f\"Mean : {scaler.mean_[0]}, Standard deviation : {np.sqrt(scaler.var_[0])}\")\n",
        "# Now standardize the data with above mean and variance.\n",
        "X_test_std = scaler.transform(X_test)"
      ],
      "execution_count": 0,
      "outputs": [
        {
          "output_type": "stream",
          "text": [
            "Mean : 0.001723927503508879, Standard deviation : 0.04148440161640914\n",
            "Mean : 0.025354691075514874, Standard deviation : 0.1571999704706712\n",
            "Mean : 0.03299771167048055, Standard deviation : 0.17863052005464275\n"
          ],
          "name": "stdout"
        }
      ]
    },
    {
      "metadata": {
        "id": "pUmPZADamEx3",
        "colab_type": "code",
        "outputId": "7f0b08ef-69df-4385-d1ff-8909e70591f2",
        "colab": {
          "base_uri": "https://localhost:8080/",
          "height": 68
        }
      },
      "cell_type": "code",
      "source": [
        "train['project_is_approved'].value_counts()"
      ],
      "execution_count": 0,
      "outputs": [
        {
          "output_type": "execute_result",
          "data": {
            "text/plain": [
              "1    55196\n",
              "0    10352\n",
              "Name: project_is_approved, dtype: int64"
            ]
          },
          "metadata": {
            "tags": []
          },
          "execution_count": 79
        }
      ]
    },
    {
      "metadata": {
        "id": "iwbw4EJSKlDL",
        "colab_type": "code",
        "colab": {}
      },
      "cell_type": "code",
      "source": [
        "## Class Imbalance problem\n",
        "## Oversampling on the minority class of train dataset using SMOTE technique\n",
        "## Oversampling is done ONLY on the train dataset. The cross-validation dataset can be imbalanced.\n",
        "\n",
        "from imblearn.over_sampling import SMOTE\n",
        "\n",
        "sm = SMOTE(random_state=42, ratio=1.0)\n",
        "X_train_sm, Y_train_sm = sm.fit_sample(X_train_std, Y_train)"
      ],
      "execution_count": 0,
      "outputs": []
    },
    {
      "metadata": {
        "id": "Epg0Ql7Gr4q7",
        "colab_type": "code",
        "outputId": "f184df77-d903-4323-c5bd-e15251e6f75a",
        "colab": {
          "base_uri": "https://localhost:8080/",
          "height": 34
        }
      },
      "cell_type": "code",
      "source": [
        "X_train_sm.shape, Y_train_sm.shape"
      ],
      "execution_count": 0,
      "outputs": [
        {
          "output_type": "execute_result",
          "data": {
            "text/plain": [
              "((110392, 26612), (110392,))"
            ]
          },
          "metadata": {
            "tags": []
          },
          "execution_count": 81
        }
      ]
    },
    {
      "metadata": {
        "id": "FnwYjZ66mN6a",
        "colab_type": "code",
        "colab": {}
      },
      "cell_type": "code",
      "source": [
        "## Storing Data Matrix X values\n",
        "\n",
        "with open('/content/drive/My Drive/Assignment2/X_train_std_bow', 'wb') as f:\n",
        "  pickle.dump(X_train_std, f)\n",
        "\n",
        "\n",
        "with open('/content/drive/My Drive/Assignment2/X_train_sm_bow', 'wb') as f:\n",
        "  pickle.dump(X_train_sm, f)\n",
        "\n",
        "with open('/content/drive/My Drive/Assignment2/X_cv_std_bow', 'wb') as f:\n",
        "  pickle.dump(X_cv_std, f)\n",
        "  \n",
        "with open('/content/drive/My Drive/Assignment2/X_test_std_bow', 'wb') as f:\n",
        "  pickle.dump(X_test_std, f)\n",
        "  \n",
        "\n",
        "## Storing Target Variable Y values: \n",
        "\n",
        "with open('/content/drive/My Drive/Assignment2/Y_train_sm_bow', 'wb') as f:\n",
        "  pickle.dump(Y_train_sm, f)\n",
        "\n",
        "with open('/content/drive/My Drive/Assignment2/Y_train_bow', 'wb') as f:\n",
        "  pickle.dump(Y_train, f)\n",
        "  \n",
        "\n",
        "with open('/content/drive/My Drive/Assignment2/Y_cv_bow', 'wb') as f:\n",
        "  pickle.dump(Y_cv, f)\n",
        "  \n",
        "with open('/content/drive/My Drive/Assignment2/Y_test_bow', 'wb') as f:\n",
        "  pickle.dump(Y_test, f)"
      ],
      "execution_count": 0,
      "outputs": []
    },
    {
      "metadata": {
        "id": "s85gPOAbCyp1",
        "colab_type": "text"
      },
      "cell_type": "markdown",
      "source": [
        "### 2.4.2 Applying KNN brute force on TFIDF,<font color='red'> SET 2</font>"
      ]
    },
    {
      "metadata": {
        "id": "H_tGCjbDHVhE",
        "colab_type": "text"
      },
      "cell_type": "markdown",
      "source": [
        "#### 2.4.2.1 Form the Data Matrix"
      ]
    },
    {
      "metadata": {
        "id": "AfUKrzirCyp1",
        "colab_type": "code",
        "outputId": "10383e08-4e81-455e-ed94-717e7b34ccb9",
        "colab": {
          "base_uri": "https://localhost:8080/",
          "height": 119
        }
      },
      "cell_type": "code",
      "source": [
        "# Please write all the code with proper documentation\n",
        "# merge two sparse matrices: https://stackoverflow.com/a/19710648/4084039\n",
        "from scipy.sparse import hstack\n",
        "# with the same hstack function we are concatinating a sparse matrix and a dense matirx :)\n",
        "\n",
        "# train data\n",
        "X_train = hstack((categories_one_hot, sub_categories_one_hot, school_state_one_hot, teacher_prefix_one_hot, price_wo_std, teacher_prev_proj_wo_std, title_tfidf, text_tfidf))\n",
        "Y_train = train['project_is_approved']\n",
        "print(\"Data Matrix Dimensions:\", X_train.shape)\n",
        "print(\"Target Variable Dimensions:\", Y_train.shape)\n",
        "\n",
        "# cross-validation data\n",
        "X_cv = hstack((cv_categories_one_hot, cv_sub_categories_one_hot, cv_school_state_one_hot, cv_teacher_prefix_one_hot, cv_price_wo_std, cv_teacher_prev_proj_wo_std, cv_title_tfidf, cv_text_tfidf))\n",
        "Y_cv = cv['project_is_approved']\n",
        "print(\"CV Data Matrix Dimensions:\", X_cv.shape)\n",
        "print(\"CV Target Variable Dimensions:\", Y_cv.shape)\n",
        "\n",
        "# test_data\n",
        "X_test = hstack((test_categories_one_hot, test_sub_categories_one_hot, test_school_state_one_hot, test_teacher_prefix_one_hot, test_price_wo_std, test_teacher_prev_proj_wo_std, test_title_tfidf, test_text_tfidf))\n",
        "Y_test = test['project_is_approved']\n",
        "print(\"Test Data Matrix Dimensions:\", X_test.shape)\n",
        "print(\"Test Target Variable Dimensions:\", Y_test.shape)\n",
        "\n"
      ],
      "execution_count": 0,
      "outputs": [
        {
          "output_type": "stream",
          "text": [
            "Data Matrix Dimensions: (65548, 26612)\n",
            "Target Variable Dimensions: (65548,)\n",
            "CV Data Matrix Dimensions: (21850, 26612)\n",
            "CV Target Variable Dimensions: (21850,)\n",
            "Test Data Matrix Dimensions: (21850, 26612)\n",
            "Test Target Variable Dimensions: (21850,)\n"
          ],
          "name": "stdout"
        }
      ]
    },
    {
      "metadata": {
        "id": "Uzx8lUncMswD",
        "colab_type": "code",
        "outputId": "85fe967c-5fd3-42a7-c811-f40122a4a462",
        "colab": {
          "base_uri": "https://localhost:8080/",
          "height": 54
        }
      },
      "cell_type": "code",
      "source": [
        "## Store the Data Matrix without Standardization and without performing SMOTE upsampling\n",
        "## This set of data matrices used for doing KBest Feature Selection for TFIDF word embeddings\n",
        "\n",
        "## Storing Data Matrix X values\n",
        "\n",
        "with open('/content/drive/My Drive/Assignment2/X_train_wostd_tfidf', 'wb') as f:\n",
        "  pickle.dump(X_train, f)\n",
        "\n",
        "\n",
        "with open('/content/drive/My Drive/Assignment2/X_cv_wostd_tfidf', 'wb') as f:\n",
        "  pickle.dump(X_cv, f)\n",
        "  \n",
        "with open('/content/drive/My Drive/Assignment2/X_test_wostd_tfidf', 'wb') as f:\n",
        "  pickle.dump(X_test, f)\n",
        "  \n",
        "\n",
        "## Storing Target Variable Y values: \n",
        "'''\n",
        "with open('/content/drive/My Drive/Assignment2/Y_train_tfidf', 'wb') as f:\n",
        "  pickle.dump(Y_train, f)\n",
        "  \n",
        "\n",
        "with open('/content/drive/My Drive/Assignment2/Y_cv_tfidf', 'wb') as f:\n",
        "  pickle.dump(Y_cv, f)\n",
        "  \n",
        "with open('/content/drive/My Drive/Assignment2/Y_test_tfidf', 'wb') as f:\n",
        "  pickle.dump(Y_test, f)\n",
        "'''"
      ],
      "execution_count": 0,
      "outputs": [
        {
          "output_type": "execute_result",
          "data": {
            "text/plain": [
              "\"\\nwith open('/content/drive/My Drive/Assignment2/Y_train_tfidf', 'wb') as f:\\n  pickle.dump(Y_train, f)\\n  \\n\\nwith open('/content/drive/My Drive/Assignment2/Y_cv_tfidf', 'wb') as f:\\n  pickle.dump(Y_cv, f)\\n  \\nwith open('/content/drive/My Drive/Assignment2/Y_test_tfidf', 'wb') as f:\\n  pickle.dump(Y_test, f)\\n\""
            ]
          },
          "metadata": {
            "tags": []
          },
          "execution_count": 26
        }
      ]
    },
    {
      "metadata": {
        "id": "LIOe6PVsRKDA",
        "colab_type": "code",
        "outputId": "bccefae6-b5f5-4682-c549-9efeaa999bc4",
        "colab": {
          "base_uri": "https://localhost:8080/",
          "height": 68
        }
      },
      "cell_type": "code",
      "source": [
        "## Standardize the Data Matrices\n",
        "\n",
        "scaler = StandardScaler(with_mean=False)\n",
        "scaler.fit(X_train) # finding the mean and standard deviation of this data\n",
        "print(f\"Mean : {scaler.mean_[0]}, Standard deviation : {np.sqrt(scaler.var_[0])}\")\n",
        "# Now standardize the train data with above mean and variance.\n",
        "X_train_std = scaler.transform(X_train)\n",
        "\n",
        "scaler.fit(X_cv) # finding the mean and standard deviation of this data\n",
        "print(f\"Mean : {scaler.mean_[0]}, Standard deviation : {np.sqrt(scaler.var_[0])}\")\n",
        "# Now standardize the data with above mean and variance.\n",
        "X_cv_std = scaler.transform(X_cv)\n",
        "\n",
        "scaler.fit(X_test) # finding the mean and standard deviation of this data\n",
        "print(f\"Mean : {scaler.mean_[0]}, Standard deviation : {np.sqrt(scaler.var_[0])}\")\n",
        "# Now standardize the data with above mean and variance.\n",
        "X_test_std = scaler.transform(X_test)"
      ],
      "execution_count": 0,
      "outputs": [
        {
          "output_type": "stream",
          "text": [
            "Mean : 0.001723927503508879, Standard deviation : 0.04148440161640914\n",
            "Mean : 0.025354691075514874, Standard deviation : 0.1571999704706712\n",
            "Mean : 0.03299771167048055, Standard deviation : 0.17863052005464275\n"
          ],
          "name": "stdout"
        }
      ]
    },
    {
      "metadata": {
        "id": "0lWS3gsuRMGT",
        "colab_type": "code",
        "outputId": "f0e6f74f-8b92-4d1b-d22b-263feddc3bb9",
        "colab": {
          "base_uri": "https://localhost:8080/",
          "height": 34
        }
      },
      "cell_type": "code",
      "source": [
        "## Oversampling on the minority class of train dataset using SMOTE technique\n",
        "from imblearn.over_sampling import SMOTE\n",
        "\n",
        "sm = SMOTE(random_state=42, ratio=1.0)\n",
        "X_train_sm, Y_train_sm = sm.fit_sample(X_train_std, Y_train)\n",
        "\n",
        "print(X_train_sm.shape, Y_train_sm.shape)\n"
      ],
      "execution_count": 0,
      "outputs": [
        {
          "output_type": "stream",
          "text": [
            "(110392, 4097) (110392,)\n"
          ],
          "name": "stdout"
        }
      ]
    },
    {
      "metadata": {
        "id": "GGVEGbjmuL_M",
        "colab_type": "code",
        "colab": {}
      },
      "cell_type": "code",
      "source": [
        "## Storing Data Matrix X values\n",
        "\n",
        "with open('/content/drive/My Drive/Assignment2/X_train_std_tfidf', 'wb') as f:\n",
        "  pickle.dump(X_train_std, f)\n",
        "\n",
        "\n",
        "with open('/content/drive/My Drive/Assignment2/X_train_sm_tfidf', 'wb') as f:\n",
        "  pickle.dump(X_train_sm, f)\n",
        "\n",
        "with open('/content/drive/My Drive/Assignment2/X_cv_std_tfidf', 'wb') as f:\n",
        "  pickle.dump(X_cv_std, f)\n",
        "  \n",
        "with open('/content/drive/My Drive/Assignment2/X_test_std_tfidf', 'wb') as f:\n",
        "  pickle.dump(X_test_std, f)\n",
        "  \n",
        "\n",
        "## Storing Target Variable Y values: \n",
        "\n",
        "with open('/content/drive/My Drive/Assignment2/Y_train_sm_tfidf', 'wb') as f:\n",
        "  pickle.dump(Y_train_sm, f)\n",
        "\n",
        "with open('/content/drive/My Drive/Assignment2/Y_train_tfidf', 'wb') as f:\n",
        "  pickle.dump(Y_train, f)\n",
        "  \n",
        "\n",
        "with open('/content/drive/My Drive/Assignment2/Y_cv_tfidf', 'wb') as f:\n",
        "  pickle.dump(Y_cv, f)\n",
        "  \n",
        "with open('/content/drive/My Drive/Assignment2/Y_test_tfidf', 'wb') as f:\n",
        "  pickle.dump(Y_test, f)"
      ],
      "execution_count": 0,
      "outputs": []
    },
    {
      "metadata": {
        "id": "oq3NW2CbCyp3",
        "colab_type": "text"
      },
      "cell_type": "markdown",
      "source": [
        "### 2.4.3 Applying KNN brute force on AVG W2V,<font color='red'> SET 3</font>"
      ]
    },
    {
      "metadata": {
        "id": "odAMFOAIHbtu",
        "colab_type": "text"
      },
      "cell_type": "markdown",
      "source": [
        "#### 2.4.3.1 Form the Data Matrix"
      ]
    },
    {
      "metadata": {
        "id": "jRug28P9Cyp3",
        "colab_type": "code",
        "outputId": "5c56b7ad-6d5c-48fa-e4f8-26faffe9fb31",
        "colab": {
          "base_uri": "https://localhost:8080/",
          "height": 102
        }
      },
      "cell_type": "code",
      "source": [
        "# Please write all the code with proper documentation\n",
        "# merge two sparse matrices: https://stackoverflow.com/a/19710648/4084039\n",
        "from scipy.sparse import hstack\n",
        "# with the same hstack function we are concatinating a sparse matrix and a dense matirx :)\n",
        "\n",
        "# train data\n",
        "X_train = hstack((categories_one_hot, sub_categories_one_hot, school_state_one_hot, teacher_prefix_one_hot, price_standardized, teacher_prev_proj_standardized, title_avg_w2v_vectors, avg_w2v_vectors))\n",
        "Y_train = train['project_is_approved']\n",
        "print(\"Data Matrix Dimensions:\", X_train.shape)\n",
        "print(\"Target Variable Dimensions:\", Y_train.shape)\n",
        "\n",
        "# cross-validation data\n",
        "X_cv = hstack((cv_categories_one_hot, cv_sub_categories_one_hot, cv_school_state_one_hot, cv_teacher_prefix_one_hot, cv_price_standardized, cv_teacher_prev_proj_standardized, cv_title_avg_w2v_vectors, cv_avg_w2v_vectors))\n",
        "Y_cv = cv['project_is_approved']\n",
        "print(\"CV Data Matrix Dimensions:\", X_cv.shape)\n",
        "print(\"CV Target Variable Dimensions:\", Y_cv.shape)\n",
        "\n",
        "# test_data\n",
        "X_test = hstack((test_categories_one_hot, test_sub_categories_one_hot, test_school_state_one_hot, test_teacher_prefix_one_hot, test_price_standardized, test_teacher_prev_proj_standardized, test_title_avg_w2v_vectors, test_avg_w2v_vectors))\n",
        "print(\"Test Data Matrix Dimensions:\", X_test.shape)\n"
      ],
      "execution_count": 0,
      "outputs": [
        {
          "output_type": "stream",
          "text": [
            "Data Matrix Dimensions: (65548, 697)\n",
            "Target Variable Dimensions: (65548,)\n",
            "CV Data Matrix Dimensions: (21850, 697)\n",
            "CV Target Variable Dimensions: (21850,)\n",
            "Test Data Matrix Dimensions: (21850, 697)\n"
          ],
          "name": "stdout"
        }
      ]
    },
    {
      "metadata": {
        "id": "dKpiRVa2vHtf",
        "colab_type": "code",
        "outputId": "1f364763-db21-41e5-e46f-38fea95d80b3",
        "colab": {
          "base_uri": "https://localhost:8080/",
          "height": 68
        }
      },
      "cell_type": "code",
      "source": [
        "## Standardize the Data Matrices\n",
        "\n",
        "scaler = StandardScaler(with_mean=False)\n",
        "scaler.fit(X_train) # finding the mean and standard deviation of this data\n",
        "print(f\"Mean : {scaler.mean_[0]}, Standard deviation : {np.sqrt(scaler.var_[0])}\")\n",
        "# Now standardize the train data with above mean and variance.\n",
        "X_train_std = scaler.transform(X_train)\n",
        "\n",
        "scaler.fit(X_cv) # finding the mean and standard deviation of this data\n",
        "print(f\"Mean : {scaler.mean_[0]}, Standard deviation : {np.sqrt(scaler.var_[0])}\")\n",
        "# Now standardize the data with above mean and variance.\n",
        "X_cv_std = scaler.transform(X_cv)\n",
        "\n",
        "scaler.fit(X_test) # finding the mean and standard deviation of this data\n",
        "print(f\"Mean : {scaler.mean_[0]}, Standard deviation : {np.sqrt(scaler.var_[0])}\")\n",
        "# Now standardize the data with above mean and variance.\n",
        "X_test_std = scaler.transform(X_test)"
      ],
      "execution_count": 0,
      "outputs": [
        {
          "output_type": "stream",
          "text": [
            "Mean : 0.001723927503508879, Standard deviation : 0.04148440161640914\n",
            "Mean : 0.025354691075514874, Standard deviation : 0.1571999704706712\n",
            "Mean : 0.03299771167048055, Standard deviation : 0.17863052005464275\n"
          ],
          "name": "stdout"
        }
      ]
    },
    {
      "metadata": {
        "id": "UldQnssnvIdg",
        "colab_type": "code",
        "outputId": "052e867e-1736-4af4-f4be-3e947e42c3da",
        "colab": {
          "base_uri": "https://localhost:8080/",
          "height": 34
        }
      },
      "cell_type": "code",
      "source": [
        "## Oversampling on the minority class of train dataset using SMOTE technique\n",
        "from imblearn.over_sampling import SMOTE\n",
        "\n",
        "sm = SMOTE(random_state=42, ratio=1.0)\n",
        "X_train_sm, Y_train_sm = sm.fit_sample(X_train_std, Y_train)\n",
        "\n",
        "print(X_train_sm.shape, Y_train_sm.shape)\n"
      ],
      "execution_count": 0,
      "outputs": [
        {
          "output_type": "stream",
          "text": [
            "(110392, 697) (110392,)\n"
          ],
          "name": "stdout"
        }
      ]
    },
    {
      "metadata": {
        "id": "zhI3Un9rvV2i",
        "colab_type": "code",
        "colab": {}
      },
      "cell_type": "code",
      "source": [
        "## Storing Data Matrix X values\n",
        "\n",
        "with open('/content/drive/My Drive/Assignment2/X_train_std_avgw2v', 'wb') as f:\n",
        "  pickle.dump(X_train_std, f)\n",
        "\n",
        "\n",
        "with open('/content/drive/My Drive/Assignment2/X_train_sm_avgw2v', 'wb') as f:\n",
        "  pickle.dump(X_train_sm, f)\n",
        "\n",
        "with open('/content/drive/My Drive/Assignment2/X_cv_std_avgw2v', 'wb') as f:\n",
        "  pickle.dump(X_cv_std, f)\n",
        "  \n",
        "with open('/content/drive/My Drive/Assignment2/X_test_std_avgw2v', 'wb') as f:\n",
        "  pickle.dump(X_test_std, f)\n",
        "  \n",
        "\n",
        "## Storing Target Variable Y values: \n",
        "\n",
        "with open('/content/drive/My Drive/Assignment2/Y_train_sm_avgw2v', 'wb') as f:\n",
        "  pickle.dump(Y_train_sm, f)\n",
        "\n",
        "with open('/content/drive/My Drive/Assignment2/Y_train_avgw2v', 'wb') as f:\n",
        "  pickle.dump(Y_train, f)\n",
        "  \n",
        "\n",
        "with open('/content/drive/My Drive/Assignment2/Y_cv_avgw2v', 'wb') as f:\n",
        "  pickle.dump(Y_cv, f)\n",
        "  \n",
        "with open('/content/drive/My Drive/Assignment2/Y_test_avgw2v', 'wb') as f:\n",
        "  pickle.dump(Y_test, f)"
      ],
      "execution_count": 0,
      "outputs": []
    },
    {
      "metadata": {
        "id": "TJLjbsNYCyp5",
        "colab_type": "text"
      },
      "cell_type": "markdown",
      "source": [
        "### 2.4.4 Applying KNN brute force on TFIDF W2V,<font color='red'> SET 4</font>"
      ]
    },
    {
      "metadata": {
        "id": "K3V2O4mfHfNS",
        "colab_type": "text"
      },
      "cell_type": "markdown",
      "source": [
        "#### 2.4.4.1 Form the Data Matrix"
      ]
    },
    {
      "metadata": {
        "id": "b-sFaOjWCyp6",
        "colab_type": "code",
        "outputId": "e6c976dc-5095-4afb-959d-81e9236997a8",
        "colab": {
          "base_uri": "https://localhost:8080/",
          "height": 102
        }
      },
      "cell_type": "code",
      "source": [
        "# Please write all the code with proper documentation\n",
        "# merge two sparse matrices: https://stackoverflow.com/a/19710648/4084039\n",
        "from scipy.sparse import hstack\n",
        "# with the same hstack function we are concatinating a sparse matrix and a dense matirx :)\n",
        "\n",
        "# train data\n",
        "X_train = hstack((categories_one_hot, sub_categories_one_hot, school_state_one_hot, teacher_prefix_one_hot, price_standardized, teacher_prev_proj_standardized, title_tfidf_w2v_vectors, tfidf_w2v_vectors))\n",
        "Y_train = train['project_is_approved']\n",
        "print(\"Data Matrix Dimensions:\", X_train.shape)\n",
        "print(\"Target Variable Dimensions:\", Y_train.shape)\n",
        "\n",
        "# cross-validation data\n",
        "X_cv = hstack((cv_categories_one_hot, cv_sub_categories_one_hot, cv_school_state_one_hot, cv_teacher_prefix_one_hot, cv_price_standardized, cv_teacher_prev_proj_standardized, cv_title_tfidf_w2v_vectors, cv_tfidf_w2v_vectors))\n",
        "Y_cv = cv['project_is_approved']\n",
        "print(\"CV Data Matrix Dimensions:\", X_cv.shape)\n",
        "print(\"CV Target Variable Dimensions:\", Y_cv.shape)\n",
        "\n",
        "# test_data\n",
        "X_test = hstack((test_categories_one_hot, test_sub_categories_one_hot, test_school_state_one_hot, test_teacher_prefix_one_hot, test_price_standardized, test_teacher_prev_proj_standardized, test_title_tfidf_w2v_vectors, test_tfidf_w2v_vectors))\n",
        "Y_test = test['project_is_approved']\n",
        "print(\"Test Data Matrix Dimensions:\", X_test.shape)\n",
        "print(\"Test Target Variable Dimensions:\", Y_test.shape)"
      ],
      "execution_count": 0,
      "outputs": [
        {
          "output_type": "stream",
          "text": [
            "Data Matrix Dimensions: (65548, 697)\n",
            "Target Variable Dimensions: (65548,)\n",
            "CV Data Matrix Dimensions: (21850, 697)\n",
            "CV Target Variable Dimensions: (21850,)\n",
            "Test Data Matrix Dimensions: (21850, 697)\n"
          ],
          "name": "stdout"
        }
      ]
    },
    {
      "metadata": {
        "id": "gWWTNragv7pV",
        "colab_type": "code",
        "outputId": "a235e7a3-8f95-4245-c496-76d4b75c86cb",
        "colab": {
          "base_uri": "https://localhost:8080/",
          "height": 68
        }
      },
      "cell_type": "code",
      "source": [
        "## Standardize the Data Matrices\n",
        "\n",
        "scaler = StandardScaler(with_mean=False)\n",
        "scaler.fit(X_train) # finding the mean and standard deviation of this data\n",
        "print(f\"Mean : {scaler.mean_[0]}, Standard deviation : {np.sqrt(scaler.var_[0])}\")\n",
        "# Now standardize the train data with above mean and variance.\n",
        "X_train_std = scaler.transform(X_train)\n",
        "\n",
        "scaler.fit(X_cv) # finding the mean and standard deviation of this data\n",
        "print(f\"Mean : {scaler.mean_[0]}, Standard deviation : {np.sqrt(scaler.var_[0])}\")\n",
        "# Now standardize the data with above mean and variance.\n",
        "X_cv_std = scaler.transform(X_cv)\n",
        "\n",
        "scaler.fit(X_test) # finding the mean and standard deviation of this data\n",
        "print(f\"Mean : {scaler.mean_[0]}, Standard deviation : {np.sqrt(scaler.var_[0])}\")\n",
        "# Now standardize the data with above mean and variance.\n",
        "X_test_std = scaler.transform(X_test)"
      ],
      "execution_count": 0,
      "outputs": [
        {
          "output_type": "stream",
          "text": [
            "Mean : 0.001723927503508879, Standard deviation : 0.04148440161640914\n",
            "Mean : 0.025354691075514874, Standard deviation : 0.1571999704706712\n",
            "Mean : 0.03299771167048055, Standard deviation : 0.17863052005464275\n"
          ],
          "name": "stdout"
        }
      ]
    },
    {
      "metadata": {
        "id": "myGUecflv8Y5",
        "colab_type": "code",
        "outputId": "f13cef53-9ca3-4852-ea11-3f2c401b054d",
        "colab": {
          "base_uri": "https://localhost:8080/",
          "height": 34
        }
      },
      "cell_type": "code",
      "source": [
        "## Oversampling on the minority class of train dataset using SMOTE technique\n",
        "from imblearn.over_sampling import SMOTE\n",
        "\n",
        "sm = SMOTE(random_state=42, ratio=1.0)\n",
        "X_train_sm, Y_train_sm = sm.fit_sample(X_train_std, Y_train)\n",
        "\n",
        "print(X_train_sm.shape, Y_train_sm.shape)\n"
      ],
      "execution_count": 0,
      "outputs": [
        {
          "output_type": "stream",
          "text": [
            "(110392, 697) (110392,)\n"
          ],
          "name": "stdout"
        }
      ]
    },
    {
      "metadata": {
        "id": "LxiJd9vg_NIJ",
        "colab_type": "code",
        "outputId": "4adf5b5b-2450-4e4f-d9dc-2d8c96ea7cd7",
        "colab": {
          "base_uri": "https://localhost:8080/",
          "height": 51
        }
      },
      "cell_type": "code",
      "source": [
        "Y_test = test['project_is_approved']\n",
        "print(\"Test Data Matrix Dimensions:\", X_test.shape)\n",
        "print(\"Test Target Variable Dimensions:\", Y_test.shape)"
      ],
      "execution_count": 0,
      "outputs": [
        {
          "output_type": "stream",
          "text": [
            "Test Data Matrix Dimensions: (21850, 697)\n",
            "Test Target Variable Dimensions: (21850,)\n"
          ],
          "name": "stdout"
        }
      ]
    },
    {
      "metadata": {
        "id": "VmmW1M2bv80s",
        "colab_type": "code",
        "colab": {}
      },
      "cell_type": "code",
      "source": [
        "## Storing Data Matrix X values\n",
        "\n",
        "with open('/content/drive/My Drive/Assignment2/X_train_std_tfidfw2v', 'wb') as f:\n",
        "  pickle.dump(X_train_std, f)\n",
        "\n",
        "\n",
        "with open('/content/drive/My Drive/Assignment2/X_train_sm_tfidfw2v', 'wb') as f:\n",
        "  pickle.dump(X_train_sm, f)\n",
        "\n",
        "with open('/content/drive/My Drive/Assignment2/X_cv_std_tfidfw2v', 'wb') as f:\n",
        "  pickle.dump(X_cv_std, f)\n",
        "  \n",
        "with open('/content/drive/My Drive/Assignment2/X_test_std_tfidfw2v', 'wb') as f:\n",
        "  pickle.dump(X_test_std, f)\n",
        "  \n",
        "\n",
        "## Storing Target Variable Y values: \n",
        "\n",
        "with open('/content/drive/My Drive/Assignment2/Y_train_sm_tfidfw2v', 'wb') as f:\n",
        "  pickle.dump(Y_train_sm, f)\n",
        "\n",
        "with open('/content/drive/My Drive/Assignment2/Y_train_tfidfw2v', 'wb') as f:\n",
        "  pickle.dump(Y_train, f)\n",
        "  \n",
        "\n",
        "with open('/content/drive/My Drive/Assignment2/Y_cv_tfidfw2v', 'wb') as f:\n",
        "  pickle.dump(Y_cv, f)\n",
        "  \n",
        "with open('/content/drive/My Drive/Assignment2/Y_test_tfidfw2v', 'wb') as f:\n",
        "  pickle.dump(Y_test, f)"
      ],
      "execution_count": 0,
      "outputs": []
    },
    {
      "metadata": {
        "id": "G60n-gK8Cyp7",
        "colab_type": "text"
      },
      "cell_type": "markdown",
      "source": [
        "## 2.5 Feature selection with `SelectKBest`"
      ]
    },
    {
      "metadata": {
        "id": "VThRCDvZCyp9",
        "colab_type": "code",
        "colab": {}
      },
      "cell_type": "code",
      "source": [
        "# please write all the code with proper documentation, and proper titles for each subsection\n",
        "# go through documentations and blogs before you start coding\n",
        "# first figure out what to do, and then think about how to do.\n",
        "# reading and understanding error messages will be very much helpfull in debugging your code\n",
        "\n",
        "# when you plot any graph make sure you use \n",
        "    # a. Title, that describes your plot, this will be very helpful to the reader\n",
        "    # b. Legends if needed\n",
        "    # c. X-axis label\n",
        "    # d. Y-axis label"
      ],
      "execution_count": 0,
      "outputs": []
    },
    {
      "metadata": {
        "id": "bemispVtCyp-",
        "colab_type": "text"
      },
      "cell_type": "markdown",
      "source": [
        "<h1>3. Conclusions</h1>"
      ]
    },
    {
      "metadata": {
        "id": "zRO-VPG2Cyp_",
        "colab_type": "code",
        "colab": {}
      },
      "cell_type": "code",
      "source": [
        "# Please compare all your models using Prettytable library"
      ],
      "execution_count": 0,
      "outputs": []
    }
  ]
}