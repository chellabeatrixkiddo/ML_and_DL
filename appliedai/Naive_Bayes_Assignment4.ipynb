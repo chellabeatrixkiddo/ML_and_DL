{
 "cells": [
  {
   "cell_type": "markdown",
   "metadata": {
    "colab_type": "text",
    "id": "7Od5bBp9N1Lg"
   },
   "source": [
    "# DonorsChoose"
   ]
  },
  {
   "cell_type": "markdown",
   "metadata": {
    "colab_type": "text",
    "id": "5u7wpFZwN1Lh"
   },
   "source": [
    "<p>\n",
    "DonorsChoose.org receives hundreds of thousands of project proposals each year for classroom projects in need of funding. Right now, a large number of volunteers is needed to manually screen each submission before it's approved to be posted on the DonorsChoose.org website.\n",
    "</p>\n",
    "<p>\n",
    "    Next year, DonorsChoose.org expects to receive close to 500,000 project proposals. As a result, there are three main problems they need to solve:\n",
    "<ul>\n",
    "<li>\n",
    "    How to scale current manual processes and resources to screen 500,000 projects so that they can be posted as quickly and as efficiently as possible</li>\n",
    "    <li>How to increase the consistency of project vetting across different volunteers to improve the experience for teachers</li>\n",
    "    <li>How to focus volunteer time on the applications that need the most assistance</li>\n",
    "    </ul>\n",
    "</p>    \n",
    "<p>\n",
    "The goal of the competition is to predict whether or not a DonorsChoose.org project proposal submitted by a teacher will be approved, using the text of project descriptions as well as additional metadata about the project, teacher, and school. DonorsChoose.org can then use this information to identify projects most likely to need further review before approval.\n",
    "</p>"
   ]
  },
  {
   "cell_type": "markdown",
   "metadata": {
    "colab_type": "text",
    "id": "keOckW8PN1Li"
   },
   "source": [
    "## About the DonorsChoose Data Set\n",
    "\n",
    "The `train.csv` data set provided by DonorsChoose contains the following features:\n",
    "\n",
    "Feature | Description \n",
    "----------|---------------\n",
    "**`project_id`** | A unique identifier for the proposed project. **Example:** `p036502`   \n",
    "**`project_title`**    | Title of the project. **Examples:**<br><ul><li><code>Art Will Make You Happy!</code></li><li><code>First Grade Fun</code></li></ul> \n",
    "**`project_grade_category`** | Grade level of students for which the project is targeted. One of the following enumerated values: <br/><ul><li><code>Grades PreK-2</code></li><li><code>Grades 3-5</code></li><li><code>Grades 6-8</code></li><li><code>Grades 9-12</code></li></ul>  \n",
    " **`project_subject_categories`** | One or more (comma-separated) subject categories for the project from the following enumerated list of values:  <br/><ul><li><code>Applied Learning</code></li><li><code>Care &amp; Hunger</code></li><li><code>Health &amp; Sports</code></li><li><code>History &amp; Civics</code></li><li><code>Literacy &amp; Language</code></li><li><code>Math &amp; Science</code></li><li><code>Music &amp; The Arts</code></li><li><code>Special Needs</code></li><li><code>Warmth</code></li></ul><br/> **Examples:** <br/><ul><li><code>Music &amp; The Arts</code></li><li><code>Literacy &amp; Language, Math &amp; Science</code></li>  \n",
    "  **`school_state`** | State where school is located ([Two-letter U.S. postal code](https://en.wikipedia.org/wiki/List_of_U.S._state_abbreviations#Postal_codes)). **Example:** `WY`\n",
    "**`project_subject_subcategories`** | One or more (comma-separated) subject subcategories for the project. **Examples:** <br/><ul><li><code>Literacy</code></li><li><code>Literature &amp; Writing, Social Sciences</code></li></ul> \n",
    "**`project_resource_summary`** | An explanation of the resources needed for the project. **Example:** <br/><ul><li><code>My students need hands on literacy materials to manage sensory needs!</code</li></ul> \n",
    "**`project_essay_1`**    | First application essay<sup>*</sup>  \n",
    "**`project_essay_2`**    | Second application essay<sup>*</sup> \n",
    "**`project_essay_3`**    | Third application essay<sup>*</sup> \n",
    "**`project_essay_4`**    | Fourth application essay<sup>*</sup> \n",
    "**`project_submitted_datetime`** | Datetime when project application was submitted. **Example:** `2016-04-28 12:43:56.245`   \n",
    "**`teacher_id`** | A unique identifier for the teacher of the proposed project. **Example:** `bdf8baa8fedef6bfeec7ae4ff1c15c56`  \n",
    "**`teacher_prefix`** | Teacher's title. One of the following enumerated values: <br/><ul><li><code>nan</code></li><li><code>Dr.</code></li><li><code>Mr.</code></li><li><code>Mrs.</code></li><li><code>Ms.</code></li><li><code>Teacher.</code></li></ul>  \n",
    "**`teacher_number_of_previously_posted_projects`** | Number of project applications previously submitted by the same teacher. **Example:** `2` \n",
    "\n",
    "<sup>*</sup> See the section <b>Notes on the Essay Data</b> for more details about these features.\n",
    "\n",
    "Additionally, the `resources.csv` data set provides more data about the resources required for each project. Each line in this file represents a resource required by a project:\n",
    "\n",
    "Feature | Description \n",
    "----------|---------------\n",
    "**`id`** | A `project_id` value from the `train.csv` file.  **Example:** `p036502`   \n",
    "**`description`** | Desciption of the resource. **Example:** `Tenor Saxophone Reeds, Box of 25`   \n",
    "**`quantity`** | Quantity of the resource required. **Example:** `3`   \n",
    "**`price`** | Price of the resource required. **Example:** `9.95`   \n",
    "\n",
    "**Note:** Many projects require multiple resources. The `id` value corresponds to a `project_id` in train.csv, so you use it as a key to retrieve all resources needed for a project:\n",
    "\n",
    "The data set contains the following label (the value you will attempt to predict):\n",
    "\n",
    "Label | Description\n",
    "----------|---------------\n",
    "`project_is_approved` | A binary flag indicating whether DonorsChoose approved the project. A value of `0` indicates the project was not approved, and a value of `1` indicates the project was approved."
   ]
  },
  {
   "cell_type": "markdown",
   "metadata": {
    "colab_type": "text",
    "id": "uxakXcmGN1Lj"
   },
   "source": [
    "### Notes on the Essay Data\n",
    "\n",
    "<ul>\n",
    "Prior to May 17, 2016, the prompts for the essays were as follows:\n",
    "<li>__project_essay_1:__ \"Introduce us to your classroom\"</li>\n",
    "<li>__project_essay_2:__ \"Tell us more about your students\"</li>\n",
    "<li>__project_essay_3:__ \"Describe how your students will use the materials you're requesting\"</li>\n",
    "<li>__project_essay_3:__ \"Close by sharing why your project will make a difference\"</li>\n",
    "</ul>\n",
    "\n",
    "\n",
    "<ul>\n",
    "Starting on May 17, 2016, the number of essays was reduced from 4 to 2, and the prompts for the first 2 essays were changed to the following:<br>\n",
    "<li>__project_essay_1:__ \"Describe your students: What makes your students special? Specific details about their background, your neighborhood, and your school are all helpful.\"</li>\n",
    "<li>__project_essay_2:__ \"About your project: How will these materials make a difference in your students' learning and improve their school lives?\"</li>\n",
    "<br>For all projects with project_submitted_datetime of 2016-05-17 and later, the values of project_essay_3 and project_essay_4 will be NaN.\n",
    "</ul>\n"
   ]
  },
  {
   "cell_type": "code",
   "execution_count": 0,
   "metadata": {
    "colab": {},
    "colab_type": "code",
    "id": "Ac3XhloUN1Ll"
   },
   "outputs": [],
   "source": [
    "%matplotlib inline\n",
    "import warnings\n",
    "warnings.filterwarnings(\"ignore\")\n",
    "import matplotlib.pyplot as plt\n",
    "import matplotlib\n",
    "import itertools\n",
    "import seaborn as sns\n",
    "import sklearn.metrics\n",
    "from sklearn.metrics import confusion_matrix\n",
    "from sklearn import metrics\n",
    "from sklearn.metrics import roc_curve, auc\n",
    "from sklearn.metrics import roc_auc_score\n",
    "import pickle\n",
    "matplotlib.rc(\"lines\", markeredgewidth=0.5)\n",
    "from google.colab import drive\n",
    "from sklearn.naive_bayes import MultinomialNB\n",
    "import numpy as np\n",
    "from sklearn.feature_selection import SelectKBest, chi2\n",
    "from scipy import sparse\n"
   ]
  },
  {
   "cell_type": "markdown",
   "metadata": {
    "colab_type": "text",
    "id": "So4PAGWPN1Lv"
   },
   "source": [
    "## 1.1 Reading Data"
   ]
  },
  {
   "cell_type": "code",
   "execution_count": 31,
   "metadata": {
    "colab": {
     "base_uri": "https://localhost:8080/",
     "height": 34
    },
    "colab_type": "code",
    "executionInfo": {
     "elapsed": 5700,
     "status": "ok",
     "timestamp": 1551252750895,
     "user": {
      "displayName": "Chella Priyadharshini",
      "photoUrl": "https://lh6.googleusercontent.com/-DHQbj7ls5Fw/AAAAAAAAAAI/AAAAAAAAIYE/kYKVLGJioAI/s64/photo.jpg",
      "userId": "09704925844882553125"
     },
     "user_tz": -330
    },
    "id": "56EW1wdvN1L5",
    "outputId": "87249aaa-8165-42e3-b059-dfdce5adc902"
   },
   "outputs": [
    {
     "name": "stdout",
     "output_type": "stream",
     "text": [
      "Mounted at /content/drive\n"
     ]
    }
   ],
   "source": [
    "drive.mount('/content/drive', force_remount=True)"
   ]
  },
  {
   "cell_type": "code",
   "execution_count": 0,
   "metadata": {
    "colab": {},
    "colab_type": "code",
    "id": "iQ1a65NaVI6n"
   },
   "outputs": [],
   "source": [
    "## reading the data matrices with BOW word embeddings\n",
    "\n",
    "with open('/content/drive/My Drive/Assignment2/X_train_up_bow', 'rb') as f1:\n",
    "    X_train_bow = pickle.load(f1)\n",
    "\n",
    "with open('/content/drive/My Drive/Assignment2/Y_train_up', 'rb') as f2:\n",
    "  Y_train = pickle.load(f2)\n",
    "  \n",
    "with open('/content/drive/My Drive/Assignment2/X_cv_up_bow', 'rb') as f3:\n",
    "  X_cv_bow = pickle.load(f3)\n",
    "  \n",
    "with open('/content/drive/My Drive/Assignment2/Y_cv_up', 'rb') as f4:\n",
    "  Y_cv = pickle.load(f4)\n",
    "  \n",
    "with open('/content/drive/My Drive/Assignment2/X_test_up_bow', 'rb') as f5:\n",
    "  X_test_bow = pickle.load(f5)\n",
    "  \n",
    "with open('/content/drive/My Drive/Assignment2/Y_test_up', 'rb') as f6:\n",
    "  Y_test = pickle.load(f6)\n"
   ]
  },
  {
   "cell_type": "code",
   "execution_count": 7,
   "metadata": {
    "colab": {
     "base_uri": "https://localhost:8080/",
     "height": 119
    },
    "colab_type": "code",
    "executionInfo": {
     "elapsed": 1137,
     "status": "ok",
     "timestamp": 1551247952729,
     "user": {
      "displayName": "Chella Priyadharshini",
      "photoUrl": "https://lh6.googleusercontent.com/-DHQbj7ls5Fw/AAAAAAAAAAI/AAAAAAAAIYE/kYKVLGJioAI/s64/photo.jpg",
      "userId": "09704925844882553125"
     },
     "user_tz": -330
    },
    "id": "mbgFwaimk7zN",
    "outputId": "86a6d4b7-abbb-4ad1-e12b-d051dcd95451"
   },
   "outputs": [
    {
     "name": "stdout",
     "output_type": "stream",
     "text": [
      "Training Data Dimensions: (110392, 29865)\n",
      "Target Dimensions: (110392,)\n",
      "Cross Validation Data Dimensions: (21850, 29865)\n",
      "Target Dimensions: (21850,)\n",
      "Test Data Dimensions: (21850, 29865)\n",
      "Target Dimensions: (21850,)\n"
     ]
    }
   ],
   "source": [
    "print(\"Training Data Dimensions:\", X_train_bow.shape)\n",
    "print(\"Target Dimensions:\", Y_train.shape)\n",
    "print(\"Cross Validation Data Dimensions:\", X_cv_bow.shape)\n",
    "print(\"Target Dimensions:\", Y_cv.shape)\n",
    "print(\"Test Data Dimensions:\", X_test_bow.shape)\n",
    "print(\"Target Dimensions:\", Y_test.shape)"
   ]
  },
  {
   "cell_type": "code",
   "execution_count": 0,
   "metadata": {
    "colab": {},
    "colab_type": "code",
    "id": "En_BkyVsVvqY"
   },
   "outputs": [],
   "source": [
    "## reading the data matrices with TFIDF word embeddings\n",
    "\n",
    "with open('/content/drive/My Drive/Assignment2/X_train_up_tfidf', 'rb') as f1:\n",
    "    X_train_tfidf = pickle.load(f1)\n",
    "\n",
    "with open('/content/drive/My Drive/Assignment2/X_cv_up_tfidf', 'rb') as f3:\n",
    "    X_cv_tfidf = pickle.load(f3)\n",
    "  \n",
    "  \n",
    "with open('/content/drive/My Drive/Assignment2/X_test_up_tfidf', 'rb') as f5:\n",
    "    X_test_tfidf = pickle.load(f5)\n",
    "  "
   ]
  },
  {
   "cell_type": "code",
   "execution_count": 8,
   "metadata": {
    "colab": {
     "base_uri": "https://localhost:8080/",
     "height": 119
    },
    "colab_type": "code",
    "executionInfo": {
     "elapsed": 1437,
     "status": "ok",
     "timestamp": 1551247994405,
     "user": {
      "displayName": "Chella Priyadharshini",
      "photoUrl": "https://lh6.googleusercontent.com/-DHQbj7ls5Fw/AAAAAAAAAAI/AAAAAAAAIYE/kYKVLGJioAI/s64/photo.jpg",
      "userId": "09704925844882553125"
     },
     "user_tz": -330
    },
    "id": "mf5X1C9elaSY",
    "outputId": "bab7608f-b800-4967-f5a4-4d58a09e6eb2"
   },
   "outputs": [
    {
     "name": "stdout",
     "output_type": "stream",
     "text": [
      "Training Data Dimensions: (110392, 29865)\n",
      "Target Dimensions: (110392,)\n",
      "Cross Validation Data Dimensions: (21850, 29865)\n",
      "Target Dimensions: (21850,)\n",
      "Test Data Dimensions: (21850, 29865)\n",
      "Target Dimensions: (21850,)\n"
     ]
    }
   ],
   "source": [
    "print(\"Training Data Dimensions:\", X_train_tfidf.shape)\n",
    "print(\"Target Dimensions:\", Y_train.shape)\n",
    "print(\"Cross Validation Data Dimensions:\", X_cv_tfidf.shape)\n",
    "print(\"Target Dimensions:\", Y_cv.shape)\n",
    "print(\"Test Data Dimensions:\", X_test_tfidf.shape)\n",
    "print(\"Target Dimensions:\", Y_test.shape)"
   ]
  },
  {
   "cell_type": "markdown",
   "metadata": {
    "colab_type": "text",
    "id": "58YP-aXEN1OB"
   },
   "source": [
    "# Assignment 4: Naive Bayes"
   ]
  },
  {
   "cell_type": "markdown",
   "metadata": {
    "colab_type": "text",
    "id": "cdOrIZk5N1OB"
   },
   "source": [
    "<ol>\n",
    "    <li><strong>Apply Multinomial NaiveBayes on these feature sets</strong>\n",
    "        <ul>\n",
    "            <li><font color='red'>Set 1</font>: categorical, numerical features + project_title(BOW) + preprocessed_eassay (BOW)</li>\n",
    "            <li><font color='red'>Set 2</font>: categorical, numerical features + project_title(TFIDF)+  preprocessed_eassay (TFIDF)</li>\n",
    "        </ul>\n",
    "    </li>\n",
    "    <br>\n",
    "    <li><strong>The hyper paramter tuning(find best Alpha)</strong>\n",
    "        <ul>\n",
    "    <li>Find the best hyper parameter which will give the maximum <a href='https://www.appliedaicourse.com/course/applied-ai-course-online/lessons/receiver-operating-characteristic-curve-roc-curve-and-auc-1/'>AUC</a> value</li>\n",
    "    <li>Consider a wide range of alpha values for hyperparameter tuning, start as low as 0.00001</li>\n",
    "    <li>Find the best hyper paramter using k-fold cross validation or simple cross validation data</li>\n",
    "    <li>Use gridsearch cv or randomsearch cv or you can also write your own for loops to do this task of hyperparameter tuning</li>\n",
    "        </ul>\n",
    "    </li>\n",
    "    <br>\n",
    "    <li><strong>Feature importance</strong>\n",
    "        <ul>\n",
    "    <li>Find the top 10 features of positive class and top 10 features of negative class for both feature sets <font color='red'>Set 1</font> and <font color='red'>Set 2</font> using values of `feature_log_prob_` parameter of  <a href='https://scikit-learn.org/stable/modules/generated/sklearn.naive_bayes.MultinomialNB.html'>MultinomialNB</a> and print their corresponding feature names</li>\n",
    "        </ul>\n",
    "    </li>\n",
    "    <br>\n",
    "    <li><strong>Representation of results</strong>\n",
    "        <ul>\n",
    "    <li>You need to plot the performance of model both on train data and cross validation data for each hyper parameter, like shown in the figure. Here on X-axis you will have alpha values, since they have a wide range, just to represent those alpha values on the graph, apply log function on those alpha values.\n",
    "    <img src='train_cv_auc.JPG' width=300px></li>\n",
    "    <li>Once after you found the best hyper parameter, you need to train your model with it, and find the AUC on test data and plot the ROC curve on both train and test.\n",
    "    <img src='train_test_auc.JPG' width=300px></li>\n",
    "    <li>Along with plotting ROC curve, you need to print the <a href='https://www.appliedaicourse.com/course/applied-ai-course-online/lessons/confusion-matrix-tpr-fpr-fnr-tnr-1/'>confusion matrix</a> with predicted and original labels of test data points. Please visualize your confusion matrices using <a href='https://seaborn.pydata.org/generated/seaborn.heatmap.html'>seaborn heatmaps.\n",
    "    <img src='confusion_matrix.png' width=300px></li>\n",
    "        </ul>\n",
    "    </li>\n",
    "    <br>\n",
    "    <li><strong>Conclusion</strong>\n",
    "        <ul>\n",
    "    <li>You need to summarize the results at the end of the notebook, summarize it in the table format. To print out a table please refer to this prettytable library<a href='http://zetcode.com/python/prettytable/'>  link</a> \n",
    "        <img src='summary.JPG' width=400px>\n",
    "    </li>\n",
    "        </ul>\n",
    "</ol>"
   ]
  },
  {
   "cell_type": "markdown",
   "metadata": {
    "colab_type": "text",
    "id": "dQY4H_DjN1OC"
   },
   "source": [
    "<h1>2. Naive Bayes </h1>"
   ]
  },
  {
   "cell_type": "markdown",
   "metadata": {
    "colab_type": "text",
    "id": "tJemgtg6N1OM"
   },
   "source": [
    "<h2>2.4 Appling NB on different kind of featurization as mentioned in the instructions</h2>\n",
    "\n",
    "<br>Apply Naive Bayes on different kind of featurization as mentioned in the instructions\n",
    "<br> For Every model that you work on make sure you do the step 2 and step 3 of instrucations"
   ]
  },
  {
   "cell_type": "markdown",
   "metadata": {
    "colab_type": "text",
    "id": "xzli_RRdN1OM"
   },
   "source": [
    "### 2.4.1 Applying Naive Bayes on BOW,<font color='red'> SET 1</font>"
   ]
  },
  {
   "cell_type": "code",
   "execution_count": 19,
   "metadata": {
    "colab": {
     "base_uri": "https://localhost:8080/",
     "height": 697
    },
    "colab_type": "code",
    "executionInfo": {
     "elapsed": 12716,
     "status": "ok",
     "timestamp": 1551248775540,
     "user": {
      "displayName": "Chella Priyadharshini",
      "photoUrl": "https://lh6.googleusercontent.com/-DHQbj7ls5Fw/AAAAAAAAAAI/AAAAAAAAIYE/kYKVLGJioAI/s64/photo.jpg",
      "userId": "09704925844882553125"
     },
     "user_tz": -330
    },
    "id": "G8sy7LJmN1OO",
    "outputId": "6f49afac-6853-49ab-93a5-39a35e2d3c30"
   },
   "outputs": [
    {
     "name": "stdout",
     "output_type": "stream",
     "text": [
      "alpha: 1e-05\n",
      "Validation-AUC: 0.5871465607983444\n",
      "Train-AUC: 0.6605460540618886\n",
      "\n",
      "\n",
      "alpha: 0.0001\n",
      "Validation-AUC: 0.5867146437531834\n",
      "Train-AUC: 0.6557721574027103\n",
      "\n",
      "\n",
      "alpha: 0.001\n",
      "Validation-AUC: 0.5877021845907178\n",
      "Train-AUC: 0.6504728603521994\n",
      "\n",
      "\n",
      "alpha: 0.01\n",
      "Validation-AUC: 0.5877474850330244\n",
      "Train-AUC: 0.6442042901659542\n",
      "\n",
      "\n",
      "alpha: 0.1\n",
      "Validation-AUC: 0.5897035044228465\n",
      "Train-AUC: 0.6370026813537213\n",
      "\n",
      "\n",
      "alpha: 1.0\n",
      "Validation-AUC: 0.5906704421437632\n",
      "Train-AUC: 0.629502137836075\n",
      "\n",
      "\n",
      "alpha: 10\n",
      "Validation-AUC: 0.59141690890737\n",
      "Train-AUC: 0.6183962605985941\n",
      "\n",
      "\n",
      "alpha: 100\n",
      "Validation-AUC: 0.5969519273819381\n",
      "Train-AUC: 0.6089028190448582\n",
      "\n",
      "\n"
     ]
    }
   ],
   "source": [
    "# Please write all the code with proper documentation\n",
    "\n",
    "alpha_values = [0.00001, 0.0001, 0.001, 0.01, 0.1, 1.0, 10, 100]\n",
    "\n",
    "auc_scores_cv = dict()\n",
    "auc_scores_train = dict()\n",
    "for i in alpha_values:\n",
    "  print(\"alpha:\", i)\n",
    "  nb = MultinomialNB(alpha=i)\n",
    "  nb.fit(X_train_bow, Y_train)\n",
    "  pred_cv = nb.predict(X_cv_bow)\n",
    "  pred_train = nb.predict(X_train_bow)\n",
    "  \n",
    "  # evaluate CV AUC-ROC\n",
    "  auc_val = roc_auc_score(Y_cv, pred_cv)\n",
    "  auc_scores_cv[i] = auc_val\n",
    "  print(\"Validation-AUC:\", auc_val)\n",
    "    \n",
    "  # evaluate CV AUC-ROC\n",
    "  auc_val = roc_auc_score(Y_train, pred_train)\n",
    "  auc_scores_train[i] = auc_val\n",
    "  print(\"Train-AUC:\", auc_val)\n",
    "  print(\"\\n\")\n",
    "         "
   ]
  },
  {
   "cell_type": "code",
   "execution_count": 22,
   "metadata": {
    "colab": {
     "base_uri": "https://localhost:8080/",
     "height": 85
    },
    "colab_type": "code",
    "executionInfo": {
     "elapsed": 973,
     "status": "ok",
     "timestamp": 1551249177941,
     "user": {
      "displayName": "Chella Priyadharshini",
      "photoUrl": "https://lh6.googleusercontent.com/-DHQbj7ls5Fw/AAAAAAAAAAI/AAAAAAAAIYE/kYKVLGJioAI/s64/photo.jpg",
      "userId": "09704925844882553125"
     },
     "user_tz": -330
    },
    "id": "kgMe7kkJpy6Y",
    "outputId": "84be3a26-9cbd-43b6-9ae6-8b562f71ebd7"
   },
   "outputs": [
    {
     "name": "stdout",
     "output_type": "stream",
     "text": [
      "[-11.51292546  -9.21034037  -6.90775528  -4.60517019  -2.30258509\n",
      "   0.           2.30258509   4.60517019]\n",
      "[-11.51292546  -9.21034037  -6.90775528  -4.60517019  -2.30258509\n",
      "   0.           2.30258509   4.60517019]\n"
     ]
    }
   ],
   "source": [
    "print(np.log(list(auc_scores_cv.keys())))\n",
    "       \n",
    "print(np.log(list(auc_scores_train.keys())))"
   ]
  },
  {
   "cell_type": "code",
   "execution_count": 20,
   "metadata": {
    "colab": {
     "base_uri": "https://localhost:8080/",
     "height": 294
    },
    "colab_type": "code",
    "executionInfo": {
     "elapsed": 1914,
     "status": "ok",
     "timestamp": 1551248814036,
     "user": {
      "displayName": "Chella Priyadharshini",
      "photoUrl": "https://lh6.googleusercontent.com/-DHQbj7ls5Fw/AAAAAAAAAAI/AAAAAAAAIYE/kYKVLGJioAI/s64/photo.jpg",
      "userId": "09704925844882553125"
     },
     "user_tz": -330
    },
    "id": "gu9mdOkVfuSO",
    "outputId": "e1bbe3e8-541c-456c-dacf-cf7e3a9e9414"
   },
   "outputs": [
    {
     "data": {
      "image/png": "[encoded data removed]",
      "text/plain": [
       "<Figure size 432x288 with 1 Axes>"
      ]
     },
     "metadata": {
      "tags": []
     },
     "output_type": "display_data"
    }
   ],
   "source": [
    "## plot the AUC-ROC against the 'alpha' values for train and cross-validation\n",
    "\n",
    "plt.plot(np.log(list(auc_scores_cv.keys())), auc_scores_cv.values(), label='Validation AUC')\n",
    "plt.plot(np.log(list(auc_scores_train.keys())), auc_scores_train.values(), label='Train AUC')\n",
    "plt.title('Hyperparameter Search - \"alpha\" in Naive Bayes')\n",
    "plt.xlabel('Hyperparameter: log(alpha)')\n",
    "#plt.ylim([0.4,1.1])\n",
    "#plt.xlim([0,20])\n",
    "plt.ylabel('Area under the ROC curve')\n",
    "plt.legend()\n",
    "plt.show()"
   ]
  },
  {
   "cell_type": "code",
   "execution_count": 49,
   "metadata": {
    "colab": {
     "base_uri": "https://localhost:8080/",
     "height": 34
    },
    "colab_type": "code",
    "executionInfo": {
     "elapsed": 2241,
     "status": "ok",
     "timestamp": 1551256274962,
     "user": {
      "displayName": "Chella Priyadharshini",
      "photoUrl": "https://lh6.googleusercontent.com/-DHQbj7ls5Fw/AAAAAAAAAAI/AAAAAAAAIYE/kYKVLGJioAI/s64/photo.jpg",
      "userId": "09704925844882553125"
     },
     "user_tz": -330
    },
    "id": "sULFPkUWg_Bt",
    "outputId": "6b6f2eb5-6a33-41ea-bf8d-516e4f7cb947"
   },
   "outputs": [
    {
     "data": {
      "text/plain": [
       "MultinomialNB(alpha=0.1, class_prior=None, fit_prior=True)"
      ]
     },
     "execution_count": 49,
     "metadata": {
      "tags": []
     },
     "output_type": "execute_result"
    }
   ],
   "source": [
    "# Fit a model with the optimal hyperparameter value for alpha\n",
    "nb = MultinomialNB(alpha=0.1)\n",
    "nb.fit(X_train_bow, Y_train)\n",
    "\n",
    "# Area under the ROC Curve\n",
    "# predict positive class probabilities for test data\n",
    "pred_test_scores = nb.predict_proba(X_test_bow)\n",
    "fpr_test, tpr_test, threshold = roc_curve(Y_test, pred_test_scores[:, 1])\n",
    "roc_auc_test = sklearn.metrics.auc(fpr_test, tpr_test)\n",
    "\n",
    "# predict positive class probabilities for train data\n",
    "pred_train_scores = nb.predict_proba(X_train_bow)\n",
    "fpr_train, tpr_train, threshold = roc_curve(Y_train, pred_train_scores[:, 1])\n",
    "roc_auc_train = sklearn.metrics.auc(fpr_train, tpr_train)\n",
    "\n"
   ]
  },
  {
   "cell_type": "code",
   "execution_count": 39,
   "metadata": {
    "colab": {
     "base_uri": "https://localhost:8080/",
     "height": 294
    },
    "colab_type": "code",
    "executionInfo": {
     "elapsed": 2127,
     "status": "ok",
     "timestamp": 1551254859135,
     "user": {
      "displayName": "Chella Priyadharshini",
      "photoUrl": "https://lh6.googleusercontent.com/-DHQbj7ls5Fw/AAAAAAAAAAI/AAAAAAAAIYE/kYKVLGJioAI/s64/photo.jpg",
      "userId": "09704925844882553125"
     },
     "user_tz": -330
    },
    "id": "lLxnFessjBI-",
    "outputId": "6a74adc2-e326-4dcc-bed3-387749f2e8b1"
   },
   "outputs": [
    {
     "data": {
      "image/png": "[encoded data removed]",
      "text/plain": [
       "<Figure size 432x288 with 1 Axes>"
      ]
     },
     "metadata": {
      "tags": []
     },
     "output_type": "display_data"
    }
   ],
   "source": [
    "plt.title('Receiver Operating Characteristic')\n",
    "plt.plot(fpr_test, tpr_test, 'b', label = 'Test AUC = %0.2f' % roc_auc_test)\n",
    "plt.plot(fpr_train, tpr_train, 'g', label = 'Train AUC = %0.2f' % roc_auc_train)\n",
    "plt.legend(loc = 'lower right')\n",
    "plt.plot([0, 1], [0, 1],'r--')\n",
    "plt.xlim([0, 1])\n",
    "plt.ylim([0, 1])\n",
    "plt.ylabel('True Positive Rate')\n",
    "plt.xlabel('False Positive Rate')\n",
    "plt.title('ROC Curve of Naive Bayes : alpha = 0.1')\n",
    "plt.show()"
   ]
  },
  {
   "cell_type": "code",
   "execution_count": 35,
   "metadata": {
    "colab": {
     "base_uri": "https://localhost:8080/",
     "height": 297
    },
    "colab_type": "code",
    "executionInfo": {
     "elapsed": 1518,
     "status": "ok",
     "timestamp": 1551253089114,
     "user": {
      "displayName": "Chella Priyadharshini",
      "photoUrl": "https://lh6.googleusercontent.com/-DHQbj7ls5Fw/AAAAAAAAAAI/AAAAAAAAIYE/kYKVLGJioAI/s64/photo.jpg",
      "userId": "09704925844882553125"
     },
     "user_tz": -330
    },
    "id": "1P8HhR9J4TgL",
    "outputId": "72dfd249-6452-4807-f9ba-40d07707692c"
   },
   "outputs": [
    {
     "data": {
      "image/png": "[encoded data removed]",
      "text/plain": [
       "<Figure size 432x288 with 2 Axes>"
      ]
     },
     "metadata": {
      "tags": []
     },
     "output_type": "display_data"
    }
   ],
   "source": [
    "## Confusion Matrix:\n",
    "\n",
    "# predict the response on the test data\n",
    "pred_test = nb.predict(X_test_bow)\n",
    "\n",
    "c_mat = confusion_matrix(Y_test, pred_test)\n",
    "\n",
    "classes = ['Rejected', 'Approved']\n",
    "\n",
    "plt.figure()\n",
    "plt.title(\"Confusion Matrix\")\n",
    "plt.imshow(c_mat, cmap=plt.cm.Blues)\n",
    "plt.colorbar()\n",
    "#plt.matshow(c_mat)\n",
    "tick_marks = np.arange(len(classes))\n",
    "plt.xticks(tick_marks, classes)\n",
    "plt.yticks(tick_marks, classes)\n",
    "for i, j in itertools.product(range(c_mat.shape[0]), range(c_mat.shape[1])):\n",
    "        plt.text(j, i, c_mat[i, j],\n",
    "                 horizontalalignment=\"center\",\n",
    "                 color=\"black\")\n",
    "plt.ylabel('True label')\n",
    "plt.xlabel('Predicted label')\n",
    "plt.grid()\n",
    "plt.tight_layout()\n",
    "plt.show()"
   ]
  },
  {
   "cell_type": "markdown",
   "metadata": {
    "colab_type": "text",
    "id": "WcsQ4_6VN1OQ"
   },
   "source": [
    "#### 2.4.1.1 Top 10 important features of positive class & negative class from<font color='red'> SET 1</font>"
   ]
  },
  {
   "cell_type": "code",
   "execution_count": 0,
   "metadata": {
    "colab": {},
    "colab_type": "code",
    "id": "1nnYb_PNvdsf"
   },
   "outputs": [],
   "source": [
    "with open('/content/drive/My Drive/Assignment2/bow_train_features.pkl', 'rb') as f1:\n",
    "    bow_train_features = pickle.load(f1)"
   ]
  },
  {
   "cell_type": "code",
   "execution_count": 50,
   "metadata": {
    "colab": {
     "base_uri": "https://localhost:8080/",
     "height": 153
    },
    "colab_type": "code",
    "executionInfo": {
     "elapsed": 1180,
     "status": "ok",
     "timestamp": 1551256302030,
     "user": {
      "displayName": "Chella Priyadharshini",
      "photoUrl": "https://lh6.googleusercontent.com/-DHQbj7ls5Fw/AAAAAAAAAAI/AAAAAAAAIYE/kYKVLGJioAI/s64/photo.jpg",
      "userId": "09704925844882553125"
     },
     "user_tz": -330
    },
    "id": "Lj0N7EdHN1OR",
    "outputId": "ee3a4e9c-c49d-4960-c86e-66fcd769ecbf"
   },
   "outputs": [
    {
     "name": "stdout",
     "output_type": "stream",
     "text": [
      "Top important features of Negative class:\n",
      "['intervals' 'gold' 'goldberg' 'golden' 'goldfish' 'goldie' 'goldilocks'\n",
      " 'going' 'golf' 'gonge']\n",
      "\n",
      "\n",
      "Top important features of Positive class:\n",
      "['prepping' 'gryphon' 'paintbrush' 'exam' 'pairing' 'pairs' 'pajamas'\n",
      " 'palettes' 'pallets' 'grownups']\n"
     ]
    }
   ],
   "source": [
    "# Please write all the code with proper documentation\n",
    "# feature importance naive bayes: https://stackoverflow.com/questions/50526898/how-to-get-feature-importance-in-naive-bayes\n",
    "\n",
    "neg_class_prob_sorted = nb.feature_log_prob_[0, :].argsort()\n",
    "pos_class_prob_sorted = nb.feature_log_prob_[1, :].argsort()\n",
    "\n",
    "print(\"Top important features of Negative class:\")\n",
    "print(np.take(bow_train_features, neg_class_prob_sorted[:10]))\n",
    "print(\"\\n\")\n",
    "print(\"Top important features of Positive class:\")\n",
    "print(np.take(bow_train_features, pos_class_prob_sorted[:10]))\n"
   ]
  },
  {
   "cell_type": "markdown",
   "metadata": {
    "colab_type": "text",
    "id": "4c1EK-EgN1OZ"
   },
   "source": [
    "### 2.4.2 Applying Naive Bayes on TFIDF,<font color='red'> SET 2</font>"
   ]
  },
  {
   "cell_type": "code",
   "execution_count": 40,
   "metadata": {
    "colab": {
     "base_uri": "https://localhost:8080/",
     "height": 697
    },
    "colab_type": "code",
    "executionInfo": {
     "elapsed": 14067,
     "status": "ok",
     "timestamp": 1551254928296,
     "user": {
      "displayName": "Chella Priyadharshini",
      "photoUrl": "https://lh6.googleusercontent.com/-DHQbj7ls5Fw/AAAAAAAAAAI/AAAAAAAAIYE/kYKVLGJioAI/s64/photo.jpg",
      "userId": "09704925844882553125"
     },
     "user_tz": -330
    },
    "id": "QfJBWFlxN1Oa",
    "outputId": "ba3412c5-8459-4f9a-fe7f-246ebae2075b"
   },
   "outputs": [
    {
     "name": "stdout",
     "output_type": "stream",
     "text": [
      "alpha: 1e-05\n",
      "Validation-AUC: 0.5885497739160142\n",
      "Train-AUC: 0.668825639539097\n",
      "\n",
      "\n",
      "alpha: 0.0001\n",
      "Validation-AUC: 0.5913480997807177\n",
      "Train-AUC: 0.663607870135517\n",
      "\n",
      "\n",
      "alpha: 0.001\n",
      "Validation-AUC: 0.5936020719339326\n",
      "Train-AUC: 0.6562069715196752\n",
      "\n",
      "\n",
      "alpha: 0.01\n",
      "Validation-AUC: 0.5942104802067003\n",
      "Train-AUC: 0.6463874193782159\n",
      "\n",
      "\n",
      "alpha: 0.1\n",
      "Validation-AUC: 0.5949638146758465\n",
      "Train-AUC: 0.6342760344952534\n",
      "\n",
      "\n",
      "alpha: 1.0\n",
      "Validation-AUC: 0.5943158290487216\n",
      "Train-AUC: 0.6167113558953546\n",
      "\n",
      "\n",
      "alpha: 10\n",
      "Validation-AUC: 0.5919692749419877\n",
      "Train-AUC: 0.5957859265164142\n",
      "\n",
      "\n",
      "alpha: 100\n",
      "Validation-AUC: 0.5783212950379506\n",
      "Train-AUC: 0.5713004565548228\n",
      "\n",
      "\n"
     ]
    }
   ],
   "source": [
    "# Please write all the code with proper documentation\n",
    "\n",
    "alpha_values = [0.00001, 0.0001, 0.001, 0.01, 0.1, 1.0, 10, 100]\n",
    "\n",
    "auc_scores_cv = dict()\n",
    "auc_scores_train = dict()\n",
    "for i in alpha_values:\n",
    "  print(\"alpha:\", i)\n",
    "  nb = MultinomialNB(alpha=i)\n",
    "  nb.fit(X_train_tfidf, Y_train)\n",
    "  pred_cv = nb.predict(X_cv_tfidf)\n",
    "  pred_train = nb.predict(X_train_tfidf)\n",
    "  \n",
    "  # evaluate CV AUC-ROC\n",
    "  auc_val = roc_auc_score(Y_cv, pred_cv)\n",
    "  auc_scores_cv[i] = auc_val\n",
    "  print(\"Validation-AUC:\", auc_val)\n",
    "    \n",
    "  # evaluate CV AUC-ROC\n",
    "  auc_val = roc_auc_score(Y_train, pred_train)\n",
    "  auc_scores_train[i] = auc_val\n",
    "  print(\"Train-AUC:\", auc_val)\n",
    "  print(\"\\n\")\n",
    "         "
   ]
  },
  {
   "cell_type": "code",
   "execution_count": 41,
   "metadata": {
    "colab": {
     "base_uri": "https://localhost:8080/",
     "height": 85
    },
    "colab_type": "code",
    "executionInfo": {
     "elapsed": 2589,
     "status": "ok",
     "timestamp": 1551254938139,
     "user": {
      "displayName": "Chella Priyadharshini",
      "photoUrl": "https://lh6.googleusercontent.com/-DHQbj7ls5Fw/AAAAAAAAAAI/AAAAAAAAIYE/kYKVLGJioAI/s64/photo.jpg",
      "userId": "09704925844882553125"
     },
     "user_tz": -330
    },
    "id": "sFTBEeZx-Wyb",
    "outputId": "a4cc942b-4f58-4ae5-ab01-12a84a7368af"
   },
   "outputs": [
    {
     "name": "stdout",
     "output_type": "stream",
     "text": [
      "[-11.51292546  -9.21034037  -6.90775528  -4.60517019  -2.30258509\n",
      "   0.           2.30258509   4.60517019]\n",
      "[-11.51292546  -9.21034037  -6.90775528  -4.60517019  -2.30258509\n",
      "   0.           2.30258509   4.60517019]\n"
     ]
    }
   ],
   "source": [
    "print(np.log(list(auc_scores_cv.keys())))\n",
    "       \n",
    "print(np.log(list(auc_scores_train.keys())))"
   ]
  },
  {
   "cell_type": "code",
   "execution_count": 42,
   "metadata": {
    "colab": {
     "base_uri": "https://localhost:8080/",
     "height": 294
    },
    "colab_type": "code",
    "executionInfo": {
     "elapsed": 1454,
     "status": "ok",
     "timestamp": 1551254954484,
     "user": {
      "displayName": "Chella Priyadharshini",
      "photoUrl": "https://lh6.googleusercontent.com/-DHQbj7ls5Fw/AAAAAAAAAAI/AAAAAAAAIYE/kYKVLGJioAI/s64/photo.jpg",
      "userId": "09704925844882553125"
     },
     "user_tz": -330
    },
    "id": "OyOkLyA2-cTb",
    "outputId": "39076108-9a94-4302-b44b-73b9fa506aec"
   },
   "outputs": [
    {
     "data": {
      "image/png": "[encoded data removed]",
      "text/plain": [
       "<Figure size 432x288 with 1 Axes>"
      ]
     },
     "metadata": {
      "tags": []
     },
     "output_type": "display_data"
    }
   ],
   "source": [
    "## plot the AUC-ROC against the 'k' values for train and cross-validation\n",
    "\n",
    "plt.plot(np.log(list(auc_scores_cv.keys())), auc_scores_cv.values(), label='Validation AUC')\n",
    "plt.plot(np.log(list(auc_scores_train.keys())), auc_scores_train.values(), label='Train AUC')\n",
    "plt.title('Hyperparameter Search - \"alpha\" in Naive Bayes')\n",
    "plt.xlabel('Hyperparameter: log(alpha)')\n",
    "#plt.ylim([0.4,1.1])\n",
    "#plt.xlim([0,20])\n",
    "plt.ylabel('Area under the ROC curve')\n",
    "plt.legend()\n",
    "plt.show()"
   ]
  },
  {
   "cell_type": "code",
   "execution_count": 0,
   "metadata": {
    "colab": {},
    "colab_type": "code",
    "id": "BoHlZVAz-fv6"
   },
   "outputs": [],
   "source": [
    "# Fit a model with the optimal hyeperparameter value for alpha\n",
    "nb = MultinomialNB(alpha=10)\n",
    "nb.fit(X_train_tfidf, Y_train)\n",
    "\n",
    "# Area under the ROC Curve\n",
    "# predict positive class probabilities for test data\n",
    "pred_test_scores = nb.predict_proba(X_test_tfidf)\n",
    "fpr_test, tpr_test, threshold = roc_curve(Y_test, pred_test_scores[:, 1])\n",
    "roc_auc_test = sklearn.metrics.auc(fpr_test, tpr_test)\n",
    "\n",
    "# predict positive class probabilities for train data\n",
    "pred_train_scores = nb.predict_proba(X_train_tfidf)\n",
    "fpr_train, tpr_train, threshold = roc_curve(Y_train, pred_train_scores[:, 1])\n",
    "roc_auc_train = sklearn.metrics.auc(fpr_train, tpr_train)\n",
    "\n"
   ]
  },
  {
   "cell_type": "code",
   "execution_count": 44,
   "metadata": {
    "colab": {
     "base_uri": "https://localhost:8080/",
     "height": 294
    },
    "colab_type": "code",
    "executionInfo": {
     "elapsed": 1419,
     "status": "ok",
     "timestamp": 1551255109789,
     "user": {
      "displayName": "Chella Priyadharshini",
      "photoUrl": "https://lh6.googleusercontent.com/-DHQbj7ls5Fw/AAAAAAAAAAI/AAAAAAAAIYE/kYKVLGJioAI/s64/photo.jpg",
      "userId": "09704925844882553125"
     },
     "user_tz": -330
    },
    "id": "87CYiSe0-kuJ",
    "outputId": "fbd761da-dde8-4694-f23f-95bc04f08546"
   },
   "outputs": [
    {
     "data": {
      "image/png": "[encoded data removed]",
      "text/plain": [
       "<Figure size 432x288 with 1 Axes>"
      ]
     },
     "metadata": {
      "tags": []
     },
     "output_type": "display_data"
    }
   ],
   "source": [
    "plt.title('Receiver Operating Characteristic')\n",
    "plt.plot(fpr_test, tpr_test, 'b', label = 'Test AUC = %0.2f' % roc_auc_test)\n",
    "plt.plot(fpr_train, tpr_train, 'g', label = 'Train AUC = %0.2f' % roc_auc_train)\n",
    "plt.legend(loc = 'lower right')\n",
    "plt.plot([0, 1], [0, 1],'r--')\n",
    "plt.xlim([0, 1])\n",
    "plt.ylim([0, 1])\n",
    "plt.ylabel('True Positive Rate')\n",
    "plt.xlabel('False Positive Rate')\n",
    "plt.title('ROC Curve of Naive Bayes : alpha = 0.1')\n",
    "plt.show()"
   ]
  },
  {
   "cell_type": "code",
   "execution_count": 45,
   "metadata": {
    "colab": {
     "base_uri": "https://localhost:8080/",
     "height": 297
    },
    "colab_type": "code",
    "executionInfo": {
     "elapsed": 1561,
     "status": "ok",
     "timestamp": 1551255154701,
     "user": {
      "displayName": "Chella Priyadharshini",
      "photoUrl": "https://lh6.googleusercontent.com/-DHQbj7ls5Fw/AAAAAAAAAAI/AAAAAAAAIYE/kYKVLGJioAI/s64/photo.jpg",
      "userId": "09704925844882553125"
     },
     "user_tz": -330
    },
    "id": "RHK_2jXL-oFH",
    "outputId": "1324a9c9-843c-423d-e24b-8509436a2916"
   },
   "outputs": [
    {
     "data": {
      "image/png": "[encoded data removed]",
      "text/plain": [
       "<Figure size 432x288 with 2 Axes>"
      ]
     },
     "metadata": {
      "tags": []
     },
     "output_type": "display_data"
    }
   ],
   "source": [
    "## Confusion Matrix:\n",
    "\n",
    "# predict the response on the test data\n",
    "pred_test = nb.predict(X_test_tfidf)\n",
    "\n",
    "c_mat = confusion_matrix(Y_test, pred_test)\n",
    "\n",
    "classes = ['Rejected', 'Approved']\n",
    "\n",
    "plt.figure()\n",
    "plt.title(\"Confusion Matrix\")\n",
    "plt.imshow(c_mat, cmap=plt.cm.Blues)\n",
    "plt.colorbar()\n",
    "#plt.matshow(c_mat)\n",
    "tick_marks = np.arange(len(classes))\n",
    "plt.xticks(tick_marks, classes)\n",
    "plt.yticks(tick_marks, classes)\n",
    "for i, j in itertools.product(range(c_mat.shape[0]), range(c_mat.shape[1])):\n",
    "        plt.text(j, i, c_mat[i, j],\n",
    "                 horizontalalignment=\"center\",\n",
    "                 color=\"black\")\n",
    "plt.ylabel('True label')\n",
    "plt.xlabel('Predicted label')\n",
    "plt.grid()\n",
    "plt.tight_layout()\n",
    "plt.show()"
   ]
  },
  {
   "cell_type": "markdown",
   "metadata": {
    "colab_type": "text",
    "id": "RlDghTPlN1Oc"
   },
   "source": [
    "#### 2.4.2.1 Top 10 important features of positive class & negative class from<font color='red'> SET 2</font>"
   ]
  },
  {
   "cell_type": "code",
   "execution_count": 0,
   "metadata": {
    "colab": {},
    "colab_type": "code",
    "id": "MuYcE0THN1Oc"
   },
   "outputs": [],
   "source": [
    "# Please write all the code with proper documentation\n",
    "with open('/content/drive/My Drive/Assignment2/tfidf_train_features.pkl', 'rb') as f1:\n",
    "    tfidf_train_features = pickle.load(f1)"
   ]
  },
  {
   "cell_type": "code",
   "execution_count": 48,
   "metadata": {
    "colab": {
     "base_uri": "https://localhost:8080/",
     "height": 153
    },
    "colab_type": "code",
    "executionInfo": {
     "elapsed": 1065,
     "status": "ok",
     "timestamp": 1551256191030,
     "user": {
      "displayName": "Chella Priyadharshini",
      "photoUrl": "https://lh6.googleusercontent.com/-DHQbj7ls5Fw/AAAAAAAAAAI/AAAAAAAAIYE/kYKVLGJioAI/s64/photo.jpg",
      "userId": "09704925844882553125"
     },
     "user_tz": -330
    },
    "id": "_Vw0dWcb-yvS",
    "outputId": "1b067c16-a00d-4009-b70c-2d30a58ff3c1"
   },
   "outputs": [
    {
     "name": "stdout",
     "output_type": "stream",
     "text": [
      "Top important features of Negative class:\n",
      "['entirely' 'rhyming' 'rhymes' 'rhetoric' 'rex' 'henri' 'henry' 'hens'\n",
      " 'hep' 'herb']\n",
      "\n",
      "\n",
      "Top important features of Positive class:\n",
      "['pairs' 'interpreters' 'cupboards' 'bore' 'curb' 'palettes' 'pallets'\n",
      " 'superstar' 'internalization' 'interim']\n"
     ]
    }
   ],
   "source": [
    "# Please write all the code with proper documentation\n",
    "\n",
    "neg_class_prob_sorted = nb.feature_log_prob_[0, :].argsort()\n",
    "pos_class_prob_sorted = nb.feature_log_prob_[1, :].argsort()\n",
    "\n",
    "print(\"Top important features of Negative class:\")\n",
    "print(np.take(tfidf_train_features, neg_class_prob_sorted[:10]))\n",
    "print(\"\\n\")\n",
    "print(\"Top important features of Positive class:\")\n",
    "print(np.take(tfidf_train_features, pos_class_prob_sorted[:10]))\n"
   ]
  }
 ],
 "metadata": {
  "colab": {
   "collapsed_sections": [],
   "name": "Naive_Bayes_Assignment4.ipynb",
   "provenance": [],
   "version": "0.3.2"
  },
  "kernelspec": {
   "display_name": "Python 3",
   "language": "python",
   "name": "python3"
  },
  "language_info": {
   "codemirror_mode": {
    "name": "ipython",
    "version": 3
   },
   "file_extension": ".py",
   "mimetype": "text/x-python",
   "name": "python",
   "nbconvert_exporter": "python",
   "pygments_lexer": "ipython3",
   "version": "3.7.2"
  }
 },
 "nbformat": 4,
 "nbformat_minor": 1
}
