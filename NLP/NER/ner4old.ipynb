{
  "nbformat": 4,
  "nbformat_minor": 0,
  "metadata": {
    "colab": {
      "name": "ner3.ipynb",
      "version": "0.3.2",
      "provenance": [],
      "collapsed_sections": []
    },
    "kernelspec": {
      "name": "python3",
      "display_name": "Python 3"
    },
    "accelerator": "GPU"
  },
  "cells": [
    {
      "metadata": {
        "id": "dHA6rlhUdwTx",
        "colab_type": "code",
        "outputId": "38de60d2-d117-4fcd-890a-98409720e22a",
        "colab": {
          "base_uri": "https://localhost:8080/",
          "height": 122
        }
      },
      "cell_type": "code",
      "source": [
        "from google.colab import drive\n",
        "drive.mount('/content/drive', force_remount=True)"
      ],
      "execution_count": 1,
      "outputs": [
        {
          "output_type": "stream",
          "text": [
            "Go to this URL in a browser: https://accounts.google.com/o/oauth2/auth?client_id=947318989803-6bn6qk8qdgf4n4g3pfee6491hc0brc4i.apps.googleusercontent.com&redirect_uri=urn%3Aietf%3Awg%3Aoauth%3A2.0%3Aoob&scope=email%20https%3A%2F%2Fwww.googleapis.com%2Fauth%2Fdocs.test%20https%3A%2F%2Fwww.googleapis.com%2Fauth%2Fdrive%20https%3A%2F%2Fwww.googleapis.com%2Fauth%2Fdrive.photos.readonly%20https%3A%2F%2Fwww.googleapis.com%2Fauth%2Fpeopleapi.readonly&response_type=code\n",
            "\n",
            "Enter your authorization code:\n",
            "··········\n",
            "Mounted at /content/drive\n"
          ],
          "name": "stdout"
        }
      ]
    },
    {
      "metadata": {
        "id": "peaKJhTv3vMc",
        "colab_type": "code",
        "colab": {
          "base_uri": "https://localhost:8080/",
          "height": 34
        },
        "outputId": "a7f27650-3291-4667-a7ac-5898a39ccadf"
      },
      "cell_type": "code",
      "source": [
        "!pip -qqq install git+https://www.github.com/keras-team/keras-contrib.git\n",
        "!pip -qqq install --upgrade keras"
      ],
      "execution_count": 2,
      "outputs": [
        {
          "output_type": "stream",
          "text": [
            "  Building wheel for keras-contrib (setup.py) ... \u001b[?25ldone\n",
            "\u001b[?25h"
          ],
          "name": "stdout"
        }
      ]
    },
    {
      "metadata": {
        "id": "PazVdDRvd0G0",
        "colab_type": "code",
        "outputId": "60c12afb-cd25-43b8-8435-74aacee38d57",
        "colab": {
          "base_uri": "https://localhost:8080/",
          "height": 68
        }
      },
      "cell_type": "code",
      "source": [
        "import numpy as np\n",
        "import pandas as pd\n",
        "\n",
        "from sklearn.model_selection import train_test_split\n",
        "\n",
        "from sklearn.metrics import classification_report\n",
        "\n",
        "\n",
        "import keras\n",
        "from keras.preprocessing.sequence import pad_sequences\n",
        "import tensorflow as tf\n",
        "import tensorflow_hub as hub\n",
        "\n",
        "from keras import backend as K\n",
        "\n",
        "from keras_contrib.layers import CRF\n",
        "from keras_contrib.losses import crf_loss\n",
        "\n",
        "#from tensorflow.python.keras.models import Model, Input\n",
        "#from tensorflow.python.keras.layers import LSTM, Embedding, Dense, TimeDistributed, Dropout, Bidirectional, Lambda\n",
        "#from tensorflow.python.keras.layers.merge import add\n",
        "\n",
        "\n",
        "from keras.models import Model, Input\n",
        "from keras.layers.merge import add\n",
        "from keras.layers import Layer, LSTM, Embedding, Dense, TimeDistributed, Dropout, Bidirectional, Lambda\n"
      ],
      "execution_count": 3,
      "outputs": [
        {
          "output_type": "stream",
          "text": [
            "Using TensorFlow backend.\n",
            "WARNING: Logging before flag parsing goes to stderr.\n",
            "W0324 10:32:39.698910 140302001137536 __init__.py:56] Some hub symbols are not available because TensorFlow version is less than 1.14\n"
          ],
          "name": "stderr"
        }
      ]
    },
    {
      "metadata": {
        "id": "inYoOA0Yd7fT",
        "colab_type": "code",
        "colab": {}
      },
      "cell_type": "code",
      "source": [
        "train = pd.read_csv('/content/drive/My Drive/AV-Innoplexus/train 2.csv')\n",
        "test = pd.read_csv('/content/drive/My Drive/AV-Innoplexus/test 2.csv')"
      ],
      "execution_count": 0,
      "outputs": []
    },
    {
      "metadata": {
        "id": "DZAykezed8r1",
        "colab_type": "code",
        "outputId": "d5a65a85-ffa6-44ce-96cb-824abb972c0a",
        "colab": {
          "base_uri": "https://localhost:8080/",
          "height": 204
        }
      },
      "cell_type": "code",
      "source": [
        "train = train.drop(['Doc_ID'], axis = 1)\n",
        "test = test.drop(['Doc_ID'], axis = 1)\n",
        "\n",
        "train.head(5)"
      ],
      "execution_count": 5,
      "outputs": [
        {
          "output_type": "execute_result",
          "data": {
            "text/html": [
              "<div>\n",
              "<style scoped>\n",
              "    .dataframe tbody tr th:only-of-type {\n",
              "        vertical-align: middle;\n",
              "    }\n",
              "\n",
              "    .dataframe tbody tr th {\n",
              "        vertical-align: top;\n",
              "    }\n",
              "\n",
              "    .dataframe thead th {\n",
              "        text-align: right;\n",
              "    }\n",
              "</style>\n",
              "<table border=\"1\" class=\"dataframe\">\n",
              "  <thead>\n",
              "    <tr style=\"text-align: right;\">\n",
              "      <th></th>\n",
              "      <th>id</th>\n",
              "      <th>Sent_ID</th>\n",
              "      <th>Word</th>\n",
              "      <th>tag</th>\n",
              "    </tr>\n",
              "  </thead>\n",
              "  <tbody>\n",
              "    <tr>\n",
              "      <th>0</th>\n",
              "      <td>1</td>\n",
              "      <td>1</td>\n",
              "      <td>Obesity</td>\n",
              "      <td>O</td>\n",
              "    </tr>\n",
              "    <tr>\n",
              "      <th>1</th>\n",
              "      <td>2</td>\n",
              "      <td>1</td>\n",
              "      <td>in</td>\n",
              "      <td>O</td>\n",
              "    </tr>\n",
              "    <tr>\n",
              "      <th>2</th>\n",
              "      <td>3</td>\n",
              "      <td>1</td>\n",
              "      <td>Low-</td>\n",
              "      <td>O</td>\n",
              "    </tr>\n",
              "    <tr>\n",
              "      <th>3</th>\n",
              "      <td>4</td>\n",
              "      <td>1</td>\n",
              "      <td>and</td>\n",
              "      <td>O</td>\n",
              "    </tr>\n",
              "    <tr>\n",
              "      <th>4</th>\n",
              "      <td>5</td>\n",
              "      <td>1</td>\n",
              "      <td>Middle-Income</td>\n",
              "      <td>O</td>\n",
              "    </tr>\n",
              "  </tbody>\n",
              "</table>\n",
              "</div>"
            ],
            "text/plain": [
              "   id  Sent_ID           Word tag\n",
              "0   1        1        Obesity   O\n",
              "1   2        1             in   O\n",
              "2   3        1           Low-   O\n",
              "3   4        1            and   O\n",
              "4   5        1  Middle-Income   O"
            ]
          },
          "metadata": {
            "tags": []
          },
          "execution_count": 5
        }
      ]
    },
    {
      "metadata": {
        "id": "l0yr9Uocp8v_",
        "colab_type": "code",
        "outputId": "db9a3ede-27a1-423c-a25e-3741503cca7d",
        "colab": {
          "base_uri": "https://localhost:8080/",
          "height": 102
        }
      },
      "cell_type": "code",
      "source": [
        "train.isnull().sum()"
      ],
      "execution_count": 8,
      "outputs": [
        {
          "output_type": "execute_result",
          "data": {
            "text/plain": [
              "id         0\n",
              "Sent_ID    0\n",
              "Word       0\n",
              "tag        0\n",
              "dtype: int64"
            ]
          },
          "metadata": {
            "tags": []
          },
          "execution_count": 8
        }
      ]
    },
    {
      "metadata": {
        "id": "wmRH6kq7p_zW",
        "colab_type": "code",
        "colab": {}
      },
      "cell_type": "code",
      "source": [
        "train = train.fillna(method='ffill')\n",
        "test = test.fillna(method='ffill')"
      ],
      "execution_count": 0,
      "outputs": []
    },
    {
      "metadata": {
        "id": "XZB3gblbrYjQ",
        "colab_type": "code",
        "colab": {
          "base_uri": "https://localhost:8080/",
          "height": 68
        },
        "outputId": "fdb02e6b-4c5b-4b40-eb41-4ca7517c0006"
      },
      "cell_type": "code",
      "source": [
        "words = list(set(train[\"Word\"].values))\n",
        "n_words = len(words)\n",
        "print(\"Number of words in the dataset: \", n_words)\n",
        "\n",
        "tags = list(set(train[\"tag\"].values))\n",
        "print(\"Tags:\", tags)\n",
        "n_tags = len(tags)\n",
        "print(\"Number of Labels: \", n_tags)"
      ],
      "execution_count": 9,
      "outputs": [
        {
          "output_type": "stream",
          "text": [
            "Number of words in the dataset:  184505\n",
            "Tags: ['O', 'I-indications', 'B-indications']\n",
            "Number of Labels:  3\n"
          ],
          "name": "stdout"
        }
      ]
    },
    {
      "metadata": {
        "id": "JfCK1U6scmtp",
        "colab_type": "code",
        "colab": {}
      },
      "cell_type": "code",
      "source": [
        "## get pos_tags\n",
        "'''\n",
        "import nltk\n",
        "nltk.download('averaged_perceptron_tagger')\n",
        "\n",
        "def agg_func(x):\n",
        "  for w, t in nltk.pos_tag([x]):\n",
        "    return t\n",
        "\n",
        "train['POS'] = train['Word'].apply(agg_func)\n",
        "test['POS'] = test['Word'].apply(agg_func)'''"
      ],
      "execution_count": 0,
      "outputs": []
    },
    {
      "metadata": {
        "id": "kutCj2mbqJXo",
        "colab_type": "code",
        "colab": {}
      },
      "cell_type": "code",
      "source": [
        "class GetSentences(object):\n",
        "    \n",
        "    def __init__(self, data, dataset_type):\n",
        "        self.n_sent = 1\n",
        "        self.data = data\n",
        "        self.empty = False\n",
        "        if dataset_type == 'train':\n",
        "          agg_func = lambda s: [(w, t) for w, t in zip(s['Word'].values.tolist(), s['tag'].values.tolist())]\n",
        "        else:\n",
        "          agg_func = lambda s: [(w) for w in s['Word'].values.tolist()]\n",
        "        self.grouped = self.data.groupby('Sent_ID').apply(agg_func)\n",
        "        self.sentences = [s for s in self.grouped]\n",
        "        \n",
        "    def get_next(self):\n",
        "        try: \n",
        "            s = self.grouped['Sentence: {}'.format(self.n_sent)]\n",
        "            self.n_sent += 1\n",
        "            return s \n",
        "        except:\n",
        "            return None\n",
        "\n",
        "getter = GetSentences(train, 'train')\n",
        "train_sentences = getter.sentences\n",
        "\n",
        "\n",
        "getter = GetSentences(test, 'test')\n",
        "test_sentences = getter.sentences"
      ],
      "execution_count": 0,
      "outputs": []
    },
    {
      "metadata": {
        "id": "FxkkGJPMR_gO",
        "colab_type": "code",
        "colab": {
          "base_uri": "https://localhost:8080/",
          "height": 34
        },
        "outputId": "768e1d35-cbc0-41ef-c119-de9b6c0885a6"
      },
      "cell_type": "code",
      "source": [
        "len(train_sentences), len(test_sentences)"
      ],
      "execution_count": 11,
      "outputs": [
        {
          "output_type": "execute_result",
          "data": {
            "text/plain": [
              "(191282, 125840)"
            ]
          },
          "metadata": {
            "tags": []
          },
          "execution_count": 11
        }
      ]
    },
    {
      "metadata": {
        "id": "zDi4g5U2qUd-",
        "colab_type": "code",
        "colab": {}
      },
      "cell_type": "code",
      "source": [
        "word2idx = {w: i + 2 for i, w in enumerate(words)}\n",
        "word2idx[\"UNK\"] = 1 # Unknown words\n",
        "word2idx[\"PAD\"] = 0 # Padding\n",
        "\n",
        "idx2word = {i: w for w, i in word2idx.items()}\n",
        "\n",
        "tag2idx = {t: i+1 for i, t in enumerate(tags)}\n",
        "tag2idx[\"PAD\"] = 0\n",
        "\n",
        "idx2tag = {i: w for w, i in tag2idx.items()}\n",
        "\n"
      ],
      "execution_count": 0,
      "outputs": []
    },
    {
      "metadata": {
        "id": "lVy9FTk69w_J",
        "colab_type": "code",
        "colab": {}
      },
      "cell_type": "code",
      "source": [
        "from keras.preprocessing.sequence import pad_sequences\n",
        "# Convert each sentence from list of Token to list of word_index\n",
        "X = [[word2idx[w[0]] for w in s] for s in train_sentences]\n",
        "# Padding each sentence to have the same lenght\n",
        "X = pad_sequences(maxlen=50, sequences=X, padding=\"post\", value=word2idx[\"PAD\"])\n",
        "\n",
        "# Convert Tag/Label to tag_index\n",
        "y = [[tag2idx[w[1]] for w in s] for s in train_sentences]\n",
        "# Padding each sentence to have the same lenght\n",
        "y = pad_sequences(maxlen=50, sequences=y, padding=\"post\", value=tag2idx[\"PAD\"])\n"
      ],
      "execution_count": 0,
      "outputs": []
    },
    {
      "metadata": {
        "id": "-3sH5jPYpPsv",
        "colab_type": "code",
        "colab": {}
      },
      "cell_type": "code",
      "source": [
        "\n",
        "X = X[:102400]\n",
        "y = y[:102400]\n"
      ],
      "execution_count": 0,
      "outputs": []
    },
    {
      "metadata": {
        "id": "ipLJLxsC-E1a",
        "colab_type": "code",
        "colab": {}
      },
      "cell_type": "code",
      "source": [
        "from keras.utils import to_categorical\n",
        "# One-Hot encode\n",
        "y = [to_categorical(i, num_classes=n_tags+1) for i in y]  # n_tags+1(PAD)\n"
      ],
      "execution_count": 0,
      "outputs": []
    },
    {
      "metadata": {
        "id": "SZ3ELT-sXC5e",
        "colab_type": "code",
        "colab": {
          "base_uri": "https://localhost:8080/",
          "height": 34
        },
        "outputId": "cbeffa57-093c-4421-fefb-bbdd15b74814"
      },
      "cell_type": "code",
      "source": [
        "from sklearn.model_selection import train_test_split\n",
        "X_tr, X_val, y_tr, y_val = train_test_split(X, y, test_size=0.2, random_state=42)\n",
        "\n",
        "X_tr.shape, X_val.shape, np.array(y_tr).shape, np.array(y_val).shape"
      ],
      "execution_count": 16,
      "outputs": [
        {
          "output_type": "execute_result",
          "data": {
            "text/plain": [
              "((81920, 50), (20480, 50), (81920, 50, 4), (20480, 50, 4))"
            ]
          },
          "metadata": {
            "tags": []
          },
          "execution_count": 16
        }
      ]
    },
    {
      "metadata": {
        "id": "88V97g_FXpKZ",
        "colab_type": "code",
        "colab": {}
      },
      "cell_type": "code",
      "source": [
        "'''import os\n",
        "import pprint\n",
        "\n",
        "if 'COLAB_TPU_ADDR' not in os.environ:\n",
        "  print('ERROR: Not connected to a TPU runtime; please see the first cell in this notebook for instructions!')\n",
        "else:\n",
        "  tpu_address = 'grpc://' + os.environ['COLAB_TPU_ADDR']\n",
        "  print ('TPU address is', tpu_address)\n",
        "\n",
        "  with tf.Session(tpu_address) as session:\n",
        "    devices = session.list_devices()\n",
        "    \n",
        "  print('TPU devices:')\n",
        "  pprint.pprint(devices)\n",
        "  \n",
        "session = tf.Session(tpu_address)\n",
        "#session.run(tf.contrib.tpu.initialize_system())\n",
        "#session.run(tf.global_variables_initializer())\n",
        "#session.run(tf.tables_initializer())'''"
      ],
      "execution_count": 0,
      "outputs": []
    },
    {
      "metadata": {
        "id": "hqOA0-CfMnvV",
        "colab_type": "code",
        "colab": {}
      },
      "cell_type": "code",
      "source": [
        "sess = tf.Session()\n",
        "sess.run(tf.global_variables_initializer())\n",
        "sess.run(tf.tables_initializer())"
      ],
      "execution_count": 0,
      "outputs": []
    },
    {
      "metadata": {
        "id": "_n9K_clvvEXd",
        "colab_type": "code",
        "colab": {
          "base_uri": "https://localhost:8080/",
          "height": 598
        },
        "outputId": "9980a744-3fa2-4513-91fc-1a0b6528103f"
      },
      "cell_type": "code",
      "source": [
        "# Model definition\n",
        "input = Input(shape=(50,))\n",
        "model = Embedding(input_dim=n_words+2, output_dim=20, # n_words + 2 (PAD & UNK)\n",
        "                  input_length=50, mask_zero=True)(input)  # default: 20-dim embedding\n",
        "model = Bidirectional(LSTM(units=64, return_sequences=True,\n",
        "                           recurrent_dropout=0.1))(model)  # variational biLSTM\n",
        "model = TimeDistributed(Dense(64, activation=\"relu\"))(model)  # a dense layer as suggested by neuralNer\n",
        "crf = CRF(n_tags+1)  # CRF layer, n_tags+1(PAD)\n",
        "out = crf(model)  # output\n",
        "\n",
        "model = Model(input, out)\n",
        "model.compile(optimizer=\"rmsprop\", loss=crf.loss_function, metrics=[crf.accuracy])\n",
        "\n",
        "model.summary()"
      ],
      "execution_count": 18,
      "outputs": [
        {
          "output_type": "stream",
          "text": [
            "WARNING:tensorflow:From /usr/local/lib/python3.6/dist-packages/tensorflow/python/framework/op_def_library.py:263: colocate_with (from tensorflow.python.framework.ops) is deprecated and will be removed in a future version.\n",
            "Instructions for updating:\n",
            "Colocations handled automatically by placer.\n"
          ],
          "name": "stdout"
        },
        {
          "output_type": "stream",
          "text": [
            "W0324 10:37:44.795073 140302001137536 deprecation.py:323] From /usr/local/lib/python3.6/dist-packages/tensorflow/python/framework/op_def_library.py:263: colocate_with (from tensorflow.python.framework.ops) is deprecated and will be removed in a future version.\n",
            "Instructions for updating:\n",
            "Colocations handled automatically by placer.\n"
          ],
          "name": "stderr"
        },
        {
          "output_type": "stream",
          "text": [
            "WARNING:tensorflow:From /usr/local/lib/python3.6/dist-packages/keras/backend/tensorflow_backend.py:3445: calling dropout (from tensorflow.python.ops.nn_ops) with keep_prob is deprecated and will be removed in a future version.\n",
            "Instructions for updating:\n",
            "Please use `rate` instead of `keep_prob`. Rate should be set to `rate = 1 - keep_prob`.\n"
          ],
          "name": "stdout"
        },
        {
          "output_type": "stream",
          "text": [
            "W0324 10:37:44.985996 140302001137536 deprecation.py:506] From /usr/local/lib/python3.6/dist-packages/keras/backend/tensorflow_backend.py:3445: calling dropout (from tensorflow.python.ops.nn_ops) with keep_prob is deprecated and will be removed in a future version.\n",
            "Instructions for updating:\n",
            "Please use `rate` instead of `keep_prob`. Rate should be set to `rate = 1 - keep_prob`.\n",
            "/usr/local/lib/python3.6/dist-packages/keras_contrib/layers/crf.py:346: UserWarning: CRF.loss_function is deprecated and it might be removed in the future. Please use losses.crf_loss instead.\n",
            "  warnings.warn('CRF.loss_function is deprecated '\n",
            "/usr/local/lib/python3.6/dist-packages/keras_contrib/layers/crf.py:353: UserWarning: CRF.accuracy is deprecated and it might be removed in the future. Please use metrics.crf_accuracy\n",
            "  warnings.warn('CRF.accuracy is deprecated and it '\n"
          ],
          "name": "stderr"
        },
        {
          "output_type": "stream",
          "text": [
            "_________________________________________________________________\n",
            "Layer (type)                 Output Shape              Param #   \n",
            "=================================================================\n",
            "input_1 (InputLayer)         (None, 50)                0         \n",
            "_________________________________________________________________\n",
            "embedding_1 (Embedding)      (None, 50, 20)            3690140   \n",
            "_________________________________________________________________\n",
            "bidirectional_1 (Bidirection (None, 50, 128)           43520     \n",
            "_________________________________________________________________\n",
            "time_distributed_1 (TimeDist (None, 50, 64)            8256      \n",
            "_________________________________________________________________\n",
            "crf_1 (CRF)                  (None, 50, 4)             284       \n",
            "=================================================================\n",
            "Total params: 3,742,200\n",
            "Trainable params: 3,742,200\n",
            "Non-trainable params: 0\n",
            "_________________________________________________________________\n"
          ],
          "name": "stdout"
        }
      ]
    },
    {
      "metadata": {
        "id": "aScGbAjk8oal",
        "colab_type": "code",
        "colab": {}
      },
      "cell_type": "code",
      "source": [
        "'''\n",
        "# This address identifies the TPU we'll use when configuring TensorFlow.\n",
        "TPU_WORKER = 'grpc://' + os.environ['COLAB_TPU_ADDR']\n",
        "tf.logging.set_verbosity(tf.logging.INFO)\n",
        "\n",
        "tpu_model = tf.contrib.tpu.keras_to_tpu_model(\n",
        "    model,\n",
        "    strategy=tf.contrib.tpu.TPUDistributionStrategy(\n",
        "        tf.contrib.cluster_resolver.TPUClusterResolver(TPU_WORKER)))\n",
        "'''"
      ],
      "execution_count": 0,
      "outputs": []
    },
    {
      "metadata": {
        "id": "Zyn0oAwBx0pU",
        "colab_type": "code",
        "colab": {
          "base_uri": "https://localhost:8080/",
          "height": 496
        },
        "outputId": "0b93b8a5-bbdf-4cc1-f390-51d9d65d3d51"
      },
      "cell_type": "code",
      "source": [
        "\n",
        "#history = tpu_model.fit(X_tr, y_tr, epochs=3, batch_size=128*8, validation_data=(X_val, y_val))\n",
        "\n",
        "history = model.fit(X_tr, np.array(y_tr), epochs=10, batch_size=128, validation_data=(X_val, np.array(y_val)))"
      ],
      "execution_count": 19,
      "outputs": [
        {
          "output_type": "stream",
          "text": [
            "WARNING:tensorflow:From /usr/local/lib/python3.6/dist-packages/tensorflow/python/ops/math_ops.py:3066: to_int32 (from tensorflow.python.ops.math_ops) is deprecated and will be removed in a future version.\n",
            "Instructions for updating:\n",
            "Use tf.cast instead.\n"
          ],
          "name": "stdout"
        },
        {
          "output_type": "stream",
          "text": [
            "W0324 10:38:35.063022 140302001137536 deprecation.py:323] From /usr/local/lib/python3.6/dist-packages/tensorflow/python/ops/math_ops.py:3066: to_int32 (from tensorflow.python.ops.math_ops) is deprecated and will be removed in a future version.\n",
            "Instructions for updating:\n",
            "Use tf.cast instead.\n"
          ],
          "name": "stderr"
        },
        {
          "output_type": "stream",
          "text": [
            "Train on 81920 samples, validate on 20480 samples\n",
            "Epoch 1/10\n",
            "81920/81920 [==============================] - 272s 3ms/step - loss: 3.0770 - crf_viterbi_accuracy: 0.9714 - val_loss: 3.0859 - val_crf_viterbi_accuracy: 0.9848\n",
            "Epoch 2/10\n",
            "81920/81920 [==============================] - 271s 3ms/step - loss: 3.0133 - crf_viterbi_accuracy: 0.9870 - val_loss: 3.0708 - val_crf_viterbi_accuracy: 0.9875\n",
            "Epoch 3/10\n",
            "81920/81920 [==============================] - 270s 3ms/step - loss: 3.0025 - crf_viterbi_accuracy: 0.9890 - val_loss: 3.0651 - val_crf_viterbi_accuracy: 0.9884\n",
            "Epoch 4/10\n",
            "81920/81920 [==============================] - 269s 3ms/step - loss: 2.9968 - crf_viterbi_accuracy: 0.9904 - val_loss: 3.0617 - val_crf_viterbi_accuracy: 0.9894\n",
            "Epoch 5/10\n",
            "81920/81920 [==============================] - 269s 3ms/step - loss: 2.9934 - crf_viterbi_accuracy: 0.9913 - val_loss: 3.0611 - val_crf_viterbi_accuracy: 0.9892\n",
            "Epoch 6/10\n",
            "81920/81920 [==============================] - 270s 3ms/step - loss: 2.9911 - crf_viterbi_accuracy: 0.9920 - val_loss: 3.0593 - val_crf_viterbi_accuracy: 0.9901\n",
            "Epoch 7/10\n",
            "81920/81920 [==============================] - 270s 3ms/step - loss: 2.9895 - crf_viterbi_accuracy: 0.9927 - val_loss: 3.0595 - val_crf_viterbi_accuracy: 0.9900\n",
            "Epoch 8/10\n",
            "81920/81920 [==============================] - 269s 3ms/step - loss: 2.9881 - crf_viterbi_accuracy: 0.9932 - val_loss: 3.0629 - val_crf_viterbi_accuracy: 0.9880\n",
            "Epoch 9/10\n",
            "81920/81920 [==============================] - 270s 3ms/step - loss: 2.9869 - crf_viterbi_accuracy: 0.9938 - val_loss: 3.0596 - val_crf_viterbi_accuracy: 0.9900\n",
            "Epoch 10/10\n",
            "81920/81920 [==============================] - 269s 3ms/step - loss: 2.9857 - crf_viterbi_accuracy: 0.9944 - val_loss: 3.0624 - val_crf_viterbi_accuracy: 0.9880\n"
          ],
          "name": "stdout"
        }
      ]
    },
    {
      "metadata": {
        "id": "qESEv9bMy6Y-",
        "colab_type": "code",
        "colab": {}
      },
      "cell_type": "code",
      "source": [
        "## prepare test_sentences\n",
        "\n",
        "'''words = list(set(train[\"Word\"].values))\n",
        "n_words = len(words)\n",
        "print(\"Number of words in the dataset: \", n_words)\n",
        "\n",
        "\n",
        "word2idx = {w: i + 2 for i, w in enumerate(words)}\n",
        "word2idx[\"UNK\"] = 1 # Unknown words\n",
        "word2idx[\"PAD\"] = 0 # Padding\n",
        "\n",
        "idx2word = {i: w for w, i in word2idx.items()}'''\n",
        "\n",
        "\n",
        "# Convert each sentence from list of Token to list of word_index\n",
        "X_test = [[word2idx.get(w, 1) for w in s] for s in test_sentences]\n",
        "# Padding each sentence to have the same length\n",
        "X_test = pad_sequences(maxlen=50, sequences=X_test, padding=\"post\", value=word2idx[\"PAD\"])\n",
        "\n"
      ],
      "execution_count": 0,
      "outputs": []
    },
    {
      "metadata": {
        "id": "5IBWn_yMFhew",
        "colab_type": "code",
        "colab": {
          "base_uri": "https://localhost:8080/",
          "height": 34
        },
        "outputId": "8ade60a8-5e9b-4017-aafb-eabf54916ddf"
      },
      "cell_type": "code",
      "source": [
        "pred_c = model.predict(np.array(X_test), verbose = 1)\n",
        "pred = np.argmax(pred_c, axis=-1)"
      ],
      "execution_count": 21,
      "outputs": [
        {
          "output_type": "stream",
          "text": [
            "125840/125840 [==============================] - 579s 5ms/step\n"
          ],
          "name": "stdout"
        }
      ]
    },
    {
      "metadata": {
        "id": "1p7QTcTJgERz",
        "colab_type": "code",
        "colab": {}
      },
      "cell_type": "code",
      "source": [
        "# Convert the index to tag\n",
        "pred_tag = [[idx2tag[i] for i in row] for row in pred]"
      ],
      "execution_count": 0,
      "outputs": []
    },
    {
      "metadata": {
        "id": "qY8u-dnZgJ9O",
        "colab_type": "code",
        "colab": {}
      },
      "cell_type": "code",
      "source": [
        "lengthlist = []\n",
        "for s in test_sentences:\n",
        "  lengthlist.append(len(s))"
      ],
      "execution_count": 0,
      "outputs": []
    },
    {
      "metadata": {
        "id": "q6q4KsnPgaAE",
        "colab_type": "code",
        "colab": {}
      },
      "cell_type": "code",
      "source": [
        "new_pred = []\n",
        "for i, p in enumerate(pred_tag):\n",
        "  newp = p[:lengthlist[i]]\n",
        "  new_pred.append(newp)"
      ],
      "execution_count": 0,
      "outputs": []
    },
    {
      "metadata": {
        "id": "slbd3E5pgvmW",
        "colab_type": "code",
        "colab": {}
      },
      "cell_type": "code",
      "source": [
        "flatlist = [item for sublist in new_pred for item in sublist]"
      ],
      "execution_count": 0,
      "outputs": []
    },
    {
      "metadata": {
        "id": "5euDrM7Og6pg",
        "colab_type": "code",
        "colab": {}
      },
      "cell_type": "code",
      "source": [
        "test['tag'] = pd.Series(flatlist)"
      ],
      "execution_count": 0,
      "outputs": []
    },
    {
      "metadata": {
        "id": "omBP4M6ng_Ob",
        "colab_type": "code",
        "colab": {}
      },
      "cell_type": "code",
      "source": [
        "result = test.drop(['Word'], axis = 1)"
      ],
      "execution_count": 0,
      "outputs": []
    },
    {
      "metadata": {
        "id": "nkhkJnswhG6P",
        "colab_type": "code",
        "colab": {
          "base_uri": "https://localhost:8080/",
          "height": 204
        },
        "outputId": "2f060faa-f6c2-4086-9aaa-ccaa8885d2c0"
      },
      "cell_type": "code",
      "source": [
        "result.head(5)"
      ],
      "execution_count": 32,
      "outputs": [
        {
          "output_type": "execute_result",
          "data": {
            "text/html": [
              "<div>\n",
              "<style scoped>\n",
              "    .dataframe tbody tr th:only-of-type {\n",
              "        vertical-align: middle;\n",
              "    }\n",
              "\n",
              "    .dataframe tbody tr th {\n",
              "        vertical-align: top;\n",
              "    }\n",
              "\n",
              "    .dataframe thead th {\n",
              "        text-align: right;\n",
              "    }\n",
              "</style>\n",
              "<table border=\"1\" class=\"dataframe\">\n",
              "  <thead>\n",
              "    <tr style=\"text-align: right;\">\n",
              "      <th></th>\n",
              "      <th>id</th>\n",
              "      <th>Sent_ID</th>\n",
              "      <th>tag</th>\n",
              "    </tr>\n",
              "  </thead>\n",
              "  <tbody>\n",
              "    <tr>\n",
              "      <th>0</th>\n",
              "      <td>4543834</td>\n",
              "      <td>191283</td>\n",
              "      <td>O</td>\n",
              "    </tr>\n",
              "    <tr>\n",
              "      <th>1</th>\n",
              "      <td>4543835</td>\n",
              "      <td>191283</td>\n",
              "      <td>O</td>\n",
              "    </tr>\n",
              "    <tr>\n",
              "      <th>2</th>\n",
              "      <td>4543836</td>\n",
              "      <td>191283</td>\n",
              "      <td>O</td>\n",
              "    </tr>\n",
              "    <tr>\n",
              "      <th>3</th>\n",
              "      <td>4543837</td>\n",
              "      <td>191283</td>\n",
              "      <td>O</td>\n",
              "    </tr>\n",
              "    <tr>\n",
              "      <th>4</th>\n",
              "      <td>4543838</td>\n",
              "      <td>191283</td>\n",
              "      <td>O</td>\n",
              "    </tr>\n",
              "  </tbody>\n",
              "</table>\n",
              "</div>"
            ],
            "text/plain": [
              "        id  Sent_ID tag\n",
              "0  4543834   191283   O\n",
              "1  4543835   191283   O\n",
              "2  4543836   191283   O\n",
              "3  4543837   191283   O\n",
              "4  4543838   191283   O"
            ]
          },
          "metadata": {
            "tags": []
          },
          "execution_count": 32
        }
      ]
    },
    {
      "metadata": {
        "id": "mzSkHSyihJX_",
        "colab_type": "code",
        "colab": {}
      },
      "cell_type": "code",
      "source": [
        "result.to_csv(\"/content/drive/My Drive/AV-Innoplexus/result_ner3.csv\", sep = \",\", index=False, columns=[\"id\", \"Sent_ID\", \"tag\"])"
      ],
      "execution_count": 0,
      "outputs": []
    }
  ]
}