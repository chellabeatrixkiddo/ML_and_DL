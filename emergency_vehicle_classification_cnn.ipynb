{
  "nbformat": 4,
  "nbformat_minor": 0,
  "metadata": {
    "colab": {
      "name": "emergency_vehicle_classification_cnn.ipynb",
      "version": "0.3.2",
      "provenance": [],
      "toc_visible": true,
      "include_colab_link": true
    },
    "kernelspec": {
      "name": "python3",
      "display_name": "Python 3"
    },
    "accelerator": "GPU"
  },
  "cells": [
    {
      "cell_type": "markdown",
      "metadata": {
        "id": "view-in-github",
        "colab_type": "text"
      },
      "source": [
        "<a href=\"https://colab.research.google.com/github/chellabeatrixkiddo/ML_and_DL/blob/master/emergency_vehicle_classification_cnn.ipynb\" target=\"_parent\"><img src=\"https://colab.research.google.com/assets/colab-badge.svg\" alt=\"Open In Colab\"/></a>"
      ]
    },
    {
      "metadata": {
        "id": "G8flYKJ4TtHw",
        "colab_type": "text"
      },
      "cell_type": "markdown",
      "source": [
        "## 1. Data Loading and Preprocessing"
      ]
    },
    {
      "metadata": {
        "id": "tMCOZ7oyTtHy",
        "colab_type": "code",
        "outputId": "821381aa-9cc6-4263-d233-1bce8a14f935",
        "colab": {
          "base_uri": "https://localhost:8080/",
          "height": 34
        }
      },
      "cell_type": "code",
      "source": [
        "%matplotlib inline\n",
        "\n",
        "import pandas as pd\n",
        "import numpy as np\n",
        "from glob import glob\n",
        "import matplotlib.pyplot as plt\n",
        "\n",
        "from keras.models import Sequential\n",
        "from keras.preprocessing import image\n",
        "from keras.layers import Dense, InputLayer, Conv2D, MaxPool2D, Flatten\n",
        "    \n",
        "from sklearn.model_selection import train_test_split"
      ],
      "execution_count": 0,
      "outputs": [
        {
          "output_type": "stream",
          "text": [
            "Using TensorFlow backend.\n"
          ],
          "name": "stderr"
        }
      ]
    },
    {
      "metadata": {
        "id": "BktMJFy6T3E_",
        "colab_type": "code",
        "outputId": "43884cee-4360-46d0-dc99-0e37432a3136",
        "colab": {
          "base_uri": "https://localhost:8080/",
          "height": 122
        }
      },
      "cell_type": "code",
      "source": [
        "from google.colab import drive\n",
        "drive.mount('/content/drive')"
      ],
      "execution_count": 0,
      "outputs": [
        {
          "output_type": "stream",
          "text": [
            "Go to this URL in a browser: https://accounts.google.com/o/oauth2/auth?client_id=947318989803-6bn6qk8qdgf4n4g3pfee6491hc0brc4i.apps.googleusercontent.com&redirect_uri=urn%3Aietf%3Awg%3Aoauth%3A2.0%3Aoob&scope=email%20https%3A%2F%2Fwww.googleapis.com%2Fauth%2Fdocs.test%20https%3A%2F%2Fwww.googleapis.com%2Fauth%2Fdrive%20https%3A%2F%2Fwww.googleapis.com%2Fauth%2Fdrive.photos.readonly%20https%3A%2F%2Fwww.googleapis.com%2Fauth%2Fpeopleapi.readonly&response_type=code\n",
            "\n",
            "Enter your authorization code:\n",
            "··········\n",
            "Mounted at /content/drive\n"
          ],
          "name": "stdout"
        }
      ]
    },
    {
      "metadata": {
        "id": "79dFVTkUTtH3",
        "colab_type": "code",
        "colab": {}
      },
      "cell_type": "code",
      "source": [
        "# Initialie random seed\n",
        "seed = 42\n",
        "rng = np.random.RandomState(seed)"
      ],
      "execution_count": 0,
      "outputs": []
    },
    {
      "metadata": {
        "id": "nUR2UmJkTtH9",
        "colab_type": "code",
        "colab": {}
      },
      "cell_type": "code",
      "source": [
        "data = pd.read_csv('/content/drive/My Drive/DLDatasets/CV101/datasets/emergency_classification/emergency_classification.csv')"
      ],
      "execution_count": 0,
      "outputs": []
    },
    {
      "metadata": {
        "id": "4hxONq_XTtIA",
        "colab_type": "code",
        "colab": {}
      },
      "cell_type": "code",
      "source": [
        "# load images and store it in numpy array\n",
        "X = []\n",
        "for img_name in data.image_names:\n",
        "    img = plt.imread('/content/drive/My Drive/DLDatasets/CV101/datasets/emergency_classification/images/' + img_name)\n",
        "    X.append(img)\n",
        "    \n",
        "X=np.array(X)\n",
        "\n",
        "# create target\n",
        "y = data.emergency_or_not.values"
      ],
      "execution_count": 0,
      "outputs": []
    },
    {
      "metadata": {
        "id": "YtcwE3xBTtID",
        "colab_type": "code",
        "outputId": "0f96b4c4-f0a8-4f09-e1c4-4b25e9e62bca",
        "colab": {
          "base_uri": "https://localhost:8080/",
          "height": 34
        }
      },
      "cell_type": "code",
      "source": [
        "X.shape"
      ],
      "execution_count": 0,
      "outputs": [
        {
          "output_type": "execute_result",
          "data": {
            "text/plain": [
              "(2352, 224, 224, 3)"
            ]
          },
          "metadata": {
            "tags": []
          },
          "execution_count": 7
        }
      ]
    },
    {
      "metadata": {
        "id": "dn5eEj9RTtIH",
        "colab_type": "code",
        "colab": {}
      },
      "cell_type": "code",
      "source": [
        "X = X / X.max()"
      ],
      "execution_count": 0,
      "outputs": []
    },
    {
      "metadata": {
        "id": "3MF5At4UTtIL",
        "colab_type": "code",
        "colab": {}
      },
      "cell_type": "code",
      "source": [
        "X_train, X_valid, Y_train, Y_valid=train_test_split(X,y,test_size=0.3, random_state=42)"
      ],
      "execution_count": 0,
      "outputs": []
    },
    {
      "metadata": {
        "id": "FC9nktgLTtIP",
        "colab_type": "text"
      },
      "cell_type": "markdown",
      "source": [
        "## 3. Model Building"
      ]
    },
    {
      "metadata": {
        "id": "kwce7T1fTtIP",
        "colab_type": "code",
        "colab": {}
      },
      "cell_type": "code",
      "source": [
        "model = Sequential()\n",
        "    \n",
        "model.add(InputLayer(input_shape=(224, 224, 3)))\n",
        "\n",
        "model.add(Conv2D(25, (5, 5), activation='relu', strides=(1, 1), padding='valid'))\n",
        "model.add(Conv2D(50, (5, 5), activation='relu', strides=(1, 1), padding='valid'))\n",
        "\n",
        "model.add(Flatten())\n",
        "\n",
        "model.add(Dense(units=100, activation='sigmoid'))\n",
        "model.add(Dense(units=1, activation='sigmoid'))"
      ],
      "execution_count": 0,
      "outputs": []
    },
    {
      "metadata": {
        "scrolled": true,
        "id": "7MMPc494TtIS",
        "colab_type": "code",
        "outputId": "8fb5c41f-8840-40e2-8b18-8e0c20572362",
        "colab": {
          "base_uri": "https://localhost:8080/",
          "height": 306
        }
      },
      "cell_type": "code",
      "source": [
        "model.summary()"
      ],
      "execution_count": 0,
      "outputs": [
        {
          "output_type": "stream",
          "text": [
            "_________________________________________________________________\n",
            "Layer (type)                 Output Shape              Param #   \n",
            "=================================================================\n",
            "conv2d_1 (Conv2D)            (None, 220, 220, 25)      1900      \n",
            "_________________________________________________________________\n",
            "conv2d_2 (Conv2D)            (None, 216, 216, 50)      31300     \n",
            "_________________________________________________________________\n",
            "flatten_1 (Flatten)          (None, 2332800)           0         \n",
            "_________________________________________________________________\n",
            "dense_1 (Dense)              (None, 100)               233280100 \n",
            "_________________________________________________________________\n",
            "dense_2 (Dense)              (None, 1)                 101       \n",
            "=================================================================\n",
            "Total params: 233,313,401\n",
            "Trainable params: 233,313,401\n",
            "Non-trainable params: 0\n",
            "_________________________________________________________________\n"
          ],
          "name": "stdout"
        }
      ]
    },
    {
      "metadata": {
        "id": "KnxDdFeFTtIX",
        "colab_type": "code",
        "colab": {}
      },
      "cell_type": "code",
      "source": [
        "model.compile(loss='binary_crossentropy', optimizer=\"sgd\", metrics=['accuracy'])"
      ],
      "execution_count": 0,
      "outputs": []
    },
    {
      "metadata": {
        "scrolled": false,
        "id": "VQchjvZ0TtIa",
        "colab_type": "code",
        "outputId": "4e582934-4476-4f5e-c41d-0e2560e09f15",
        "colab": {
          "base_uri": "https://localhost:8080/",
          "height": 411
        }
      },
      "cell_type": "code",
      "source": [
        "model.fit(X_train, Y_train, epochs=10, validation_data=(X_valid,Y_valid))"
      ],
      "execution_count": 0,
      "outputs": [
        {
          "output_type": "stream",
          "text": [
            "Train on 1646 samples, validate on 706 samples\n",
            "Epoch 1/10\n",
            "1646/1646 [==============================] - 46s 28ms/step - loss: 0.6966 - acc: 0.5778 - val_loss: 0.6103 - val_acc: 0.6785\n",
            "Epoch 2/10\n",
            "1646/1646 [==============================] - 37s 23ms/step - loss: 0.5943 - acc: 0.6944 - val_loss: 0.5946 - val_acc: 0.6572\n",
            "Epoch 3/10\n",
            "1646/1646 [==============================] - 37s 23ms/step - loss: 0.5564 - acc: 0.7284 - val_loss: 0.6015 - val_acc: 0.6969\n",
            "Epoch 4/10\n",
            "1646/1646 [==============================] - 37s 23ms/step - loss: 0.5184 - acc: 0.7558 - val_loss: 0.6559 - val_acc: 0.6062\n",
            "Epoch 5/10\n",
            "1646/1646 [==============================] - 37s 23ms/step - loss: 0.4865 - acc: 0.7752 - val_loss: 0.5275 - val_acc: 0.7351\n",
            "Epoch 6/10\n",
            "1646/1646 [==============================] - 37s 23ms/step - loss: 0.4529 - acc: 0.8007 - val_loss: 0.4958 - val_acc: 0.7450\n",
            "Epoch 7/10\n",
            "1646/1646 [==============================] - 37s 23ms/step - loss: 0.4127 - acc: 0.8165 - val_loss: 0.4823 - val_acc: 0.7635\n",
            "Epoch 8/10\n",
            "1646/1646 [==============================] - 37s 23ms/step - loss: 0.3992 - acc: 0.8329 - val_loss: 0.4816 - val_acc: 0.7535\n",
            "Epoch 9/10\n",
            "1646/1646 [==============================] - 37s 23ms/step - loss: 0.3514 - acc: 0.8651 - val_loss: 0.4492 - val_acc: 0.7790\n",
            "Epoch 10/10\n",
            "1646/1646 [==============================] - 37s 23ms/step - loss: 0.3328 - acc: 0.8633 - val_loss: 0.5202 - val_acc: 0.7479\n"
          ],
          "name": "stdout"
        },
        {
          "output_type": "execute_result",
          "data": {
            "text/plain": [
              "<keras.callbacks.History at 0x7fd833875080>"
            ]
          },
          "metadata": {
            "tags": []
          },
          "execution_count": 13
        }
      ]
    },
    {
      "metadata": {
        "id": "hHNIueFyTtId",
        "colab_type": "code",
        "colab": {}
      },
      "cell_type": "code",
      "source": [
        "model = Sequential()\n",
        "    \n",
        "model.add(InputLayer(input_shape=(224, 224, 3)))\n",
        "\n",
        "model.add(Conv2D(25, (5, 5), activation='relu', strides=(1, 1), padding='valid'))\n",
        "model.add(Conv2D(50, (5, 5), activation='relu', strides=(1, 1), padding='valid'))\n",
        "model.add(MaxPool2D(pool_size=(4, 4), padding='valid'))\n",
        "model.add(Flatten())\n",
        "\n",
        "model.add(Dense(units=100, activation='sigmoid'))\n",
        "model.add(Dense(units=1, activation='sigmoid'))\n",
        "\n",
        "model.compile(loss='binary_crossentropy', optimizer=\"sgd\", metrics=['accuracy'])"
      ],
      "execution_count": 0,
      "outputs": []
    },
    {
      "metadata": {
        "id": "iKNboglTTtIh",
        "colab_type": "code",
        "outputId": "aa519db9-be5b-47f1-c816-236bf278f176",
        "colab": {
          "base_uri": "https://localhost:8080/",
          "height": 340
        }
      },
      "cell_type": "code",
      "source": [
        "model.summary()"
      ],
      "execution_count": 0,
      "outputs": [
        {
          "output_type": "stream",
          "text": [
            "_________________________________________________________________\n",
            "Layer (type)                 Output Shape              Param #   \n",
            "=================================================================\n",
            "conv2d_3 (Conv2D)            (None, 220, 220, 25)      1900      \n",
            "_________________________________________________________________\n",
            "conv2d_4 (Conv2D)            (None, 216, 216, 50)      31300     \n",
            "_________________________________________________________________\n",
            "max_pooling2d_1 (MaxPooling2 (None, 54, 54, 50)        0         \n",
            "_________________________________________________________________\n",
            "flatten_2 (Flatten)          (None, 145800)            0         \n",
            "_________________________________________________________________\n",
            "dense_3 (Dense)              (None, 100)               14580100  \n",
            "_________________________________________________________________\n",
            "dense_4 (Dense)              (None, 1)                 101       \n",
            "=================================================================\n",
            "Total params: 14,613,401\n",
            "Trainable params: 14,613,401\n",
            "Non-trainable params: 0\n",
            "_________________________________________________________________\n"
          ],
          "name": "stdout"
        }
      ]
    },
    {
      "metadata": {
        "scrolled": false,
        "id": "93IOdfv0TtIl",
        "colab_type": "code",
        "outputId": "aa42f72e-a98c-4573-fe0b-89990974b01a",
        "colab": {
          "base_uri": "https://localhost:8080/",
          "height": 411
        }
      },
      "cell_type": "code",
      "source": [
        "model.fit(X_train, Y_train, epochs=10,validation_data=(X_valid,Y_valid))"
      ],
      "execution_count": 0,
      "outputs": [
        {
          "output_type": "stream",
          "text": [
            "Train on 1646 samples, validate on 706 samples\n",
            "Epoch 1/10\n",
            "1646/1646 [==============================] - 14s 8ms/step - loss: 0.6773 - acc: 0.5741 - val_loss: 0.6757 - val_acc: 0.5623\n",
            "Epoch 2/10\n",
            "1646/1646 [==============================] - 13s 8ms/step - loss: 0.6437 - acc: 0.6434 - val_loss: 0.6177 - val_acc: 0.6841\n",
            "Epoch 3/10\n",
            "1646/1646 [==============================] - 13s 8ms/step - loss: 0.6086 - acc: 0.6859 - val_loss: 0.6817 - val_acc: 0.5892\n",
            "Epoch 4/10\n",
            "1646/1646 [==============================] - 13s 8ms/step - loss: 0.5719 - acc: 0.7102 - val_loss: 0.8707 - val_acc: 0.4518\n",
            "Epoch 5/10\n",
            "1646/1646 [==============================] - 13s 8ms/step - loss: 0.5594 - acc: 0.7181 - val_loss: 0.5450 - val_acc: 0.7153\n",
            "Epoch 6/10\n",
            "1646/1646 [==============================] - 13s 8ms/step - loss: 0.5344 - acc: 0.7479 - val_loss: 0.5303 - val_acc: 0.7238\n",
            "Epoch 7/10\n",
            "1646/1646 [==============================] - 13s 8ms/step - loss: 0.5065 - acc: 0.7655 - val_loss: 0.7898 - val_acc: 0.5907\n",
            "Epoch 8/10\n",
            "1646/1646 [==============================] - 13s 8ms/step - loss: 0.5113 - acc: 0.7637 - val_loss: 0.5188 - val_acc: 0.7280\n",
            "Epoch 9/10\n",
            "1646/1646 [==============================] - 13s 8ms/step - loss: 0.4740 - acc: 0.7910 - val_loss: 0.4947 - val_acc: 0.7521\n",
            "Epoch 10/10\n",
            "1646/1646 [==============================] - 13s 8ms/step - loss: 0.4680 - acc: 0.7837 - val_loss: 0.4896 - val_acc: 0.7649\n"
          ],
          "name": "stdout"
        },
        {
          "output_type": "execute_result",
          "data": {
            "text/plain": [
              "<keras.callbacks.History at 0x7fd83391b160>"
            ]
          },
          "metadata": {
            "tags": []
          },
          "execution_count": 16
        }
      ]
    },
    {
      "metadata": {
        "id": "RuZDQltkTtIt",
        "colab_type": "code",
        "colab": {}
      },
      "cell_type": "code",
      "source": [
        "# get predictions\n",
        "predictions = model.predict_classes(X_valid)[:, 0]\n",
        "prediction_probabilities = model.predict(X_valid)[:, 0]\n",
        "\n",
        "# pull out the original images from the data\n",
        "# which correspond to the validation data\n",
        "_, valid_vehicles, _, valid_y = train_test_split(data.image_names.values, y, test_size=0.3, random_state=seed)\n",
        "\n"
      ],
      "execution_count": 0,
      "outputs": []
    },
    {
      "metadata": {
        "id": "8p-Hb_t3pxTc",
        "colab_type": "code",
        "outputId": "e3b4aefc-94e5-4074-bd52-b863ea0ac00d",
        "colab": {
          "base_uri": "https://localhost:8080/",
          "height": 320
        }
      },
      "cell_type": "code",
      "source": [
        "# get a random index to plot image randomly\n",
        "index = rng.choice(range(len(valid_vehicles)))\n",
        "\n",
        "# get the corresponding image name and probability\n",
        "img_name = valid_vehicles[index]\n",
        "prob = (prediction_probabilities * 100).astype(int)[index]\n",
        "\n",
        "# read the image\n",
        "img = plt.imread('/content/drive/My Drive/DLDatasets/CV101/datasets/emergency_classification/images/' + img_name)\n",
        "\n",
        "# print probability and actual class\n",
        "print('There is', prob , '% chance that it is an emergency vehicle')\n",
        "print('Whereas actual class is ', valid_y[index])\n",
        "\n",
        "# plot image\n",
        "plt.imshow(img)"
      ],
      "execution_count": 0,
      "outputs": [
        {
          "output_type": "stream",
          "text": [
            "There is 44 % chance that it is an emergency vehicle\n",
            "Whereas actual class is  0\n"
          ],
          "name": "stdout"
        },
        {
          "output_type": "execute_result",
          "data": {
            "text/plain": [
              "<matplotlib.image.AxesImage at 0x7fd818fe0e48>"
            ]
          },
          "metadata": {
            "tags": []
          },
          "execution_count": 19
        },
        {
          "output_type": "display_data",
          "data": {
            "image/png": "[encoded data removed]",
            "text/plain": [
              "<matplotlib.figure.Figure at 0x7fd830121160>"
            ]
          },
          "metadata": {
            "tags": []
          }
        }
      ]
    },
    {
      "metadata": {
        "id": "Lso0oZYmTtIz",
        "colab_type": "code",
        "outputId": "a0a977d0-01ef-409f-b02e-09d2d9f5e4e4",
        "colab": {
          "base_uri": "https://localhost:8080/",
          "height": 320
        }
      },
      "cell_type": "code",
      "source": [
        "incorrect_indices = np.where(predictions != valid_y)[0]\n",
        "\n",
        "index = rng.choice(incorrect_indices)\n",
        "img_name = valid_vehicles[index]\n",
        "\n",
        "\n",
        "prob = (prediction_probabilities * 100).astype(int)[index]\n",
        "\n",
        "img = plt.imread('/content/drive/My Drive/DLDatasets/CV101/datasets/emergency_classification/images/' + img_name)\n",
        "\n",
        "print(prob , '% sure that it is emergency')\n",
        "print('Whereas actual class is ', valid_y[index])\n",
        "\n",
        "plt.imshow(img)"
      ],
      "execution_count": 0,
      "outputs": [
        {
          "output_type": "stream",
          "text": [
            "47 % sure that it is emergency\n",
            "Whereas actual class is  1\n"
          ],
          "name": "stdout"
        },
        {
          "output_type": "execute_result",
          "data": {
            "text/plain": [
              "<matplotlib.image.AxesImage at 0x7fd818ec1cc0>"
            ]
          },
          "metadata": {
            "tags": []
          },
          "execution_count": 21
        },
        {
          "output_type": "display_data",
          "data": {
            "image/png": "[encoded data removed]",
            "text/plain": [
              "<matplotlib.figure.Figure at 0x7fd818f90358>"
            ]
          },
          "metadata": {
            "tags": []
          }
        }
      ]
    },
    {
      "metadata": {
        "id": "et9NzB8JTtI6",
        "colab_type": "text"
      },
      "cell_type": "markdown",
      "source": [
        "## 4. Hyperparameter Tuning"
      ]
    },
    {
      "metadata": {
        "id": "4LSg9dM4TtI6",
        "colab_type": "code",
        "colab": {}
      },
      "cell_type": "code",
      "source": [
        "# change activation function of hidden layer\n",
        "# increase hidden neurons\n",
        "# increase hidden layers\n",
        "# increase number of epochs\n",
        "# change optimizer\n",
        "\n",
        "# increase number of convolutional layers\n",
        "# increase number of pooling layers\n",
        "# increase number of convolutional filters\n",
        "# change size of conv\n",
        "# change size of pooling\n",
        "# change padding technique\n",
        "# change stride"
      ],
      "execution_count": 0,
      "outputs": []
    },
    {
      "metadata": {
        "id": "cythmplNTtI-",
        "colab_type": "code",
        "colab": {}
      },
      "cell_type": "code",
      "source": [
        "# increase number of convolutional and pooling layers\n",
        "\n",
        "model = Sequential()\n",
        "    \n",
        "model.add(InputLayer(input_shape=(224, 224, 3)))\n",
        "\n",
        "model.add(Conv2D(25, (5, 5), activation='relu', strides=(1, 1), padding='valid'))\n",
        "model.add(Conv2D(50, (5, 5), activation='relu', strides=(1, 1), padding='valid'))\n",
        "model.add(MaxPool2D(pool_size=(4, 4), padding='valid'))\n",
        "\n",
        "model.add(Conv2D(100, (5, 5), activation='relu', strides=(1, 1), padding='valid'))\n",
        "model.add(MaxPool2D(pool_size=(4, 4), padding='valid'))\n",
        "\n",
        "model.add(Flatten())\n",
        "\n",
        "model.add(Dense(units=100, activation='sigmoid'))\n",
        "model.add(Dense(units=1, activation='sigmoid'))\n",
        "\n",
        "model.compile(loss='binary_crossentropy', optimizer=\"sgd\", metrics=['accuracy'])"
      ],
      "execution_count": 0,
      "outputs": []
    },
    {
      "metadata": {
        "id": "8QxQYBmzTtJA",
        "colab_type": "code",
        "outputId": "da509e81-6471-498a-c670-9a7fa2367fef",
        "colab": {
          "base_uri": "https://localhost:8080/",
          "height": 408
        }
      },
      "cell_type": "code",
      "source": [
        "model.summary()"
      ],
      "execution_count": 0,
      "outputs": [
        {
          "output_type": "stream",
          "text": [
            "_________________________________________________________________\n",
            "Layer (type)                 Output Shape              Param #   \n",
            "=================================================================\n",
            "conv2d_5 (Conv2D)            (None, 220, 220, 25)      1900      \n",
            "_________________________________________________________________\n",
            "conv2d_6 (Conv2D)            (None, 216, 216, 50)      31300     \n",
            "_________________________________________________________________\n",
            "max_pooling2d_2 (MaxPooling2 (None, 54, 54, 50)        0         \n",
            "_________________________________________________________________\n",
            "conv2d_7 (Conv2D)            (None, 50, 50, 100)       125100    \n",
            "_________________________________________________________________\n",
            "max_pooling2d_3 (MaxPooling2 (None, 12, 12, 100)       0         \n",
            "_________________________________________________________________\n",
            "flatten_3 (Flatten)          (None, 14400)             0         \n",
            "_________________________________________________________________\n",
            "dense_5 (Dense)              (None, 100)               1440100   \n",
            "_________________________________________________________________\n",
            "dense_6 (Dense)              (None, 1)                 101       \n",
            "=================================================================\n",
            "Total params: 1,598,501\n",
            "Trainable params: 1,598,501\n",
            "Non-trainable params: 0\n",
            "_________________________________________________________________\n"
          ],
          "name": "stdout"
        }
      ]
    },
    {
      "metadata": {
        "scrolled": false,
        "id": "A0YFb027TtJF",
        "colab_type": "code",
        "outputId": "d030c156-4247-4906-f284-c32da1c0bbd3",
        "colab": {
          "base_uri": "https://localhost:8080/",
          "height": 411
        }
      },
      "cell_type": "code",
      "source": [
        "model.fit(X_train, Y_train, epochs=10,validation_data=(X_valid,Y_valid))"
      ],
      "execution_count": 0,
      "outputs": [
        {
          "output_type": "stream",
          "text": [
            "Train on 1646 samples, validate on 706 samples\n",
            "Epoch 1/10\n",
            "1646/1646 [==============================] - 15s 9ms/step - loss: 0.6780 - acc: 0.5863 - val_loss: 0.6853 - val_acc: 0.5609\n",
            "Epoch 2/10\n",
            "1646/1646 [==============================] - 14s 8ms/step - loss: 0.6744 - acc: 0.5863 - val_loss: 0.6794 - val_acc: 0.5609\n",
            "Epoch 3/10\n",
            "1646/1646 [==============================] - 14s 8ms/step - loss: 0.6700 - acc: 0.5863 - val_loss: 0.6752 - val_acc: 0.5609\n",
            "Epoch 4/10\n",
            "1646/1646 [==============================] - 14s 9ms/step - loss: 0.6654 - acc: 0.5863 - val_loss: 0.6672 - val_acc: 0.5609\n",
            "Epoch 5/10\n",
            "1646/1646 [==============================] - 14s 9ms/step - loss: 0.6572 - acc: 0.5893 - val_loss: 0.6588 - val_acc: 0.5652\n",
            "Epoch 6/10\n",
            "1646/1646 [==============================] - 14s 8ms/step - loss: 0.6458 - acc: 0.6124 - val_loss: 0.6472 - val_acc: 0.5722\n",
            "Epoch 7/10\n",
            "1646/1646 [==============================] - 14s 9ms/step - loss: 0.6252 - acc: 0.6537 - val_loss: 0.6277 - val_acc: 0.6105\n",
            "Epoch 8/10\n",
            "1646/1646 [==============================] - 14s 9ms/step - loss: 0.5991 - acc: 0.6871 - val_loss: 0.5958 - val_acc: 0.7380\n",
            "Epoch 9/10\n",
            "1646/1646 [==============================] - 14s 9ms/step - loss: 0.5737 - acc: 0.7114 - val_loss: 0.5937 - val_acc: 0.6629\n",
            "Epoch 10/10\n",
            "1646/1646 [==============================] - 14s 9ms/step - loss: 0.5505 - acc: 0.7303 - val_loss: 0.5771 - val_acc: 0.6856\n"
          ],
          "name": "stdout"
        },
        {
          "output_type": "execute_result",
          "data": {
            "text/plain": [
              "<keras.callbacks.History at 0x7fd818fec358>"
            ]
          },
          "metadata": {
            "tags": []
          },
          "execution_count": 25
        }
      ]
    },
    {
      "metadata": {
        "id": "xoRbZ0nWTtJL",
        "colab_type": "code",
        "colab": {}
      },
      "cell_type": "code",
      "source": [
        "# increase number of convolutional filters\n",
        "\n",
        "model = Sequential()\n",
        "    \n",
        "model.add(InputLayer(input_shape=(224, 224, 3)))\n",
        "\n",
        "model.add(Conv2D(125, (5, 5), activation='relu', strides=(1, 1), padding='valid'))\n",
        "model.add(Conv2D(150, (5, 5), activation='relu', strides=(1, 1), padding='valid'))\n",
        "model.add(MaxPool2D(pool_size=(4, 4), padding='valid'))\n",
        "\n",
        "model.add(Conv2D(200, (5, 5), activation='relu', strides=(1, 1), padding='valid'))\n",
        "model.add(MaxPool2D(pool_size=(4, 4), padding='valid'))\n",
        "\n",
        "model.add(Flatten())\n",
        "\n",
        "model.add(Dense(units=100, activation='sigmoid'))\n",
        "model.add(Dense(units=1, activation='sigmoid'))\n",
        "\n",
        "model.compile(loss='binary_crossentropy', optimizer=\"sgd\", metrics=['accuracy'])"
      ],
      "execution_count": 0,
      "outputs": []
    },
    {
      "metadata": {
        "id": "YYyaIyteTtJR",
        "colab_type": "code",
        "outputId": "b29f2f80-2fd6-4f17-e623-f712e0d43525",
        "colab": {
          "base_uri": "https://localhost:8080/",
          "height": 411
        }
      },
      "cell_type": "code",
      "source": [
        "model.fit(X_train, Y_train, epochs=10,validation_data=(X_valid,Y_valid))"
      ],
      "execution_count": 0,
      "outputs": [
        {
          "output_type": "stream",
          "text": [
            "Train on 1646 samples, validate on 706 samples\n",
            "Epoch 1/10\n",
            "1646/1646 [==============================] - 123s 75ms/step - loss: 0.6782 - acc: 0.5863 - val_loss: 0.6843 - val_acc: 0.5609\n",
            "Epoch 2/10\n",
            "1646/1646 [==============================] - 107s 65ms/step - loss: 0.6755 - acc: 0.5863 - val_loss: 0.6807 - val_acc: 0.5609\n",
            "Epoch 3/10\n",
            "1646/1646 [==============================] - 107s 65ms/step - loss: 0.6727 - acc: 0.5863 - val_loss: 0.6782 - val_acc: 0.5609\n",
            "Epoch 4/10\n",
            "1646/1646 [==============================] - 107s 65ms/step - loss: 0.6690 - acc: 0.5863 - val_loss: 0.6742 - val_acc: 0.5609\n",
            "Epoch 5/10\n",
            "1646/1646 [==============================] - 107s 65ms/step - loss: 0.6639 - acc: 0.5863 - val_loss: 0.6714 - val_acc: 0.5609\n",
            "Epoch 6/10\n",
            "1646/1646 [==============================] - 107s 65ms/step - loss: 0.6574 - acc: 0.5887 - val_loss: 0.6568 - val_acc: 0.5637\n",
            "Epoch 7/10\n",
            "1646/1646 [==============================] - 107s 65ms/step - loss: 0.6453 - acc: 0.6288 - val_loss: 0.6538 - val_acc: 0.5623\n",
            "Epoch 8/10\n",
            "1646/1646 [==============================] - 107s 65ms/step - loss: 0.6272 - acc: 0.6513 - val_loss: 0.6187 - val_acc: 0.6799\n",
            "Epoch 9/10\n",
            "1646/1646 [==============================] - 107s 65ms/step - loss: 0.6034 - acc: 0.7041 - val_loss: 0.5981 - val_acc: 0.7195\n",
            "Epoch 10/10\n",
            "1646/1646 [==============================] - 107s 65ms/step - loss: 0.5837 - acc: 0.7060 - val_loss: 0.5721 - val_acc: 0.6912\n"
          ],
          "name": "stdout"
        },
        {
          "output_type": "execute_result",
          "data": {
            "text/plain": [
              "<keras.callbacks.History at 0x7fd8182fac88>"
            ]
          },
          "metadata": {
            "tags": []
          },
          "execution_count": 27
        }
      ]
    },
    {
      "metadata": {
        "id": "Ze394OJpTtJW",
        "colab_type": "code",
        "colab": {}
      },
      "cell_type": "code",
      "source": [
        "# change filter size for convolutional layer and pooling size for pooling layer\n",
        "\n",
        "from keras.layers import GlobalMaxPool2D\n",
        "\n",
        "model = Sequential()\n",
        "    \n",
        "model.add(InputLayer(input_shape=(224, 224, 3)))\n",
        "\n",
        "model.add(Conv2D(125, (5, 5), activation='relu', strides=(1, 1), padding='valid'))\n",
        "model.add(Conv2D(150, (5, 5), activation='relu', strides=(1, 1), padding='valid'))\n",
        "model.add(MaxPool2D(pool_size=(8, 8), padding='valid'))\n",
        "\n",
        "model.add(Conv2D(200, (3, 3), activation='relu', strides=(1, 1), padding='valid'))\n",
        "model.add(Conv2D(225, (3, 3), activation='relu', strides=(1, 1), padding='valid'))\n",
        "\n",
        "model.add(GlobalMaxPool2D())\n",
        "\n",
        "model.add(Dense(units=100, activation='sigmoid'))\n",
        "model.add(Dense(units=1, activation='sigmoid'))\n",
        "\n",
        "model.compile(loss='binary_crossentropy', optimizer=\"sgd\", metrics=['accuracy'])"
      ],
      "execution_count": 0,
      "outputs": []
    },
    {
      "metadata": {
        "id": "hI3plG9tTtJZ",
        "colab_type": "code",
        "outputId": "d4fcb2bc-b408-47a6-ec28-d6f2af8910b8",
        "colab": {
          "base_uri": "https://localhost:8080/",
          "height": 408
        }
      },
      "cell_type": "code",
      "source": [
        "model.summary()"
      ],
      "execution_count": 0,
      "outputs": [
        {
          "output_type": "stream",
          "text": [
            "_________________________________________________________________\n",
            "Layer (type)                 Output Shape              Param #   \n",
            "=================================================================\n",
            "conv2d_11 (Conv2D)           (None, 220, 220, 125)     9500      \n",
            "_________________________________________________________________\n",
            "conv2d_12 (Conv2D)           (None, 216, 216, 150)     468900    \n",
            "_________________________________________________________________\n",
            "max_pooling2d_6 (MaxPooling2 (None, 27, 27, 150)       0         \n",
            "_________________________________________________________________\n",
            "conv2d_13 (Conv2D)           (None, 25, 25, 200)       270200    \n",
            "_________________________________________________________________\n",
            "conv2d_14 (Conv2D)           (None, 23, 23, 225)       405225    \n",
            "_________________________________________________________________\n",
            "global_max_pooling2d_1 (Glob (None, 225)               0         \n",
            "_________________________________________________________________\n",
            "dense_9 (Dense)              (None, 100)               22600     \n",
            "_________________________________________________________________\n",
            "dense_10 (Dense)             (None, 1)                 101       \n",
            "=================================================================\n",
            "Total params: 1,176,526\n",
            "Trainable params: 1,176,526\n",
            "Non-trainable params: 0\n",
            "_________________________________________________________________\n"
          ],
          "name": "stdout"
        }
      ]
    },
    {
      "metadata": {
        "id": "9weJlLHOTtJc",
        "colab_type": "code",
        "outputId": "7337647b-fc32-4a59-f68b-68458a90bdf8",
        "colab": {
          "base_uri": "https://localhost:8080/",
          "height": 411
        }
      },
      "cell_type": "code",
      "source": [
        "model.fit(X_train, Y_train, epochs=10,validation_data=(X_valid,Y_valid))"
      ],
      "execution_count": 0,
      "outputs": [
        {
          "output_type": "stream",
          "text": [
            "Train on 1646 samples, validate on 706 samples\n",
            "Epoch 1/10\n",
            "1646/1646 [==============================] - 105s 64ms/step - loss: 0.6796 - acc: 0.5863 - val_loss: 0.6873 - val_acc: 0.5609\n",
            "Epoch 2/10\n",
            "1646/1646 [==============================] - 104s 63ms/step - loss: 0.6788 - acc: 0.5863 - val_loss: 0.6875 - val_acc: 0.5609\n",
            "Epoch 3/10\n",
            "1646/1646 [==============================] - 104s 63ms/step - loss: 0.6778 - acc: 0.5863 - val_loss: 0.6850 - val_acc: 0.5609\n",
            "Epoch 4/10\n",
            "1646/1646 [==============================] - 104s 63ms/step - loss: 0.6784 - acc: 0.5863 - val_loss: 0.6855 - val_acc: 0.5609\n",
            "Epoch 5/10\n",
            "1646/1646 [==============================] - 104s 63ms/step - loss: 0.6777 - acc: 0.5863 - val_loss: 0.6853 - val_acc: 0.5609\n",
            "Epoch 6/10\n",
            "1646/1646 [==============================] - 104s 63ms/step - loss: 0.6771 - acc: 0.5863 - val_loss: 0.6871 - val_acc: 0.5609\n",
            "Epoch 7/10\n",
            "1646/1646 [==============================] - 104s 63ms/step - loss: 0.6770 - acc: 0.5863 - val_loss: 0.6868 - val_acc: 0.5609\n",
            "Epoch 8/10\n",
            "1646/1646 [==============================] - 104s 63ms/step - loss: 0.6775 - acc: 0.5863 - val_loss: 0.6854 - val_acc: 0.5609\n",
            "Epoch 9/10\n",
            "1646/1646 [==============================] - 104s 63ms/step - loss: 0.6768 - acc: 0.5863 - val_loss: 0.6850 - val_acc: 0.5609\n",
            "Epoch 10/10\n",
            "1646/1646 [==============================] - 104s 63ms/step - loss: 0.6764 - acc: 0.5863 - val_loss: 0.6837 - val_acc: 0.5609\n"
          ],
          "name": "stdout"
        },
        {
          "output_type": "execute_result",
          "data": {
            "text/plain": [
              "<keras.callbacks.History at 0x7fd817f8f9b0>"
            ]
          },
          "metadata": {
            "tags": []
          },
          "execution_count": 30
        }
      ]
    },
    {
      "metadata": {
        "id": "QMPK--1DTtJg",
        "colab_type": "code",
        "colab": {}
      },
      "cell_type": "code",
      "source": [
        "# change padding technique\n",
        "\n",
        "model = Sequential()\n",
        "    \n",
        "model.add(InputLayer(input_shape=(224, 224, 3)))\n",
        "\n",
        "model.add(Conv2D(125, (5, 5), activation='relu', strides=(1, 1), padding='same'))\n",
        "model.add(Conv2D(150, (5, 5), activation='relu', strides=(1, 1), padding='same'))\n",
        "model.add(MaxPool2D(pool_size=(8, 8), padding='valid'))\n",
        "\n",
        "model.add(Conv2D(200, (3, 3), activation='relu', strides=(1, 1), padding='same'))\n",
        "model.add(Conv2D(225, (3, 3), activation='relu', strides=(1, 1), padding='same'))\n",
        "\n",
        "model.add(GlobalMaxPool2D())\n",
        "\n",
        "model.add(Dense(units=100, activation='relu'))\n",
        "model.add(Dense(units=1, activation='sigmoid'))\n",
        "\n",
        "model.compile(loss='binary_crossentropy', optimizer=\"adam\", metrics=['accuracy'])"
      ],
      "execution_count": 0,
      "outputs": []
    },
    {
      "metadata": {
        "id": "J-ABi6DnTtJi",
        "colab_type": "code",
        "outputId": "ea067d9e-03f1-4084-aa3a-dd923609a11e",
        "colab": {
          "base_uri": "https://localhost:8080/",
          "height": 408
        }
      },
      "cell_type": "code",
      "source": [
        "model.summary()"
      ],
      "execution_count": 0,
      "outputs": [
        {
          "output_type": "stream",
          "text": [
            "_________________________________________________________________\n",
            "Layer (type)                 Output Shape              Param #   \n",
            "=================================================================\n",
            "conv2d_15 (Conv2D)           (None, 224, 224, 125)     9500      \n",
            "_________________________________________________________________\n",
            "conv2d_16 (Conv2D)           (None, 224, 224, 150)     468900    \n",
            "_________________________________________________________________\n",
            "max_pooling2d_7 (MaxPooling2 (None, 28, 28, 150)       0         \n",
            "_________________________________________________________________\n",
            "conv2d_17 (Conv2D)           (None, 28, 28, 200)       270200    \n",
            "_________________________________________________________________\n",
            "conv2d_18 (Conv2D)           (None, 28, 28, 225)       405225    \n",
            "_________________________________________________________________\n",
            "global_max_pooling2d_2 (Glob (None, 225)               0         \n",
            "_________________________________________________________________\n",
            "dense_11 (Dense)             (None, 100)               22600     \n",
            "_________________________________________________________________\n",
            "dense_12 (Dense)             (None, 1)                 101       \n",
            "=================================================================\n",
            "Total params: 1,176,526\n",
            "Trainable params: 1,176,526\n",
            "Non-trainable params: 0\n",
            "_________________________________________________________________\n"
          ],
          "name": "stdout"
        }
      ]
    },
    {
      "metadata": {
        "id": "R8gTL0phTtJp",
        "colab_type": "code",
        "outputId": "c573ee99-ad9d-4011-b3ba-a7b21d979951",
        "colab": {
          "base_uri": "https://localhost:8080/",
          "height": 411
        }
      },
      "cell_type": "code",
      "source": [
        "model.fit(X_train, Y_train, epochs=10,validation_data=(X_valid,Y_valid))"
      ],
      "execution_count": 0,
      "outputs": [
        {
          "output_type": "stream",
          "text": [
            "Train on 1646 samples, validate on 706 samples\n",
            "Epoch 1/10\n",
            "1646/1646 [==============================] - 122s 74ms/step - loss: 0.6910 - acc: 0.5869 - val_loss: 0.6851 - val_acc: 0.5609\n",
            "Epoch 2/10\n",
            "1646/1646 [==============================] - 106s 64ms/step - loss: 0.6825 - acc: 0.5772 - val_loss: 0.6837 - val_acc: 0.5609\n",
            "Epoch 3/10\n",
            "1646/1646 [==============================] - 106s 64ms/step - loss: 0.6802 - acc: 0.5863 - val_loss: 0.6725 - val_acc: 0.5609\n",
            "Epoch 4/10\n",
            "1646/1646 [==============================] - 105s 64ms/step - loss: 0.6731 - acc: 0.5784 - val_loss: 0.6669 - val_acc: 0.5609\n",
            "Epoch 5/10\n",
            "1646/1646 [==============================] - 106s 64ms/step - loss: 0.6610 - acc: 0.5990 - val_loss: 0.6622 - val_acc: 0.5609\n",
            "Epoch 6/10\n",
            "1646/1646 [==============================] - 105s 64ms/step - loss: 0.6145 - acc: 0.6567 - val_loss: 0.5597 - val_acc: 0.7167\n",
            "Epoch 7/10\n",
            "1646/1646 [==============================] - 106s 64ms/step - loss: 0.5647 - acc: 0.7236 - val_loss: 0.5667 - val_acc: 0.7422\n",
            "Epoch 8/10\n",
            "1646/1646 [==============================] - 105s 64ms/step - loss: 0.5084 - acc: 0.7570 - val_loss: 0.4909 - val_acc: 0.7450\n",
            "Epoch 9/10\n",
            "1646/1646 [==============================] - 105s 64ms/step - loss: 0.4587 - acc: 0.7910 - val_loss: 0.4533 - val_acc: 0.7918\n",
            "Epoch 10/10\n",
            "1646/1646 [==============================] - 106s 64ms/step - loss: 0.4190 - acc: 0.8147 - val_loss: 0.4855 - val_acc: 0.7861\n"
          ],
          "name": "stdout"
        },
        {
          "output_type": "execute_result",
          "data": {
            "text/plain": [
              "<keras.callbacks.History at 0x7fd817babb38>"
            ]
          },
          "metadata": {
            "tags": []
          },
          "execution_count": 33
        }
      ]
    },
    {
      "metadata": {
        "id": "_-tj4717TtJs",
        "colab_type": "code",
        "colab": {}
      },
      "cell_type": "code",
      "source": [
        "# change stride\n",
        "\n",
        "model = Sequential()\n",
        "    \n",
        "model.add(InputLayer(input_shape=(224, 224, 3)))\n",
        "\n",
        "model.add(Conv2D(125, (5, 5), activation='relu', strides=(2, 2), padding='same'))\n",
        "model.add(Conv2D(150, (5, 5), activation='relu', strides=(2, 2), padding='same'))\n",
        "model.add(MaxPool2D(pool_size=(8, 8), padding='valid'))\n",
        "\n",
        "model.add(Conv2D(200, (3, 3), activation='relu', strides=(2, 2), padding='same'))\n",
        "model.add(Conv2D(225, (3, 3), activation='relu', strides=(2, 2), padding='same'))\n",
        "\n",
        "model.add(GlobalMaxPool2D())\n",
        "\n",
        "model.add(Dense(units=100, activation='sigmoid'))\n",
        "model.add(Dense(units=1, activation='sigmoid'))\n",
        "\n",
        "model.compile(loss='binary_crossentropy', optimizer=\"adam\", metrics=['accuracy'])"
      ],
      "execution_count": 0,
      "outputs": []
    },
    {
      "metadata": {
        "id": "Yp5vwDkWTtJu",
        "colab_type": "code",
        "outputId": "3802ea04-c1a0-4b37-870d-94c9294b9b87",
        "colab": {
          "base_uri": "https://localhost:8080/",
          "height": 408
        }
      },
      "cell_type": "code",
      "source": [
        "model.summary()"
      ],
      "execution_count": 0,
      "outputs": [
        {
          "output_type": "stream",
          "text": [
            "_________________________________________________________________\n",
            "Layer (type)                 Output Shape              Param #   \n",
            "=================================================================\n",
            "conv2d_19 (Conv2D)           (None, 112, 112, 125)     9500      \n",
            "_________________________________________________________________\n",
            "conv2d_20 (Conv2D)           (None, 56, 56, 150)       468900    \n",
            "_________________________________________________________________\n",
            "max_pooling2d_8 (MaxPooling2 (None, 7, 7, 150)         0         \n",
            "_________________________________________________________________\n",
            "conv2d_21 (Conv2D)           (None, 4, 4, 200)         270200    \n",
            "_________________________________________________________________\n",
            "conv2d_22 (Conv2D)           (None, 2, 2, 225)         405225    \n",
            "_________________________________________________________________\n",
            "global_max_pooling2d_3 (Glob (None, 225)               0         \n",
            "_________________________________________________________________\n",
            "dense_13 (Dense)             (None, 100)               22600     \n",
            "_________________________________________________________________\n",
            "dense_14 (Dense)             (None, 1)                 101       \n",
            "=================================================================\n",
            "Total params: 1,176,526\n",
            "Trainable params: 1,176,526\n",
            "Non-trainable params: 0\n",
            "_________________________________________________________________\n"
          ],
          "name": "stdout"
        }
      ]
    },
    {
      "metadata": {
        "id": "FtO-kkSETtJx",
        "colab_type": "code",
        "outputId": "451faecc-c38e-4378-c0d7-ce17ebea28b3",
        "colab": {
          "base_uri": "https://localhost:8080/",
          "height": 581
        }
      },
      "cell_type": "code",
      "source": [
        "model.fit(X_train, Y_train, epochs=15,validation_data=(X_valid,Y_valid))"
      ],
      "execution_count": 0,
      "outputs": [
        {
          "output_type": "stream",
          "text": [
            "Train on 1646 samples, validate on 706 samples\n",
            "Epoch 1/15\n",
            "1646/1646 [==============================] - 19s 12ms/step - loss: 0.5764 - acc: 0.6853 - val_loss: 0.4962 - val_acc: 0.7691\n",
            "Epoch 2/15\n",
            "1646/1646 [==============================] - 17s 10ms/step - loss: 0.4748 - acc: 0.7825 - val_loss: 0.4754 - val_acc: 0.7847\n",
            "Epoch 3/15\n",
            "1646/1646 [==============================] - 17s 10ms/step - loss: 0.4176 - acc: 0.8019 - val_loss: 0.4436 - val_acc: 0.7805\n",
            "Epoch 4/15\n",
            "1646/1646 [==============================] - 17s 10ms/step - loss: 0.3571 - acc: 0.8433 - val_loss: 0.4330 - val_acc: 0.7960\n",
            "Epoch 5/15\n",
            "1646/1646 [==============================] - 17s 10ms/step - loss: 0.3292 - acc: 0.8542 - val_loss: 0.4656 - val_acc: 0.8059\n",
            "Epoch 6/15\n",
            "1646/1646 [==============================] - 17s 10ms/step - loss: 0.2755 - acc: 0.8815 - val_loss: 0.4353 - val_acc: 0.8187\n",
            "Epoch 7/15\n",
            "1646/1646 [==============================] - 17s 10ms/step - loss: 0.2016 - acc: 0.9301 - val_loss: 0.4858 - val_acc: 0.8201\n",
            "Epoch 8/15\n",
            "1646/1646 [==============================] - 17s 10ms/step - loss: 0.1419 - acc: 0.9502 - val_loss: 0.5275 - val_acc: 0.8045\n",
            "Epoch 9/15\n",
            "1646/1646 [==============================] - 17s 10ms/step - loss: 0.1030 - acc: 0.9605 - val_loss: 0.5516 - val_acc: 0.8102\n",
            "Epoch 10/15\n",
            "1646/1646 [==============================] - 17s 10ms/step - loss: 0.0958 - acc: 0.9690 - val_loss: 0.5157 - val_acc: 0.8286\n",
            "Epoch 11/15\n",
            "1646/1646 [==============================] - 17s 10ms/step - loss: 0.0816 - acc: 0.9727 - val_loss: 0.7246 - val_acc: 0.7989\n",
            "Epoch 12/15\n",
            "1646/1646 [==============================] - 17s 10ms/step - loss: 0.0857 - acc: 0.9666 - val_loss: 0.5944 - val_acc: 0.8229\n",
            "Epoch 13/15\n",
            "1646/1646 [==============================] - 17s 10ms/step - loss: 0.0427 - acc: 0.9866 - val_loss: 0.6406 - val_acc: 0.8314\n",
            "Epoch 14/15\n",
            "1646/1646 [==============================] - 17s 10ms/step - loss: 0.0282 - acc: 0.9903 - val_loss: 0.7504 - val_acc: 0.8074\n",
            "Epoch 15/15\n",
            "1646/1646 [==============================] - 17s 10ms/step - loss: 0.0231 - acc: 0.9945 - val_loss: 0.6932 - val_acc: 0.8258\n"
          ],
          "name": "stdout"
        },
        {
          "output_type": "execute_result",
          "data": {
            "text/plain": [
              "<keras.callbacks.History at 0x7fd81747a198>"
            ]
          },
          "metadata": {
            "tags": []
          },
          "execution_count": 36
        }
      ]
    },
    {
      "metadata": {
        "collapsed": true,
        "id": "AVkoTs_DTtJz",
        "colab_type": "text"
      },
      "cell_type": "markdown",
      "source": [
        "![original](https://github.com/chellabeatrixkiddo/CV101/blob/master/notebooks/images/original_vgg_model.png?raw=1)"
      ]
    },
    {
      "metadata": {
        "id": "7rHtjAD6TtJ0",
        "colab_type": "code",
        "colab": {}
      },
      "cell_type": "code",
      "source": [
        "# VGG equivalent\n",
        "\n",
        "model = Sequential()\n",
        "model.add(InputLayer(input_shape=(224,224,3)))\n",
        "model.add(Conv2D(filters = 64, kernel_size = (3,3), activation='relu', padding='same'))\n",
        "model.add(Conv2D(filters = 64, kernel_size = (3,3), activation='relu', padding='same'))\n",
        "model.add(MaxPool2D(pool_size=(2,2)))\n",
        "\n",
        "model.add(Conv2D(filters = 128, kernel_size = (3,3), activation='relu', padding='same'))\n",
        "model.add(Conv2D(filters = 128, kernel_size = (3,3), activation='relu', padding='same'))\n",
        "model.add(MaxPool2D(pool_size=(2,2)))\n",
        "\n",
        "model.add(Conv2D(filters = 256, kernel_size = (3,3), activation='relu', padding='same'))\n",
        "model.add(Conv2D(filters = 256, kernel_size = (3,3), activation='relu', padding='same'))\n",
        "model.add(Conv2D(filters = 256, kernel_size = (3,3), activation='relu', padding='same'))\n",
        "model.add(MaxPool2D(pool_size=(2,2)))\n",
        "\n",
        "model.add(Conv2D(filters = 256, kernel_size = (3,3), activation='relu', padding='same'))\n",
        "model.add(Conv2D(filters = 256, kernel_size = (3,3), activation='relu', padding='same'))\n",
        "model.add(Conv2D(filters = 256, kernel_size = (3,3), activation='relu', padding='same'))\n",
        "model.add(MaxPool2D(pool_size=(2,2)))\n",
        "\n",
        "model.add(Conv2D(filters = 512, kernel_size = (3,3), activation='relu', padding='same'))\n",
        "model.add(Conv2D(filters = 512, kernel_size = (3,3), activation='relu', padding='same'))\n",
        "model.add(Conv2D(filters = 512, kernel_size = (3,3), activation='relu', padding='same'))\n",
        "model.add(MaxPool2D(pool_size=(2,2)))\n",
        "\n",
        "model.add(Flatten())\n",
        "\n",
        "model.add(Dense(units = 1024, activation ='sigmoid'))\n",
        "model.add(Dense(units=1, activation = 'sigmoid'))\n",
        "\n",
        "\n",
        "model.compile(loss='binary_crossentropy', optimizer=\"sgd\", metrics=['accuracy'])"
      ],
      "execution_count": 0,
      "outputs": []
    },
    {
      "metadata": {
        "scrolled": true,
        "id": "06iZZEHNTtJ2",
        "colab_type": "code",
        "outputId": "8c093ca2-75fa-4574-d25e-cda99c13f8f1",
        "colab": {
          "base_uri": "https://localhost:8080/",
          "height": 850
        }
      },
      "cell_type": "code",
      "source": [
        "model.summary()"
      ],
      "execution_count": 0,
      "outputs": [
        {
          "output_type": "stream",
          "text": [
            "_________________________________________________________________\n",
            "Layer (type)                 Output Shape              Param #   \n",
            "=================================================================\n",
            "conv2d_23 (Conv2D)           (None, 224, 224, 64)      1792      \n",
            "_________________________________________________________________\n",
            "conv2d_24 (Conv2D)           (None, 224, 224, 64)      36928     \n",
            "_________________________________________________________________\n",
            "max_pooling2d_9 (MaxPooling2 (None, 112, 112, 64)      0         \n",
            "_________________________________________________________________\n",
            "conv2d_25 (Conv2D)           (None, 112, 112, 128)     73856     \n",
            "_________________________________________________________________\n",
            "conv2d_26 (Conv2D)           (None, 112, 112, 128)     147584    \n",
            "_________________________________________________________________\n",
            "max_pooling2d_10 (MaxPooling (None, 56, 56, 128)       0         \n",
            "_________________________________________________________________\n",
            "conv2d_27 (Conv2D)           (None, 56, 56, 256)       295168    \n",
            "_________________________________________________________________\n",
            "conv2d_28 (Conv2D)           (None, 56, 56, 256)       590080    \n",
            "_________________________________________________________________\n",
            "conv2d_29 (Conv2D)           (None, 56, 56, 256)       590080    \n",
            "_________________________________________________________________\n",
            "max_pooling2d_11 (MaxPooling (None, 28, 28, 256)       0         \n",
            "_________________________________________________________________\n",
            "conv2d_30 (Conv2D)           (None, 28, 28, 256)       590080    \n",
            "_________________________________________________________________\n",
            "conv2d_31 (Conv2D)           (None, 28, 28, 256)       590080    \n",
            "_________________________________________________________________\n",
            "conv2d_32 (Conv2D)           (None, 28, 28, 256)       590080    \n",
            "_________________________________________________________________\n",
            "max_pooling2d_12 (MaxPooling (None, 14, 14, 256)       0         \n",
            "_________________________________________________________________\n",
            "conv2d_33 (Conv2D)           (None, 14, 14, 512)       1180160   \n",
            "_________________________________________________________________\n",
            "conv2d_34 (Conv2D)           (None, 14, 14, 512)       2359808   \n",
            "_________________________________________________________________\n",
            "conv2d_35 (Conv2D)           (None, 14, 14, 512)       2359808   \n",
            "_________________________________________________________________\n",
            "max_pooling2d_13 (MaxPooling (None, 7, 7, 512)         0         \n",
            "_________________________________________________________________\n",
            "flatten_5 (Flatten)          (None, 25088)             0         \n",
            "_________________________________________________________________\n",
            "dense_15 (Dense)             (None, 1024)              25691136  \n",
            "_________________________________________________________________\n",
            "dense_16 (Dense)             (None, 1)                 1025      \n",
            "=================================================================\n",
            "Total params: 35,097,665\n",
            "Trainable params: 35,097,665\n",
            "Non-trainable params: 0\n",
            "_________________________________________________________________\n"
          ],
          "name": "stdout"
        }
      ]
    },
    {
      "metadata": {
        "scrolled": true,
        "id": "2j0U-ftXTtJ5",
        "colab_type": "code",
        "outputId": "4d16b5f9-ac76-4a48-be41-bbf268e602ab",
        "colab": {
          "base_uri": "https://localhost:8080/",
          "height": 6871
        }
      },
      "cell_type": "code",
      "source": [
        "model.fit(X_train, Y_train, epochs=200,validation_data=(X_valid,Y_valid))"
      ],
      "execution_count": 0,
      "outputs": [
        {
          "output_type": "stream",
          "text": [
            "Train on 1646 samples, validate on 706 samples\n",
            "Epoch 1/200\n",
            "1646/1646 [==============================] - 55s 34ms/step - loss: 0.6875 - acc: 0.5705 - val_loss: 0.6861 - val_acc: 0.5609\n",
            "Epoch 2/200\n",
            "1646/1646 [==============================] - 44s 27ms/step - loss: 0.6843 - acc: 0.5705 - val_loss: 0.6868 - val_acc: 0.5609\n",
            "Epoch 3/200\n",
            "1646/1646 [==============================] - 44s 27ms/step - loss: 0.6836 - acc: 0.5851 - val_loss: 0.6857 - val_acc: 0.5609\n",
            "Epoch 4/200\n",
            "1646/1646 [==============================] - 44s 27ms/step - loss: 0.6852 - acc: 0.5741 - val_loss: 0.6880 - val_acc: 0.5609\n",
            "Epoch 5/200\n",
            "1646/1646 [==============================] - 44s 27ms/step - loss: 0.6891 - acc: 0.5729 - val_loss: 0.6919 - val_acc: 0.5609\n",
            "Epoch 6/200\n",
            "1646/1646 [==============================] - 44s 27ms/step - loss: 0.6856 - acc: 0.5717 - val_loss: 0.6985 - val_acc: 0.5609\n",
            "Epoch 7/200\n",
            "1646/1646 [==============================] - 44s 27ms/step - loss: 0.6834 - acc: 0.5838 - val_loss: 0.7171 - val_acc: 0.5609\n",
            "Epoch 8/200\n",
            "1646/1646 [==============================] - 44s 27ms/step - loss: 0.6846 - acc: 0.5680 - val_loss: 0.6868 - val_acc: 0.5609\n",
            "Epoch 9/200\n",
            "1646/1646 [==============================] - 44s 27ms/step - loss: 0.6848 - acc: 0.5693 - val_loss: 0.7205 - val_acc: 0.5609\n",
            "Epoch 10/200\n",
            "1646/1646 [==============================] - 44s 27ms/step - loss: 0.6844 - acc: 0.5790 - val_loss: 0.7088 - val_acc: 0.5609\n",
            "Epoch 11/200\n",
            "1646/1646 [==============================] - 44s 27ms/step - loss: 0.6833 - acc: 0.5729 - val_loss: 0.6889 - val_acc: 0.5609\n",
            "Epoch 12/200\n",
            "1646/1646 [==============================] - 44s 27ms/step - loss: 0.6861 - acc: 0.5753 - val_loss: 0.7435 - val_acc: 0.5609\n",
            "Epoch 13/200\n",
            "1646/1646 [==============================] - 44s 27ms/step - loss: 0.6861 - acc: 0.5790 - val_loss: 0.6969 - val_acc: 0.5609\n",
            "Epoch 14/200\n",
            "1646/1646 [==============================] - 44s 27ms/step - loss: 0.6882 - acc: 0.5693 - val_loss: 0.6858 - val_acc: 0.5609\n",
            "Epoch 15/200\n",
            "1646/1646 [==============================] - 44s 27ms/step - loss: 0.6845 - acc: 0.5790 - val_loss: 0.6857 - val_acc: 0.5609\n",
            "Epoch 16/200\n",
            "1646/1646 [==============================] - 44s 27ms/step - loss: 0.6834 - acc: 0.5832 - val_loss: 0.6883 - val_acc: 0.5609\n",
            "Epoch 17/200\n",
            "1646/1646 [==============================] - 44s 27ms/step - loss: 0.6875 - acc: 0.5741 - val_loss: 0.7256 - val_acc: 0.5609\n",
            "Epoch 18/200\n",
            "1646/1646 [==============================] - 44s 27ms/step - loss: 0.6847 - acc: 0.5729 - val_loss: 0.6887 - val_acc: 0.5609\n",
            "Epoch 19/200\n",
            "1646/1646 [==============================] - 44s 27ms/step - loss: 0.6820 - acc: 0.5729 - val_loss: 0.6915 - val_acc: 0.5609\n",
            "Epoch 20/200\n",
            "1646/1646 [==============================] - 44s 27ms/step - loss: 0.6890 - acc: 0.5693 - val_loss: 0.7168 - val_acc: 0.4391\n",
            "Epoch 21/200\n",
            "1646/1646 [==============================] - 44s 27ms/step - loss: 0.6864 - acc: 0.5772 - val_loss: 0.7211 - val_acc: 0.5609\n",
            "Epoch 22/200\n",
            "1646/1646 [==============================] - 44s 27ms/step - loss: 0.6881 - acc: 0.5826 - val_loss: 0.7069 - val_acc: 0.4391\n",
            "Epoch 23/200\n",
            "1646/1646 [==============================] - 44s 27ms/step - loss: 0.6851 - acc: 0.5790 - val_loss: 0.7110 - val_acc: 0.4391\n",
            "Epoch 24/200\n",
            "1646/1646 [==============================] - 44s 27ms/step - loss: 0.6839 - acc: 0.5644 - val_loss: 0.6878 - val_acc: 0.5609\n",
            "Epoch 25/200\n",
            "1646/1646 [==============================] - 44s 27ms/step - loss: 0.6845 - acc: 0.5729 - val_loss: 0.6920 - val_acc: 0.5609\n",
            "Epoch 26/200\n",
            "1646/1646 [==============================] - 44s 27ms/step - loss: 0.6865 - acc: 0.5863 - val_loss: 0.6854 - val_acc: 0.5609\n",
            "Epoch 27/200\n",
            "1646/1646 [==============================] - 44s 27ms/step - loss: 0.6806 - acc: 0.5838 - val_loss: 0.6960 - val_acc: 0.5609\n",
            "Epoch 28/200\n",
            "1646/1646 [==============================] - 44s 27ms/step - loss: 0.6873 - acc: 0.5595 - val_loss: 0.7504 - val_acc: 0.4391\n",
            "Epoch 29/200\n",
            "1646/1646 [==============================] - 44s 27ms/step - loss: 0.6896 - acc: 0.5753 - val_loss: 0.6997 - val_acc: 0.5609\n",
            "Epoch 30/200\n",
            "1646/1646 [==============================] - 44s 27ms/step - loss: 0.6854 - acc: 0.5838 - val_loss: 0.6861 - val_acc: 0.5609\n",
            "Epoch 31/200\n",
            "1646/1646 [==============================] - 44s 27ms/step - loss: 0.6877 - acc: 0.5802 - val_loss: 0.6861 - val_acc: 0.5609\n",
            "Epoch 32/200\n",
            "1646/1646 [==============================] - 44s 27ms/step - loss: 0.6855 - acc: 0.5571 - val_loss: 0.7358 - val_acc: 0.5609\n",
            "Epoch 33/200\n",
            "1646/1646 [==============================] - 44s 27ms/step - loss: 0.6881 - acc: 0.5668 - val_loss: 0.6942 - val_acc: 0.4391\n",
            "Epoch 34/200\n",
            "1646/1646 [==============================] - 44s 27ms/step - loss: 0.6867 - acc: 0.5729 - val_loss: 0.6916 - val_acc: 0.5609\n",
            "Epoch 35/200\n",
            "1646/1646 [==============================] - 44s 27ms/step - loss: 0.6863 - acc: 0.5729 - val_loss: 0.6900 - val_acc: 0.5609\n",
            "Epoch 36/200\n",
            "1646/1646 [==============================] - 44s 27ms/step - loss: 0.6826 - acc: 0.5778 - val_loss: 0.6856 - val_acc: 0.5609\n",
            "Epoch 37/200\n",
            "1646/1646 [==============================] - 44s 27ms/step - loss: 0.6810 - acc: 0.5790 - val_loss: 0.6879 - val_acc: 0.5609\n",
            "Epoch 38/200\n",
            "1646/1646 [==============================] - 44s 27ms/step - loss: 0.6865 - acc: 0.5632 - val_loss: 0.6860 - val_acc: 0.5609\n",
            "Epoch 39/200\n",
            "1646/1646 [==============================] - 44s 27ms/step - loss: 0.6833 - acc: 0.5668 - val_loss: 0.6890 - val_acc: 0.5609\n",
            "Epoch 40/200\n",
            "1646/1646 [==============================] - 44s 27ms/step - loss: 0.6819 - acc: 0.5802 - val_loss: 0.6882 - val_acc: 0.5609\n",
            "Epoch 41/200\n",
            "1646/1646 [==============================] - 44s 27ms/step - loss: 0.6862 - acc: 0.5741 - val_loss: 0.6852 - val_acc: 0.5609\n",
            "Epoch 42/200\n",
            "1646/1646 [==============================] - 44s 27ms/step - loss: 0.6901 - acc: 0.5680 - val_loss: 0.6859 - val_acc: 0.5609\n",
            "Epoch 43/200\n",
            "1646/1646 [==============================] - 44s 27ms/step - loss: 0.6866 - acc: 0.5711 - val_loss: 0.6854 - val_acc: 0.5609\n",
            "Epoch 44/200\n",
            "1646/1646 [==============================] - 44s 27ms/step - loss: 0.6871 - acc: 0.5778 - val_loss: 0.7000 - val_acc: 0.5609\n",
            "Epoch 45/200\n",
            "1646/1646 [==============================] - 44s 27ms/step - loss: 0.6855 - acc: 0.5772 - val_loss: 0.6952 - val_acc: 0.5609\n",
            "Epoch 46/200\n",
            "1646/1646 [==============================] - 44s 27ms/step - loss: 0.6841 - acc: 0.5747 - val_loss: 0.6871 - val_acc: 0.5609\n",
            "Epoch 47/200\n",
            "1646/1646 [==============================] - 44s 27ms/step - loss: 0.6823 - acc: 0.5826 - val_loss: 0.6909 - val_acc: 0.5609\n",
            "Epoch 48/200\n",
            "1646/1646 [==============================] - 44s 27ms/step - loss: 0.6812 - acc: 0.5875 - val_loss: 0.7029 - val_acc: 0.5609\n",
            "Epoch 49/200\n",
            "1646/1646 [==============================] - 44s 27ms/step - loss: 0.6835 - acc: 0.5753 - val_loss: 0.6876 - val_acc: 0.5609\n",
            "Epoch 50/200\n",
            "1646/1646 [==============================] - 44s 27ms/step - loss: 0.6839 - acc: 0.5838 - val_loss: 0.7103 - val_acc: 0.5609\n",
            "Epoch 51/200\n",
            "1646/1646 [==============================] - 44s 27ms/step - loss: 0.6848 - acc: 0.5729 - val_loss: 0.6915 - val_acc: 0.5609\n",
            "Epoch 52/200\n",
            "1646/1646 [==============================] - 44s 27ms/step - loss: 0.6879 - acc: 0.5802 - val_loss: 0.6880 - val_acc: 0.5609\n",
            "Epoch 53/200\n",
            "1646/1646 [==============================] - 44s 27ms/step - loss: 0.6830 - acc: 0.5717 - val_loss: 0.6872 - val_acc: 0.5609\n",
            "Epoch 54/200\n",
            "1646/1646 [==============================] - 44s 27ms/step - loss: 0.6859 - acc: 0.5802 - val_loss: 0.6902 - val_acc: 0.5609\n",
            "Epoch 55/200\n",
            "1646/1646 [==============================] - 44s 27ms/step - loss: 0.6853 - acc: 0.5687 - val_loss: 0.6922 - val_acc: 0.5496\n",
            "Epoch 56/200\n",
            "1646/1646 [==============================] - 44s 27ms/step - loss: 0.6836 - acc: 0.5674 - val_loss: 0.6844 - val_acc: 0.5609\n",
            "Epoch 57/200\n",
            "1646/1646 [==============================] - 44s 27ms/step - loss: 0.6850 - acc: 0.5814 - val_loss: 0.6850 - val_acc: 0.5609\n",
            "Epoch 58/200\n",
            "1646/1646 [==============================] - 44s 27ms/step - loss: 0.6846 - acc: 0.5729 - val_loss: 0.6845 - val_acc: 0.5609\n",
            "Epoch 59/200\n",
            "1646/1646 [==============================] - 44s 27ms/step - loss: 0.6809 - acc: 0.5863 - val_loss: 0.6853 - val_acc: 0.5609\n",
            "Epoch 60/200\n",
            "1646/1646 [==============================] - 44s 27ms/step - loss: 0.6844 - acc: 0.5705 - val_loss: 0.7089 - val_acc: 0.4391\n",
            "Epoch 61/200\n",
            "1646/1646 [==============================] - 44s 27ms/step - loss: 0.6825 - acc: 0.5838 - val_loss: 0.7030 - val_acc: 0.5609\n",
            "Epoch 62/200\n",
            "1646/1646 [==============================] - 44s 27ms/step - loss: 0.6802 - acc: 0.5844 - val_loss: 0.7194 - val_acc: 0.5609\n",
            "Epoch 63/200\n",
            "1646/1646 [==============================] - 44s 27ms/step - loss: 0.6854 - acc: 0.5753 - val_loss: 0.7169 - val_acc: 0.5609\n",
            "Epoch 64/200\n",
            "1646/1646 [==============================] - 44s 27ms/step - loss: 0.6840 - acc: 0.5790 - val_loss: 0.7079 - val_acc: 0.5609\n",
            "Epoch 65/200\n",
            "1646/1646 [==============================] - 44s 27ms/step - loss: 0.6832 - acc: 0.5826 - val_loss: 0.6833 - val_acc: 0.5609\n",
            "Epoch 66/200\n",
            "1646/1646 [==============================] - 44s 27ms/step - loss: 0.6853 - acc: 0.5589 - val_loss: 0.6852 - val_acc: 0.5609\n",
            "Epoch 67/200\n",
            "1646/1646 [==============================] - 44s 27ms/step - loss: 0.6807 - acc: 0.5638 - val_loss: 0.6860 - val_acc: 0.5609\n",
            "Epoch 68/200\n",
            "1646/1646 [==============================] - 44s 27ms/step - loss: 0.6857 - acc: 0.5693 - val_loss: 0.7176 - val_acc: 0.5609\n",
            "Epoch 69/200\n",
            "1646/1646 [==============================] - 44s 27ms/step - loss: 0.6815 - acc: 0.5802 - val_loss: 0.6897 - val_acc: 0.5609\n",
            "Epoch 70/200\n",
            "1646/1646 [==============================] - 44s 27ms/step - loss: 0.6797 - acc: 0.5899 - val_loss: 0.7563 - val_acc: 0.4391\n",
            "Epoch 71/200\n",
            "1646/1646 [==============================] - 44s 27ms/step - loss: 0.6857 - acc: 0.5747 - val_loss: 0.7311 - val_acc: 0.5609\n",
            "Epoch 72/200\n",
            "1646/1646 [==============================] - 44s 27ms/step - loss: 0.6832 - acc: 0.5717 - val_loss: 0.6804 - val_acc: 0.5623\n",
            "Epoch 73/200\n",
            "1646/1646 [==============================] - 44s 27ms/step - loss: 0.6750 - acc: 0.5832 - val_loss: 0.6892 - val_acc: 0.4391\n",
            "Epoch 74/200\n",
            "1646/1646 [==============================] - 44s 27ms/step - loss: 0.6747 - acc: 0.5808 - val_loss: 0.6918 - val_acc: 0.5609\n",
            "Epoch 75/200\n",
            "1646/1646 [==============================] - 44s 27ms/step - loss: 0.6651 - acc: 0.5936 - val_loss: 0.6902 - val_acc: 0.4405\n",
            "Epoch 76/200\n",
            "1646/1646 [==============================] - 44s 27ms/step - loss: 0.6529 - acc: 0.6245 - val_loss: 0.6546 - val_acc: 0.5694\n",
            "Epoch 77/200\n",
            "1646/1646 [==============================] - 44s 27ms/step - loss: 0.6221 - acc: 0.6592 - val_loss: 0.6476 - val_acc: 0.6289\n",
            "Epoch 78/200\n",
            "1646/1646 [==============================] - 44s 27ms/step - loss: 0.6128 - acc: 0.6756 - val_loss: 0.6625 - val_acc: 0.5822\n",
            "Epoch 79/200\n",
            "1646/1646 [==============================] - 44s 27ms/step - loss: 0.5587 - acc: 0.7193 - val_loss: 0.5406 - val_acc: 0.7110\n",
            "Epoch 80/200\n",
            "1646/1646 [==============================] - 44s 27ms/step - loss: 0.5431 - acc: 0.7321 - val_loss: 0.6057 - val_acc: 0.6912\n",
            "Epoch 81/200\n",
            "1646/1646 [==============================] - 44s 27ms/step - loss: 0.5251 - acc: 0.7436 - val_loss: 0.6732 - val_acc: 0.6289\n",
            "Epoch 82/200\n",
            "1646/1646 [==============================] - 44s 27ms/step - loss: 0.5084 - acc: 0.7461 - val_loss: 0.5419 - val_acc: 0.7110\n",
            "Epoch 83/200\n",
            "1646/1646 [==============================] - 44s 27ms/step - loss: 0.5111 - acc: 0.7527 - val_loss: 0.4880 - val_acc: 0.7620\n",
            "Epoch 84/200\n",
            "1646/1646 [==============================] - 44s 27ms/step - loss: 0.4936 - acc: 0.7594 - val_loss: 0.4782 - val_acc: 0.7705\n",
            "Epoch 85/200\n",
            "1646/1646 [==============================] - 44s 27ms/step - loss: 0.4703 - acc: 0.7770 - val_loss: 0.5190 - val_acc: 0.7663\n",
            "Epoch 86/200\n",
            "1646/1646 [==============================] - 44s 27ms/step - loss: 0.4820 - acc: 0.7752 - val_loss: 0.4938 - val_acc: 0.7720\n",
            "Epoch 87/200\n",
            "1646/1646 [==============================] - 44s 27ms/step - loss: 0.4635 - acc: 0.7746 - val_loss: 0.4735 - val_acc: 0.7635\n",
            "Epoch 88/200\n",
            "1646/1646 [==============================] - 44s 27ms/step - loss: 0.4615 - acc: 0.7825 - val_loss: 0.4747 - val_acc: 0.7677\n",
            "Epoch 89/200\n",
            "1646/1646 [==============================] - 44s 27ms/step - loss: 0.4561 - acc: 0.7922 - val_loss: 0.4693 - val_acc: 0.7847\n",
            "Epoch 90/200\n",
            "1646/1646 [==============================] - 44s 27ms/step - loss: 0.4450 - acc: 0.7940 - val_loss: 0.4589 - val_acc: 0.7720\n",
            "Epoch 91/200\n",
            "1646/1646 [==============================] - 44s 27ms/step - loss: 0.4352 - acc: 0.7934 - val_loss: 0.5189 - val_acc: 0.7422\n",
            "Epoch 92/200\n",
            "1646/1646 [==============================] - 44s 27ms/step - loss: 0.4337 - acc: 0.7971 - val_loss: 0.5015 - val_acc: 0.7663\n",
            "Epoch 93/200\n",
            "1646/1646 [==============================] - 44s 27ms/step - loss: 0.4251 - acc: 0.8117 - val_loss: 0.4466 - val_acc: 0.7989\n",
            "Epoch 94/200\n",
            "1646/1646 [==============================] - 44s 27ms/step - loss: 0.4338 - acc: 0.7977 - val_loss: 0.4626 - val_acc: 0.7890\n",
            "Epoch 95/200\n",
            "1646/1646 [==============================] - 44s 27ms/step - loss: 0.4180 - acc: 0.8141 - val_loss: 0.4394 - val_acc: 0.8130\n",
            "Epoch 96/200\n",
            "1646/1646 [==============================] - 44s 27ms/step - loss: 0.4192 - acc: 0.8026 - val_loss: 0.4300 - val_acc: 0.8144\n",
            "Epoch 97/200\n",
            "1646/1646 [==============================] - 44s 27ms/step - loss: 0.4080 - acc: 0.8171 - val_loss: 0.4476 - val_acc: 0.8003\n",
            "Epoch 98/200\n",
            "1646/1646 [==============================] - 44s 27ms/step - loss: 0.4006 - acc: 0.8171 - val_loss: 0.4370 - val_acc: 0.8074\n",
            "Epoch 99/200\n",
            "1646/1646 [==============================] - 44s 27ms/step - loss: 0.4003 - acc: 0.8171 - val_loss: 0.5088 - val_acc: 0.7479\n",
            "Epoch 100/200\n",
            "1646/1646 [==============================] - 44s 27ms/step - loss: 0.4063 - acc: 0.8074 - val_loss: 0.4285 - val_acc: 0.7946\n",
            "Epoch 101/200\n",
            "1646/1646 [==============================] - 44s 27ms/step - loss: 0.3935 - acc: 0.8250 - val_loss: 0.4282 - val_acc: 0.8201\n",
            "Epoch 102/200\n",
            "1646/1646 [==============================] - 44s 27ms/step - loss: 0.3861 - acc: 0.8238 - val_loss: 0.5072 - val_acc: 0.7465\n",
            "Epoch 103/200\n",
            "1646/1646 [==============================] - 44s 27ms/step - loss: 0.3771 - acc: 0.8348 - val_loss: 0.4714 - val_acc: 0.7975\n",
            "Epoch 104/200\n",
            "1646/1646 [==============================] - 44s 27ms/step - loss: 0.3794 - acc: 0.8311 - val_loss: 0.4422 - val_acc: 0.8116\n",
            "Epoch 105/200\n",
            "1646/1646 [==============================] - 44s 27ms/step - loss: 0.3689 - acc: 0.8360 - val_loss: 0.5502 - val_acc: 0.7380\n",
            "Epoch 106/200\n",
            "1646/1646 [==============================] - 44s 27ms/step - loss: 0.3619 - acc: 0.8433 - val_loss: 0.4189 - val_acc: 0.8116\n",
            "Epoch 107/200\n",
            "1646/1646 [==============================] - 44s 27ms/step - loss: 0.3536 - acc: 0.8469 - val_loss: 0.5664 - val_acc: 0.7535\n",
            "Epoch 108/200\n",
            "1646/1646 [==============================] - 44s 27ms/step - loss: 0.3507 - acc: 0.8426 - val_loss: 0.4314 - val_acc: 0.8229\n",
            "Epoch 109/200\n",
            "1646/1646 [==============================] - 44s 27ms/step - loss: 0.3347 - acc: 0.8609 - val_loss: 0.4385 - val_acc: 0.7975\n",
            "Epoch 110/200\n",
            "1646/1646 [==============================] - 44s 27ms/step - loss: 0.3382 - acc: 0.8420 - val_loss: 0.4373 - val_acc: 0.8187\n",
            "Epoch 111/200\n",
            "1646/1646 [==============================] - 44s 27ms/step - loss: 0.3455 - acc: 0.8414 - val_loss: 0.3953 - val_acc: 0.8343\n",
            "Epoch 112/200\n",
            "1646/1646 [==============================] - 44s 27ms/step - loss: 0.3275 - acc: 0.8505 - val_loss: 0.4362 - val_acc: 0.8144\n",
            "Epoch 113/200\n",
            "1646/1646 [==============================] - 44s 27ms/step - loss: 0.3090 - acc: 0.8651 - val_loss: 0.6132 - val_acc: 0.7465\n",
            "Epoch 114/200\n",
            "1646/1646 [==============================] - 44s 27ms/step - loss: 0.3186 - acc: 0.8682 - val_loss: 0.4408 - val_acc: 0.8116\n",
            "Epoch 115/200\n",
            "1646/1646 [==============================] - 44s 27ms/step - loss: 0.3066 - acc: 0.8597 - val_loss: 0.4309 - val_acc: 0.8159\n",
            "Epoch 116/200\n",
            "1646/1646 [==============================] - 44s 27ms/step - loss: 0.2861 - acc: 0.8706 - val_loss: 0.4320 - val_acc: 0.8102\n",
            "Epoch 117/200\n",
            "1646/1646 [==============================] - 44s 27ms/step - loss: 0.2822 - acc: 0.8834 - val_loss: 0.7292 - val_acc: 0.7167\n",
            "Epoch 118/200\n",
            "1646/1646 [==============================] - 44s 27ms/step - loss: 0.2782 - acc: 0.8688 - val_loss: 0.5440 - val_acc: 0.7847\n",
            "Epoch 119/200\n",
            "1646/1646 [==============================] - 44s 27ms/step - loss: 0.2920 - acc: 0.8748 - val_loss: 0.4739 - val_acc: 0.8130\n",
            "Epoch 120/200\n",
            "1646/1646 [==============================] - 44s 27ms/step - loss: 0.2412 - acc: 0.9040 - val_loss: 0.5751 - val_acc: 0.7677\n",
            "Epoch 121/200\n",
            "1646/1646 [==============================] - 44s 27ms/step - loss: 0.2442 - acc: 0.8937 - val_loss: 0.4010 - val_acc: 0.8385\n",
            "Epoch 122/200\n",
            "1646/1646 [==============================] - 44s 27ms/step - loss: 0.2941 - acc: 0.8724 - val_loss: 0.4446 - val_acc: 0.8159\n",
            "Epoch 123/200\n",
            "1646/1646 [==============================] - 44s 27ms/step - loss: 0.2258 - acc: 0.9058 - val_loss: 0.4587 - val_acc: 0.8229\n",
            "Epoch 124/200\n",
            "1646/1646 [==============================] - 44s 27ms/step - loss: 0.1814 - acc: 0.9313 - val_loss: 0.5631 - val_acc: 0.7861\n",
            "Epoch 125/200\n",
            "1646/1646 [==============================] - 44s 27ms/step - loss: 0.1588 - acc: 0.9368 - val_loss: 0.4679 - val_acc: 0.8244\n",
            "Epoch 126/200\n",
            "1646/1646 [==============================] - 44s 27ms/step - loss: 0.2134 - acc: 0.9089 - val_loss: 0.4533 - val_acc: 0.8187\n",
            "Epoch 127/200\n",
            "1646/1646 [==============================] - 44s 27ms/step - loss: 0.1216 - acc: 0.9587 - val_loss: 0.4390 - val_acc: 0.8343\n",
            "Epoch 128/200\n",
            "1646/1646 [==============================] - 44s 27ms/step - loss: 0.1289 - acc: 0.9557 - val_loss: 0.4088 - val_acc: 0.8329\n",
            "Epoch 129/200\n",
            "1646/1646 [==============================] - 44s 27ms/step - loss: 0.0766 - acc: 0.9824 - val_loss: 0.4029 - val_acc: 0.8456\n",
            "Epoch 130/200\n",
            "1646/1646 [==============================] - 44s 27ms/step - loss: 0.0546 - acc: 0.9909 - val_loss: 0.4368 - val_acc: 0.8499\n",
            "Epoch 131/200\n",
            "1646/1646 [==============================] - 44s 27ms/step - loss: 0.0370 - acc: 0.9933 - val_loss: 0.4294 - val_acc: 0.8527\n",
            "Epoch 132/200\n",
            "1646/1646 [==============================] - 44s 27ms/step - loss: 0.0270 - acc: 0.9964 - val_loss: 0.4474 - val_acc: 0.8499\n",
            "Epoch 133/200\n",
            "1646/1646 [==============================] - 44s 27ms/step - loss: 0.0205 - acc: 0.9976 - val_loss: 0.4821 - val_acc: 0.8470\n",
            "Epoch 134/200\n",
            "1646/1646 [==============================] - 44s 27ms/step - loss: 0.0170 - acc: 0.9970 - val_loss: 0.4734 - val_acc: 0.8470\n",
            "Epoch 135/200\n",
            "1646/1646 [==============================] - 44s 27ms/step - loss: 0.0142 - acc: 0.9964 - val_loss: 0.4810 - val_acc: 0.8513\n",
            "Epoch 136/200\n",
            "1646/1646 [==============================] - 44s 27ms/step - loss: 0.0127 - acc: 0.9976 - val_loss: 0.4830 - val_acc: 0.8513\n",
            "Epoch 137/200\n",
            "1646/1646 [==============================] - 44s 27ms/step - loss: 0.0114 - acc: 0.9957 - val_loss: 0.4948 - val_acc: 0.8499\n",
            "Epoch 138/200\n",
            "1646/1646 [==============================] - 44s 27ms/step - loss: 0.0104 - acc: 0.9976 - val_loss: 0.5014 - val_acc: 0.8527\n",
            "Epoch 139/200\n",
            "1646/1646 [==============================] - 44s 27ms/step - loss: 0.0096 - acc: 0.9976 - val_loss: 0.4987 - val_acc: 0.8513\n",
            "Epoch 140/200\n",
            "1646/1646 [==============================] - 44s 27ms/step - loss: 0.0091 - acc: 0.9970 - val_loss: 0.5119 - val_acc: 0.8484\n",
            "Epoch 141/200\n",
            "1646/1646 [==============================] - 44s 27ms/step - loss: 0.0086 - acc: 0.9970 - val_loss: 0.5117 - val_acc: 0.8499\n",
            "Epoch 142/200\n",
            "1646/1646 [==============================] - 44s 27ms/step - loss: 0.0081 - acc: 0.9970 - val_loss: 0.5184 - val_acc: 0.8513\n",
            "Epoch 143/200\n",
            "1646/1646 [==============================] - 44s 27ms/step - loss: 0.0078 - acc: 0.9964 - val_loss: 0.5226 - val_acc: 0.8499\n",
            "Epoch 144/200\n",
            "1646/1646 [==============================] - 44s 27ms/step - loss: 0.0074 - acc: 0.9976 - val_loss: 0.5296 - val_acc: 0.8499\n",
            "Epoch 145/200\n",
            "1646/1646 [==============================] - 44s 27ms/step - loss: 0.0072 - acc: 0.9970 - val_loss: 0.5344 - val_acc: 0.8470\n",
            "Epoch 146/200\n",
            "1646/1646 [==============================] - 44s 27ms/step - loss: 0.0069 - acc: 0.9970 - val_loss: 0.5365 - val_acc: 0.8499\n",
            "Epoch 147/200\n",
            "1646/1646 [==============================] - 44s 27ms/step - loss: 0.0067 - acc: 0.9970 - val_loss: 0.5330 - val_acc: 0.8513\n",
            "Epoch 148/200\n",
            "1646/1646 [==============================] - 44s 27ms/step - loss: 0.0065 - acc: 0.9976 - val_loss: 0.5350 - val_acc: 0.8541\n",
            "Epoch 149/200\n",
            "1646/1646 [==============================] - 44s 27ms/step - loss: 0.0064 - acc: 0.9976 - val_loss: 0.5482 - val_acc: 0.8499\n",
            "Epoch 150/200\n",
            "1646/1646 [==============================] - 44s 27ms/step - loss: 0.0062 - acc: 0.9976 - val_loss: 0.5416 - val_acc: 0.8527\n",
            "Epoch 151/200\n",
            "1646/1646 [==============================] - 44s 27ms/step - loss: 0.0061 - acc: 0.9970 - val_loss: 0.5471 - val_acc: 0.8499\n",
            "Epoch 152/200\n",
            "1646/1646 [==============================] - 44s 27ms/step - loss: 0.0060 - acc: 0.9964 - val_loss: 0.5472 - val_acc: 0.8513\n",
            "Epoch 153/200\n",
            "1646/1646 [==============================] - 44s 27ms/step - loss: 0.0058 - acc: 0.9970 - val_loss: 0.5547 - val_acc: 0.8513\n",
            "Epoch 154/200\n",
            "1646/1646 [==============================] - 44s 27ms/step - loss: 0.0057 - acc: 0.9964 - val_loss: 0.5558 - val_acc: 0.8484\n",
            "Epoch 155/200\n",
            "1646/1646 [==============================] - 44s 27ms/step - loss: 0.0056 - acc: 0.9970 - val_loss: 0.5537 - val_acc: 0.8527\n",
            "Epoch 156/200\n",
            "1646/1646 [==============================] - 44s 27ms/step - loss: 0.0055 - acc: 0.9976 - val_loss: 0.5596 - val_acc: 0.8499\n",
            "Epoch 157/200\n",
            "1646/1646 [==============================] - 44s 27ms/step - loss: 0.0055 - acc: 0.9976 - val_loss: 0.5573 - val_acc: 0.8527\n",
            "Epoch 158/200\n",
            "1646/1646 [==============================] - 44s 27ms/step - loss: 0.0054 - acc: 0.9970 - val_loss: 0.5622 - val_acc: 0.8513\n",
            "Epoch 159/200\n",
            "1646/1646 [==============================] - 44s 27ms/step - loss: 0.0053 - acc: 0.9976 - val_loss: 0.5702 - val_acc: 0.8513\n",
            "Epoch 160/200\n",
            "1646/1646 [==============================] - 44s 27ms/step - loss: 0.0052 - acc: 0.9964 - val_loss: 0.5700 - val_acc: 0.8513\n",
            "Epoch 161/200\n",
            "1646/1646 [==============================] - 44s 27ms/step - loss: 0.0052 - acc: 0.9964 - val_loss: 0.5699 - val_acc: 0.8499\n",
            "Epoch 162/200\n",
            "1646/1646 [==============================] - 44s 27ms/step - loss: 0.0051 - acc: 0.9964 - val_loss: 0.5671 - val_acc: 0.8527\n",
            "Epoch 163/200\n",
            "1646/1646 [==============================] - 44s 27ms/step - loss: 0.0051 - acc: 0.9976 - val_loss: 0.5729 - val_acc: 0.8527\n",
            "Epoch 164/200\n",
            "1646/1646 [==============================] - 44s 27ms/step - loss: 0.0050 - acc: 0.9970 - val_loss: 0.5727 - val_acc: 0.8527\n",
            "Epoch 165/200\n",
            "1646/1646 [==============================] - 44s 27ms/step - loss: 0.0050 - acc: 0.9976 - val_loss: 0.5759 - val_acc: 0.8527\n",
            "Epoch 166/200\n",
            "1646/1646 [==============================] - 44s 27ms/step - loss: 0.0049 - acc: 0.9970 - val_loss: 0.5744 - val_acc: 0.8527\n",
            "Epoch 167/200\n",
            "1646/1646 [==============================] - 44s 27ms/step - loss: 0.0049 - acc: 0.9970 - val_loss: 0.5760 - val_acc: 0.8527\n",
            "Epoch 168/200\n",
            "1646/1646 [==============================] - 44s 27ms/step - loss: 0.0049 - acc: 0.9976 - val_loss: 0.5799 - val_acc: 0.8527\n",
            "Epoch 169/200\n",
            "1646/1646 [==============================] - 44s 27ms/step - loss: 0.0048 - acc: 0.9964 - val_loss: 0.5824 - val_acc: 0.8513\n",
            "Epoch 170/200\n",
            "1646/1646 [==============================] - 44s 27ms/step - loss: 0.0048 - acc: 0.9970 - val_loss: 0.5814 - val_acc: 0.8527\n",
            "Epoch 171/200\n",
            "1646/1646 [==============================] - 44s 27ms/step - loss: 0.0047 - acc: 0.9964 - val_loss: 0.5858 - val_acc: 0.8513\n",
            "Epoch 172/200\n",
            "1646/1646 [==============================] - 44s 27ms/step - loss: 0.0047 - acc: 0.9970 - val_loss: 0.5839 - val_acc: 0.8541\n",
            "Epoch 173/200\n",
            "1646/1646 [==============================] - 44s 27ms/step - loss: 0.0047 - acc: 0.9970 - val_loss: 0.5864 - val_acc: 0.8541\n",
            "Epoch 174/200\n",
            "1646/1646 [==============================] - 44s 27ms/step - loss: 0.0047 - acc: 0.9964 - val_loss: 0.5881 - val_acc: 0.8541\n",
            "Epoch 175/200\n",
            "1646/1646 [==============================] - 44s 27ms/step - loss: 0.0046 - acc: 0.9976 - val_loss: 0.5888 - val_acc: 0.8527\n",
            "Epoch 176/200\n",
            "1646/1646 [==============================] - 44s 27ms/step - loss: 0.0046 - acc: 0.9970 - val_loss: 0.5871 - val_acc: 0.8527\n",
            "Epoch 177/200\n",
            "1646/1646 [==============================] - 44s 27ms/step - loss: 0.0046 - acc: 0.9957 - val_loss: 0.5913 - val_acc: 0.8541\n",
            "Epoch 178/200\n",
            "1646/1646 [==============================] - 44s 27ms/step - loss: 0.0045 - acc: 0.9970 - val_loss: 0.5958 - val_acc: 0.8527\n",
            "Epoch 179/200\n",
            "1646/1646 [==============================] - 44s 27ms/step - loss: 0.0045 - acc: 0.9976 - val_loss: 0.5935 - val_acc: 0.8541\n",
            "Epoch 180/200\n",
            "1646/1646 [==============================] - 44s 27ms/step - loss: 0.0045 - acc: 0.9970 - val_loss: 0.5956 - val_acc: 0.8541\n",
            "Epoch 181/200\n",
            "1646/1646 [==============================] - 44s 27ms/step - loss: 0.0045 - acc: 0.9970 - val_loss: 0.5995 - val_acc: 0.8527\n",
            "Epoch 182/200\n",
            "1646/1646 [==============================] - 44s 27ms/step - loss: 0.0045 - acc: 0.9976 - val_loss: 0.5984 - val_acc: 0.8527\n",
            "Epoch 183/200\n",
            "1646/1646 [==============================] - 44s 27ms/step - loss: 0.0044 - acc: 0.9976 - val_loss: 0.5988 - val_acc: 0.8541\n",
            "Epoch 184/200\n",
            "1646/1646 [==============================] - 44s 27ms/step - loss: 0.0044 - acc: 0.9970 - val_loss: 0.5997 - val_acc: 0.8555\n",
            "Epoch 185/200\n",
            "1646/1646 [==============================] - 44s 27ms/step - loss: 0.0044 - acc: 0.9964 - val_loss: 0.6016 - val_acc: 0.8541\n",
            "Epoch 186/200\n",
            "1646/1646 [==============================] - 44s 27ms/step - loss: 0.0044 - acc: 0.9951 - val_loss: 0.6001 - val_acc: 0.8541\n",
            "Epoch 187/200\n",
            "1646/1646 [==============================] - 44s 27ms/step - loss: 0.0044 - acc: 0.9970 - val_loss: 0.6036 - val_acc: 0.8555\n",
            "Epoch 188/200\n",
            "1646/1646 [==============================] - 44s 27ms/step - loss: 0.0044 - acc: 0.9970 - val_loss: 0.6039 - val_acc: 0.8555\n",
            "Epoch 189/200\n",
            "1646/1646 [==============================] - 44s 27ms/step - loss: 0.0043 - acc: 0.9964 - val_loss: 0.6052 - val_acc: 0.8541\n",
            "Epoch 190/200\n",
            "1646/1646 [==============================] - 44s 27ms/step - loss: 0.0043 - acc: 0.9976 - val_loss: 0.6084 - val_acc: 0.8541\n",
            "Epoch 191/200\n",
            "1646/1646 [==============================] - 44s 27ms/step - loss: 0.0043 - acc: 0.9964 - val_loss: 0.6050 - val_acc: 0.8541\n",
            "Epoch 192/200\n",
            "1646/1646 [==============================] - 44s 27ms/step - loss: 0.0043 - acc: 0.9970 - val_loss: 0.6106 - val_acc: 0.8541\n",
            "Epoch 193/200\n",
            "1646/1646 [==============================] - 44s 27ms/step - loss: 0.0043 - acc: 0.9970 - val_loss: 0.6059 - val_acc: 0.8527\n",
            "Epoch 194/200\n",
            "1646/1646 [==============================] - 44s 27ms/step - loss: 0.0043 - acc: 0.9970 - val_loss: 0.6091 - val_acc: 0.8541\n",
            "Epoch 195/200\n",
            "1646/1646 [==============================] - 44s 27ms/step - loss: 0.0043 - acc: 0.9970 - val_loss: 0.6102 - val_acc: 0.8541\n",
            "Epoch 196/200\n",
            "1646/1646 [==============================] - 44s 27ms/step - loss: 0.0042 - acc: 0.9976 - val_loss: 0.6155 - val_acc: 0.8541\n",
            "Epoch 197/200\n",
            "1646/1646 [==============================] - 44s 27ms/step - loss: 0.0042 - acc: 0.9964 - val_loss: 0.6137 - val_acc: 0.8541\n",
            "Epoch 198/200\n",
            "1646/1646 [==============================] - 44s 27ms/step - loss: 0.0042 - acc: 0.9976 - val_loss: 0.6113 - val_acc: 0.8555\n",
            "Epoch 199/200\n",
            "1646/1646 [==============================] - 44s 27ms/step - loss: 0.0042 - acc: 0.9976 - val_loss: 0.6149 - val_acc: 0.8541\n",
            "Epoch 200/200\n",
            "1646/1646 [==============================] - 44s 27ms/step - loss: 0.0042 - acc: 0.9957 - val_loss: 0.6123 - val_acc: 0.8527\n"
          ],
          "name": "stdout"
        },
        {
          "output_type": "execute_result",
          "data": {
            "text/plain": [
              "<keras.callbacks.History at 0x7fd816e09710>"
            ]
          },
          "metadata": {
            "tags": []
          },
          "execution_count": 39
        }
      ]
    },
    {
      "metadata": {
        "id": "zhhtGjOUTtKC",
        "colab_type": "code",
        "colab": {}
      },
      "cell_type": "code",
      "source": [
        ""
      ],
      "execution_count": 0,
      "outputs": []
    }
  ]
}